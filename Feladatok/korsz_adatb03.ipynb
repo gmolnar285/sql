{
    "metadata": {
        "kernelspec": {
            "name": "SQL",
            "display_name": "SQL",
            "language": "sql"
        },
        "language_info": {
            "name": "sql",
            "version": ""
        }
    },
    "nbformat_minor": 2,
    "nbformat": 4,
    "cells": [
        {
            "cell_type": "markdown",
            "source": [
                "1. \n",
                "\n",
                "Készítsünk sorszámozott listát a szálláshelyek adatairól! \n",
                "\n",
                "a. A lista legyen a szálláshely típusa szerint, azon belül hely szerint, majd a neve szerint növekvően rendezve! \n",
                "\n",
                "b. A számozás típusonként kezdődjön újra!"
            ],
            "metadata": {
                "azdata_cell_guid": "859d4d05-1c79-435c-a261-d697b0585cb3"
            },
            "attachments": {}
        },
        {
            "cell_type": "code",
            "source": [
                "SELECT *,\r\n",
                "       ROW_NUMBER() OVER(PARTITION BY tipus \r\n",
                "           ORDER BY tipus, hely, szallas_nev)\r\n",
                "FROM szallashely"
            ],
            "metadata": {
                "azdata_cell_guid": "d188c4a7-4fdd-45f0-956c-82cb34fd9379",
                "language": "sql"
            },
            "outputs": [],
            "execution_count": null
        },
        {
            "cell_type": "markdown",
            "source": [
                "3\\. Készítsük listát, amely megjeleníti az ügyfelek azonosítóját, nevét és a foglalásainak kezdő- és befejező dátumát, valamint azt, hogy a foglalás összesen hány főre történt! \n",
                "\n",
                "a. Egy új oszlopban jelenítsük meg azt is, hogy az ügyfél előző három foglalása összesen hány főre történt!"
            ],
            "metadata": {
                "azdata_cell_guid": "cac30703-6134-4ef2-97a4-fb3ee8f78c57"
            },
            "attachments": {}
        },
        {
            "cell_type": "code",
            "source": [
                "SELECT u.[LOGIN],\r\n",
                "       u.NEV,\r\n",
                "       f.METTOL,\r\n",
                "       f.MEDDIG,\r\n",
                "       f.FELNOTT_SZAM + f.GYERMEK_SZAM,\r\n",
                "       -- új oszlop: az előző 3 foglalás összesen\r\n",
                "       SUM(f.FELNOTT_SZAM + f.GYERMEK_SZAM) \r\n",
                "          OVER(PARTITION BY u.LOGIN ORDER BY u.login, f.METTOL \r\n",
                "               ROWS BETWEEN 3 PRECEDING AND 1 PRECEDING)\r\n",
                "\r\n",
                "FROM Foglalas f JOIN Ugyfel u ON f.UGYFEL_FK = u.[LOGIN]"
            ],
            "metadata": {
                "azdata_cell_guid": "3b94d086-675c-4a93-b70c-0dbd266ca196",
                "language": "sql"
            },
            "outputs": [],
            "execution_count": null
        },
        {
            "cell_type": "markdown",
            "source": [
                "6. \n",
                "\n",
                "<span style=\"background-color: rgba(220, 220, 220, 0.4); white-space-collapse: preserve;\"><font color=\"#000000\">SELECT rt.TERMEKKOD, </font></span> <span style=\"color: var(--vscode-editor-foreground); font-family: Menlo, Monaco, Consolas, &quot;Droid Sans Mono&quot;, &quot;Courier New&quot;, monospace, &quot;Droid Sans Fallback&quot;; font-size: 12px; background-color: rgba(220, 220, 220, 0.4); white-space-collapse: preserve;\">AVG(rt.EGYSEGAR) AS '�tlagos �r' </span> <span style=\"color: var(--vscode-editor-foreground); font-family: Menlo, Monaco, Consolas, &quot;Droid Sans Mono&quot;, &quot;Courier New&quot;, monospace, &quot;Droid Sans Fallback&quot;; font-size: 12px; background-color: rgba(220, 220, 220, 0.4); white-space-collapse: preserve;\">FROM Rendeles_tetel rt JOIN Rendeles r </span> <span style=\"color: var(--vscode-editor-foreground); font-family: Menlo, Monaco, Consolas, &quot;Droid Sans Mono&quot;, &quot;Courier New&quot;, monospace, &quot;Droid Sans Fallback&quot;; font-size: 12px; background-color: rgba(220, 220, 220, 0.4); white-space-collapse: preserve;\">ON rt.SORSZAM = r.SORSZAM </span> <span style=\"color: var(--vscode-editor-foreground); font-family: Menlo, Monaco, Consolas, &quot;Droid Sans Mono&quot;, &quot;Courier New&quot;, monospace, &quot;Droid Sans Fallback&quot;; font-size: 12px; background-color: rgba(220, 220, 220, 0.4); white-space-collapse: preserve;\">GROUP BY rt.TERMEKKOD</span>"
            ],
            "metadata": {
                "azdata_cell_guid": "ca8d9627-e386-443a-bd1f-2872871c2a27"
            },
            "attachments": {}
        },
        {
            "cell_type": "code",
            "source": [
                "SELECT rt.TERMEKKOD, \r\n",
                "       AVG(rt.EGYSEGAR) AS '�tlagos �r'\r\n",
                "FROM Rendeles_tetel rt \r\n",
                "CROSS APPLY\r\n",
                "(    SELECT *\r\n",
                "     FROM Rendeles r\r\n",
                "     WHERE  rt.SORSZAM = r.SORSZAM\r\n",
                ")r\r\n",
                "GROUP BY rt.TERMEKKOD"
            ],
            "metadata": {
                "azdata_cell_guid": "d8d4515e-7d34-4749-92e0-9e73792ffbad",
                "language": "sql"
            },
            "outputs": [
                {
                    "output_type": "display_data",
                    "data": {
                        "text/html": "Warning: Null value is eliminated by an aggregate or other SET operation."
                    },
                    "metadata": {}
                },
                {
                    "output_type": "display_data",
                    "data": {
                        "text/html": "(548 rows affected)"
                    },
                    "metadata": {}
                },
                {
                    "output_type": "display_data",
                    "data": {
                        "text/html": "Total execution time: 00:00:01.069"
                    },
                    "metadata": {}
                },
                {
                    "output_type": "execute_result",
                    "metadata": {},
                    "execution_count": 8,
                    "data": {
                        "application/vnd.dataresource+json": {
                            "schema": {
                                "fields": [
                                    {
                                        "name": "TERMEKKOD"
                                    },
                                    {
                                        "name": "�tlagos �r"
                                    }
                                ]
                            },
                            "data": [
                                {
                                    "TERMEKKOD": "07040169T",
                                    "�tlagos �r": "91,5136186770428"
                                },
                                {
                                    "TERMEKKOD": "07040165T",
                                    "�tlagos �r": "210,9277566539924"
                                },
                                {
                                    "TERMEKKOD": "06080407T",
                                    "�tlagos �r": "239,92578125"
                                },
                                {
                                    "TERMEKKOD": "01030092T",
                                    "�tlagos �r": "57,08791208791209"
                                },
                                {
                                    "TERMEKKOD": "04050024T",
                                    "�tlagos �r": "139,04803493449782"
                                },
                                {
                                    "TERMEKKOD": "04050171T",
                                    "�tlagos �r": "106,868"
                                },
                                {
                                    "TERMEKKOD": "07080152T",
                                    "�tlagos �r": "988,7209302325581"
                                },
                                {
                                    "TERMEKKOD": "G064-CI401",
                                    "�tlagos �r": "6679,732905982906"
                                },
                                {
                                    "TERMEKKOD": "06040248T",
                                    "�tlagos �r": "235,79715302491104"
                                },
                                {
                                    "TERMEKKOD": "06080332T",
                                    "�tlagos �r": "71,62608695652175"
                                },
                                {
                                    "TERMEKKOD": "04050358T",
                                    "�tlagos �r": "344,2142857142857"
                                },
                                {
                                    "TERMEKKOD": "01100070T",
                                    "�tlagos �r": "70,37184115523466"
                                },
                                {
                                    "TERMEKKOD": "02020037T",
                                    "�tlagos �r": "139,28205128205127"
                                },
                                {
                                    "TERMEKKOD": "06040323T",
                                    "�tlagos �r": "34,52238805970149"
                                },
                                {
                                    "TERMEKKOD": "06080118T",
                                    "�tlagos �r": "7,6929460580912865"
                                },
                                {
                                    "TERMEKKOD": "03080011T",
                                    "�tlagos �r": "143,87313432835822"
                                },
                                {
                                    "TERMEKKOD": "06010377T",
                                    "�tlagos �r": "7,63677130044843"
                                },
                                {
                                    "TERMEKKOD": "07080159T",
                                    "�tlagos �r": "60,968503937007874"
                                },
                                {
                                    "TERMEKKOD": "06040247T",
                                    "�tlagos �r": "28,970479704797047"
                                },
                                {
                                    "TERMEKKOD": "02020033T",
                                    "�tlagos �r": "318,4135338345865"
                                },
                                {
                                    "TERMEKKOD": "02040298T",
                                    "�tlagos �r": "42,49612403100775"
                                },
                                {
                                    "TERMEKKOD": "06080190T",
                                    "�tlagos �r": "21,988095238095237"
                                },
                                {
                                    "TERMEKKOD": "05010027T",
                                    "�tlagos �r": "207,20158102766797"
                                },
                                {
                                    "TERMEKKOD": "08070492T",
                                    "�tlagos �r": "711,6109090909091"
                                },
                                {
                                    "TERMEKKOD": "07040129T",
                                    "�tlagos �r": "28,937956204379564"
                                },
                                {
                                    "TERMEKKOD": "04110067T",
                                    "�tlagos �r": "29,95"
                                },
                                {
                                    "TERMEKKOD": "04110278T",
                                    "�tlagos �r": "155,79007633587787"
                                },
                                {
                                    "TERMEKKOD": "06040350T",
                                    "�tlagos �r": "247,3230769230769"
                                },
                                {
                                    "TERMEKKOD": "04110280T",
                                    "�tlagos �r": "143,04615384615386"
                                },
                                {
                                    "TERMEKKOD": "02080432T",
                                    "�tlagos �r": "250,34117647058824"
                                },
                                {
                                    "TERMEKKOD": "07050464T",
                                    "�tlagos �r": "135,85887096774192"
                                },
                                {
                                    "TERMEKKOD": "07080156T",
                                    "�tlagos �r": "21,970149253731343"
                                },
                                {
                                    "TERMEKKOD": "02040208T",
                                    "�tlagos �r": "18,275590551181104"
                                },
                                {
                                    "TERMEKKOD": "01020299T",
                                    "�tlagos �r": "46,340080971659916"
                                },
                                {
                                    "TERMEKKOD": "08070481T",
                                    "�tlagos �r": "192,04562737642587"
                                },
                                {
                                    "TERMEKKOD": "02040211T",
                                    "�tlagos �r": "235,04182509505702"
                                },
                                {
                                    "TERMEKKOD": "06040392T",
                                    "�tlagos �r": "699,3219696969697"
                                },
                                {
                                    "TERMEKKOD": "06080337T",
                                    "�tlagos �r": "283,23846153846154"
                                },
                                {
                                    "TERMEKKOD": "N001-KB101",
                                    "�tlagos �r": "23248,893203883494"
                                },
                                {
                                    "TERMEKKOD": "07080319T",
                                    "�tlagos �r": "288,6069868995633"
                                },
                                {
                                    "TERMEKKOD": "06040355T",
                                    "�tlagos �r": "150,3941908713693"
                                },
                                {
                                    "TERMEKKOD": "03010342T",
                                    "�tlagos �r": "14,281481481481482"
                                },
                                {
                                    "TERMEKKOD": "07040168T",
                                    "�tlagos �r": "182,97909407665506"
                                },
                                {
                                    "TERMEKKOD": "06050249T",
                                    "�tlagos �r": "70,45991561181435"
                                },
                                {
                                    "TERMEKKOD": "04020445T",
                                    "�tlagos �r": "701,5177865612649"
                                },
                                {
                                    "TERMEKKOD": "N035-AL218",
                                    "�tlagos �r": "37704,19693654267"
                                },
                                {
                                    "TERMEKKOD": "02050460T",
                                    "�tlagos �r": "14,290566037735848"
                                },
                                {
                                    "TERMEKKOD": "07010244T",
                                    "�tlagos �r": "71,61363636363636"
                                },
                                {
                                    "TERMEKKOD": "02080449T",
                                    "�tlagos �r": "99,80933852140078"
                                },
                                {
                                    "TERMEKKOD": "06080408T",
                                    "�tlagos �r": "202,24"
                                },
                                {
                                    "TERMEKKOD": "06080422T",
                                    "�tlagos �r": "314,14760147601476"
                                },
                                {
                                    "TERMEKKOD": "05050045T",
                                    "�tlagos �r": "44,29596412556054"
                                },
                                {
                                    "TERMEKKOD": "04050320T",
                                    "�tlagos �r": "167,57039711191337"
                                },
                                {
                                    "TERMEKKOD": "06040395T",
                                    "�tlagos �r": "703,6612244897959"
                                },
                                {
                                    "TERMEKKOD": "01100094T",
                                    "�tlagos �r": "817,4391143911439"
                                },
                                {
                                    "TERMEKKOD": "06010113T",
                                    "�tlagos �r": "32,59288537549407"
                                },
                                {
                                    "TERMEKKOD": "06040172T",
                                    "�tlagos �r": "189,3658536585366"
                                },
                                {
                                    "TERMEKKOD": "03080009T",
                                    "�tlagos �r": "143,75451263537906"
                                },
                                {
                                    "TERMEKKOD": "06010115T",
                                    "�tlagos �r": "46,18867924528302"
                                },
                                {
                                    "TERMEKKOD": "01100095T",
                                    "�tlagos �r": "705,7581967213115"
                                },
                                {
                                    "TERMEKKOD": "02040207T",
                                    "�tlagos �r": "18,288537549407113"
                                },
                                {
                                    "TERMEKKOD": "07040128T",
                                    "�tlagos �r": "53,142361111111114"
                                },
                                {
                                    "TERMEKKOD": "07040047T",
                                    "�tlagos �r": "37,69527896995708"
                                },
                                {
                                    "TERMEKKOD": "06040393T",
                                    "�tlagos �r": "741,8363636363637"
                                },
                                {
                                    "TERMEKKOD": "08070488T",
                                    "�tlagos �r": "389,7548638132296"
                                },
                                {
                                    "TERMEKKOD": "07010141T",
                                    "�tlagos �r": "14,32295719844358"
                                },
                                {
                                    "TERMEKKOD": "06040351T",
                                    "�tlagos �r": "196,22426470588235"
                                },
                                {
                                    "TERMEKKOD": "02040406T",
                                    "�tlagos �r": "32,63076923076923"
                                },
                                {
                                    "TERMEKKOD": "06080126T",
                                    "�tlagos �r": "196,1037037037037"
                                },
                                {
                                    "TERMEKKOD": "03080016T",
                                    "�tlagos �r": "106,12403100775194"
                                },
                                {
                                    "TERMEKKOD": "07010371T",
                                    "�tlagos �r": "96,21428571428571"
                                },
                                {
                                    "TERMEKKOD": "08070489T",
                                    "�tlagos �r": "843,981684981685"
                                },
                                {
                                    "TERMEKKOD": "02040209T",
                                    "�tlagos �r": "42,63529411764706"
                                },
                                {
                                    "TERMEKKOD": "L013-NA201",
                                    "�tlagos �r": "4812,352570828961"
                                },
                                {
                                    "TERMEKKOD": "06080191T",
                                    "�tlagos �r": "28,894117647058824"
                                },
                                {
                                    "TERMEKKOD": "02080435T",
                                    "�tlagos �r": "178,04330708661416"
                                },
                                {
                                    "TERMEKKOD": "08070476T",
                                    "�tlagos �r": "284,49027237354085"
                                },
                                {
                                    "TERMEKKOD": "06080415T",
                                    "�tlagos �r": "28,853658536585368"
                                },
                                {
                                    "TERMEKKOD": "06050303T",
                                    "�tlagos �r": "155,87179487179486"
                                },
                                {
                                    "TERMEKKOD": "03050078T",
                                    "�tlagos �r": "14,36036036036036"
                                },
                                {
                                    "TERMEKKOD": "06040182T",
                                    "�tlagos �r": "178,45982142857142"
                                },
                                {
                                    "TERMEKKOD": "05040310T",
                                    "�tlagos �r": "99,7579908675799"
                                },
                                {
                                    "TERMEKKOD": "06080120T",
                                    "�tlagos �r": "21,890566037735848"
                                },
                                {
                                    "TERMEKKOD": "06080413T",
                                    "�tlagos �r": "29,09881422924901"
                                },
                                {
                                    "TERMEKKOD": "08070493T",
                                    "�tlagos �r": "698,076124567474"
                                },
                                {
                                    "TERMEKKOD": "03080010T",
                                    "�tlagos �r": "200,47577092511014"
                                },
                                {
                                    "TERMEKKOD": "04030260T",
                                    "�tlagos �r": "14,354581673306773"
                                },
                                {
                                    "TERMEKKOD": "08070472T",
                                    "�tlagos �r": "1054,2952029520295"
                                },
                                {
                                    "TERMEKKOD": "07030107T",
                                    "�tlagos �r": "267,23809523809524"
                                },
                                {
                                    "TERMEKKOD": "08070478T",
                                    "�tlagos �r": "759,6308724832214"
                                },
                                {
                                    "TERMEKKOD": "01020300T",
                                    "�tlagos �r": "53,22834645669291"
                                },
                                {
                                    "TERMEKKOD": "07040391T",
                                    "�tlagos �r": "77,47826086956522"
                                },
                                {
                                    "TERMEKKOD": "01040307T",
                                    "�tlagos �r": "14,360655737704919"
                                },
                                {
                                    "TERMEKKOD": "06080417T",
                                    "�tlagos �r": "19,286821705426355"
                                },
                                {
                                    "TERMEKKOD": "07080470T",
                                    "�tlagos �r": "181,93023255813952"
                                },
                                {
                                    "TERMEKKOD": "08070483T",
                                    "�tlagos �r": "311,9012345679012"
                                },
                                {
                                    "TERMEKKOD": "04050224T",
                                    "�tlagos �r": "46,285198555956676"
                                },
                                {
                                    "TERMEKKOD": "02040297T",
                                    "�tlagos �r": "99,95652173913044"
                                },
                                {
                                    "TERMEKKOD": "06040347T",
                                    "�tlagos �r": "26,821428571428573"
                                },
                                {
                                    "TERMEKKOD": "02040194T",
                                    "�tlagos �r": "765,086274509804"
                                },
                                {
                                    "TERMEKKOD": "02080456T",
                                    "�tlagos �r": "85,91732283464567"
                                },
                                {
                                    "TERMEKKOD": "05050170T",
                                    "�tlagos �r": "18,31726907630522"
                                },
                                {
                                    "TERMEKKOD": "07040388T",
                                    "�tlagos �r": "8,625"
                                },
                                {
                                    "TERMEKKOD": "07080158T",
                                    "�tlagos �r": "748,6782006920415"
                                },
                                {
                                    "TERMEKKOD": "04050223T",
                                    "�tlagos �r": "70,63380281690141"
                                },
                                {
                                    "TERMEKKOD": "04110274T",
                                    "�tlagos �r": "47,17991631799163"
                                },
                                {
                                    "TERMEKKOD": "06040357T",
                                    "�tlagos �r": "85,85818181818182"
                                },
                                {
                                    "TERMEKKOD": "02040198T",
                                    "�tlagos �r": "128,98373983739836"
                                },
                                {
                                    "TERMEKKOD": "07080420T",
                                    "�tlagos �r": "155,75"
                                },
                                {
                                    "TERMEKKOD": "04050203T",
                                    "�tlagos �r": "22,927710843373493"
                                },
                                {
                                    "TERMEKKOD": "02040176T",
                                    "�tlagos �r": "17,295019157088124"
                                },
                                {
                                    "TERMEKKOD": "06080123T",
                                    "�tlagos �r": "534,7391304347826"
                                },
                                {
                                    "TERMEKKOD": "02020444T",
                                    "�tlagos �r": "446,31320754716984"
                                },
                                {
                                    "TERMEKKOD": "07040390T",
                                    "�tlagos �r": "10,609375"
                                },
                                {
                                    "TERMEKKOD": "07080316T",
                                    "�tlagos �r": "457,0573476702509"
                                },
                                {
                                    "TERMEKKOD": "04050222T",
                                    "�tlagos �r": "159,794776119403"
                                },
                                {
                                    "TERMEKKOD": "07080063T",
                                    "�tlagos �r": "33,552845528455286"
                                },
                                {
                                    "TERMEKKOD": "06010376T",
                                    "�tlagos �r": "10,652509652509652"
                                },
                                {
                                    "TERMEKKOD": "02040308T",
                                    "�tlagos �r": "78,12121212121212"
                                },
                                {
                                    "TERMEKKOD": "07040060T",
                                    "�tlagos �r": "34,66147859922179"
                                },
                                {
                                    "TERMEKKOD": "06040212T",
                                    "�tlagos �r": "27,969162995594715"
                                },
                                {
                                    "TERMEKKOD": "03050458T",
                                    "�tlagos �r": "142,90376569037656"
                                },
                                {
                                    "TERMEKKOD": "01100504T",
                                    "�tlagos �r": "1442,1138211382113"
                                },
                                {
                                    "TERMEKKOD": "04050250T",
                                    "�tlagos �r": "111,744"
                                },
                                {
                                    "TERMEKKOD": "L082-CI419",
                                    "�tlagos �r": "7762,027716186253"
                                },
                                {
                                    "TERMEKKOD": "06040394T",
                                    "�tlagos �r": "312,4870848708487"
                                },
                                {
                                    "TERMEKKOD": "07040051T",
                                    "�tlagos �r": "37,62450592885376"
                                },
                                {
                                    "TERMEKKOD": "06010343T",
                                    "�tlagos �r": "413,6618181818182"
                                },
                                {
                                    "TERMEKKOD": "04030287T",
                                    "�tlagos �r": "21,876288659793815"
                                },
                                {
                                    "TERMEKKOD": "04080272T",
                                    "�tlagos �r": "349,0405904059041"
                                },
                                {
                                    "TERMEKKOD": "02060447T",
                                    "�tlagos �r": "1329"
                                },
                                {
                                    "TERMEKKOD": "06080424T",
                                    "�tlagos �r": "22,931330472103003"
                                },
                                {
                                    "TERMEKKOD": "02040200T",
                                    "�tlagos �r": "268,4367816091954"
                                },
                                {
                                    "TERMEKKOD": "06080409T",
                                    "�tlagos �r": "174,1285140562249"
                                },
                                {
                                    "TERMEKKOD": "04110228T",
                                    "�tlagos �r": "177,5414847161572"
                                },
                                {
                                    "TERMEKKOD": "02040148T",
                                    "�tlagos �r": "61,09411764705882"
                                },
                                {
                                    "TERMEKKOD": "02030043T",
                                    "�tlagos �r": "37,63934426229508"
                                },
                                {
                                    "TERMEKKOD": "04050075T",
                                    "�tlagos �r": "42,56692913385827"
                                },
                                {
                                    "TERMEKKOD": "02040199T",
                                    "�tlagos �r": "276,7916666666667"
                                },
                                {
                                    "TERMEKKOD": "06080430T",
                                    "�tlagos �r": "71,97590361445783"
                                },
                                {
                                    "TERMEKKOD": "08070494T",
                                    "�tlagos �r": "426"
                                },
                                {
                                    "TERMEKKOD": "07040055T",
                                    "�tlagos �r": "56,666666666666664"
                                },
                                {
                                    "TERMEKKOD": "04030235T",
                                    "�tlagos �r": "70,64015151515152"
                                },
                                {
                                    "TERMEKKOD": "06080188T",
                                    "�tlagos �r": "848,7358490566038"
                                },
                                {
                                    "TERMEKKOD": "02040002T",
                                    "�tlagos �r": "2035,5843137254901"
                                },
                                {
                                    "TERMEKKOD": "04110277T",
                                    "�tlagos �r": "90,0379746835443"
                                },
                                {
                                    "TERMEKKOD": "05110364T",
                                    "�tlagos �r": "155,4318181818182"
                                },
                                {
                                    "TERMEKKOD": "04030285T",
                                    "�tlagos �r": "10,656903765690377"
                                },
                                {
                                    "TERMEKKOD": "01010110T",
                                    "�tlagos �r": "28,955555555555556"
                                },
                                {
                                    "TERMEKKOD": "07040135T",
                                    "�tlagos �r": "662,9153225806451"
                                },
                                {
                                    "TERMEKKOD": "01080093T",
                                    "�tlagos �r": "155,6236559139785"
                                },
                                {
                                    "TERMEKKOD": "04080270T",
                                    "�tlagos �r": "1712,134328358209"
                                },
                                {
                                    "TERMEKKOD": "06080336T",
                                    "�tlagos �r": "78,25523012552301"
                                },
                                {
                                    "TERMEKKOD": "06040330T",
                                    "�tlagos �r": "48,034351145038165"
                                },
                                {
                                    "TERMEKKOD": "06080334T",
                                    "�tlagos �r": "128,5107913669065"
                                },
                                {
                                    "TERMEKKOD": "08070474T",
                                    "�tlagos �r": "1057,5172413793102"
                                },
                                {
                                    "TERMEKKOD": "01090515T",
                                    "�tlagos �r": "10,662698412698413"
                                },
                                {
                                    "TERMEKKOD": "07080155T",
                                    "�tlagos �r": "30"
                                },
                                {
                                    "TERMEKKOD": "07040131T",
                                    "�tlagos �r": "82,46268656716418"
                                },
                                {
                                    "TERMEKKOD": "06040353T",
                                    "�tlagos �r": "7,685185185185185"
                                },
                                {
                                    "TERMEKKOD": "02080433T",
                                    "�tlagos �r": "53,10699588477366"
                                },
                                {
                                    "TERMEKKOD": "07010137T",
                                    "�tlagos �r": "46,12015503875969"
                                },
                                {
                                    "TERMEKKOD": "03080008T",
                                    "�tlagos �r": "99,92622950819673"
                                },
                                {
                                    "TERMEKKOD": "04050321T",
                                    "�tlagos �r": "155,70982142857142"
                                },
                                {
                                    "TERMEKKOD": "06080333T",
                                    "�tlagos �r": "115,30364372469636"
                                },
                                {
                                    "TERMEKKOD": "03050080T",
                                    "�tlagos �r": "78,47517730496453"
                                },
                                {
                                    "TERMEKKOD": "04050256T",
                                    "�tlagos �r": "124,88571428571429"
                                },
                                {
                                    "TERMEKKOD": "06040378T",
                                    "�tlagos �r": "86,01214574898785"
                                },
                                {
                                    "TERMEKKOD": "04110231T",
                                    "�tlagos �r": "77,94814814814815"
                                },
                                {
                                    "TERMEKKOD": "07040389T",
                                    "�tlagos �r": "346,6565217391304"
                                },
                                {
                                    "TERMEKKOD": "07080150T",
                                    "�tlagos �r": "49,333333333333336"
                                },
                                {
                                    "TERMEKKOD": "06080414T",
                                    "�tlagos �r": "29,064"
                                },
                                {
                                    "TERMEKKOD": "06010374T",
                                    "�tlagos �r": "43,36776859504132"
                                },
                                {
                                    "TERMEKKOD": "07080317T",
                                    "�tlagos �r": "57"
                                },
                                {
                                    "TERMEKKOD": "06040179T",
                                    "�tlagos �r": "174,35521235521236"
                                },
                                {
                                    "TERMEKKOD": "06050302T",
                                    "�tlagos �r": "170,62815884476535"
                                },
                                {
                                    "TERMEKKOD": "06080411T",
                                    "�tlagos �r": "55,86046511627907"
                                },
                                {
                                    "TERMEKKOD": "04080271T",
                                    "�tlagos �r": "254,625"
                                },
                                {
                                    "TERMEKKOD": "05110359T",
                                    "�tlagos �r": "170,62686567164178"
                                },
                                {
                                    "TERMEKKOD": "04040090T",
                                    "�tlagos �r": "510,18390804597703"
                                },
                                {
                                    "TERMEKKOD": "07040127T",
                                    "�tlagos �r": "28,923387096774192"
                                },
                                {
                                    "TERMEKKOD": "08070485T",
                                    "�tlagos �r": "280,37704918032784"
                                },
                                {
                                    "TERMEKKOD": "F013-NA207",
                                    "�tlagos �r": "11531,08961748634"
                                },
                                {
                                    "TERMEKKOD": "07080153T",
                                    "�tlagos �r": "39,646153846153844"
                                },
                                {
                                    "TERMEKKOD": "03080021T",
                                    "�tlagos �r": "21,868852459016395"
                                },
                                {
                                    "TERMEKKOD": "02020245T",
                                    "�tlagos �r": "99,7063492063492"
                                },
                                {
                                    "TERMEKKOD": "04110284T",
                                    "�tlagos �r": "162,5639097744361"
                                },
                                {
                                    "TERMEKKOD": "07080314T",
                                    "�tlagos �r": "128,125"
                                },
                                {
                                    "TERMEKKOD": "07080313T",
                                    "�tlagos �r": "56,855421686746986"
                                },
                                {
                                    "TERMEKKOD": "04030240T",
                                    "�tlagos �r": "13,291228070175439"
                                },
                                {
                                    "TERMEKKOD": "G013-NA201",
                                    "�tlagos �r": "4843,148335015137"
                                },
                                {
                                    "TERMEKKOD": "06040385T",
                                    "�tlagos �r": "92,85501858736059"
                                },
                                {
                                    "TERMEKKOD": "02010028T",
                                    "�tlagos �r": "101,98484848484848"
                                },
                                {
                                    "TERMEKKOD": "05110363T",
                                    "�tlagos �r": "128,40357142857144"
                                },
                                {
                                    "TERMEKKOD": "07040167T",
                                    "�tlagos �r": "633,4189723320158"
                                },
                                {
                                    "TERMEKKOD": "06040381T",
                                    "�tlagos �r": "99,52173913043478"
                                },
                                {
                                    "TERMEKKOD": "02080109T",
                                    "�tlagos �r": "49,045112781954884"
                                },
                                {
                                    "TERMEKKOD": "04030242T",
                                    "�tlagos �r": "113,98340248962656"
                                },
                                {
                                    "TERMEKKOD": "07080064T",
                                    "�tlagos �r": "38,917647058823526"
                                },
                                {
                                    "TERMEKKOD": "03080006T",
                                    "�tlagos �r": "24,97244094488189"
                                },
                                {
                                    "TERMEKKOD": "01090499T",
                                    "�tlagos �r": "14,264367816091953"
                                },
                                {
                                    "TERMEKKOD": "06040246T",
                                    "�tlagos �r": "155,70238095238096"
                                },
                                {
                                    "TERMEKKOD": "06040352T",
                                    "�tlagos �r": "99,95652173913044"
                                },
                                {
                                    "TERMEKKOD": "04050254T",
                                    "�tlagos �r": "150,1978417266187"
                                },
                                {
                                    "TERMEKKOD": "04050267T",
                                    "�tlagos �r": "124,43661971830986"
                                },
                                {
                                    "TERMEKKOD": "06010036T",
                                    "�tlagos �r": "31,968"
                                },
                                {
                                    "TERMEKKOD": "04050221T",
                                    "�tlagos �r": "128,28521126760563"
                                },
                                {
                                    "TERMEKKOD": "05010026T",
                                    "�tlagos �r": "113,93385214007782"
                                },
                                {
                                    "TERMEKKOD": "07080164T",
                                    "�tlagos �r": "224,9891304347826"
                                },
                                {
                                    "TERMEKKOD": "06080125T",
                                    "�tlagos �r": "398,23664122137404"
                                },
                                {
                                    "TERMEKKOD": "04030241T",
                                    "�tlagos �r": "42,55421686746988"
                                },
                                {
                                    "TERMEKKOD": "06080425T",
                                    "�tlagos �r": "7,701492537313433"
                                },
                                {
                                    "TERMEKKOD": "03080019T",
                                    "�tlagos �r": "54,28235294117647"
                                },
                                {
                                    "TERMEKKOD": "07080468T",
                                    "�tlagos �r": "106,868"
                                },
                                {
                                    "TERMEKKOD": "07030103T",
                                    "�tlagos �r": "51,32699619771863"
                                },
                                {
                                    "TERMEKKOD": "03080013T",
                                    "�tlagos �r": "61,82835820895522"
                                },
                                {
                                    "TERMEKKOD": "04030261T",
                                    "�tlagos �r": "135,07063197026022"
                                },
                                {
                                    "TERMEKKOD": "L019-NA207",
                                    "�tlagos �r": "1248,5857923497267"
                                },
                                {
                                    "TERMEKKOD": "04050220T",
                                    "�tlagos �r": "63,03238866396761"
                                },
                                {
                                    "TERMEKKOD": "08070487T",
                                    "�tlagos �r": "389,81974248927037"
                                },
                                {
                                    "TERMEKKOD": "04110283T",
                                    "�tlagos �r": "150,05882352941177"
                                },
                                {
                                    "TERMEKKOD": "06080193T",
                                    "�tlagos �r": "173,78358208955223"
                                },
                                {
                                    "TERMEKKOD": "06010082T",
                                    "�tlagos �r": "38,96551724137931"
                                },
                                {
                                    "TERMEKKOD": "05050346T",
                                    "�tlagos �r": "86,24705882352941"
                                },
                                {
                                    "TERMEKKOD": "04110227T",
                                    "�tlagos �r": "31,84870848708487"
                                },
                                {
                                    "TERMEKKOD": "03050457T",
                                    "�tlagos �r": "24,831967213114755"
                                },
                                {
                                    "TERMEKKOD": "06080192T",
                                    "�tlagos �r": "67,34893617021277"
                                },
                                {
                                    "TERMEKKOD": "07080467T",
                                    "�tlagos �r": "265,0258620689655"
                                },
                                {
                                    "TERMEKKOD": "07040059T",
                                    "�tlagos �r": "55,892561983471076"
                                },
                                {
                                    "TERMEKKOD": "03080015T",
                                    "�tlagos �r": "163,3111111111111"
                                },
                                {
                                    "TERMEKKOD": "02080452T",
                                    "�tlagos �r": "424,93548387096774"
                                },
                                {
                                    "TERMEKKOD": "02080450T",
                                    "�tlagos �r": "42,495726495726494"
                                },
                                {
                                    "TERMEKKOD": "08070475T",
                                    "�tlagos �r": "425,6"
                                },
                                {
                                    "TERMEKKOD": "L048-PO218",
                                    "�tlagos �r": "3771,4255543822596"
                                },
                                {
                                    "TERMEKKOD": "07010138T",
                                    "�tlagos �r": "31,95"
                                },
                                {
                                    "TERMEKKOD": "07080469T",
                                    "�tlagos �r": "352,99636363636364"
                                },
                                {
                                    "TERMEKKOD": "06010201T",
                                    "�tlagos �r": "34,57575757575758"
                                },
                                {
                                    "TERMEKKOD": "06040185T",
                                    "�tlagos �r": "562,603305785124"
                                },
                                {
                                    "TERMEKKOD": "02040195T",
                                    "�tlagos �r": "179,02197802197801"
                                },
                                {
                                    "TERMEKKOD": "03080031T",
                                    "�tlagos �r": "102,57692307692308"
                                },
                                {
                                    "TERMEKKOD": "07030105T",
                                    "�tlagos �r": "110,14285714285714"
                                },
                                {
                                    "TERMEKKOD": "04110275T",
                                    "�tlagos �r": "47,49802371541502"
                                },
                                {
                                    "TERMEKKOD": "05080341T",
                                    "�tlagos �r": "139,28148148148148"
                                },
                                {
                                    "TERMEKKOD": "01090516T",
                                    "�tlagos �r": "23,804780876494025"
                                },
                                {
                                    "TERMEKKOD": "06040174T",
                                    "�tlagos �r": "142,47210300429185"
                                },
                                {
                                    "TERMEKKOD": "L064-CI401",
                                    "�tlagos �r": "6678,573544973545"
                                },
                                {
                                    "TERMEKKOD": "L073-CI410",
                                    "�tlagos �r": "7659,825026511135"
                                },
                                {
                                    "TERMEKKOD": "07040132T",
                                    "�tlagos �r": "53,02281368821293"
                                },
                                {
                                    "TERMEKKOD": "07080419T",
                                    "�tlagos �r": "63,96992481203007"
                                },
                                {
                                    "TERMEKKOD": "05110360T",
                                    "�tlagos �r": "113,94296577946768"
                                },
                                {
                                    "TERMEKKOD": "07040097T",
                                    "�tlagos �r": "24,95703125"
                                },
                                {
                                    "TERMEKKOD": "04030243T",
                                    "�tlagos �r": "188,1891891891892"
                                },
                                {
                                    "TERMEKKOD": "01100503T",
                                    "�tlagos �r": "9,676767676767676"
                                },
                                {
                                    "TERMEKKOD": "06010366T",
                                    "�tlagos �r": "489,52982456140353"
                                },
                                {
                                    "TERMEKKOD": "03050459T",
                                    "�tlagos �r": "38,42028985507246"
                                },
                                {
                                    "TERMEKKOD": "07040134T",
                                    "�tlagos �r": "42,75806451612903"
                                },
                                {
                                    "TERMEKKOD": "02080226T",
                                    "�tlagos �r": "102,26373626373626"
                                },
                                {
                                    "TERMEKKOD": "06080427T",
                                    "�tlagos �r": "155,11320754716982"
                                },
                                {
                                    "TERMEKKOD": "02040404T",
                                    "�tlagos �r": "391,3070866141732"
                                },
                                {
                                    "TERMEKKOD": "06010085T",
                                    "�tlagos �r": "62,73144876325088"
                                },
                                {
                                    "TERMEKKOD": "04110276T",
                                    "�tlagos �r": "105,52173913043478"
                                },
                                {
                                    "TERMEKKOD": "02040177T",
                                    "�tlagos �r": "28,95703125"
                                },
                                {
                                    "TERMEKKOD": "06080441T",
                                    "�tlagos �r": "117,91011235955057"
                                },
                                {
                                    "TERMEKKOD": "ﴠ䟨稿䁝0441T0\u0000\u0000\u0000\u0000\u0000\u0000",
                                    "�tlagos �r": "117,91011235955057"
                                },
                                {
                                    "TERMEKKOD": "06080117T",
                                    "�tlagos �r": "9,670370370370371"
                                },
                                {
                                    "TERMEKKOD": "05050465T",
                                    "�tlagos �r": "38,34782608695652"
                                },
                                {
                                    "TERMEKKOD": "06040180T",
                                    "�tlagos �r": "220,0080971659919"
                                },
                                {
                                    "TERMEKKOD": "G001-KB101",
                                    "�tlagos �r": "8562,41695303551"
                                },
                                {
                                    "TERMEKKOD": "02080511T",
                                    "�tlagos �r": "13767,888"
                                },
                                {
                                    "TERMEKKOD": "02040196T",
                                    "�tlagos �r": "264,25"
                                },
                                {
                                    "TERMEKKOD": "03080020T",
                                    "�tlagos �r": "42,645161290322584"
                                },
                                {
                                    "TERMEKKOD": "06080122T",
                                    "�tlagos �r": "18,271966527196653"
                                },
                                {
                                    "TERMEKKOD": "05040349T",
                                    "�tlagos �r": "60,6986301369863"
                                },
                                {
                                    "TERMEKKOD": "06080412T",
                                    "�tlagos �r": "29,078740157480315"
                                },
                                {
                                    "TERMEKKOD": "07010142T",
                                    "�tlagos �r": "219,9609375"
                                },
                                {
                                    "TERMEKKOD": "06040186T",
                                    "�tlagos �r": "677,4269662921348"
                                },
                                {
                                    "TERMEKKOD": "06040184T",
                                    "�tlagos �r": "212,13654618473896"
                                },
                                {
                                    "TERMEKKOD": "06010368T",
                                    "�tlagos �r": "58,94795539033457"
                                },
                                {
                                    "TERMEKKOD": "07040048T",
                                    "�tlagos �r": "53,58"
                                },
                                {
                                    "TERMEKKOD": "04110362T",
                                    "�tlagos �r": "176,88537549407116"
                                },
                                {
                                    "TERMEKKOD": "07050462T",
                                    "�tlagos �r": "476,8142292490119"
                                },
                                {
                                    "TERMEKKOD": "06010084T",
                                    "�tlagos �r": "57,54863813229572"
                                },
                                {
                                    "TERMEKKOD": "06010365T",
                                    "�tlagos �r": "34,61654135338346"
                                },
                                {
                                    "TERMEKKOD": "02030041T",
                                    "�tlagos �r": "5,64367816091954"
                                },
                                {
                                    "TERMEKKOD": "06040213T",
                                    "�tlagos �r": "32,61666666666667"
                                },
                                {
                                    "TERMEKKOD": "04110230T",
                                    "�tlagos �r": "53,16326530612245"
                                },
                                {
                                    "TERMEKKOD": "02060038T",
                                    "�tlagos �r": "756,0481927710844"
                                },
                                {
                                    "TERMEKKOD": "04110232T",
                                    "�tlagos �r": "49,09055118110236"
                                },
                                {
                                    "TERMEKKOD": "04050255T",
                                    "�tlagos �r": "34,661596958174904"
                                },
                                {
                                    "TERMEKKOD": "G082-CI419",
                                    "�tlagos �r": "7721,7667020148465"
                                },
                                {
                                    "TERMEKKOD": "06010083T",
                                    "�tlagos �r": "32,014134275618375"
                                },
                                {
                                    "TERMEKKOD": "04030236T",
                                    "�tlagos �r": "14,290076335877863"
                                },
                                {
                                    "TERMEKKOD": "04040387T",
                                    "�tlagos �r": "78,0909090909091"
                                },
                                {
                                    "TERMEKKOD": "01080513T",
                                    "�tlagos �r": "36,44368600682594"
                                },
                                {
                                    "TERMEKKOD": "05010370T",
                                    "�tlagos �r": "85,90322580645162"
                                },
                                {
                                    "TERMEKKOD": "07040217T",
                                    "�tlagos �r": "57,037593984962406"
                                },
                                {
                                    "TERMEKKOD": "04110233T",
                                    "�tlagos �r": "85,91519434628975"
                                },
                                {
                                    "TERMEKKOD": "01100505T",
                                    "�tlagos �r": "660,65234375"
                                },
                                {
                                    "TERMEKKOD": "01100497T",
                                    "�tlagos �r": "13,298507462686567"
                                },
                                {
                                    "TERMEKKOD": "06010114T",
                                    "�tlagos �r": "28,842323651452283"
                                },
                                {
                                    "TERMEKKOD": "07040049T",
                                    "�tlagos �r": "38,516666666666666"
                                },
                                {
                                    "TERMEKKOD": "03080005T",
                                    "�tlagos �r": "280,76"
                                },
                                {
                                    "TERMEKKOD": "06040354T",
                                    "�tlagos �r": "200,2377049180328"
                                },
                                {
                                    "TERMEKKOD": "04110281T",
                                    "�tlagos �r": "170,14074074074074"
                                },
                                {
                                    "TERMEKKOD": "07080065T",
                                    "�tlagos �r": "10,647272727272727"
                                },
                                {
                                    "TERMEKKOD": "06040175T",
                                    "�tlagos �r": "184,03225806451613"
                                },
                                {
                                    "TERMEKKOD": "F001-KB101",
                                    "�tlagos �r": "21315,175097276264"
                                },
                                {
                                    "TERMEKKOD": "03080030T",
                                    "�tlagos �r": "213,12252964426878"
                                },
                                {
                                    "TERMEKKOD": "06010111T",
                                    "�tlagos �r": "66,00380228136882"
                                },
                                {
                                    "TERMEKKOD": "08070480T",
                                    "�tlagos �r": "298,48854961832063"
                                },
                                {
                                    "TERMEKKOD": "07080162T",
                                    "�tlagos �r": "97,4"
                                },
                                {
                                    "TERMEKKOD": "06040089T",
                                    "�tlagos �r": "4,639004149377594"
                                },
                                {
                                    "TERMEKKOD": "05080340T",
                                    "�tlagos �r": "138,8953068592058"
                                },
                                {
                                    "TERMEKKOD": "03010345T",
                                    "�tlagos �r": "160,06949806949808"
                                },
                                {
                                    "TERMEKKOD": "02080069T",
                                    "�tlagos �r": "28,906976744186046"
                                },
                                {
                                    "TERMEKKOD": "02040296T",
                                    "�tlagos �r": "53,92727272727273"
                                },
                                {
                                    "TERMEKKOD": "06040324T",
                                    "�tlagos �r": "86,57"
                                },
                                {
                                    "TERMEKKOD": "03080437T",
                                    "�tlagos �r": "178,80756013745705"
                                },
                                {
                                    "TERMEKKOD": "06010305T",
                                    "�tlagos �r": "8,689922480620154"
                                },
                                {
                                    "TERMEKKOD": "02040197T",
                                    "�tlagos �r": "78,29692832764505"
                                },
                                {
                                    "TERMEKKOD": "02030042T",
                                    "�tlagos �r": "2,6979591836734693"
                                },
                                {
                                    "TERMEKKOD": "01100496T",
                                    "�tlagos �r": "1451,2648221343873"
                                },
                                {
                                    "TERMEKKOD": "L041-AL211",
                                    "�tlagos �r": "16302,381420765027"
                                },
                                {
                                    "TERMEKKOD": "04050023T",
                                    "�tlagos �r": "138,97826086956522"
                                },
                                {
                                    "TERMEKKOD": "07040053T",
                                    "�tlagos �r": "22,03914590747331"
                                },
                                {
                                    "TERMEKKOD": "06040087T",
                                    "�tlagos �r": "76,04417670682732"
                                },
                                {
                                    "TERMEKKOD": "02060039T",
                                    "�tlagos �r": "632,8571428571429"
                                },
                                {
                                    "TERMEKKOD": "06010375T",
                                    "�tlagos �r": "23"
                                },
                                {
                                    "TERMEKKOD": "01040502T",
                                    "�tlagos �r": "23,910112359550563"
                                },
                                {
                                    "TERMEKKOD": "04030265T",
                                    "�tlagos �r": "100,38970588235294"
                                },
                                {
                                    "TERMEKKOD": "02040294T",
                                    "�tlagos �r": "99,34408602150538"
                                },
                                {
                                    "TERMEKKOD": "06040327T",
                                    "�tlagos �r": "34,44015444015444"
                                },
                                {
                                    "TERMEKKOD": "02040145T",
                                    "�tlagos �r": "28,84790874524715"
                                },
                                {
                                    "TERMEKKOD": "06080440T",
                                    "�tlagos �r": "155,0983606557377"
                                },
                                {
                                    "TERMEKKOD": "06040328T",
                                    "�tlagos �r": "42,58657243816254"
                                },
                                {
                                    "TERMEKKOD": "05110361T",
                                    "�tlagos �r": "169,14084507042253"
                                },
                                {
                                    "TERMEKKOD": "06010373T",
                                    "�tlagos �r": "41,568093385214006"
                                },
                                {
                                    "TERMEKKOD": "04110273T",
                                    "�tlagos �r": "53,194945848375454"
                                },
                                {
                                    "TERMEKKOD": "07040100T",
                                    "�tlagos �r": "378,40909090909093"
                                },
                                {
                                    "TERMEKKOD": "04110068T",
                                    "�tlagos �r": "19,32"
                                },
                                {
                                    "TERMEKKOD": "04030289T",
                                    "�tlagos �r": "14,349794238683128"
                                },
                                {
                                    "TERMEKKOD": "06040386T",
                                    "�tlagos �r": "46,24701195219124"
                                },
                                {
                                    "TERMEKKOD": "07080418T",
                                    "�tlagos �r": "91,97540983606558"
                                },
                                {
                                    "TERMEKKOD": "08070490T",
                                    "�tlagos �r": "671,3806228373702"
                                },
                                {
                                    "TERMEKKOD": "06040326T",
                                    "�tlagos �r": "18,304659498207887"
                                },
                                {
                                    "TERMEKKOD": "04110229T",
                                    "�tlagos �r": "31,932806324110672"
                                },
                                {
                                    "TERMEKKOD": "06080339T",
                                    "�tlagos �r": "85,7673469387755"
                                },
                                {
                                    "TERMEKKOD": "04030286T",
                                    "�tlagos �r": "42,628158844765345"
                                },
                                {
                                    "TERMEKKOD": "07040102T",
                                    "�tlagos �r": "44,470790378006875"
                                },
                                {
                                    "TERMEKKOD": "L033-FE311",
                                    "�tlagos �r": "960,3351177730193"
                                },
                                {
                                    "TERMEKKOD": "07040057T",
                                    "�tlagos �r": "102,33962264150944"
                                },
                                {
                                    "TERMEKKOD": "02080454T",
                                    "�tlagos �r": "737,1161825726141"
                                },
                                {
                                    "TERMEKKOD": "L029-FE307",
                                    "�tlagos �r": "232,1922268907563"
                                },
                                {
                                    "TERMEKKOD": "01090517T",
                                    "�tlagos �r": "3,623481781376518"
                                },
                                {
                                    "TERMEKKOD": "04050269T",
                                    "�tlagos �r": "10,644194756554308"
                                },
                                {
                                    "TERMEKKOD": "05010306T",
                                    "�tlagos �r": "19,338078291814945"
                                },
                                {
                                    "TERMEKKOD": "06040183T",
                                    "�tlagos �r": "92"
                                },
                                {
                                    "TERMEKKOD": "04080442T",
                                    "�tlagos �r": "305,30980392156863"
                                },
                                {
                                    "TERMEKKOD": "07080161T",
                                    "�tlagos �r": "42,5239852398524"
                                },
                                {
                                    "TERMEKKOD": "06010367T",
                                    "�tlagos �r": "33,69803921568627"
                                },
                                {
                                    "TERMEKKOD": "03010344T",
                                    "�tlagos �r": "60,657992565055764"
                                },
                                {
                                    "TERMEKKOD": "06080338T",
                                    "�tlagos �r": "97,48148148148148"
                                },
                                {
                                    "TERMEKKOD": "04050252T",
                                    "�tlagos �r": "119,98529411764706"
                                },
                                {
                                    "TERMEKKOD": "04050251T",
                                    "�tlagos �r": "142,93726937269372"
                                },
                                {
                                    "TERMEKKOD": "06040396T",
                                    "�tlagos �r": "397,0143884892086"
                                },
                                {
                                    "TERMEKKOD": "05050046T",
                                    "�tlagos �r": "70,66666666666667"
                                },
                                {
                                    "TERMEKKOD": "04080443T",
                                    "�tlagos �r": "434,5568181818182"
                                },
                                {
                                    "TERMEKKOD": "06040331T",
                                    "�tlagos �r": "47,125"
                                },
                                {
                                    "TERMEKKOD": "06010202T",
                                    "�tlagos �r": "21,895306859205775"
                                },
                                {
                                    "TERMEKKOD": "02040507T",
                                    "�tlagos �r": "38,752851711026615"
                                },
                                {
                                    "TERMEKKOD": "04050204T",
                                    "�tlagos �r": "163,1576763485477"
                                },
                                {
                                    "TERMEKKOD": "04050187T",
                                    "�tlagos �r": "64,29230769230769"
                                },
                                {
                                    "TERMEKKOD": "02040146T",
                                    "�tlagos �r": "46,21011673151751"
                                },
                                {
                                    "TERMEKKOD": "02040147T",
                                    "�tlagos �r": "7,670634920634921"
                                },
                                {
                                    "TERMEKKOD": "07080318T",
                                    "�tlagos �r": "227,00749063670412"
                                },
                                {
                                    "TERMEKKOD": "06040384T",
                                    "�tlagos �r": "55,724137931034484"
                                },
                                {
                                    "TERMEKKOD": "06040379T",
                                    "�tlagos �r": "90,24242424242425"
                                },
                                {
                                    "TERMEKKOD": "02040403T",
                                    "�tlagos �r": "1312,860465116279"
                                },
                                {
                                    "TERMEKKOD": "02040295T",
                                    "�tlagos �r": "85,484375"
                                },
                                {
                                    "TERMEKKOD": "03080007T",
                                    "�tlagos �r": "199,95454545454547"
                                },
                                {
                                    "TERMEKKOD": "01100072T",
                                    "�tlagos �r": "8,683018867924527"
                                },
                                {
                                    "TERMEKKOD": "03080438T",
                                    "�tlagos �r": "205,699604743083"
                                },
                                {
                                    "TERMEKKOD": "03080439T",
                                    "�tlagos �r": "109,6468085106383"
                                },
                                {
                                    "TERMEKKOD": "01100509T",
                                    "�tlagos �r": "38,646153846153844"
                                },
                                {
                                    "TERMEKKOD": "08070482T",
                                    "�tlagos �r": "183,71428571428572"
                                },
                                {
                                    "TERMEKKOD": "07080151T",
                                    "�tlagos �r": "377,56626506024094"
                                },
                                {
                                    "TERMEKKOD": "06040400T",
                                    "�tlagos �r": "495,0866141732283"
                                },
                                {
                                    "TERMEKKOD": "07080160T",
                                    "�tlagos �r": "230,62277580071174"
                                },
                                {
                                    "TERMEKKOD": "N039-AL222",
                                    "�tlagos �r": "44523,24332648871"
                                },
                                {
                                    "TERMEKKOD": "U001-KI501",
                                    "�tlagos �r": "1923,7253599114065"
                                },
                                {
                                    "TERMEKKOD": "02040206T",
                                    "�tlagos �r": "77,97777777777777"
                                },
                                {
                                    "TERMEKKOD": "06010112T",
                                    "�tlagos �r": "74,96551724137932"
                                },
                                {
                                    "TERMEKKOD": "04030263T",
                                    "�tlagos �r": "85,17408906882591"
                                },
                                {
                                    "TERMEKKOD": "07010143T",
                                    "�tlagos �r": "75,08108108108108"
                                },
                                {
                                    "TERMEKKOD": "06040383T",
                                    "�tlagos �r": "18,224489795918366"
                                },
                                {
                                    "TERMEKKOD": "07080062T",
                                    "�tlagos �r": "141,25714285714287"
                                },
                                {
                                    "TERMEKKOD": "02080436T",
                                    "�tlagos �r": "63,62307692307692"
                                },
                                {
                                    "TERMEKKOD": "07040130T",
                                    "�tlagos �r": "77,4943396226415"
                                },
                                {
                                    "TERMEKKOD": "08070484T",
                                    "�tlagos �r": "334,9076923076923"
                                },
                                {
                                    "TERMEKKOD": "04050322T",
                                    "�tlagos �r": "303,798418972332"
                                },
                                {
                                    "TERMEKKOD": "03080012T",
                                    "�tlagos �r": "120,86516853932584"
                                },
                                {
                                    "TERMEKKOD": "03080004T",
                                    "�tlagos �r": "18,35408560311284"
                                },
                                {
                                    "TERMEKKOD": "04050253T",
                                    "�tlagos �r": "99,76579925650557"
                                },
                                {
                                    "TERMEKKOD": "06080189T",
                                    "�tlagos �r": "28,888030888030887"
                                },
                                {
                                    "TERMEKKOD": "02040508T",
                                    "�tlagos �r": "42,56066945606695"
                                },
                                {
                                    "TERMEKKOD": "06040380T",
                                    "�tlagos �r": "74,70769230769231"
                                },
                                {
                                    "TERMEKKOD": "G019-NA207",
                                    "�tlagos �r": "1249,7958515283842"
                                },
                                {
                                    "TERMEKKOD": "01010001T",
                                    "�tlagos �r": "331,93939393939394"
                                },
                                {
                                    "TERMEKKOD": "08070495T",
                                    "�tlagos �r": "425,7039711191336"
                                },
                                {
                                    "TERMEKKOD": "06080121T",
                                    "�tlagos �r": "189,80632411067194"
                                },
                                {
                                    "TERMEKKOD": "06040382T",
                                    "�tlagos �r": "613,28"
                                },
                                {
                                    "TERMEKKOD": "02080451T",
                                    "�tlagos �r": "99,67953667953668"
                                },
                                {
                                    "TERMEKKOD": "03080014T",
                                    "�tlagos �r": "78,44"
                                },
                                {
                                    "TERMEKKOD": "05040348T",
                                    "�tlagos �r": "102,59003831417624"
                                },
                                {
                                    "TERMEKKOD": "03050077T",
                                    "�tlagos �r": "42,64638783269962"
                                },
                                {
                                    "TERMEKKOD": "N019-FE301",
                                    "�tlagos �r": "669,1304347826087"
                                },
                                {
                                    "TERMEKKOD": "07010140T",
                                    "�tlagos �r": "21,88888888888889"
                                },
                                {
                                    "TERMEKKOD": "03050076T",
                                    "�tlagos �r": "24,903614457831324"
                                },
                                {
                                    "TERMEKKOD": "02040178T",
                                    "�tlagos �r": "33,8433734939759"
                                },
                                {
                                    "TERMEKKOD": "07080163T",
                                    "�tlagos �r": "222,76666666666668"
                                },
                                {
                                    "TERMEKKOD": "04030266T",
                                    "�tlagos �r": "162,8988326848249"
                                },
                                {
                                    "TERMEKKOD": "06040398T",
                                    "�tlagos �r": "397,8191881918819"
                                },
                                {
                                    "TERMEKKOD": "07040061T",
                                    "�tlagos �r": "42,65769230769231"
                                },
                                {
                                    "TERMEKKOD": "02030044T",
                                    "�tlagos �r": "14,261044176706827"
                                },
                                {
                                    "TERMEKKOD": "01090500T",
                                    "�tlagos �r": "13,324786324786325"
                                },
                                {
                                    "TERMEKKOD": "03080017T",
                                    "�tlagos �r": "143,10917030567686"
                                },
                                {
                                    "TERMEKKOD": "02060034T",
                                    "�tlagos �r": "287,00787401574803"
                                },
                                {
                                    "TERMEKKOD": "07080154T",
                                    "�tlagos �r": "387,73306772908364"
                                },
                                {
                                    "TERMEKKOD": "01100510T",
                                    "�tlagos �r": "12,184549356223176"
                                },
                                {
                                    "TERMEKKOD": "07080312T",
                                    "�tlagos �r": "120,51181102362204"
                                },
                                {
                                    "TERMEKKOD": "07010144T",
                                    "�tlagos �r": "85,64285714285714"
                                },
                                {
                                    "TERMEKKOD": "04030264T",
                                    "�tlagos �r": "71,29674796747967"
                                },
                                {
                                    "TERMEKKOD": "G023-FE301",
                                    "�tlagos �r": "377,6430084745763"
                                },
                                {
                                    "TERMEKKOD": "07080421T",
                                    "�tlagos �r": "220,19762845849803"
                                },
                                {
                                    "TERMEKKOD": "06080426T",
                                    "�tlagos �r": "156,18867924528303"
                                },
                                {
                                    "TERMEKKOD": "02040293T",
                                    "�tlagos �r": "299,64285714285717"
                                },
                                {
                                    "TERMEKKOD": "02080514T",
                                    "�tlagos �r": "43,273092369477915"
                                },
                                {
                                    "TERMEKKOD": "04050268T",
                                    "�tlagos �r": "14,237735849056603"
                                },
                                {
                                    "TERMEKKOD": "02040291T",
                                    "�tlagos �r": "14,354581673306773"
                                },
                                {
                                    "TERMEKKOD": "06040173T",
                                    "�tlagos �r": "203,66409266409266"
                                },
                                {
                                    "TERMEKKOD": "01080512T",
                                    "�tlagos �r": "4443,7148288973385"
                                },
                                {
                                    "TERMEKKOD": "07040219T",
                                    "�tlagos �r": "75,2116182572614"
                                },
                                {
                                    "TERMEKKOD": "01030091T",
                                    "�tlagos �r": "24,841911764705884"
                                },
                                {
                                    "TERMEKKOD": "01090498T",
                                    "�tlagos �r": "2,676470588235294"
                                },
                                {
                                    "TERMEKKOD": "07040056T",
                                    "�tlagos �r": "38,74716981132075"
                                },
                                {
                                    "TERMEKKOD": "02030040T",
                                    "�tlagos �r": "5,633962264150943"
                                },
                                {
                                    "TERMEKKOD": "07040058T",
                                    "�tlagos �r": "10,627737226277372"
                                },
                                {
                                    "TERMEKKOD": "07040099T",
                                    "�tlagos �r": "420,03921568627453"
                                },
                                {
                                    "TERMEKKOD": "08070479T",
                                    "�tlagos �r": "653,8792452830189"
                                },
                                {
                                    "TERMEKKOD": "G041-AL211",
                                    "�tlagos �r": "16349,633187772926"
                                },
                                {
                                    "TERMEKKOD": "06040181T",
                                    "�tlagos �r": "7,676691729323308"
                                },
                                {
                                    "TERMEKKOD": "07030104T",
                                    "�tlagos �r": "73,99180327868852"
                                },
                                {
                                    "TERMEKKOD": "06040088T",
                                    "�tlagos �r": "49,29044117647059"
                                },
                                {
                                    "TERMEKKOD": "03050079T",
                                    "�tlagos �r": "14,305439330543933"
                                },
                                {
                                    "TERMEKKOD": "02020032T",
                                    "�tlagos �r": "128,55755395683454"
                                },
                                {
                                    "TERMEKKOD": "06080428T",
                                    "�tlagos �r": "173,71320754716982"
                                },
                                {
                                    "TERMEKKOD": "04050022T",
                                    "�tlagos �r": "85,74615384615385"
                                },
                                {
                                    "TERMEKKOD": "07040052T",
                                    "�tlagos �r": "51,38056680161943"
                                },
                                {
                                    "TERMEKKOD": "06040325T",
                                    "�tlagos �r": "38,721311475409834"
                                },
                                {
                                    "TERMEKKOD": "02040402T",
                                    "�tlagos �r": "277,4032258064516"
                                },
                                {
                                    "TERMEKKOD": "07080157T",
                                    "�tlagos �r": "90,11498257839722"
                                },
                                {
                                    "TERMEKKOD": "04110258T",
                                    "�tlagos �r": "70,44705882352942"
                                },
                                {
                                    "TERMEKKOD": "06080116T",
                                    "�tlagos �r": "32,55555555555556"
                                },
                                {
                                    "TERMEKKOD": "N008-NA201",
                                    "�tlagos �r": "8013,2893081761"
                                },
                                {
                                    "TERMEKKOD": "02080455T",
                                    "�tlagos �r": "607,496062992126"
                                },
                                {
                                    "TERMEKKOD": "06080335T",
                                    "�tlagos �r": "106,0342205323194"
                                },
                                {
                                    "TERMEKKOD": "08070486T",
                                    "�tlagos �r": "389,24778761061947"
                                },
                                {
                                    "TERMEKKOD": "06080423T",
                                    "�tlagos �r": "220,83132530120483"
                                },
                                {
                                    "TERMEKKOD": "F021-IN215",
                                    "�tlagos �r": "6287,779107725789"
                                },
                                {
                                    "TERMEKKOD": "04030237T",
                                    "�tlagos �r": "34,69964664310954"
                                },
                                {
                                    "TERMEKKOD": "02040214T",
                                    "�tlagos �r": "57,0817843866171"
                                },
                                {
                                    "TERMEKKOD": "04030238T",
                                    "�tlagos �r": "57,01556420233463"
                                },
                                {
                                    "TERMEKKOD": "06040329T",
                                    "�tlagos �r": "42,763636363636365"
                                },
                                {
                                    "TERMEKKOD": "02040290T",
                                    "�tlagos �r": "86,02158273381295"
                                },
                                {
                                    "TERMEKKOD": "07080466T",
                                    "�tlagos �r": "78,56133828996282"
                                },
                                {
                                    "TERMEKKOD": "01100071T",
                                    "�tlagos �r": "86,14634146341463"
                                },
                                {
                                    "TERMEKKOD": "07030106T",
                                    "�tlagos �r": "99,25954198473282"
                                },
                                {
                                    "TERMEKKOD": "02040025T",
                                    "�tlagos �r": "128,42045454545453"
                                },
                                {
                                    "TERMEKKOD": "07040257T",
                                    "�tlagos �r": "419,44117647058823"
                                },
                                {
                                    "TERMEKKOD": "04030239T",
                                    "�tlagos �r": "46,148148148148145"
                                },
                                {
                                    "TERMEKKOD": "02040506T",
                                    "�tlagos �r": "42,46875"
                                },
                                {
                                    "TERMEKKOD": "08070477T",
                                    "�tlagos �r": "343,4154411764706"
                                },
                                {
                                    "TERMEKKOD": "02040309T",
                                    "�tlagos �r": "89,5"
                                },
                                {
                                    "TERMEKKOD": "01100096T",
                                    "�tlagos �r": "703,9181494661922"
                                },
                                {
                                    "TERMEKKOD": "03080018T",
                                    "�tlagos �r": "117,24904214559388"
                                },
                                {
                                    "TERMEKKOD": "07040216T",
                                    "�tlagos �r": "34,53815261044177"
                                },
                                {
                                    "TERMEKKOD": "04110282T",
                                    "�tlagos �r": "53,93103448275862"
                                },
                                {
                                    "TERMEKKOD": "08070473T",
                                    "�tlagos �r": "1053,9375"
                                },
                                {
                                    "TERMEKKOD": "02040210T",
                                    "�tlagos �r": "86"
                                },
                                {
                                    "TERMEKKOD": "G073-CI410",
                                    "�tlagos �r": "7645,82626680455"
                                },
                                {
                                    "TERMEKKOD": "04050073T",
                                    "�tlagos �r": "58,888888888888886"
                                },
                                {
                                    "TERMEKKOD": "06080410T",
                                    "�tlagos �r": "171,0207468879668"
                                },
                                {
                                    "TERMEKKOD": "06040446T",
                                    "�tlagos �r": "1136,63671875"
                                },
                                {
                                    "TERMEKKOD": "02050461T",
                                    "�tlagos �r": "17,21285140562249"
                                },
                                {
                                    "TERMEKKOD": "F007-NA201",
                                    "�tlagos �r": "7629,643979057591"
                                },
                                {
                                    "TERMEKKOD": "07040054T",
                                    "�tlagos �r": "53,232142857142854"
                                },
                                {
                                    "TERMEKKOD": "07040050T",
                                    "�tlagos �r": "28,914396887159533"
                                },
                                {
                                    "TERMEKKOD": "G048-PO218",
                                    "�tlagos �r": "3765,350052246604"
                                },
                                {
                                    "TERMEKKOD": "L001-KB101",
                                    "�tlagos �r": "8603,08510638298"
                                },
                                {
                                    "TERMEKKOD": "G029-FE307",
                                    "�tlagos �r": "231,96954314720813"
                                },
                                {
                                    "TERMEKKOD": "02040149T",
                                    "�tlagos �r": "106,36"
                                },
                                {
                                    "TERMEKKOD": "07040098T",
                                    "�tlagos �r": "269,8810408921933"
                                },
                                {
                                    "TERMEKKOD": "02040292T",
                                    "�tlagos �r": "75,344"
                                },
                                {
                                    "TERMEKKOD": "07010372T",
                                    "�tlagos �r": "156,26970954356847"
                                },
                                {
                                    "TERMEKKOD": "01010304T",
                                    "�tlagos �r": "57,23673469387755"
                                },
                                {
                                    "TERMEKKOD": "04030234T",
                                    "�tlagos �r": "28,870722433460077"
                                },
                                {
                                    "TERMEKKOD": "08070491T",
                                    "�tlagos �r": "206,93286219081273"
                                },
                                {
                                    "TERMEKKOD": "07080471T",
                                    "�tlagos �r": "284,3898305084746"
                                },
                                {
                                    "TERMEKKOD": "02080081T",
                                    "�tlagos �r": "128,22545454545454"
                                },
                                {
                                    "TERMEKKOD": "07080311T",
                                    "�tlagos �r": "267,13178294573646"
                                },
                                {
                                    "TERMEKKOD": "04050074T",
                                    "�tlagos �r": "63,93675889328063"
                                },
                                {
                                    "TERMEKKOD": "04050225T",
                                    "�tlagos �r": "126,92277992277992"
                                },
                                {
                                    "TERMEKKOD": "06080259T",
                                    "�tlagos �r": "156,22448979591837"
                                },
                                {
                                    "TERMEKKOD": "07040133T",
                                    "�tlagos �r": "37,6865671641791"
                                },
                                {
                                    "TERMEKKOD": "07010139T",
                                    "�tlagos �r": "87,74538745387454"
                                },
                                {
                                    "TERMEKKOD": "L023-FE301",
                                    "�tlagos �r": "376,96177062374244"
                                },
                                {
                                    "TERMEKKOD": "06010086T",
                                    "�tlagos �r": "34,59504132231405"
                                },
                                {
                                    "TERMEKKOD": "04110279T",
                                    "�tlagos �r": "163,2301886792453"
                                },
                                {
                                    "TERMEKKOD": "07040166T",
                                    "�tlagos �r": "438,8072289156627"
                                },
                                {
                                    "TERMEKKOD": "07040215T",
                                    "�tlagos �r": "71,54581673306772"
                                },
                                {
                                    "TERMEKKOD": "07080315T",
                                    "�tlagos �r": "91,28235294117647"
                                },
                                {
                                    "TERMEKKOD": "02040401T",
                                    "�tlagos �r": "327,75954198473283"
                                },
                                {
                                    "TERMEKKOD": "N029-AL212",
                                    "�tlagos �r": "30919,03209109731"
                                },
                                {
                                    "TERMEKKOD": "05010369T",
                                    "�tlagos �r": "124,84962406015038"
                                },
                                {
                                    "TERMEKKOD": "06080416T",
                                    "�tlagos �r": "32,05555555555556"
                                },
                                {
                                    "TERMEKKOD": "07030108T",
                                    "�tlagos �r": "13,326359832635983"
                                },
                                {
                                    "TERMEKKOD": "07050463T",
                                    "�tlagos �r": "34,70866141732284"
                                },
                                {
                                    "TERMEKKOD": "02040405T",
                                    "�tlagos �r": "42,48401826484018"
                                },
                                {
                                    "TERMEKKOD": "04030262T",
                                    "�tlagos �r": "54,09411764705882"
                                },
                                {
                                    "TERMEKKOD": "04050035T",
                                    "�tlagos �r": "23,033333333333335"
                                },
                                {
                                    "TERMEKKOD": "02080431T",
                                    "�tlagos �r": "207,04347826086956"
                                },
                                {
                                    "TERMEKKOD": "07010136T",
                                    "�tlagos �r": "118,88321167883211"
                                },
                                {
                                    "TERMEKKOD": "06040356T",
                                    "�tlagos �r": "138,7832699619772"
                                },
                                {
                                    "TERMEKKOD": "06080124T",
                                    "�tlagos �r": "491,6292134831461"
                                },
                                {
                                    "TERMEKKOD": "06040399T",
                                    "�tlagos �r": "120,74358974358974"
                                },
                                {
                                    "TERMEKKOD": "02060448T",
                                    "�tlagos �r": "1111,7233201581028"
                                },
                                {
                                    "TERMEKKOD": "04030288T",
                                    "�tlagos �r": "2,6278195488721803"
                                },
                                {
                                    "TERMEKKOD": "G038-FE316",
                                    "�tlagos �r": "958,6645768025078"
                                },
                                {
                                    "TERMEKKOD": "02080434T",
                                    "�tlagos �r": "202,79661016949152"
                                },
                                {
                                    "TERMEKKOD": "03080003T",
                                    "�tlagos �r": "179"
                                },
                                {
                                    "TERMEKKOD": "07040101T",
                                    "�tlagos �r": "136,15416666666667"
                                },
                                {
                                    "TERMEKKOD": "06040397T",
                                    "�tlagos �r": "633,978102189781"
                                },
                                {
                                    "TERMEKKOD": "07040218T",
                                    "�tlagos �r": "22,065573770491802"
                                },
                                {
                                    "TERMEKKOD": "04110066T",
                                    "�tlagos �r": "25,053333333333335"
                                },
                                {
                                    "TERMEKKOD": "02080453T",
                                    "�tlagos �r": "511,5483870967742"
                                },
                                {
                                    "TERMEKKOD": "06080429T",
                                    "�tlagos �r": "60,87022900763359"
                                },
                                {
                                    "TERMEKKOD": "02020029T",
                                    "�tlagos �r": "111,55984555984556"
                                },
                                {
                                    "TERMEKKOD": "06050301T",
                                    "�tlagos �r": "128,27681660899654"
                                }
                            ]
                        },
                        "text/html": [
                            "<table>",
                            "<tr><th>TERMEKKOD</th><th>�tlagos �r</th></tr>",
                            "<tr><td>07040169T</td><td>91,5136186770428</td></tr>",
                            "<tr><td>07040165T</td><td>210,9277566539924</td></tr>",
                            "<tr><td>06080407T</td><td>239,92578125</td></tr>",
                            "<tr><td>01030092T</td><td>57,08791208791209</td></tr>",
                            "<tr><td>04050024T</td><td>139,04803493449782</td></tr>",
                            "<tr><td>04050171T</td><td>106,868</td></tr>",
                            "<tr><td>07080152T</td><td>988,7209302325581</td></tr>",
                            "<tr><td>G064-CI401</td><td>6679,732905982906</td></tr>",
                            "<tr><td>06040248T</td><td>235,79715302491104</td></tr>",
                            "<tr><td>06080332T</td><td>71,62608695652175</td></tr>",
                            "<tr><td>04050358T</td><td>344,2142857142857</td></tr>",
                            "<tr><td>01100070T</td><td>70,37184115523466</td></tr>",
                            "<tr><td>02020037T</td><td>139,28205128205127</td></tr>",
                            "<tr><td>06040323T</td><td>34,52238805970149</td></tr>",
                            "<tr><td>06080118T</td><td>7,6929460580912865</td></tr>",
                            "<tr><td>03080011T</td><td>143,87313432835822</td></tr>",
                            "<tr><td>06010377T</td><td>7,63677130044843</td></tr>",
                            "<tr><td>07080159T</td><td>60,968503937007874</td></tr>",
                            "<tr><td>06040247T</td><td>28,970479704797047</td></tr>",
                            "<tr><td>02020033T</td><td>318,4135338345865</td></tr>",
                            "<tr><td>02040298T</td><td>42,49612403100775</td></tr>",
                            "<tr><td>06080190T</td><td>21,988095238095237</td></tr>",
                            "<tr><td>05010027T</td><td>207,20158102766797</td></tr>",
                            "<tr><td>08070492T</td><td>711,6109090909091</td></tr>",
                            "<tr><td>07040129T</td><td>28,937956204379564</td></tr>",
                            "<tr><td>04110067T</td><td>29,95</td></tr>",
                            "<tr><td>04110278T</td><td>155,79007633587787</td></tr>",
                            "<tr><td>06040350T</td><td>247,3230769230769</td></tr>",
                            "<tr><td>04110280T</td><td>143,04615384615386</td></tr>",
                            "<tr><td>02080432T</td><td>250,34117647058824</td></tr>",
                            "<tr><td>07050464T</td><td>135,85887096774192</td></tr>",
                            "<tr><td>07080156T</td><td>21,970149253731343</td></tr>",
                            "<tr><td>02040208T</td><td>18,275590551181104</td></tr>",
                            "<tr><td>01020299T</td><td>46,340080971659916</td></tr>",
                            "<tr><td>08070481T</td><td>192,04562737642587</td></tr>",
                            "<tr><td>02040211T</td><td>235,04182509505702</td></tr>",
                            "<tr><td>06040392T</td><td>699,3219696969697</td></tr>",
                            "<tr><td>06080337T</td><td>283,23846153846154</td></tr>",
                            "<tr><td>N001-KB101</td><td>23248,893203883494</td></tr>",
                            "<tr><td>07080319T</td><td>288,6069868995633</td></tr>",
                            "<tr><td>06040355T</td><td>150,3941908713693</td></tr>",
                            "<tr><td>03010342T</td><td>14,281481481481482</td></tr>",
                            "<tr><td>07040168T</td><td>182,97909407665506</td></tr>",
                            "<tr><td>06050249T</td><td>70,45991561181435</td></tr>",
                            "<tr><td>04020445T</td><td>701,5177865612649</td></tr>",
                            "<tr><td>N035-AL218</td><td>37704,19693654267</td></tr>",
                            "<tr><td>02050460T</td><td>14,290566037735848</td></tr>",
                            "<tr><td>07010244T</td><td>71,61363636363636</td></tr>",
                            "<tr><td>02080449T</td><td>99,80933852140078</td></tr>",
                            "<tr><td>06080408T</td><td>202,24</td></tr>",
                            "<tr><td>06080422T</td><td>314,14760147601476</td></tr>",
                            "<tr><td>05050045T</td><td>44,29596412556054</td></tr>",
                            "<tr><td>04050320T</td><td>167,57039711191337</td></tr>",
                            "<tr><td>06040395T</td><td>703,6612244897959</td></tr>",
                            "<tr><td>01100094T</td><td>817,4391143911439</td></tr>",
                            "<tr><td>06010113T</td><td>32,59288537549407</td></tr>",
                            "<tr><td>06040172T</td><td>189,3658536585366</td></tr>",
                            "<tr><td>03080009T</td><td>143,75451263537906</td></tr>",
                            "<tr><td>06010115T</td><td>46,18867924528302</td></tr>",
                            "<tr><td>01100095T</td><td>705,7581967213115</td></tr>",
                            "<tr><td>02040207T</td><td>18,288537549407113</td></tr>",
                            "<tr><td>07040128T</td><td>53,142361111111114</td></tr>",
                            "<tr><td>07040047T</td><td>37,69527896995708</td></tr>",
                            "<tr><td>06040393T</td><td>741,8363636363637</td></tr>",
                            "<tr><td>08070488T</td><td>389,7548638132296</td></tr>",
                            "<tr><td>07010141T</td><td>14,32295719844358</td></tr>",
                            "<tr><td>06040351T</td><td>196,22426470588235</td></tr>",
                            "<tr><td>02040406T</td><td>32,63076923076923</td></tr>",
                            "<tr><td>06080126T</td><td>196,1037037037037</td></tr>",
                            "<tr><td>03080016T</td><td>106,12403100775194</td></tr>",
                            "<tr><td>07010371T</td><td>96,21428571428571</td></tr>",
                            "<tr><td>08070489T</td><td>843,981684981685</td></tr>",
                            "<tr><td>02040209T</td><td>42,63529411764706</td></tr>",
                            "<tr><td>L013-NA201</td><td>4812,352570828961</td></tr>",
                            "<tr><td>06080191T</td><td>28,894117647058824</td></tr>",
                            "<tr><td>02080435T</td><td>178,04330708661416</td></tr>",
                            "<tr><td>08070476T</td><td>284,49027237354085</td></tr>",
                            "<tr><td>06080415T</td><td>28,853658536585368</td></tr>",
                            "<tr><td>06050303T</td><td>155,87179487179486</td></tr>",
                            "<tr><td>03050078T</td><td>14,36036036036036</td></tr>",
                            "<tr><td>06040182T</td><td>178,45982142857142</td></tr>",
                            "<tr><td>05040310T</td><td>99,7579908675799</td></tr>",
                            "<tr><td>06080120T</td><td>21,890566037735848</td></tr>",
                            "<tr><td>06080413T</td><td>29,09881422924901</td></tr>",
                            "<tr><td>08070493T</td><td>698,076124567474</td></tr>",
                            "<tr><td>03080010T</td><td>200,47577092511014</td></tr>",
                            "<tr><td>04030260T</td><td>14,354581673306773</td></tr>",
                            "<tr><td>08070472T</td><td>1054,2952029520295</td></tr>",
                            "<tr><td>07030107T</td><td>267,23809523809524</td></tr>",
                            "<tr><td>08070478T</td><td>759,6308724832214</td></tr>",
                            "<tr><td>01020300T</td><td>53,22834645669291</td></tr>",
                            "<tr><td>07040391T</td><td>77,47826086956522</td></tr>",
                            "<tr><td>01040307T</td><td>14,360655737704919</td></tr>",
                            "<tr><td>06080417T</td><td>19,286821705426355</td></tr>",
                            "<tr><td>07080470T</td><td>181,93023255813952</td></tr>",
                            "<tr><td>08070483T</td><td>311,9012345679012</td></tr>",
                            "<tr><td>04050224T</td><td>46,285198555956676</td></tr>",
                            "<tr><td>02040297T</td><td>99,95652173913044</td></tr>",
                            "<tr><td>06040347T</td><td>26,821428571428573</td></tr>",
                            "<tr><td>02040194T</td><td>765,086274509804</td></tr>",
                            "<tr><td>02080456T</td><td>85,91732283464567</td></tr>",
                            "<tr><td>05050170T</td><td>18,31726907630522</td></tr>",
                            "<tr><td>07040388T</td><td>8,625</td></tr>",
                            "<tr><td>07080158T</td><td>748,6782006920415</td></tr>",
                            "<tr><td>04050223T</td><td>70,63380281690141</td></tr>",
                            "<tr><td>04110274T</td><td>47,17991631799163</td></tr>",
                            "<tr><td>06040357T</td><td>85,85818181818182</td></tr>",
                            "<tr><td>02040198T</td><td>128,98373983739836</td></tr>",
                            "<tr><td>07080420T</td><td>155,75</td></tr>",
                            "<tr><td>04050203T</td><td>22,927710843373493</td></tr>",
                            "<tr><td>02040176T</td><td>17,295019157088124</td></tr>",
                            "<tr><td>06080123T</td><td>534,7391304347826</td></tr>",
                            "<tr><td>02020444T</td><td>446,31320754716984</td></tr>",
                            "<tr><td>07040390T</td><td>10,609375</td></tr>",
                            "<tr><td>07080316T</td><td>457,0573476702509</td></tr>",
                            "<tr><td>04050222T</td><td>159,794776119403</td></tr>",
                            "<tr><td>07080063T</td><td>33,552845528455286</td></tr>",
                            "<tr><td>06010376T</td><td>10,652509652509652</td></tr>",
                            "<tr><td>02040308T</td><td>78,12121212121212</td></tr>",
                            "<tr><td>07040060T</td><td>34,66147859922179</td></tr>",
                            "<tr><td>06040212T</td><td>27,969162995594715</td></tr>",
                            "<tr><td>03050458T</td><td>142,90376569037656</td></tr>",
                            "<tr><td>01100504T</td><td>1442,1138211382113</td></tr>",
                            "<tr><td>04050250T</td><td>111,744</td></tr>",
                            "<tr><td>L082-CI419</td><td>7762,027716186253</td></tr>",
                            "<tr><td>06040394T</td><td>312,4870848708487</td></tr>",
                            "<tr><td>07040051T</td><td>37,62450592885376</td></tr>",
                            "<tr><td>06010343T</td><td>413,6618181818182</td></tr>",
                            "<tr><td>04030287T</td><td>21,876288659793815</td></tr>",
                            "<tr><td>04080272T</td><td>349,0405904059041</td></tr>",
                            "<tr><td>02060447T</td><td>1329</td></tr>",
                            "<tr><td>06080424T</td><td>22,931330472103003</td></tr>",
                            "<tr><td>02040200T</td><td>268,4367816091954</td></tr>",
                            "<tr><td>06080409T</td><td>174,1285140562249</td></tr>",
                            "<tr><td>04110228T</td><td>177,5414847161572</td></tr>",
                            "<tr><td>02040148T</td><td>61,09411764705882</td></tr>",
                            "<tr><td>02030043T</td><td>37,63934426229508</td></tr>",
                            "<tr><td>04050075T</td><td>42,56692913385827</td></tr>",
                            "<tr><td>02040199T</td><td>276,7916666666667</td></tr>",
                            "<tr><td>06080430T</td><td>71,97590361445783</td></tr>",
                            "<tr><td>08070494T</td><td>426</td></tr>",
                            "<tr><td>07040055T</td><td>56,666666666666664</td></tr>",
                            "<tr><td>04030235T</td><td>70,64015151515152</td></tr>",
                            "<tr><td>06080188T</td><td>848,7358490566038</td></tr>",
                            "<tr><td>02040002T</td><td>2035,5843137254901</td></tr>",
                            "<tr><td>04110277T</td><td>90,0379746835443</td></tr>",
                            "<tr><td>05110364T</td><td>155,4318181818182</td></tr>",
                            "<tr><td>04030285T</td><td>10,656903765690377</td></tr>",
                            "<tr><td>01010110T</td><td>28,955555555555556</td></tr>",
                            "<tr><td>07040135T</td><td>662,9153225806451</td></tr>",
                            "<tr><td>01080093T</td><td>155,6236559139785</td></tr>",
                            "<tr><td>04080270T</td><td>1712,134328358209</td></tr>",
                            "<tr><td>06080336T</td><td>78,25523012552301</td></tr>",
                            "<tr><td>06040330T</td><td>48,034351145038165</td></tr>",
                            "<tr><td>06080334T</td><td>128,5107913669065</td></tr>",
                            "<tr><td>08070474T</td><td>1057,5172413793102</td></tr>",
                            "<tr><td>01090515T</td><td>10,662698412698413</td></tr>",
                            "<tr><td>07080155T</td><td>30</td></tr>",
                            "<tr><td>07040131T</td><td>82,46268656716418</td></tr>",
                            "<tr><td>06040353T</td><td>7,685185185185185</td></tr>",
                            "<tr><td>02080433T</td><td>53,10699588477366</td></tr>",
                            "<tr><td>07010137T</td><td>46,12015503875969</td></tr>",
                            "<tr><td>03080008T</td><td>99,92622950819673</td></tr>",
                            "<tr><td>04050321T</td><td>155,70982142857142</td></tr>",
                            "<tr><td>06080333T</td><td>115,30364372469636</td></tr>",
                            "<tr><td>03050080T</td><td>78,47517730496453</td></tr>",
                            "<tr><td>04050256T</td><td>124,88571428571429</td></tr>",
                            "<tr><td>06040378T</td><td>86,01214574898785</td></tr>",
                            "<tr><td>04110231T</td><td>77,94814814814815</td></tr>",
                            "<tr><td>07040389T</td><td>346,6565217391304</td></tr>",
                            "<tr><td>07080150T</td><td>49,333333333333336</td></tr>",
                            "<tr><td>06080414T</td><td>29,064</td></tr>",
                            "<tr><td>06010374T</td><td>43,36776859504132</td></tr>",
                            "<tr><td>07080317T</td><td>57</td></tr>",
                            "<tr><td>06040179T</td><td>174,35521235521236</td></tr>",
                            "<tr><td>06050302T</td><td>170,62815884476535</td></tr>",
                            "<tr><td>06080411T</td><td>55,86046511627907</td></tr>",
                            "<tr><td>04080271T</td><td>254,625</td></tr>",
                            "<tr><td>05110359T</td><td>170,62686567164178</td></tr>",
                            "<tr><td>04040090T</td><td>510,18390804597703</td></tr>",
                            "<tr><td>07040127T</td><td>28,923387096774192</td></tr>",
                            "<tr><td>08070485T</td><td>280,37704918032784</td></tr>",
                            "<tr><td>F013-NA207</td><td>11531,08961748634</td></tr>",
                            "<tr><td>07080153T</td><td>39,646153846153844</td></tr>",
                            "<tr><td>03080021T</td><td>21,868852459016395</td></tr>",
                            "<tr><td>02020245T</td><td>99,7063492063492</td></tr>",
                            "<tr><td>04110284T</td><td>162,5639097744361</td></tr>",
                            "<tr><td>07080314T</td><td>128,125</td></tr>",
                            "<tr><td>07080313T</td><td>56,855421686746986</td></tr>",
                            "<tr><td>04030240T</td><td>13,291228070175439</td></tr>",
                            "<tr><td>G013-NA201</td><td>4843,148335015137</td></tr>",
                            "<tr><td>06040385T</td><td>92,85501858736059</td></tr>",
                            "<tr><td>02010028T</td><td>101,98484848484848</td></tr>",
                            "<tr><td>05110363T</td><td>128,40357142857144</td></tr>",
                            "<tr><td>07040167T</td><td>633,4189723320158</td></tr>",
                            "<tr><td>06040381T</td><td>99,52173913043478</td></tr>",
                            "<tr><td>02080109T</td><td>49,045112781954884</td></tr>",
                            "<tr><td>04030242T</td><td>113,98340248962656</td></tr>",
                            "<tr><td>07080064T</td><td>38,917647058823526</td></tr>",
                            "<tr><td>03080006T</td><td>24,97244094488189</td></tr>",
                            "<tr><td>01090499T</td><td>14,264367816091953</td></tr>",
                            "<tr><td>06040246T</td><td>155,70238095238096</td></tr>",
                            "<tr><td>06040352T</td><td>99,95652173913044</td></tr>",
                            "<tr><td>04050254T</td><td>150,1978417266187</td></tr>",
                            "<tr><td>04050267T</td><td>124,43661971830986</td></tr>",
                            "<tr><td>06010036T</td><td>31,968</td></tr>",
                            "<tr><td>04050221T</td><td>128,28521126760563</td></tr>",
                            "<tr><td>05010026T</td><td>113,93385214007782</td></tr>",
                            "<tr><td>07080164T</td><td>224,9891304347826</td></tr>",
                            "<tr><td>06080125T</td><td>398,23664122137404</td></tr>",
                            "<tr><td>04030241T</td><td>42,55421686746988</td></tr>",
                            "<tr><td>06080425T</td><td>7,701492537313433</td></tr>",
                            "<tr><td>03080019T</td><td>54,28235294117647</td></tr>",
                            "<tr><td>07080468T</td><td>106,868</td></tr>",
                            "<tr><td>07030103T</td><td>51,32699619771863</td></tr>",
                            "<tr><td>03080013T</td><td>61,82835820895522</td></tr>",
                            "<tr><td>04030261T</td><td>135,07063197026022</td></tr>",
                            "<tr><td>L019-NA207</td><td>1248,5857923497267</td></tr>",
                            "<tr><td>04050220T</td><td>63,03238866396761</td></tr>",
                            "<tr><td>08070487T</td><td>389,81974248927037</td></tr>",
                            "<tr><td>04110283T</td><td>150,05882352941177</td></tr>",
                            "<tr><td>06080193T</td><td>173,78358208955223</td></tr>",
                            "<tr><td>06010082T</td><td>38,96551724137931</td></tr>",
                            "<tr><td>05050346T</td><td>86,24705882352941</td></tr>",
                            "<tr><td>04110227T</td><td>31,84870848708487</td></tr>",
                            "<tr><td>03050457T</td><td>24,831967213114755</td></tr>",
                            "<tr><td>06080192T</td><td>67,34893617021277</td></tr>",
                            "<tr><td>07080467T</td><td>265,0258620689655</td></tr>",
                            "<tr><td>07040059T</td><td>55,892561983471076</td></tr>",
                            "<tr><td>03080015T</td><td>163,3111111111111</td></tr>",
                            "<tr><td>02080452T</td><td>424,93548387096774</td></tr>",
                            "<tr><td>02080450T</td><td>42,495726495726494</td></tr>",
                            "<tr><td>08070475T</td><td>425,6</td></tr>",
                            "<tr><td>L048-PO218</td><td>3771,4255543822596</td></tr>",
                            "<tr><td>07010138T</td><td>31,95</td></tr>",
                            "<tr><td>07080469T</td><td>352,99636363636364</td></tr>",
                            "<tr><td>06010201T</td><td>34,57575757575758</td></tr>",
                            "<tr><td>06040185T</td><td>562,603305785124</td></tr>",
                            "<tr><td>02040195T</td><td>179,02197802197801</td></tr>",
                            "<tr><td>03080031T</td><td>102,57692307692308</td></tr>",
                            "<tr><td>07030105T</td><td>110,14285714285714</td></tr>",
                            "<tr><td>04110275T</td><td>47,49802371541502</td></tr>",
                            "<tr><td>05080341T</td><td>139,28148148148148</td></tr>",
                            "<tr><td>01090516T</td><td>23,804780876494025</td></tr>",
                            "<tr><td>06040174T</td><td>142,47210300429185</td></tr>",
                            "<tr><td>L064-CI401</td><td>6678,573544973545</td></tr>",
                            "<tr><td>L073-CI410</td><td>7659,825026511135</td></tr>",
                            "<tr><td>07040132T</td><td>53,02281368821293</td></tr>",
                            "<tr><td>07080419T</td><td>63,96992481203007</td></tr>",
                            "<tr><td>05110360T</td><td>113,94296577946768</td></tr>",
                            "<tr><td>07040097T</td><td>24,95703125</td></tr>",
                            "<tr><td>04030243T</td><td>188,1891891891892</td></tr>",
                            "<tr><td>01100503T</td><td>9,676767676767676</td></tr>",
                            "<tr><td>06010366T</td><td>489,52982456140353</td></tr>",
                            "<tr><td>03050459T</td><td>38,42028985507246</td></tr>",
                            "<tr><td>07040134T</td><td>42,75806451612903</td></tr>",
                            "<tr><td>02080226T</td><td>102,26373626373626</td></tr>",
                            "<tr><td>06080427T</td><td>155,11320754716982</td></tr>",
                            "<tr><td>02040404T</td><td>391,3070866141732</td></tr>",
                            "<tr><td>06010085T</td><td>62,73144876325088</td></tr>",
                            "<tr><td>04110276T</td><td>105,52173913043478</td></tr>",
                            "<tr><td>02040177T</td><td>28,95703125</td></tr>",
                            "<tr><td>06080441T</td><td>117,91011235955057</td></tr>",
                            "<tr><td>ﴠ䟨稿䁝0441T0\u0000\u0000\u0000\u0000\u0000\u0000</td><td>117,91011235955057</td></tr>",
                            "<tr><td>06080117T</td><td>9,670370370370371</td></tr>",
                            "<tr><td>05050465T</td><td>38,34782608695652</td></tr>",
                            "<tr><td>06040180T</td><td>220,0080971659919</td></tr>",
                            "<tr><td>G001-KB101</td><td>8562,41695303551</td></tr>",
                            "<tr><td>02080511T</td><td>13767,888</td></tr>",
                            "<tr><td>02040196T</td><td>264,25</td></tr>",
                            "<tr><td>03080020T</td><td>42,645161290322584</td></tr>",
                            "<tr><td>06080122T</td><td>18,271966527196653</td></tr>",
                            "<tr><td>05040349T</td><td>60,6986301369863</td></tr>",
                            "<tr><td>06080412T</td><td>29,078740157480315</td></tr>",
                            "<tr><td>07010142T</td><td>219,9609375</td></tr>",
                            "<tr><td>06040186T</td><td>677,4269662921348</td></tr>",
                            "<tr><td>06040184T</td><td>212,13654618473896</td></tr>",
                            "<tr><td>06010368T</td><td>58,94795539033457</td></tr>",
                            "<tr><td>07040048T</td><td>53,58</td></tr>",
                            "<tr><td>04110362T</td><td>176,88537549407116</td></tr>",
                            "<tr><td>07050462T</td><td>476,8142292490119</td></tr>",
                            "<tr><td>06010084T</td><td>57,54863813229572</td></tr>",
                            "<tr><td>06010365T</td><td>34,61654135338346</td></tr>",
                            "<tr><td>02030041T</td><td>5,64367816091954</td></tr>",
                            "<tr><td>06040213T</td><td>32,61666666666667</td></tr>",
                            "<tr><td>04110230T</td><td>53,16326530612245</td></tr>",
                            "<tr><td>02060038T</td><td>756,0481927710844</td></tr>",
                            "<tr><td>04110232T</td><td>49,09055118110236</td></tr>",
                            "<tr><td>04050255T</td><td>34,661596958174904</td></tr>",
                            "<tr><td>G082-CI419</td><td>7721,7667020148465</td></tr>",
                            "<tr><td>06010083T</td><td>32,014134275618375</td></tr>",
                            "<tr><td>04030236T</td><td>14,290076335877863</td></tr>",
                            "<tr><td>04040387T</td><td>78,0909090909091</td></tr>",
                            "<tr><td>01080513T</td><td>36,44368600682594</td></tr>",
                            "<tr><td>05010370T</td><td>85,90322580645162</td></tr>",
                            "<tr><td>07040217T</td><td>57,037593984962406</td></tr>",
                            "<tr><td>04110233T</td><td>85,91519434628975</td></tr>",
                            "<tr><td>01100505T</td><td>660,65234375</td></tr>",
                            "<tr><td>01100497T</td><td>13,298507462686567</td></tr>",
                            "<tr><td>06010114T</td><td>28,842323651452283</td></tr>",
                            "<tr><td>07040049T</td><td>38,516666666666666</td></tr>",
                            "<tr><td>03080005T</td><td>280,76</td></tr>",
                            "<tr><td>06040354T</td><td>200,2377049180328</td></tr>",
                            "<tr><td>04110281T</td><td>170,14074074074074</td></tr>",
                            "<tr><td>07080065T</td><td>10,647272727272727</td></tr>",
                            "<tr><td>06040175T</td><td>184,03225806451613</td></tr>",
                            "<tr><td>F001-KB101</td><td>21315,175097276264</td></tr>",
                            "<tr><td>03080030T</td><td>213,12252964426878</td></tr>",
                            "<tr><td>06010111T</td><td>66,00380228136882</td></tr>",
                            "<tr><td>08070480T</td><td>298,48854961832063</td></tr>",
                            "<tr><td>07080162T</td><td>97,4</td></tr>",
                            "<tr><td>06040089T</td><td>4,639004149377594</td></tr>",
                            "<tr><td>05080340T</td><td>138,8953068592058</td></tr>",
                            "<tr><td>03010345T</td><td>160,06949806949808</td></tr>",
                            "<tr><td>02080069T</td><td>28,906976744186046</td></tr>",
                            "<tr><td>02040296T</td><td>53,92727272727273</td></tr>",
                            "<tr><td>06040324T</td><td>86,57</td></tr>",
                            "<tr><td>03080437T</td><td>178,80756013745705</td></tr>",
                            "<tr><td>06010305T</td><td>8,689922480620154</td></tr>",
                            "<tr><td>02040197T</td><td>78,29692832764505</td></tr>",
                            "<tr><td>02030042T</td><td>2,6979591836734693</td></tr>",
                            "<tr><td>01100496T</td><td>1451,2648221343873</td></tr>",
                            "<tr><td>L041-AL211</td><td>16302,381420765027</td></tr>",
                            "<tr><td>04050023T</td><td>138,97826086956522</td></tr>",
                            "<tr><td>07040053T</td><td>22,03914590747331</td></tr>",
                            "<tr><td>06040087T</td><td>76,04417670682732</td></tr>",
                            "<tr><td>02060039T</td><td>632,8571428571429</td></tr>",
                            "<tr><td>06010375T</td><td>23</td></tr>",
                            "<tr><td>01040502T</td><td>23,910112359550563</td></tr>",
                            "<tr><td>04030265T</td><td>100,38970588235294</td></tr>",
                            "<tr><td>02040294T</td><td>99,34408602150538</td></tr>",
                            "<tr><td>06040327T</td><td>34,44015444015444</td></tr>",
                            "<tr><td>02040145T</td><td>28,84790874524715</td></tr>",
                            "<tr><td>06080440T</td><td>155,0983606557377</td></tr>",
                            "<tr><td>06040328T</td><td>42,58657243816254</td></tr>",
                            "<tr><td>05110361T</td><td>169,14084507042253</td></tr>",
                            "<tr><td>06010373T</td><td>41,568093385214006</td></tr>",
                            "<tr><td>04110273T</td><td>53,194945848375454</td></tr>",
                            "<tr><td>07040100T</td><td>378,40909090909093</td></tr>",
                            "<tr><td>04110068T</td><td>19,32</td></tr>",
                            "<tr><td>04030289T</td><td>14,349794238683128</td></tr>",
                            "<tr><td>06040386T</td><td>46,24701195219124</td></tr>",
                            "<tr><td>07080418T</td><td>91,97540983606558</td></tr>",
                            "<tr><td>08070490T</td><td>671,3806228373702</td></tr>",
                            "<tr><td>06040326T</td><td>18,304659498207887</td></tr>",
                            "<tr><td>04110229T</td><td>31,932806324110672</td></tr>",
                            "<tr><td>06080339T</td><td>85,7673469387755</td></tr>",
                            "<tr><td>04030286T</td><td>42,628158844765345</td></tr>",
                            "<tr><td>07040102T</td><td>44,470790378006875</td></tr>",
                            "<tr><td>L033-FE311</td><td>960,3351177730193</td></tr>",
                            "<tr><td>07040057T</td><td>102,33962264150944</td></tr>",
                            "<tr><td>02080454T</td><td>737,1161825726141</td></tr>",
                            "<tr><td>L029-FE307</td><td>232,1922268907563</td></tr>",
                            "<tr><td>01090517T</td><td>3,623481781376518</td></tr>",
                            "<tr><td>04050269T</td><td>10,644194756554308</td></tr>",
                            "<tr><td>05010306T</td><td>19,338078291814945</td></tr>",
                            "<tr><td>06040183T</td><td>92</td></tr>",
                            "<tr><td>04080442T</td><td>305,30980392156863</td></tr>",
                            "<tr><td>07080161T</td><td>42,5239852398524</td></tr>",
                            "<tr><td>06010367T</td><td>33,69803921568627</td></tr>",
                            "<tr><td>03010344T</td><td>60,657992565055764</td></tr>",
                            "<tr><td>06080338T</td><td>97,48148148148148</td></tr>",
                            "<tr><td>04050252T</td><td>119,98529411764706</td></tr>",
                            "<tr><td>04050251T</td><td>142,93726937269372</td></tr>",
                            "<tr><td>06040396T</td><td>397,0143884892086</td></tr>",
                            "<tr><td>05050046T</td><td>70,66666666666667</td></tr>",
                            "<tr><td>04080443T</td><td>434,5568181818182</td></tr>",
                            "<tr><td>06040331T</td><td>47,125</td></tr>",
                            "<tr><td>06010202T</td><td>21,895306859205775</td></tr>",
                            "<tr><td>02040507T</td><td>38,752851711026615</td></tr>",
                            "<tr><td>04050204T</td><td>163,1576763485477</td></tr>",
                            "<tr><td>04050187T</td><td>64,29230769230769</td></tr>",
                            "<tr><td>02040146T</td><td>46,21011673151751</td></tr>",
                            "<tr><td>02040147T</td><td>7,670634920634921</td></tr>",
                            "<tr><td>07080318T</td><td>227,00749063670412</td></tr>",
                            "<tr><td>06040384T</td><td>55,724137931034484</td></tr>",
                            "<tr><td>06040379T</td><td>90,24242424242425</td></tr>",
                            "<tr><td>02040403T</td><td>1312,860465116279</td></tr>",
                            "<tr><td>02040295T</td><td>85,484375</td></tr>",
                            "<tr><td>03080007T</td><td>199,95454545454547</td></tr>",
                            "<tr><td>01100072T</td><td>8,683018867924527</td></tr>",
                            "<tr><td>03080438T</td><td>205,699604743083</td></tr>",
                            "<tr><td>03080439T</td><td>109,6468085106383</td></tr>",
                            "<tr><td>01100509T</td><td>38,646153846153844</td></tr>",
                            "<tr><td>08070482T</td><td>183,71428571428572</td></tr>",
                            "<tr><td>07080151T</td><td>377,56626506024094</td></tr>",
                            "<tr><td>06040400T</td><td>495,0866141732283</td></tr>",
                            "<tr><td>07080160T</td><td>230,62277580071174</td></tr>",
                            "<tr><td>N039-AL222</td><td>44523,24332648871</td></tr>",
                            "<tr><td>U001-KI501</td><td>1923,7253599114065</td></tr>",
                            "<tr><td>02040206T</td><td>77,97777777777777</td></tr>",
                            "<tr><td>06010112T</td><td>74,96551724137932</td></tr>",
                            "<tr><td>04030263T</td><td>85,17408906882591</td></tr>",
                            "<tr><td>07010143T</td><td>75,08108108108108</td></tr>",
                            "<tr><td>06040383T</td><td>18,224489795918366</td></tr>",
                            "<tr><td>07080062T</td><td>141,25714285714287</td></tr>",
                            "<tr><td>02080436T</td><td>63,62307692307692</td></tr>",
                            "<tr><td>07040130T</td><td>77,4943396226415</td></tr>",
                            "<tr><td>08070484T</td><td>334,9076923076923</td></tr>",
                            "<tr><td>04050322T</td><td>303,798418972332</td></tr>",
                            "<tr><td>03080012T</td><td>120,86516853932584</td></tr>",
                            "<tr><td>03080004T</td><td>18,35408560311284</td></tr>",
                            "<tr><td>04050253T</td><td>99,76579925650557</td></tr>",
                            "<tr><td>06080189T</td><td>28,888030888030887</td></tr>",
                            "<tr><td>02040508T</td><td>42,56066945606695</td></tr>",
                            "<tr><td>06040380T</td><td>74,70769230769231</td></tr>",
                            "<tr><td>G019-NA207</td><td>1249,7958515283842</td></tr>",
                            "<tr><td>01010001T</td><td>331,93939393939394</td></tr>",
                            "<tr><td>08070495T</td><td>425,7039711191336</td></tr>",
                            "<tr><td>06080121T</td><td>189,80632411067194</td></tr>",
                            "<tr><td>06040382T</td><td>613,28</td></tr>",
                            "<tr><td>02080451T</td><td>99,67953667953668</td></tr>",
                            "<tr><td>03080014T</td><td>78,44</td></tr>",
                            "<tr><td>05040348T</td><td>102,59003831417624</td></tr>",
                            "<tr><td>03050077T</td><td>42,64638783269962</td></tr>",
                            "<tr><td>N019-FE301</td><td>669,1304347826087</td></tr>",
                            "<tr><td>07010140T</td><td>21,88888888888889</td></tr>",
                            "<tr><td>03050076T</td><td>24,903614457831324</td></tr>",
                            "<tr><td>02040178T</td><td>33,8433734939759</td></tr>",
                            "<tr><td>07080163T</td><td>222,76666666666668</td></tr>",
                            "<tr><td>04030266T</td><td>162,8988326848249</td></tr>",
                            "<tr><td>06040398T</td><td>397,8191881918819</td></tr>",
                            "<tr><td>07040061T</td><td>42,65769230769231</td></tr>",
                            "<tr><td>02030044T</td><td>14,261044176706827</td></tr>",
                            "<tr><td>01090500T</td><td>13,324786324786325</td></tr>",
                            "<tr><td>03080017T</td><td>143,10917030567686</td></tr>",
                            "<tr><td>02060034T</td><td>287,00787401574803</td></tr>",
                            "<tr><td>07080154T</td><td>387,73306772908364</td></tr>",
                            "<tr><td>01100510T</td><td>12,184549356223176</td></tr>",
                            "<tr><td>07080312T</td><td>120,51181102362204</td></tr>",
                            "<tr><td>07010144T</td><td>85,64285714285714</td></tr>",
                            "<tr><td>04030264T</td><td>71,29674796747967</td></tr>",
                            "<tr><td>G023-FE301</td><td>377,6430084745763</td></tr>",
                            "<tr><td>07080421T</td><td>220,19762845849803</td></tr>",
                            "<tr><td>06080426T</td><td>156,18867924528303</td></tr>",
                            "<tr><td>02040293T</td><td>299,64285714285717</td></tr>",
                            "<tr><td>02080514T</td><td>43,273092369477915</td></tr>",
                            "<tr><td>04050268T</td><td>14,237735849056603</td></tr>",
                            "<tr><td>02040291T</td><td>14,354581673306773</td></tr>",
                            "<tr><td>06040173T</td><td>203,66409266409266</td></tr>",
                            "<tr><td>01080512T</td><td>4443,7148288973385</td></tr>",
                            "<tr><td>07040219T</td><td>75,2116182572614</td></tr>",
                            "<tr><td>01030091T</td><td>24,841911764705884</td></tr>",
                            "<tr><td>01090498T</td><td>2,676470588235294</td></tr>",
                            "<tr><td>07040056T</td><td>38,74716981132075</td></tr>",
                            "<tr><td>02030040T</td><td>5,633962264150943</td></tr>",
                            "<tr><td>07040058T</td><td>10,627737226277372</td></tr>",
                            "<tr><td>07040099T</td><td>420,03921568627453</td></tr>",
                            "<tr><td>08070479T</td><td>653,8792452830189</td></tr>",
                            "<tr><td>G041-AL211</td><td>16349,633187772926</td></tr>",
                            "<tr><td>06040181T</td><td>7,676691729323308</td></tr>",
                            "<tr><td>07030104T</td><td>73,99180327868852</td></tr>",
                            "<tr><td>06040088T</td><td>49,29044117647059</td></tr>",
                            "<tr><td>03050079T</td><td>14,305439330543933</td></tr>",
                            "<tr><td>02020032T</td><td>128,55755395683454</td></tr>",
                            "<tr><td>06080428T</td><td>173,71320754716982</td></tr>",
                            "<tr><td>04050022T</td><td>85,74615384615385</td></tr>",
                            "<tr><td>07040052T</td><td>51,38056680161943</td></tr>",
                            "<tr><td>06040325T</td><td>38,721311475409834</td></tr>",
                            "<tr><td>02040402T</td><td>277,4032258064516</td></tr>",
                            "<tr><td>07080157T</td><td>90,11498257839722</td></tr>",
                            "<tr><td>04110258T</td><td>70,44705882352942</td></tr>",
                            "<tr><td>06080116T</td><td>32,55555555555556</td></tr>",
                            "<tr><td>N008-NA201</td><td>8013,2893081761</td></tr>",
                            "<tr><td>02080455T</td><td>607,496062992126</td></tr>",
                            "<tr><td>06080335T</td><td>106,0342205323194</td></tr>",
                            "<tr><td>08070486T</td><td>389,24778761061947</td></tr>",
                            "<tr><td>06080423T</td><td>220,83132530120483</td></tr>",
                            "<tr><td>F021-IN215</td><td>6287,779107725789</td></tr>",
                            "<tr><td>04030237T</td><td>34,69964664310954</td></tr>",
                            "<tr><td>02040214T</td><td>57,0817843866171</td></tr>",
                            "<tr><td>04030238T</td><td>57,01556420233463</td></tr>",
                            "<tr><td>06040329T</td><td>42,763636363636365</td></tr>",
                            "<tr><td>02040290T</td><td>86,02158273381295</td></tr>",
                            "<tr><td>07080466T</td><td>78,56133828996282</td></tr>",
                            "<tr><td>01100071T</td><td>86,14634146341463</td></tr>",
                            "<tr><td>07030106T</td><td>99,25954198473282</td></tr>",
                            "<tr><td>02040025T</td><td>128,42045454545453</td></tr>",
                            "<tr><td>07040257T</td><td>419,44117647058823</td></tr>",
                            "<tr><td>04030239T</td><td>46,148148148148145</td></tr>",
                            "<tr><td>02040506T</td><td>42,46875</td></tr>",
                            "<tr><td>08070477T</td><td>343,4154411764706</td></tr>",
                            "<tr><td>02040309T</td><td>89,5</td></tr>",
                            "<tr><td>01100096T</td><td>703,9181494661922</td></tr>",
                            "<tr><td>03080018T</td><td>117,24904214559388</td></tr>",
                            "<tr><td>07040216T</td><td>34,53815261044177</td></tr>",
                            "<tr><td>04110282T</td><td>53,93103448275862</td></tr>",
                            "<tr><td>08070473T</td><td>1053,9375</td></tr>",
                            "<tr><td>02040210T</td><td>86</td></tr>",
                            "<tr><td>G073-CI410</td><td>7645,82626680455</td></tr>",
                            "<tr><td>04050073T</td><td>58,888888888888886</td></tr>",
                            "<tr><td>06080410T</td><td>171,0207468879668</td></tr>",
                            "<tr><td>06040446T</td><td>1136,63671875</td></tr>",
                            "<tr><td>02050461T</td><td>17,21285140562249</td></tr>",
                            "<tr><td>F007-NA201</td><td>7629,643979057591</td></tr>",
                            "<tr><td>07040054T</td><td>53,232142857142854</td></tr>",
                            "<tr><td>07040050T</td><td>28,914396887159533</td></tr>",
                            "<tr><td>G048-PO218</td><td>3765,350052246604</td></tr>",
                            "<tr><td>L001-KB101</td><td>8603,08510638298</td></tr>",
                            "<tr><td>G029-FE307</td><td>231,96954314720813</td></tr>",
                            "<tr><td>02040149T</td><td>106,36</td></tr>",
                            "<tr><td>07040098T</td><td>269,8810408921933</td></tr>",
                            "<tr><td>02040292T</td><td>75,344</td></tr>",
                            "<tr><td>07010372T</td><td>156,26970954356847</td></tr>",
                            "<tr><td>01010304T</td><td>57,23673469387755</td></tr>",
                            "<tr><td>04030234T</td><td>28,870722433460077</td></tr>",
                            "<tr><td>08070491T</td><td>206,93286219081273</td></tr>",
                            "<tr><td>07080471T</td><td>284,3898305084746</td></tr>",
                            "<tr><td>02080081T</td><td>128,22545454545454</td></tr>",
                            "<tr><td>07080311T</td><td>267,13178294573646</td></tr>",
                            "<tr><td>04050074T</td><td>63,93675889328063</td></tr>",
                            "<tr><td>04050225T</td><td>126,92277992277992</td></tr>",
                            "<tr><td>06080259T</td><td>156,22448979591837</td></tr>",
                            "<tr><td>07040133T</td><td>37,6865671641791</td></tr>",
                            "<tr><td>07010139T</td><td>87,74538745387454</td></tr>",
                            "<tr><td>L023-FE301</td><td>376,96177062374244</td></tr>",
                            "<tr><td>06010086T</td><td>34,59504132231405</td></tr>",
                            "<tr><td>04110279T</td><td>163,2301886792453</td></tr>",
                            "<tr><td>07040166T</td><td>438,8072289156627</td></tr>",
                            "<tr><td>07040215T</td><td>71,54581673306772</td></tr>",
                            "<tr><td>07080315T</td><td>91,28235294117647</td></tr>",
                            "<tr><td>02040401T</td><td>327,75954198473283</td></tr>",
                            "<tr><td>N029-AL212</td><td>30919,03209109731</td></tr>",
                            "<tr><td>05010369T</td><td>124,84962406015038</td></tr>",
                            "<tr><td>06080416T</td><td>32,05555555555556</td></tr>",
                            "<tr><td>07030108T</td><td>13,326359832635983</td></tr>",
                            "<tr><td>07050463T</td><td>34,70866141732284</td></tr>",
                            "<tr><td>02040405T</td><td>42,48401826484018</td></tr>",
                            "<tr><td>04030262T</td><td>54,09411764705882</td></tr>",
                            "<tr><td>04050035T</td><td>23,033333333333335</td></tr>",
                            "<tr><td>02080431T</td><td>207,04347826086956</td></tr>",
                            "<tr><td>07010136T</td><td>118,88321167883211</td></tr>",
                            "<tr><td>06040356T</td><td>138,7832699619772</td></tr>",
                            "<tr><td>06080124T</td><td>491,6292134831461</td></tr>",
                            "<tr><td>06040399T</td><td>120,74358974358974</td></tr>",
                            "<tr><td>02060448T</td><td>1111,7233201581028</td></tr>",
                            "<tr><td>04030288T</td><td>2,6278195488721803</td></tr>",
                            "<tr><td>G038-FE316</td><td>958,6645768025078</td></tr>",
                            "<tr><td>02080434T</td><td>202,79661016949152</td></tr>",
                            "<tr><td>03080003T</td><td>179</td></tr>",
                            "<tr><td>07040101T</td><td>136,15416666666667</td></tr>",
                            "<tr><td>06040397T</td><td>633,978102189781</td></tr>",
                            "<tr><td>07040218T</td><td>22,065573770491802</td></tr>",
                            "<tr><td>04110066T</td><td>25,053333333333335</td></tr>",
                            "<tr><td>02080453T</td><td>511,5483870967742</td></tr>",
                            "<tr><td>06080429T</td><td>60,87022900763359</td></tr>",
                            "<tr><td>02020029T</td><td>111,55984555984556</td></tr>",
                            "<tr><td>06050301T</td><td>128,27681660899654</td></tr>",
                            "</table>"
                        ]
                    }
                }
            ],
            "execution_count": 8
        }
    ]
}