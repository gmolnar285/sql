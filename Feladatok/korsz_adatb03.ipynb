{
    "metadata": {
        "kernelspec": {
            "name": "SQL",
            "display_name": "SQL",
            "language": "sql"
        },
        "language_info": {
            "name": "sql",
            "version": ""
        }
    },
    "nbformat_minor": 2,
    "nbformat": 4,
    "cells": [
        {
            "cell_type": "markdown",
            "source": [
                "1. \n",
                "\n",
                "Készítsünk sorszámozott listát a szálláshelyek adatairól! \n",
                "\n",
                "a. A lista legyen a szálláshely típusa szerint, azon belül hely szerint, majd a neve szerint növekvően rendezve! \n",
                "\n",
                "b. A számozás típusonként kezdődjön újra!"
            ],
            "metadata": {
                "azdata_cell_guid": "859d4d05-1c79-435c-a261-d697b0585cb3"
            },
            "attachments": {}
        },
        {
            "cell_type": "code",
            "source": [
                "SELECT *,\r\n",
                "       ROW_NUMBER() OVER(PARTITION BY tipus \r\n",
                "           ORDER BY tipus, hely, szallas_nev)\r\n",
                "FROM szallashely"
            ],
            "metadata": {
                "azdata_cell_guid": "d188c4a7-4fdd-45f0-956c-82cb34fd9379",
                "language": "sql"
            },
            "outputs": [],
            "execution_count": null
        },
        {
            "cell_type": "markdown",
            "source": [
                "3\\. Készítsük listát, amely megjeleníti az ügyfelek azonosítóját, nevét és a foglalásainak kezdő- és befejező dátumát, valamint azt, hogy a foglalás összesen hány főre történt! \n",
                "\n",
                "a. Egy új oszlopban jelenítsük meg azt is, hogy az ügyfél előző három foglalása összesen hány főre történt!"
            ],
            "metadata": {
                "azdata_cell_guid": "cac30703-6134-4ef2-97a4-fb3ee8f78c57"
            },
            "attachments": {}
        },
        {
            "cell_type": "code",
            "source": [
                "SELECT u.[LOGIN],\r\n",
                "       u.NEV,\r\n",
                "       f.METTOL,\r\n",
                "       f.MEDDIG,\r\n",
                "       f.FELNOTT_SZAM + f.GYERMEK_SZAM,\r\n",
                "       -- új oszlop: az előző 3 foglalás összesen\r\n",
                "       SUM(f.FELNOTT_SZAM + f.GYERMEK_SZAM) \r\n",
                "          OVER(PARTITION BY u.LOGIN ORDER BY u.login, f.METTOL \r\n",
                "               ROWS BETWEEN 3 PRECEDING AND 1 PRECEDING)\r\n",
                "\r\n",
                "FROM Foglalas f JOIN Ugyfel u ON f.UGYFEL_FK = u.[LOGIN]"
            ],
            "metadata": {
                "azdata_cell_guid": "3b94d086-675c-4a93-b70c-0dbd266ca196",
                "language": "sql"
            },
            "outputs": [
                {
                    "output_type": "display_data",
                    "data": {
                        "text/html": "(1027 rows affected)"
                    },
                    "metadata": {}
                },
                {
                    "output_type": "display_data",
                    "data": {
                        "text/html": "Total execution time: 00:00:00.134"
                    },
                    "metadata": {}
                },
                {
                    "output_type": "execute_result",
                    "metadata": {},
                    "execution_count": 6,
                    "data": {
                        "application/vnd.dataresource+json": {
                            "schema": {
                                "fields": [
                                    {
                                        "name": "LOGIN"
                                    },
                                    {
                                        "name": "NEV"
                                    },
                                    {
                                        "name": "METTOL"
                                    },
                                    {
                                        "name": "MEDDIG"
                                    },
                                    {
                                        "name": "(No column name)"
                                    },
                                    {
                                        "name": "(No column name)"
                                    }
                                ]
                            },
                            "data": [
                                {
                                    "LOGIN": "adam1",
                                    "NEV": "Kiss Ádám",
                                    "METTOL": "2016-05-28",
                                    "MEDDIG": "2016-06-03",
                                    "(No column name)": "NULL"
                                },
                                {
                                    "LOGIN": "adam1",
                                    "NEV": "Kiss Ádám",
                                    "METTOL": "2016-08-20",
                                    "MEDDIG": "2016-08-24",
                                    "(No column name)": "3"
                                },
                                {
                                    "LOGIN": "adam1",
                                    "NEV": "Kiss Ádám",
                                    "METTOL": "2016-10-19",
                                    "MEDDIG": "2016-10-24",
                                    "(No column name)": "4"
                                },
                                {
                                    "LOGIN": "adam3",
                                    "NEV": "Barkóci Ádám",
                                    "METTOL": "2016-09-12",
                                    "MEDDIG": "2016-09-16",
                                    "(No column name)": "NULL"
                                },
                                {
                                    "LOGIN": "adam3",
                                    "NEV": "Barkóci Ádám",
                                    "METTOL": "2017-02-06",
                                    "MEDDIG": "2017-02-10",
                                    "(No column name)": "2"
                                },
                                {
                                    "LOGIN": "adam4",
                                    "NEV": "Bieniek Ádám",
                                    "METTOL": "2016-08-28",
                                    "MEDDIG": "2016-08-30",
                                    "(No column name)": "NULL"
                                },
                                {
                                    "LOGIN": "adam4",
                                    "NEV": "Bieniek Ádám",
                                    "METTOL": "2016-10-27",
                                    "MEDDIG": "2016-11-02",
                                    "(No column name)": "3"
                                },
                                {
                                    "LOGIN": "adam4",
                                    "NEV": "Bieniek Ádám",
                                    "METTOL": "2016-11-15",
                                    "MEDDIG": "2016-11-18",
                                    "(No column name)": "6"
                                },
                                {
                                    "LOGIN": "adam4",
                                    "NEV": "Bieniek Ádám",
                                    "METTOL": "2016-12-06",
                                    "MEDDIG": "2016-12-09",
                                    "(No column name)": "8"
                                },
                                {
                                    "LOGIN": "adam4",
                                    "NEV": "Bieniek Ádám",
                                    "METTOL": "2017-01-12",
                                    "MEDDIG": "2017-01-19",
                                    "(No column name)": "8"
                                },
                                {
                                    "LOGIN": "adam4",
                                    "NEV": "Bieniek Ádám",
                                    "METTOL": "2017-02-23",
                                    "MEDDIG": "2017-02-27",
                                    "(No column name)": "7"
                                },
                                {
                                    "LOGIN": "agnes",
                                    "NEV": "Lengyel Ágnes",
                                    "METTOL": "2016-05-09",
                                    "MEDDIG": "2016-05-11",
                                    "(No column name)": "NULL"
                                },
                                {
                                    "LOGIN": "agnes",
                                    "NEV": "Lengyel Ágnes",
                                    "METTOL": "2016-05-25",
                                    "MEDDIG": "2016-05-30",
                                    "(No column name)": "3"
                                },
                                {
                                    "LOGIN": "agnes",
                                    "NEV": "Lengyel Ágnes",
                                    "METTOL": "2016-07-13",
                                    "MEDDIG": "2016-07-19",
                                    "(No column name)": "4"
                                },
                                {
                                    "LOGIN": "agnes",
                                    "NEV": "Lengyel Ágnes",
                                    "METTOL": "2016-07-30",
                                    "MEDDIG": "2016-08-06",
                                    "(No column name)": "7"
                                },
                                {
                                    "LOGIN": "agnes",
                                    "NEV": "Lengyel Ágnes",
                                    "METTOL": "2016-11-07",
                                    "MEDDIG": "2016-11-13",
                                    "(No column name)": "7"
                                },
                                {
                                    "LOGIN": "agnes3",
                                    "NEV": "Hartyánszky Ágnes",
                                    "METTOL": "2016-08-04",
                                    "MEDDIG": "2016-08-10",
                                    "(No column name)": "NULL"
                                },
                                {
                                    "LOGIN": "agnes3",
                                    "NEV": "Hartyánszky Ágnes",
                                    "METTOL": "2016-10-22",
                                    "MEDDIG": "2016-10-23",
                                    "(No column name)": "1"
                                },
                                {
                                    "LOGIN": "agnes3",
                                    "NEV": "Hartyánszky Ágnes",
                                    "METTOL": "2017-02-16",
                                    "MEDDIG": "2017-02-21",
                                    "(No column name)": "4"
                                },
                                {
                                    "LOGIN": "AGNESH",
                                    "NEV": "Horváth Ágnes",
                                    "METTOL": "2016-04-10",
                                    "MEDDIG": "2016-04-12",
                                    "(No column name)": "NULL"
                                },
                                {
                                    "LOGIN": "AGNESH",
                                    "NEV": "Horváth Ágnes",
                                    "METTOL": "2016-04-27",
                                    "MEDDIG": "2016-04-28",
                                    "(No column name)": "2"
                                },
                                {
                                    "LOGIN": "AGNESH",
                                    "NEV": "Horváth Ágnes",
                                    "METTOL": "2016-06-23",
                                    "MEDDIG": "2016-06-26",
                                    "(No column name)": "6"
                                },
                                {
                                    "LOGIN": "AGNESH",
                                    "NEV": "Horváth Ágnes",
                                    "METTOL": "2016-10-30",
                                    "MEDDIG": "2016-11-04",
                                    "(No column name)": "7"
                                },
                                {
                                    "LOGIN": "AGNESH",
                                    "NEV": "Horváth Ágnes",
                                    "METTOL": "2017-01-03",
                                    "MEDDIG": "2017-01-10",
                                    "(No column name)": "6"
                                },
                                {
                                    "LOGIN": "AGNESH",
                                    "NEV": "Horváth Ágnes",
                                    "METTOL": "2017-01-16",
                                    "MEDDIG": "2017-01-23",
                                    "(No column name)": "4"
                                },
                                {
                                    "LOGIN": "AGNESK",
                                    "NEV": "Kovács Ágnes",
                                    "METTOL": "2016-07-29",
                                    "MEDDIG": "2016-08-01",
                                    "(No column name)": "NULL"
                                },
                                {
                                    "LOGIN": "AGNESK",
                                    "NEV": "Kovács Ágnes",
                                    "METTOL": "2016-10-17",
                                    "MEDDIG": "2016-10-19",
                                    "(No column name)": "3"
                                },
                                {
                                    "LOGIN": "AGNESK",
                                    "NEV": "Kovács Ágnes",
                                    "METTOL": "2016-12-17",
                                    "MEDDIG": "2016-12-18",
                                    "(No column name)": "5"
                                },
                                {
                                    "LOGIN": "akos",
                                    "NEV": "Bíró Ákos",
                                    "METTOL": "2016-05-18",
                                    "MEDDIG": "2016-05-19",
                                    "(No column name)": "NULL"
                                },
                                {
                                    "LOGIN": "akos",
                                    "NEV": "Bíró Ákos",
                                    "METTOL": "2016-07-14",
                                    "MEDDIG": "2016-07-19",
                                    "(No column name)": "2"
                                },
                                {
                                    "LOGIN": "akos",
                                    "NEV": "Bíró Ákos",
                                    "METTOL": "2016-07-16",
                                    "MEDDIG": "2016-07-18",
                                    "(No column name)": "4"
                                },
                                {
                                    "LOGIN": "akos",
                                    "NEV": "Bíró Ákos",
                                    "METTOL": "2016-07-22",
                                    "MEDDIG": "2016-07-26",
                                    "(No column name)": "6"
                                },
                                {
                                    "LOGIN": "akos",
                                    "NEV": "Bíró Ákos",
                                    "METTOL": "2016-09-06",
                                    "MEDDIG": "2016-09-12",
                                    "(No column name)": "5"
                                },
                                {
                                    "LOGIN": "akos",
                                    "NEV": "Bíró Ákos",
                                    "METTOL": "2016-10-05",
                                    "MEDDIG": "2016-10-09",
                                    "(No column name)": "4"
                                },
                                {
                                    "LOGIN": "akos",
                                    "NEV": "Bíró Ákos",
                                    "METTOL": "2016-10-18",
                                    "MEDDIG": "2016-10-23",
                                    "(No column name)": "4"
                                },
                                {
                                    "LOGIN": "akos",
                                    "NEV": "Bíró Ákos",
                                    "METTOL": "2016-11-21",
                                    "MEDDIG": "2016-11-27",
                                    "(No column name)": "5"
                                },
                                {
                                    "LOGIN": "akos",
                                    "NEV": "Bíró Ákos",
                                    "METTOL": "2016-12-15",
                                    "MEDDIG": "2016-12-21",
                                    "(No column name)": "6"
                                },
                                {
                                    "LOGIN": "akos",
                                    "NEV": "Bíró Ákos",
                                    "METTOL": "2016-12-29",
                                    "MEDDIG": "2016-12-30",
                                    "(No column name)": "6"
                                },
                                {
                                    "LOGIN": "aladar",
                                    "NEV": "Dunai Aladár",
                                    "METTOL": "2016-05-17",
                                    "MEDDIG": "2016-05-24",
                                    "(No column name)": "NULL"
                                },
                                {
                                    "LOGIN": "aladar",
                                    "NEV": "Dunai Aladár",
                                    "METTOL": "2016-09-24",
                                    "MEDDIG": "2016-09-28",
                                    "(No column name)": "1"
                                },
                                {
                                    "LOGIN": "aladar",
                                    "NEV": "Dunai Aladár",
                                    "METTOL": "2016-11-22",
                                    "MEDDIG": "2016-11-23",
                                    "(No column name)": "2"
                                },
                                {
                                    "LOGIN": "alexandra",
                                    "NEV": "Bagóczki Alexandra",
                                    "METTOL": "2016-05-21",
                                    "MEDDIG": "2016-05-27",
                                    "(No column name)": "NULL"
                                },
                                {
                                    "LOGIN": "alexandra",
                                    "NEV": "Bagóczki Alexandra",
                                    "METTOL": "2016-06-08",
                                    "MEDDIG": "2016-06-11",
                                    "(No column name)": "3"
                                },
                                {
                                    "LOGIN": "alexandra",
                                    "NEV": "Bagóczki Alexandra",
                                    "METTOL": "2016-07-27",
                                    "MEDDIG": "2016-07-30",
                                    "(No column name)": "6"
                                },
                                {
                                    "LOGIN": "alexandra",
                                    "NEV": "Bagóczki Alexandra",
                                    "METTOL": "2016-10-21",
                                    "MEDDIG": "2016-10-25",
                                    "(No column name)": "8"
                                },
                                {
                                    "LOGIN": "alexandra",
                                    "NEV": "Bagóczki Alexandra",
                                    "METTOL": "2016-11-29",
                                    "MEDDIG": "2016-12-05",
                                    "(No column name)": "7"
                                },
                                {
                                    "LOGIN": "alexandra",
                                    "NEV": "Bagóczki Alexandra",
                                    "METTOL": "2017-01-13",
                                    "MEDDIG": "2017-01-14",
                                    "(No column name)": "6"
                                },
                                {
                                    "LOGIN": "alexandra",
                                    "NEV": "Bagóczki Alexandra",
                                    "METTOL": "2017-01-19",
                                    "MEDDIG": "2017-01-26",
                                    "(No column name)": "5"
                                },
                                {
                                    "LOGIN": "andi",
                                    "NEV": "Maródi Andrea",
                                    "METTOL": "2016-05-08",
                                    "MEDDIG": "2016-05-14",
                                    "(No column name)": "NULL"
                                },
                                {
                                    "LOGIN": "andi",
                                    "NEV": "Maródi Andrea",
                                    "METTOL": "2016-06-13",
                                    "MEDDIG": "2016-06-14",
                                    "(No column name)": "4"
                                },
                                {
                                    "LOGIN": "andi",
                                    "NEV": "Maródi Andrea",
                                    "METTOL": "2016-09-13",
                                    "MEDDIG": "2016-09-16",
                                    "(No column name)": "5"
                                },
                                {
                                    "LOGIN": "andi",
                                    "NEV": "Maródi Andrea",
                                    "METTOL": "2016-11-16",
                                    "MEDDIG": "2016-11-17",
                                    "(No column name)": "7"
                                },
                                {
                                    "LOGIN": "andi",
                                    "NEV": "Maródi Andrea",
                                    "METTOL": "2017-01-13",
                                    "MEDDIG": "2017-01-17",
                                    "(No column name)": "6"
                                },
                                {
                                    "LOGIN": "andras2",
                                    "NEV": "Tóth András",
                                    "METTOL": "2016-05-30",
                                    "MEDDIG": "2016-06-04",
                                    "(No column name)": "NULL"
                                },
                                {
                                    "LOGIN": "andras2",
                                    "NEV": "Tóth András",
                                    "METTOL": "2016-07-20",
                                    "MEDDIG": "2016-07-22",
                                    "(No column name)": "1"
                                },
                                {
                                    "LOGIN": "andras2",
                                    "NEV": "Tóth András",
                                    "METTOL": "2016-09-30",
                                    "MEDDIG": "2016-10-03",
                                    "(No column name)": "3"
                                },
                                {
                                    "LOGIN": "andras2",
                                    "NEV": "Tóth András",
                                    "METTOL": "2016-10-07",
                                    "MEDDIG": "2016-10-10",
                                    "(No column name)": "5"
                                },
                                {
                                    "LOGIN": "andras2",
                                    "NEV": "Tóth András",
                                    "METTOL": "2017-02-08",
                                    "MEDDIG": "2017-02-10",
                                    "(No column name)": "7"
                                },
                                {
                                    "LOGIN": "andras21",
                                    "NEV": "Molnár András",
                                    "METTOL": "2016-06-21",
                                    "MEDDIG": "2016-06-26",
                                    "(No column name)": "NULL"
                                },
                                {
                                    "LOGIN": "andras21",
                                    "NEV": "Molnár András",
                                    "METTOL": "2016-07-04",
                                    "MEDDIG": "2016-07-05",
                                    "(No column name)": "2"
                                },
                                {
                                    "LOGIN": "andras21",
                                    "NEV": "Molnár András",
                                    "METTOL": "2016-07-20",
                                    "MEDDIG": "2016-07-22",
                                    "(No column name)": "5"
                                },
                                {
                                    "LOGIN": "andras21",
                                    "NEV": "Molnár András",
                                    "METTOL": "2016-10-01",
                                    "MEDDIG": "2016-10-06",
                                    "(No column name)": "6"
                                },
                                {
                                    "LOGIN": "andras21",
                                    "NEV": "Molnár András",
                                    "METTOL": "2016-10-04",
                                    "MEDDIG": "2016-10-11",
                                    "(No column name)": "7"
                                },
                                {
                                    "LOGIN": "andras21",
                                    "NEV": "Molnár András",
                                    "METTOL": "2016-11-23",
                                    "MEDDIG": "2016-11-24",
                                    "(No column name)": "7"
                                },
                                {
                                    "LOGIN": "andras21",
                                    "NEV": "Molnár András",
                                    "METTOL": "2017-01-28",
                                    "MEDDIG": "2017-02-01",
                                    "(No column name)": "10"
                                },
                                {
                                    "LOGIN": "andras3",
                                    "NEV": "Vígh András",
                                    "METTOL": "2016-05-01",
                                    "MEDDIG": "2016-05-06",
                                    "(No column name)": "NULL"
                                },
                                {
                                    "LOGIN": "andras3",
                                    "NEV": "Vígh András",
                                    "METTOL": "2016-05-30",
                                    "MEDDIG": "2016-06-03",
                                    "(No column name)": "2"
                                },
                                {
                                    "LOGIN": "andras3",
                                    "NEV": "Vígh András",
                                    "METTOL": "2016-06-10",
                                    "MEDDIG": "2016-06-11",
                                    "(No column name)": "3"
                                },
                                {
                                    "LOGIN": "andras3",
                                    "NEV": "Vígh András",
                                    "METTOL": "2016-07-15",
                                    "MEDDIG": "2016-07-19",
                                    "(No column name)": "4"
                                },
                                {
                                    "LOGIN": "andras3",
                                    "NEV": "Vígh András",
                                    "METTOL": "2016-07-21",
                                    "MEDDIG": "2016-07-23",
                                    "(No column name)": "5"
                                },
                                {
                                    "LOGIN": "andras3",
                                    "NEV": "Vígh András",
                                    "METTOL": "2016-08-29",
                                    "MEDDIG": "2016-09-02",
                                    "(No column name)": "6"
                                },
                                {
                                    "LOGIN": "andras3",
                                    "NEV": "Vígh András",
                                    "METTOL": "2016-11-28",
                                    "MEDDIG": "2016-12-02",
                                    "(No column name)": "8"
                                },
                                {
                                    "LOGIN": "andras3",
                                    "NEV": "Vígh András",
                                    "METTOL": "2017-02-02",
                                    "MEDDIG": "2017-02-08",
                                    "(No column name)": "7"
                                },
                                {
                                    "LOGIN": "andras4",
                                    "NEV": "Back András",
                                    "METTOL": "2016-09-17",
                                    "MEDDIG": "2016-09-20",
                                    "(No column name)": "NULL"
                                },
                                {
                                    "LOGIN": "andras4",
                                    "NEV": "Back András",
                                    "METTOL": "2016-11-25",
                                    "MEDDIG": "2016-11-28",
                                    "(No column name)": "2"
                                },
                                {
                                    "LOGIN": "andras4",
                                    "NEV": "Back András",
                                    "METTOL": "2017-01-09",
                                    "MEDDIG": "2017-01-10",
                                    "(No column name)": "4"
                                },
                                {
                                    "LOGIN": "andras41",
                                    "NEV": "Komjáti András",
                                    "METTOL": "2016-05-14",
                                    "MEDDIG": "2016-05-16",
                                    "(No column name)": "NULL"
                                },
                                {
                                    "LOGIN": "andras41",
                                    "NEV": "Komjáti András",
                                    "METTOL": "2016-05-21",
                                    "MEDDIG": "2016-05-23",
                                    "(No column name)": "2"
                                },
                                {
                                    "LOGIN": "andras41",
                                    "NEV": "Komjáti András",
                                    "METTOL": "2016-06-07",
                                    "MEDDIG": "2016-06-11",
                                    "(No column name)": "6"
                                },
                                {
                                    "LOGIN": "andras41",
                                    "NEV": "Komjáti András",
                                    "METTOL": "2016-06-23",
                                    "MEDDIG": "2016-06-29",
                                    "(No column name)": "9"
                                },
                                {
                                    "LOGIN": "andras41",
                                    "NEV": "Komjáti András",
                                    "METTOL": "2016-07-28",
                                    "MEDDIG": "2016-08-03",
                                    "(No column name)": "9"
                                },
                                {
                                    "LOGIN": "andras41",
                                    "NEV": "Komjáti András",
                                    "METTOL": "2016-08-17",
                                    "MEDDIG": "2016-08-21",
                                    "(No column name)": "8"
                                },
                                {
                                    "LOGIN": "andras41",
                                    "NEV": "Komjáti András",
                                    "METTOL": "2016-08-19",
                                    "MEDDIG": "2016-08-23",
                                    "(No column name)": "8"
                                },
                                {
                                    "LOGIN": "andras41",
                                    "NEV": "Komjáti András",
                                    "METTOL": "2016-09-22",
                                    "MEDDIG": "2016-09-29",
                                    "(No column name)": "7"
                                },
                                {
                                    "LOGIN": "andras41",
                                    "NEV": "Komjáti András",
                                    "METTOL": "2016-09-30",
                                    "MEDDIG": "2016-10-05",
                                    "(No column name)": "5"
                                },
                                {
                                    "LOGIN": "andras41",
                                    "NEV": "Komjáti András",
                                    "METTOL": "2016-10-09",
                                    "MEDDIG": "2016-10-13",
                                    "(No column name)": "4"
                                },
                                {
                                    "LOGIN": "andras41",
                                    "NEV": "Komjáti András",
                                    "METTOL": "2016-10-15",
                                    "MEDDIG": "2016-10-18",
                                    "(No column name)": "5"
                                },
                                {
                                    "LOGIN": "andras41",
                                    "NEV": "Komjáti András",
                                    "METTOL": "2016-11-20",
                                    "MEDDIG": "2016-11-24",
                                    "(No column name)": "7"
                                },
                                {
                                    "LOGIN": "andras41",
                                    "NEV": "Komjáti András",
                                    "METTOL": "2016-11-23",
                                    "MEDDIG": "2016-11-24",
                                    "(No column name)": "8"
                                },
                                {
                                    "LOGIN": "ANDRASE",
                                    "NEV": "Erdei András",
                                    "METTOL": "2016-04-24",
                                    "MEDDIG": "2016-05-01",
                                    "(No column name)": "NULL"
                                },
                                {
                                    "LOGIN": "ANDRASE",
                                    "NEV": "Erdei András",
                                    "METTOL": "2016-07-06",
                                    "MEDDIG": "2016-07-07",
                                    "(No column name)": "1"
                                },
                                {
                                    "LOGIN": "ANDRASE",
                                    "NEV": "Erdei András",
                                    "METTOL": "2016-08-16",
                                    "MEDDIG": "2016-08-20",
                                    "(No column name)": "3"
                                },
                                {
                                    "LOGIN": "ANDRASE",
                                    "NEV": "Erdei András",
                                    "METTOL": "2016-11-19",
                                    "MEDDIG": "2016-11-20",
                                    "(No column name)": "5"
                                },
                                {
                                    "LOGIN": "ANDRASE",
                                    "NEV": "Erdei András",
                                    "METTOL": "2016-11-29",
                                    "MEDDIG": "2016-12-06",
                                    "(No column name)": "8"
                                },
                                {
                                    "LOGIN": "ANDRASN",
                                    "NEV": "Nagy András",
                                    "METTOL": "2016-11-25",
                                    "MEDDIG": "2016-12-01",
                                    "(No column name)": "NULL"
                                },
                                {
                                    "LOGIN": "andrea",
                                    "NEV": "Kiss Andrea",
                                    "METTOL": "2016-07-27",
                                    "MEDDIG": "2016-07-28",
                                    "(No column name)": "NULL"
                                },
                                {
                                    "LOGIN": "andrea",
                                    "NEV": "Kiss Andrea",
                                    "METTOL": "2016-08-01",
                                    "MEDDIG": "2016-08-02",
                                    "(No column name)": "2"
                                },
                                {
                                    "LOGIN": "andrea",
                                    "NEV": "Kiss Andrea",
                                    "METTOL": "2016-08-23",
                                    "MEDDIG": "2016-08-26",
                                    "(No column name)": "4"
                                },
                                {
                                    "LOGIN": "andrea",
                                    "NEV": "Kiss Andrea",
                                    "METTOL": "2016-08-26",
                                    "MEDDIG": "2016-08-30",
                                    "(No column name)": "7"
                                },
                                {
                                    "LOGIN": "andrea",
                                    "NEV": "Kiss Andrea",
                                    "METTOL": "2016-10-21",
                                    "MEDDIG": "2016-10-27",
                                    "(No column name)": "7"
                                },
                                {
                                    "LOGIN": "andrea",
                                    "NEV": "Kiss Andrea",
                                    "METTOL": "2017-02-09",
                                    "MEDDIG": "2017-02-14",
                                    "(No column name)": "9"
                                },
                                {
                                    "LOGIN": "andrea3",
                                    "NEV": "Szomor Andrea",
                                    "METTOL": "2016-11-19",
                                    "MEDDIG": "2016-11-21",
                                    "(No column name)": "NULL"
                                },
                                {
                                    "LOGIN": "andrea4",
                                    "NEV": "Neizer Andrea",
                                    "METTOL": "2016-05-27",
                                    "MEDDIG": "2016-05-29",
                                    "(No column name)": "NULL"
                                },
                                {
                                    "LOGIN": "andrea4",
                                    "NEV": "Neizer Andrea",
                                    "METTOL": "2016-09-13",
                                    "MEDDIG": "2016-09-17",
                                    "(No column name)": "1"
                                },
                                {
                                    "LOGIN": "andrea4",
                                    "NEV": "Neizer Andrea",
                                    "METTOL": "2016-10-30",
                                    "MEDDIG": "2016-11-06",
                                    "(No column name)": "3"
                                },
                                {
                                    "LOGIN": "andrea4",
                                    "NEV": "Neizer Andrea",
                                    "METTOL": "2017-01-22",
                                    "MEDDIG": "2017-01-29",
                                    "(No column name)": "6"
                                },
                                {
                                    "LOGIN": "ANDREAT",
                                    "NEV": "Tornyos Andrea",
                                    "METTOL": "2016-07-27",
                                    "MEDDIG": "2016-08-01",
                                    "(No column name)": "NULL"
                                },
                                {
                                    "LOGIN": "ANDREAT",
                                    "NEV": "Tornyos Andrea",
                                    "METTOL": "2016-09-15",
                                    "MEDDIG": "2016-09-16",
                                    "(No column name)": "2"
                                },
                                {
                                    "LOGIN": "ANDREAT",
                                    "NEV": "Tornyos Andrea",
                                    "METTOL": "2016-10-08",
                                    "MEDDIG": "2016-10-12",
                                    "(No column name)": "4"
                                },
                                {
                                    "LOGIN": "anett3",
                                    "NEV": "Pivarcsi Anett",
                                    "METTOL": "2016-04-10",
                                    "MEDDIG": "2016-04-17",
                                    "(No column name)": "NULL"
                                },
                                {
                                    "LOGIN": "anett3",
                                    "NEV": "Pivarcsi Anett",
                                    "METTOL": "2016-04-13",
                                    "MEDDIG": "2016-04-19",
                                    "(No column name)": "1"
                                },
                                {
                                    "LOGIN": "anett3",
                                    "NEV": "Pivarcsi Anett",
                                    "METTOL": "2016-04-15",
                                    "MEDDIG": "2016-04-19",
                                    "(No column name)": "4"
                                },
                                {
                                    "LOGIN": "anett3",
                                    "NEV": "Pivarcsi Anett",
                                    "METTOL": "2016-04-28",
                                    "MEDDIG": "2016-05-02",
                                    "(No column name)": "7"
                                },
                                {
                                    "LOGIN": "anett3",
                                    "NEV": "Pivarcsi Anett",
                                    "METTOL": "2016-08-15",
                                    "MEDDIG": "2016-08-16",
                                    "(No column name)": "9"
                                },
                                {
                                    "LOGIN": "anett3",
                                    "NEV": "Pivarcsi Anett",
                                    "METTOL": "2016-08-17",
                                    "MEDDIG": "2016-08-23",
                                    "(No column name)": "8"
                                },
                                {
                                    "LOGIN": "anett3",
                                    "NEV": "Pivarcsi Anett",
                                    "METTOL": "2016-10-12",
                                    "MEDDIG": "2016-10-19",
                                    "(No column name)": "8"
                                },
                                {
                                    "LOGIN": "anett3",
                                    "NEV": "Pivarcsi Anett",
                                    "METTOL": "2016-10-16",
                                    "MEDDIG": "2016-10-21",
                                    "(No column name)": "8"
                                },
                                {
                                    "LOGIN": "aniko",
                                    "NEV": "Tóth Anikó",
                                    "METTOL": "2016-06-25",
                                    "MEDDIG": "2016-06-30",
                                    "(No column name)": "NULL"
                                },
                                {
                                    "LOGIN": "aniko",
                                    "NEV": "Tóth Anikó",
                                    "METTOL": "2017-02-12",
                                    "MEDDIG": "2017-02-14",
                                    "(No column name)": "3"
                                },
                                {
                                    "LOGIN": "aniko",
                                    "NEV": "Tóth Anikó",
                                    "METTOL": "2017-02-23",
                                    "MEDDIG": "2017-02-24",
                                    "(No column name)": "6"
                                },
                                {
                                    "LOGIN": "aniko4",
                                    "NEV": "Böröcz Anikó",
                                    "METTOL": "2016-07-02",
                                    "MEDDIG": "2016-07-09",
                                    "(No column name)": "NULL"
                                },
                                {
                                    "LOGIN": "aniko4",
                                    "NEV": "Böröcz Anikó",
                                    "METTOL": "2016-07-22",
                                    "MEDDIG": "2016-07-25",
                                    "(No column name)": "1"
                                },
                                {
                                    "LOGIN": "aniko4",
                                    "NEV": "Böröcz Anikó",
                                    "METTOL": "2016-09-05",
                                    "MEDDIG": "2016-09-07",
                                    "(No column name)": "4"
                                },
                                {
                                    "LOGIN": "aniko4",
                                    "NEV": "Böröcz Anikó",
                                    "METTOL": "2016-10-16",
                                    "MEDDIG": "2016-10-18",
                                    "(No column name)": "8"
                                },
                                {
                                    "LOGIN": "ANIKOS",
                                    "NEV": "Simon Anikó",
                                    "METTOL": "2016-04-19",
                                    "MEDDIG": "2016-04-24",
                                    "(No column name)": "NULL"
                                },
                                {
                                    "LOGIN": "ANIKOS",
                                    "NEV": "Simon Anikó",
                                    "METTOL": "2016-05-24",
                                    "MEDDIG": "2016-05-25",
                                    "(No column name)": "2"
                                },
                                {
                                    "LOGIN": "ANIKOS",
                                    "NEV": "Simon Anikó",
                                    "METTOL": "2016-06-16",
                                    "MEDDIG": "2016-06-23",
                                    "(No column name)": "5"
                                },
                                {
                                    "LOGIN": "ANIKOS",
                                    "NEV": "Simon Anikó",
                                    "METTOL": "2016-06-27",
                                    "MEDDIG": "2016-06-30",
                                    "(No column name)": "6"
                                },
                                {
                                    "LOGIN": "ANIKOS",
                                    "NEV": "Simon Anikó",
                                    "METTOL": "2016-07-17",
                                    "MEDDIG": "2016-07-22",
                                    "(No column name)": "6"
                                },
                                {
                                    "LOGIN": "ANIKOS",
                                    "NEV": "Simon Anikó",
                                    "METTOL": "2016-08-26",
                                    "MEDDIG": "2016-09-02",
                                    "(No column name)": "6"
                                },
                                {
                                    "LOGIN": "ANIKOS",
                                    "NEV": "Simon Anikó",
                                    "METTOL": "2016-10-08",
                                    "MEDDIG": "2016-10-14",
                                    "(No column name)": "7"
                                },
                                {
                                    "LOGIN": "ANIKOS",
                                    "NEV": "Simon Anikó",
                                    "METTOL": "2016-10-29",
                                    "MEDDIG": "2016-11-05",
                                    "(No column name)": "7"
                                },
                                {
                                    "LOGIN": "ANIKOS",
                                    "NEV": "Simon Anikó",
                                    "METTOL": "2016-11-10",
                                    "MEDDIG": "2016-11-15",
                                    "(No column name)": "7"
                                },
                                {
                                    "LOGIN": "anita",
                                    "NEV": "Hamvay-Kovács Anita",
                                    "METTOL": "2016-09-28",
                                    "MEDDIG": "2016-10-02",
                                    "(No column name)": "NULL"
                                },
                                {
                                    "LOGIN": "anita",
                                    "NEV": "Hamvay-Kovács Anita",
                                    "METTOL": "2016-10-01",
                                    "MEDDIG": "2016-10-04",
                                    "(No column name)": "4"
                                },
                                {
                                    "LOGIN": "anita",
                                    "NEV": "Hamvay-Kovács Anita",
                                    "METTOL": "2017-02-19",
                                    "MEDDIG": "2017-02-22",
                                    "(No column name)": "6"
                                },
                                {
                                    "LOGIN": "anita",
                                    "NEV": "Hamvay-Kovács Anita",
                                    "METTOL": "2017-02-20",
                                    "MEDDIG": "2017-02-25",
                                    "(No column name)": "8"
                                },
                                {
                                    "LOGIN": "annamaria1",
                                    "NEV": "Szűcs Annamária",
                                    "METTOL": "2016-06-06",
                                    "MEDDIG": "2016-06-07",
                                    "(No column name)": "NULL"
                                },
                                {
                                    "LOGIN": "annamaria1",
                                    "NEV": "Szűcs Annamária",
                                    "METTOL": "2017-01-30",
                                    "MEDDIG": "2017-01-31",
                                    "(No column name)": "3"
                                },
                                {
                                    "LOGIN": "ANNAMARIAR",
                                    "NEV": "Regős Annamária",
                                    "METTOL": "2016-06-08",
                                    "MEDDIG": "2016-06-11",
                                    "(No column name)": "NULL"
                                },
                                {
                                    "LOGIN": "ANNAMARIAR",
                                    "NEV": "Regős Annamária",
                                    "METTOL": "2016-07-18",
                                    "MEDDIG": "2016-07-21",
                                    "(No column name)": "2"
                                },
                                {
                                    "LOGIN": "ANNAMARIAR",
                                    "NEV": "Regős Annamária",
                                    "METTOL": "2016-09-23",
                                    "MEDDIG": "2016-09-27",
                                    "(No column name)": "3"
                                },
                                {
                                    "LOGIN": "ANNAMARIAR",
                                    "NEV": "Regős Annamária",
                                    "METTOL": "2016-11-11",
                                    "MEDDIG": "2016-11-12",
                                    "(No column name)": "5"
                                },
                                {
                                    "LOGIN": "ANNAMARIAR",
                                    "NEV": "Regős Annamária",
                                    "METTOL": "2017-01-10",
                                    "MEDDIG": "2017-01-13",
                                    "(No column name)": "6"
                                },
                                {
                                    "LOGIN": "ANNAMARIAR",
                                    "NEV": "Regős Annamária",
                                    "METTOL": "2017-02-16",
                                    "MEDDIG": "2017-02-18",
                                    "(No column name)": "7"
                                },
                                {
                                    "LOGIN": "aron2",
                                    "NEV": "Jakab Áron",
                                    "METTOL": "2016-04-11",
                                    "MEDDIG": "2016-04-12",
                                    "(No column name)": "NULL"
                                },
                                {
                                    "LOGIN": "aron2",
                                    "NEV": "Jakab Áron",
                                    "METTOL": "2016-07-04",
                                    "MEDDIG": "2016-07-06",
                                    "(No column name)": "3"
                                },
                                {
                                    "LOGIN": "aron2",
                                    "NEV": "Jakab Áron",
                                    "METTOL": "2016-10-23",
                                    "MEDDIG": "2016-10-27",
                                    "(No column name)": "6"
                                },
                                {
                                    "LOGIN": "aron2",
                                    "NEV": "Jakab Áron",
                                    "METTOL": "2016-11-05",
                                    "MEDDIG": "2016-11-09",
                                    "(No column name)": "8"
                                },
                                {
                                    "LOGIN": "aron2",
                                    "NEV": "Jakab Áron",
                                    "METTOL": "2017-01-17",
                                    "MEDDIG": "2017-01-18",
                                    "(No column name)": "7"
                                },
                                {
                                    "LOGIN": "aron2",
                                    "NEV": "Jakab Áron",
                                    "METTOL": "2017-02-26",
                                    "MEDDIG": "2017-02-27",
                                    "(No column name)": "7"
                                },
                                {
                                    "LOGIN": "ARONK",
                                    "NEV": "Kelemen Áron",
                                    "METTOL": "2016-04-06",
                                    "MEDDIG": "2016-04-08",
                                    "(No column name)": "NULL"
                                },
                                {
                                    "LOGIN": "ARONK",
                                    "NEV": "Kelemen Áron",
                                    "METTOL": "2016-05-14",
                                    "MEDDIG": "2016-05-20",
                                    "(No column name)": "2"
                                },
                                {
                                    "LOGIN": "ARONK",
                                    "NEV": "Kelemen Áron",
                                    "METTOL": "2016-06-04",
                                    "MEDDIG": "2016-06-09",
                                    "(No column name)": "6"
                                },
                                {
                                    "LOGIN": "ARONK",
                                    "NEV": "Kelemen Áron",
                                    "METTOL": "2016-06-07",
                                    "MEDDIG": "2016-06-13",
                                    "(No column name)": "8"
                                },
                                {
                                    "LOGIN": "ARONK",
                                    "NEV": "Kelemen Áron",
                                    "METTOL": "2016-07-03",
                                    "MEDDIG": "2016-07-07",
                                    "(No column name)": "9"
                                },
                                {
                                    "LOGIN": "ARONK",
                                    "NEV": "Kelemen Áron",
                                    "METTOL": "2016-08-05",
                                    "MEDDIG": "2016-08-08",
                                    "(No column name)": "7"
                                },
                                {
                                    "LOGIN": "ARONK",
                                    "NEV": "Kelemen Áron",
                                    "METTOL": "2016-09-08",
                                    "MEDDIG": "2016-09-15",
                                    "(No column name)": "9"
                                },
                                {
                                    "LOGIN": "ARONK",
                                    "NEV": "Kelemen Áron",
                                    "METTOL": "2016-11-03",
                                    "MEDDIG": "2016-11-10",
                                    "(No column name)": "8"
                                },
                                {
                                    "LOGIN": "ARONK",
                                    "NEV": "Kelemen Áron",
                                    "METTOL": "2016-11-05",
                                    "MEDDIG": "2016-11-07",
                                    "(No column name)": "8"
                                },
                                {
                                    "LOGIN": "ARONK",
                                    "NEV": "Kelemen Áron",
                                    "METTOL": "2016-12-07",
                                    "MEDDIG": "2016-12-12",
                                    "(No column name)": "6"
                                },
                                {
                                    "LOGIN": "ARONK",
                                    "NEV": "Kelemen Áron",
                                    "METTOL": "2017-01-01",
                                    "MEDDIG": "2017-01-03",
                                    "(No column name)": "7"
                                },
                                {
                                    "LOGIN": "ARONK",
                                    "NEV": "Kelemen Áron",
                                    "METTOL": "2017-01-30",
                                    "MEDDIG": "2017-02-03",
                                    "(No column name)": "7"
                                },
                                {
                                    "LOGIN": "ARONK",
                                    "NEV": "Kelemen Áron",
                                    "METTOL": "2017-02-21",
                                    "MEDDIG": "2017-02-23",
                                    "(No column name)": "7"
                                },
                                {
                                    "LOGIN": "arpad2",
                                    "NEV": "Ötvös Árpád",
                                    "METTOL": "2016-06-05",
                                    "MEDDIG": "2016-06-07",
                                    "(No column name)": "NULL"
                                },
                                {
                                    "LOGIN": "arpad2",
                                    "NEV": "Ötvös Árpád",
                                    "METTOL": "2016-08-23",
                                    "MEDDIG": "2016-08-25",
                                    "(No column name)": "2"
                                },
                                {
                                    "LOGIN": "arpad2",
                                    "NEV": "Ötvös Árpád",
                                    "METTOL": "2016-09-28",
                                    "MEDDIG": "2016-09-30",
                                    "(No column name)": "4"
                                },
                                {
                                    "LOGIN": "arpad2",
                                    "NEV": "Ötvös Árpád",
                                    "METTOL": "2016-10-13",
                                    "MEDDIG": "2016-10-19",
                                    "(No column name)": "6"
                                },
                                {
                                    "LOGIN": "arpad2",
                                    "NEV": "Ötvös Árpád",
                                    "METTOL": "2016-11-06",
                                    "MEDDIG": "2016-11-10",
                                    "(No column name)": "7"
                                },
                                {
                                    "LOGIN": "arpad2",
                                    "NEV": "Ötvös Árpád",
                                    "METTOL": "2016-12-24",
                                    "MEDDIG": "2016-12-27",
                                    "(No column name)": "7"
                                },
                                {
                                    "LOGIN": "arpad2",
                                    "NEV": "Ötvös Árpád",
                                    "METTOL": "2017-02-18",
                                    "MEDDIG": "2017-02-19",
                                    "(No column name)": "8"
                                },
                                {
                                    "LOGIN": "ARPADH",
                                    "NEV": "Horváth Árpád",
                                    "METTOL": "2016-06-06",
                                    "MEDDIG": "2016-06-07",
                                    "(No column name)": "NULL"
                                },
                                {
                                    "LOGIN": "ARPADH",
                                    "NEV": "Horváth Árpád",
                                    "METTOL": "2016-07-14",
                                    "MEDDIG": "2016-07-18",
                                    "(No column name)": "3"
                                },
                                {
                                    "LOGIN": "ARPADH",
                                    "NEV": "Horváth Árpád",
                                    "METTOL": "2016-09-16",
                                    "MEDDIG": "2016-09-23",
                                    "(No column name)": "5"
                                },
                                {
                                    "LOGIN": "ARPADH",
                                    "NEV": "Horváth Árpád",
                                    "METTOL": "2016-09-18",
                                    "MEDDIG": "2016-09-25",
                                    "(No column name)": "6"
                                },
                                {
                                    "LOGIN": "ARPADH",
                                    "NEV": "Horváth Árpád",
                                    "METTOL": "2016-12-04",
                                    "MEDDIG": "2016-12-10",
                                    "(No column name)": "4"
                                },
                                {
                                    "LOGIN": "ARPADH",
                                    "NEV": "Horváth Árpád",
                                    "METTOL": "2016-12-18",
                                    "MEDDIG": "2016-12-19",
                                    "(No column name)": "3"
                                },
                                {
                                    "LOGIN": "ARPADH",
                                    "NEV": "Horváth Árpád",
                                    "METTOL": "2017-02-16",
                                    "MEDDIG": "2017-02-18",
                                    "(No column name)": "5"
                                },
                                {
                                    "LOGIN": "ARPADM",
                                    "NEV": "Móricz Árpád",
                                    "METTOL": "2016-05-29",
                                    "MEDDIG": "2016-06-01",
                                    "(No column name)": "NULL"
                                },
                                {
                                    "LOGIN": "ARPADM",
                                    "NEV": "Móricz Árpád",
                                    "METTOL": "2016-08-12",
                                    "MEDDIG": "2016-08-16",
                                    "(No column name)": "2"
                                },
                                {
                                    "LOGIN": "ARPADM",
                                    "NEV": "Móricz Árpád",
                                    "METTOL": "2016-11-09",
                                    "MEDDIG": "2016-11-11",
                                    "(No column name)": "4"
                                },
                                {
                                    "LOGIN": "ARPADM",
                                    "NEV": "Móricz Árpád",
                                    "METTOL": "2016-12-14",
                                    "MEDDIG": "2016-12-17",
                                    "(No column name)": "6"
                                },
                                {
                                    "LOGIN": "ARPADM",
                                    "NEV": "Móricz Árpád",
                                    "METTOL": "2017-01-05",
                                    "MEDDIG": "2017-01-10",
                                    "(No column name)": "7"
                                },
                                {
                                    "LOGIN": "ARPADM",
                                    "NEV": "Móricz Árpád",
                                    "METTOL": "2017-02-12",
                                    "MEDDIG": "2017-02-14",
                                    "(No column name)": "6"
                                },
                                {
                                    "LOGIN": "attila",
                                    "NEV": "Csóti Attila",
                                    "METTOL": "2016-09-30",
                                    "MEDDIG": "2016-10-07",
                                    "(No column name)": "NULL"
                                },
                                {
                                    "LOGIN": "attila",
                                    "NEV": "Csóti Attila",
                                    "METTOL": "2016-10-15",
                                    "MEDDIG": "2016-10-19",
                                    "(No column name)": "3"
                                },
                                {
                                    "LOGIN": "attila",
                                    "NEV": "Csóti Attila",
                                    "METTOL": "2016-12-22",
                                    "MEDDIG": "2016-12-26",
                                    "(No column name)": "4"
                                },
                                {
                                    "LOGIN": "attila1",
                                    "NEV": "Gulyás Attila",
                                    "METTOL": "2016-05-20",
                                    "MEDDIG": "2016-05-26",
                                    "(No column name)": "NULL"
                                },
                                {
                                    "LOGIN": "attila1",
                                    "NEV": "Gulyás Attila",
                                    "METTOL": "2016-10-09",
                                    "MEDDIG": "2016-10-12",
                                    "(No column name)": "1"
                                },
                                {
                                    "LOGIN": "attila1",
                                    "NEV": "Gulyás Attila",
                                    "METTOL": "2016-10-15",
                                    "MEDDIG": "2016-10-16",
                                    "(No column name)": "3"
                                },
                                {
                                    "LOGIN": "attila1",
                                    "NEV": "Gulyás Attila",
                                    "METTOL": "2016-10-30",
                                    "MEDDIG": "2016-11-05",
                                    "(No column name)": "6"
                                },
                                {
                                    "LOGIN": "attila1",
                                    "NEV": "Gulyás Attila",
                                    "METTOL": "2016-11-10",
                                    "MEDDIG": "2016-11-14",
                                    "(No column name)": "7"
                                },
                                {
                                    "LOGIN": "attila1",
                                    "NEV": "Gulyás Attila",
                                    "METTOL": "2017-01-23",
                                    "MEDDIG": "2017-01-30",
                                    "(No column name)": "7"
                                },
                                {
                                    "LOGIN": "attila4",
                                    "NEV": "Baróti Attila",
                                    "METTOL": "2016-08-18",
                                    "MEDDIG": "2016-08-23",
                                    "(No column name)": "NULL"
                                },
                                {
                                    "LOGIN": "attila4",
                                    "NEV": "Baróti Attila",
                                    "METTOL": "2016-12-31",
                                    "MEDDIG": "2017-01-01",
                                    "(No column name)": "4"
                                },
                                {
                                    "LOGIN": "attila4",
                                    "NEV": "Baróti Attila",
                                    "METTOL": "2017-02-15",
                                    "MEDDIG": "2017-02-22",
                                    "(No column name)": "6"
                                },
                                {
                                    "LOGIN": "ATTILAO",
                                    "NEV": "Opra Attila",
                                    "METTOL": "2016-05-21",
                                    "MEDDIG": "2016-05-26",
                                    "(No column name)": "NULL"
                                },
                                {
                                    "LOGIN": "ATTILAO",
                                    "NEV": "Opra Attila",
                                    "METTOL": "2016-06-04",
                                    "MEDDIG": "2016-06-11",
                                    "(No column name)": "3"
                                },
                                {
                                    "LOGIN": "ATTILAO",
                                    "NEV": "Opra Attila",
                                    "METTOL": "2016-10-30",
                                    "MEDDIG": "2016-11-03",
                                    "(No column name)": "6"
                                },
                                {
                                    "LOGIN": "ATTILAO",
                                    "NEV": "Opra Attila",
                                    "METTOL": "2017-02-22",
                                    "MEDDIG": "2017-02-25",
                                    "(No column name)": "8"
                                },
                                {
                                    "LOGIN": "balazs1",
                                    "NEV": "Bozsik Balázs",
                                    "METTOL": "2016-05-07",
                                    "MEDDIG": "2016-05-14",
                                    "(No column name)": "NULL"
                                },
                                {
                                    "LOGIN": "balazs1",
                                    "NEV": "Bozsik Balázs",
                                    "METTOL": "2016-07-22",
                                    "MEDDIG": "2016-07-26",
                                    "(No column name)": "2"
                                },
                                {
                                    "LOGIN": "balazs1",
                                    "NEV": "Bozsik Balázs",
                                    "METTOL": "2016-12-26",
                                    "MEDDIG": "2016-12-28",
                                    "(No column name)": "6"
                                },
                                {
                                    "LOGIN": "balazs1",
                                    "NEV": "Bozsik Balázs",
                                    "METTOL": "2017-01-01",
                                    "MEDDIG": "2017-01-05",
                                    "(No column name)": "9"
                                },
                                {
                                    "LOGIN": "balazs1",
                                    "NEV": "Bozsik Balázs",
                                    "METTOL": "2017-02-10",
                                    "MEDDIG": "2017-02-14",
                                    "(No column name)": "9"
                                },
                                {
                                    "LOGIN": "balazs1",
                                    "NEV": "Bozsik Balázs",
                                    "METTOL": "2017-02-12",
                                    "MEDDIG": "2017-02-14",
                                    "(No column name)": "8"
                                },
                                {
                                    "LOGIN": "balazs2",
                                    "NEV": "Szűcs Balázs",
                                    "METTOL": "2016-04-16",
                                    "MEDDIG": "2016-04-19",
                                    "(No column name)": "NULL"
                                },
                                {
                                    "LOGIN": "balazs2",
                                    "NEV": "Szűcs Balázs",
                                    "METTOL": "2016-05-22",
                                    "MEDDIG": "2016-05-29",
                                    "(No column name)": "2"
                                },
                                {
                                    "LOGIN": "balazs2",
                                    "NEV": "Szűcs Balázs",
                                    "METTOL": "2016-05-28",
                                    "MEDDIG": "2016-06-01",
                                    "(No column name)": "5"
                                },
                                {
                                    "LOGIN": "balazs2",
                                    "NEV": "Szűcs Balázs",
                                    "METTOL": "2016-07-08",
                                    "MEDDIG": "2016-07-12",
                                    "(No column name)": "8"
                                },
                                {
                                    "LOGIN": "balazs2",
                                    "NEV": "Szűcs Balázs",
                                    "METTOL": "2016-07-10",
                                    "MEDDIG": "2016-07-17",
                                    "(No column name)": "9"
                                },
                                {
                                    "LOGIN": "balazs2",
                                    "NEV": "Szűcs Balázs",
                                    "METTOL": "2016-07-20",
                                    "MEDDIG": "2016-07-25",
                                    "(No column name)": "9"
                                },
                                {
                                    "LOGIN": "balazs2",
                                    "NEV": "Szűcs Balázs",
                                    "METTOL": "2016-08-21",
                                    "MEDDIG": "2016-08-22",
                                    "(No column name)": "8"
                                },
                                {
                                    "LOGIN": "balazs2",
                                    "NEV": "Szűcs Balázs",
                                    "METTOL": "2016-09-12",
                                    "MEDDIG": "2016-09-14",
                                    "(No column name)": "8"
                                },
                                {
                                    "LOGIN": "balazs2",
                                    "NEV": "Szűcs Balázs",
                                    "METTOL": "2016-11-03",
                                    "MEDDIG": "2016-11-05",
                                    "(No column name)": "8"
                                },
                                {
                                    "LOGIN": "balazs2",
                                    "NEV": "Szűcs Balázs",
                                    "METTOL": "2017-02-27",
                                    "MEDDIG": "2017-03-06",
                                    "(No column name)": "9"
                                },
                                {
                                    "LOGIN": "balazs3",
                                    "NEV": "Bakódy Balázs",
                                    "METTOL": "2016-07-17",
                                    "MEDDIG": "2016-07-21",
                                    "(No column name)": "NULL"
                                },
                                {
                                    "LOGIN": "balazs3",
                                    "NEV": "Bakódy Balázs",
                                    "METTOL": "2016-07-27",
                                    "MEDDIG": "2016-07-31",
                                    "(No column name)": "2"
                                },
                                {
                                    "LOGIN": "balazs3",
                                    "NEV": "Bakódy Balázs",
                                    "METTOL": "2016-08-24",
                                    "MEDDIG": "2016-08-28",
                                    "(No column name)": "6"
                                },
                                {
                                    "LOGIN": "balazs3",
                                    "NEV": "Bakódy Balázs",
                                    "METTOL": "2016-09-15",
                                    "MEDDIG": "2016-09-16",
                                    "(No column name)": "9"
                                },
                                {
                                    "LOGIN": "balazs3",
                                    "NEV": "Bakódy Balázs",
                                    "METTOL": "2016-12-05",
                                    "MEDDIG": "2016-12-11",
                                    "(No column name)": "10"
                                },
                                {
                                    "LOGIN": "balazs3",
                                    "NEV": "Bakódy Balázs",
                                    "METTOL": "2017-01-20",
                                    "MEDDIG": "2017-01-22",
                                    "(No column name)": "9"
                                },
                                {
                                    "LOGIN": "balint",
                                    "NEV": "Horváth Bálint",
                                    "METTOL": "2016-04-22",
                                    "MEDDIG": "2016-04-29",
                                    "(No column name)": "NULL"
                                },
                                {
                                    "LOGIN": "balint",
                                    "NEV": "Horváth Bálint",
                                    "METTOL": "2016-10-09",
                                    "MEDDIG": "2016-10-11",
                                    "(No column name)": "2"
                                },
                                {
                                    "LOGIN": "balint",
                                    "NEV": "Horváth Bálint",
                                    "METTOL": "2016-11-24",
                                    "MEDDIG": "2016-11-29",
                                    "(No column name)": "4"
                                },
                                {
                                    "LOGIN": "balint1",
                                    "NEV": "Molnár Bálint",
                                    "METTOL": "2016-06-07",
                                    "MEDDIG": "2016-06-11",
                                    "(No column name)": "NULL"
                                },
                                {
                                    "LOGIN": "balint1",
                                    "NEV": "Molnár Bálint",
                                    "METTOL": "2016-06-07",
                                    "MEDDIG": "2016-06-12",
                                    "(No column name)": "3"
                                },
                                {
                                    "LOGIN": "balint1",
                                    "NEV": "Molnár Bálint",
                                    "METTOL": "2016-06-10",
                                    "MEDDIG": "2016-06-12",
                                    "(No column name)": "6"
                                },
                                {
                                    "LOGIN": "balint1",
                                    "NEV": "Molnár Bálint",
                                    "METTOL": "2016-07-26",
                                    "MEDDIG": "2016-07-28",
                                    "(No column name)": "7"
                                },
                                {
                                    "LOGIN": "balint1",
                                    "NEV": "Molnár Bálint",
                                    "METTOL": "2016-08-03",
                                    "MEDDIG": "2016-08-08",
                                    "(No column name)": "6"
                                },
                                {
                                    "LOGIN": "balint1",
                                    "NEV": "Molnár Bálint",
                                    "METTOL": "2016-09-16",
                                    "MEDDIG": "2016-09-21",
                                    "(No column name)": "5"
                                },
                                {
                                    "LOGIN": "balint1",
                                    "NEV": "Molnár Bálint",
                                    "METTOL": "2016-11-07",
                                    "MEDDIG": "2016-11-10",
                                    "(No column name)": "5"
                                },
                                {
                                    "LOGIN": "balint1",
                                    "NEV": "Molnár Bálint",
                                    "METTOL": "2016-12-17",
                                    "MEDDIG": "2016-12-22",
                                    "(No column name)": "5"
                                },
                                {
                                    "LOGIN": "balint1",
                                    "NEV": "Molnár Bálint",
                                    "METTOL": "2016-12-29",
                                    "MEDDIG": "2016-12-31",
                                    "(No column name)": "6"
                                },
                                {
                                    "LOGIN": "balint1",
                                    "NEV": "Molnár Bálint",
                                    "METTOL": "2017-01-03",
                                    "MEDDIG": "2017-01-08",
                                    "(No column name)": "8"
                                },
                                {
                                    "LOGIN": "balint2",
                                    "NEV": "Vukasinovity Bálint",
                                    "METTOL": "2016-07-21",
                                    "MEDDIG": "2016-07-26",
                                    "(No column name)": "NULL"
                                },
                                {
                                    "LOGIN": "balint2",
                                    "NEV": "Vukasinovity Bálint",
                                    "METTOL": "2016-12-04",
                                    "MEDDIG": "2016-12-06",
                                    "(No column name)": "1"
                                },
                                {
                                    "LOGIN": "balu",
                                    "NEV": "Endresz Bálint",
                                    "METTOL": "2016-08-06",
                                    "MEDDIG": "2016-08-10",
                                    "(No column name)": "NULL"
                                },
                                {
                                    "LOGIN": "balu",
                                    "NEV": "Endresz Bálint",
                                    "METTOL": "2016-12-22",
                                    "MEDDIG": "2016-12-23",
                                    "(No column name)": "2"
                                },
                                {
                                    "LOGIN": "beata4",
                                    "NEV": "Bagi Beáta",
                                    "METTOL": "2016-04-20",
                                    "MEDDIG": "2016-04-21",
                                    "(No column name)": "NULL"
                                },
                                {
                                    "LOGIN": "beata4",
                                    "NEV": "Bagi Beáta",
                                    "METTOL": "2016-06-03",
                                    "MEDDIG": "2016-06-04",
                                    "(No column name)": "2"
                                },
                                {
                                    "LOGIN": "beata4",
                                    "NEV": "Bagi Beáta",
                                    "METTOL": "2016-07-03",
                                    "MEDDIG": "2016-07-06",
                                    "(No column name)": "4"
                                },
                                {
                                    "LOGIN": "beata4",
                                    "NEV": "Bagi Beáta",
                                    "METTOL": "2016-08-25",
                                    "MEDDIG": "2016-08-27",
                                    "(No column name)": "5"
                                },
                                {
                                    "LOGIN": "beata4",
                                    "NEV": "Bagi Beáta",
                                    "METTOL": "2016-10-01",
                                    "MEDDIG": "2016-10-05",
                                    "(No column name)": "6"
                                },
                                {
                                    "LOGIN": "beata4",
                                    "NEV": "Bagi Beáta",
                                    "METTOL": "2016-10-03",
                                    "MEDDIG": "2016-10-06",
                                    "(No column name)": "5"
                                },
                                {
                                    "LOGIN": "BEATRIXK",
                                    "NEV": "Kerényi Beatrix",
                                    "METTOL": "2016-06-10",
                                    "MEDDIG": "2016-06-11",
                                    "(No column name)": "NULL"
                                },
                                {
                                    "LOGIN": "BEATRIXK",
                                    "NEV": "Kerényi Beatrix",
                                    "METTOL": "2016-06-10",
                                    "MEDDIG": "2016-06-14",
                                    "(No column name)": "2"
                                },
                                {
                                    "LOGIN": "BEATRIXK",
                                    "NEV": "Kerényi Beatrix",
                                    "METTOL": "2016-06-19",
                                    "MEDDIG": "2016-06-21",
                                    "(No column name)": "4"
                                },
                                {
                                    "LOGIN": "BEATRIXK",
                                    "NEV": "Kerényi Beatrix",
                                    "METTOL": "2016-08-12",
                                    "MEDDIG": "2016-08-18",
                                    "(No column name)": "7"
                                },
                                {
                                    "LOGIN": "BEATRIXK",
                                    "NEV": "Kerényi Beatrix",
                                    "METTOL": "2016-10-23",
                                    "MEDDIG": "2016-10-28",
                                    "(No column name)": "9"
                                },
                                {
                                    "LOGIN": "BEATRIXK",
                                    "NEV": "Kerényi Beatrix",
                                    "METTOL": "2016-11-14",
                                    "MEDDIG": "2016-11-19",
                                    "(No column name)": "9"
                                },
                                {
                                    "LOGIN": "BEATRIXK",
                                    "NEV": "Kerényi Beatrix",
                                    "METTOL": "2016-12-12",
                                    "MEDDIG": "2016-12-14",
                                    "(No column name)": "8"
                                },
                                {
                                    "LOGIN": "BEATRIXK",
                                    "NEV": "Kerényi Beatrix",
                                    "METTOL": "2016-12-17",
                                    "MEDDIG": "2016-12-22",
                                    "(No column name)": "7"
                                },
                                {
                                    "LOGIN": "BEATRIXK",
                                    "NEV": "Kerényi Beatrix",
                                    "METTOL": "2017-02-08",
                                    "MEDDIG": "2017-02-09",
                                    "(No column name)": "9"
                                },
                                {
                                    "LOGIN": "BEATRIXS",
                                    "NEV": "Szekendi Beatrix",
                                    "METTOL": "2016-04-18",
                                    "MEDDIG": "2016-04-24",
                                    "(No column name)": "NULL"
                                },
                                {
                                    "LOGIN": "BEATRIXS",
                                    "NEV": "Szekendi Beatrix",
                                    "METTOL": "2016-06-11",
                                    "MEDDIG": "2016-06-14",
                                    "(No column name)": "1"
                                },
                                {
                                    "LOGIN": "BEATRIXS",
                                    "NEV": "Szekendi Beatrix",
                                    "METTOL": "2016-10-01",
                                    "MEDDIG": "2016-10-03",
                                    "(No column name)": "4"
                                },
                                {
                                    "LOGIN": "BEATRIXS",
                                    "NEV": "Szekendi Beatrix",
                                    "METTOL": "2016-10-01",
                                    "MEDDIG": "2016-10-05",
                                    "(No column name)": "7"
                                },
                                {
                                    "LOGIN": "BEATRIXS",
                                    "NEV": "Szekendi Beatrix",
                                    "METTOL": "2016-12-21",
                                    "MEDDIG": "2016-12-27",
                                    "(No column name)": "9"
                                },
                                {
                                    "LOGIN": "BEATRIXS",
                                    "NEV": "Szekendi Beatrix",
                                    "METTOL": "2017-02-03",
                                    "MEDDIG": "2017-02-04",
                                    "(No column name)": "8"
                                },
                                {
                                    "LOGIN": "BELAF",
                                    "NEV": "Farkas Béla",
                                    "METTOL": "2016-07-27",
                                    "MEDDIG": "2016-07-30",
                                    "(No column name)": "NULL"
                                },
                                {
                                    "LOGIN": "BELAF",
                                    "NEV": "Farkas Béla",
                                    "METTOL": "2016-07-29",
                                    "MEDDIG": "2016-07-31",
                                    "(No column name)": "3"
                                },
                                {
                                    "LOGIN": "BELAF",
                                    "NEV": "Farkas Béla",
                                    "METTOL": "2016-08-29",
                                    "MEDDIG": "2016-08-31",
                                    "(No column name)": "5"
                                },
                                {
                                    "LOGIN": "BELAF",
                                    "NEV": "Farkas Béla",
                                    "METTOL": "2016-11-03",
                                    "MEDDIG": "2016-11-09",
                                    "(No column name)": "7"
                                },
                                {
                                    "LOGIN": "BELAF",
                                    "NEV": "Farkas Béla",
                                    "METTOL": "2016-12-02",
                                    "MEDDIG": "2016-12-04",
                                    "(No column name)": "8"
                                },
                                {
                                    "LOGIN": "BELAF",
                                    "NEV": "Farkas Béla",
                                    "METTOL": "2016-12-06",
                                    "MEDDIG": "2016-12-09",
                                    "(No column name)": "9"
                                },
                                {
                                    "LOGIN": "bence",
                                    "NEV": "Győrffy Bence",
                                    "METTOL": "2016-05-08",
                                    "MEDDIG": "2016-05-11",
                                    "(No column name)": "NULL"
                                },
                                {
                                    "LOGIN": "bence",
                                    "NEV": "Győrffy Bence",
                                    "METTOL": "2016-05-29",
                                    "MEDDIG": "2016-06-03",
                                    "(No column name)": "2"
                                },
                                {
                                    "LOGIN": "bence",
                                    "NEV": "Győrffy Bence",
                                    "METTOL": "2016-07-24",
                                    "MEDDIG": "2016-07-30",
                                    "(No column name)": "3"
                                },
                                {
                                    "LOGIN": "bence",
                                    "NEV": "Győrffy Bence",
                                    "METTOL": "2016-07-25",
                                    "MEDDIG": "2016-08-01",
                                    "(No column name)": "5"
                                },
                                {
                                    "LOGIN": "bence",
                                    "NEV": "Győrffy Bence",
                                    "METTOL": "2016-09-03",
                                    "MEDDIG": "2016-09-06",
                                    "(No column name)": "6"
                                },
                                {
                                    "LOGIN": "bence",
                                    "NEV": "Győrffy Bence",
                                    "METTOL": "2016-10-30",
                                    "MEDDIG": "2016-11-02",
                                    "(No column name)": "8"
                                },
                                {
                                    "LOGIN": "bence",
                                    "NEV": "Győrffy Bence",
                                    "METTOL": "2016-12-17",
                                    "MEDDIG": "2016-12-18",
                                    "(No column name)": "10"
                                },
                                {
                                    "LOGIN": "bence",
                                    "NEV": "Győrffy Bence",
                                    "METTOL": "2016-12-26",
                                    "MEDDIG": "2016-12-27",
                                    "(No column name)": "9"
                                },
                                {
                                    "LOGIN": "bence",
                                    "NEV": "Győrffy Bence",
                                    "METTOL": "2017-02-05",
                                    "MEDDIG": "2017-02-09",
                                    "(No column name)": "8"
                                },
                                {
                                    "LOGIN": "BENCEB",
                                    "NEV": "Bajusz Bence",
                                    "METTOL": "2016-05-14",
                                    "MEDDIG": "2016-05-17",
                                    "(No column name)": "NULL"
                                },
                                {
                                    "LOGIN": "BENCEB",
                                    "NEV": "Bajusz Bence",
                                    "METTOL": "2016-06-03",
                                    "MEDDIG": "2016-06-09",
                                    "(No column name)": "3"
                                },
                                {
                                    "LOGIN": "BENCEB",
                                    "NEV": "Bajusz Bence",
                                    "METTOL": "2016-08-01",
                                    "MEDDIG": "2016-08-02",
                                    "(No column name)": "5"
                                },
                                {
                                    "LOGIN": "BENCEB",
                                    "NEV": "Bajusz Bence",
                                    "METTOL": "2016-10-22",
                                    "MEDDIG": "2016-10-29",
                                    "(No column name)": "7"
                                },
                                {
                                    "LOGIN": "BENCEB",
                                    "NEV": "Bajusz Bence",
                                    "METTOL": "2016-11-28",
                                    "MEDDIG": "2016-12-02",
                                    "(No column name)": "7"
                                },
                                {
                                    "LOGIN": "BENCEB",
                                    "NEV": "Bajusz Bence",
                                    "METTOL": "2017-02-12",
                                    "MEDDIG": "2017-02-19",
                                    "(No column name)": "7"
                                },
                                {
                                    "LOGIN": "bernadett1",
                                    "NEV": "Simon Bernadett",
                                    "METTOL": "2016-06-12",
                                    "MEDDIG": "2016-06-17",
                                    "(No column name)": "NULL"
                                },
                                {
                                    "LOGIN": "bernadett1",
                                    "NEV": "Simon Bernadett",
                                    "METTOL": "2016-10-08",
                                    "MEDDIG": "2016-10-09",
                                    "(No column name)": "3"
                                },
                                {
                                    "LOGIN": "bernadett1",
                                    "NEV": "Simon Bernadett",
                                    "METTOL": "2016-10-15",
                                    "MEDDIG": "2016-10-22",
                                    "(No column name)": "7"
                                },
                                {
                                    "LOGIN": "bernadett1",
                                    "NEV": "Simon Bernadett",
                                    "METTOL": "2016-10-26",
                                    "MEDDIG": "2016-11-02",
                                    "(No column name)": "10"
                                },
                                {
                                    "LOGIN": "bernadett1",
                                    "NEV": "Simon Bernadett",
                                    "METTOL": "2016-10-28",
                                    "MEDDIG": "2016-11-01",
                                    "(No column name)": "10"
                                },
                                {
                                    "LOGIN": "bernadett1",
                                    "NEV": "Simon Bernadett",
                                    "METTOL": "2017-02-14",
                                    "MEDDIG": "2017-02-15",
                                    "(No column name)": "9"
                                },
                                {
                                    "LOGIN": "bernadett1",
                                    "NEV": "Simon Bernadett",
                                    "METTOL": "2017-02-24",
                                    "MEDDIG": "2017-03-03",
                                    "(No column name)": "9"
                                },
                                {
                                    "LOGIN": "bernadett2",
                                    "NEV": "Kovács Bernadett",
                                    "METTOL": "2016-05-01",
                                    "MEDDIG": "2016-05-03",
                                    "(No column name)": "NULL"
                                },
                                {
                                    "LOGIN": "bernadett2",
                                    "NEV": "Kovács Bernadett",
                                    "METTOL": "2016-06-17",
                                    "MEDDIG": "2016-06-23",
                                    "(No column name)": "2"
                                },
                                {
                                    "LOGIN": "bernadett2",
                                    "NEV": "Kovács Bernadett",
                                    "METTOL": "2016-08-23",
                                    "MEDDIG": "2016-08-29",
                                    "(No column name)": "5"
                                },
                                {
                                    "LOGIN": "bernadett2",
                                    "NEV": "Kovács Bernadett",
                                    "METTOL": "2016-08-25",
                                    "MEDDIG": "2016-08-27",
                                    "(No column name)": "7"
                                },
                                {
                                    "LOGIN": "bernadett2",
                                    "NEV": "Kovács Bernadett",
                                    "METTOL": "2016-09-07",
                                    "MEDDIG": "2016-09-13",
                                    "(No column name)": "8"
                                },
                                {
                                    "LOGIN": "bernadett2",
                                    "NEV": "Kovács Bernadett",
                                    "METTOL": "2016-10-30",
                                    "MEDDIG": "2016-11-06",
                                    "(No column name)": "8"
                                },
                                {
                                    "LOGIN": "bernadett2",
                                    "NEV": "Kovács Bernadett",
                                    "METTOL": "2016-12-17",
                                    "MEDDIG": "2016-12-20",
                                    "(No column name)": "9"
                                },
                                {
                                    "LOGIN": "bernadett2",
                                    "NEV": "Kovács Bernadett",
                                    "METTOL": "2017-01-24",
                                    "MEDDIG": "2017-01-30",
                                    "(No column name)": "7"
                                },
                                {
                                    "LOGIN": "BERNADETTO",
                                    "NEV": "Orbán Bernadett",
                                    "METTOL": "2016-04-10",
                                    "MEDDIG": "2016-04-17",
                                    "(No column name)": "NULL"
                                },
                                {
                                    "LOGIN": "BERNADETTO",
                                    "NEV": "Orbán Bernadett",
                                    "METTOL": "2016-04-17",
                                    "MEDDIG": "2016-04-19",
                                    "(No column name)": "2"
                                },
                                {
                                    "LOGIN": "BERNADETTO",
                                    "NEV": "Orbán Bernadett",
                                    "METTOL": "2016-06-07",
                                    "MEDDIG": "2016-06-13",
                                    "(No column name)": "4"
                                },
                                {
                                    "LOGIN": "BERNADETTO",
                                    "NEV": "Orbán Bernadett",
                                    "METTOL": "2016-06-10",
                                    "MEDDIG": "2016-06-16",
                                    "(No column name)": "7"
                                },
                                {
                                    "LOGIN": "BERNADETTO",
                                    "NEV": "Orbán Bernadett",
                                    "METTOL": "2016-10-04",
                                    "MEDDIG": "2016-10-05",
                                    "(No column name)": "9"
                                },
                                {
                                    "LOGIN": "BERNADETTO",
                                    "NEV": "Orbán Bernadett",
                                    "METTOL": "2017-01-01",
                                    "MEDDIG": "2017-01-02",
                                    "(No column name)": "9"
                                },
                                {
                                    "LOGIN": "BERNADETTO",
                                    "NEV": "Orbán Bernadett",
                                    "METTOL": "2017-01-28",
                                    "MEDDIG": "2017-02-03",
                                    "(No column name)": "9"
                                },
                                {
                                    "LOGIN": "bertalan",
                                    "NEV": "Csiger Bertalan",
                                    "METTOL": "2016-05-18",
                                    "MEDDIG": "2016-05-23",
                                    "(No column name)": "NULL"
                                },
                                {
                                    "LOGIN": "bertalan",
                                    "NEV": "Csiger Bertalan",
                                    "METTOL": "2016-06-20",
                                    "MEDDIG": "2016-06-21",
                                    "(No column name)": "2"
                                },
                                {
                                    "LOGIN": "bertalan",
                                    "NEV": "Csiger Bertalan",
                                    "METTOL": "2016-11-03",
                                    "MEDDIG": "2016-11-10",
                                    "(No column name)": "3"
                                },
                                {
                                    "LOGIN": "bertalan",
                                    "NEV": "Csiger Bertalan",
                                    "METTOL": "2016-11-26",
                                    "MEDDIG": "2016-11-29",
                                    "(No column name)": "5"
                                },
                                {
                                    "LOGIN": "bertalan",
                                    "NEV": "Csiger Bertalan",
                                    "METTOL": "2017-02-16",
                                    "MEDDIG": "2017-02-22",
                                    "(No column name)": "6"
                                },
                                {
                                    "LOGIN": "bertalan",
                                    "NEV": "Csiger Bertalan",
                                    "METTOL": "2017-02-20",
                                    "MEDDIG": "2017-02-24",
                                    "(No column name)": "7"
                                },
                                {
                                    "LOGIN": "brigitta",
                                    "NEV": "Székely Brigitta",
                                    "METTOL": "2016-05-30",
                                    "MEDDIG": "2016-06-06",
                                    "(No column name)": "NULL"
                                },
                                {
                                    "LOGIN": "brigitta",
                                    "NEV": "Székely Brigitta",
                                    "METTOL": "2016-08-28",
                                    "MEDDIG": "2016-09-01",
                                    "(No column name)": "3"
                                },
                                {
                                    "LOGIN": "brigitta",
                                    "NEV": "Székely Brigitta",
                                    "METTOL": "2016-10-21",
                                    "MEDDIG": "2016-10-28",
                                    "(No column name)": "6"
                                },
                                {
                                    "LOGIN": "brigitta",
                                    "NEV": "Székely Brigitta",
                                    "METTOL": "2016-12-17",
                                    "MEDDIG": "2016-12-22",
                                    "(No column name)": "9"
                                },
                                {
                                    "LOGIN": "brigitta",
                                    "NEV": "Székely Brigitta",
                                    "METTOL": "2017-01-23",
                                    "MEDDIG": "2017-01-25",
                                    "(No column name)": "8"
                                },
                                {
                                    "LOGIN": "brigitta3",
                                    "NEV": "Pataki Brigitta",
                                    "METTOL": "2016-06-01",
                                    "MEDDIG": "2016-06-05",
                                    "(No column name)": "NULL"
                                },
                                {
                                    "LOGIN": "brigitta3",
                                    "NEV": "Pataki Brigitta",
                                    "METTOL": "2016-06-13",
                                    "MEDDIG": "2016-06-17",
                                    "(No column name)": "2"
                                },
                                {
                                    "LOGIN": "brigitta3",
                                    "NEV": "Pataki Brigitta",
                                    "METTOL": "2016-10-10",
                                    "MEDDIG": "2016-10-14",
                                    "(No column name)": "5"
                                },
                                {
                                    "LOGIN": "brigitta3",
                                    "NEV": "Pataki Brigitta",
                                    "METTOL": "2016-11-03",
                                    "MEDDIG": "2016-11-09",
                                    "(No column name)": "7"
                                },
                                {
                                    "LOGIN": "brigitta3",
                                    "NEV": "Pataki Brigitta",
                                    "METTOL": "2017-02-09",
                                    "MEDDIG": "2017-02-16",
                                    "(No column name)": "8"
                                },
                                {
                                    "LOGIN": "csongor3",
                                    "NEV": "Nagymihály Csongor",
                                    "METTOL": "2016-05-01",
                                    "MEDDIG": "2016-05-04",
                                    "(No column name)": "NULL"
                                },
                                {
                                    "LOGIN": "csongor3",
                                    "NEV": "Nagymihály Csongor",
                                    "METTOL": "2016-05-08",
                                    "MEDDIG": "2016-05-15",
                                    "(No column name)": "2"
                                },
                                {
                                    "LOGIN": "csongor3",
                                    "NEV": "Nagymihály Csongor",
                                    "METTOL": "2016-06-04",
                                    "MEDDIG": "2016-06-05",
                                    "(No column name)": "5"
                                },
                                {
                                    "LOGIN": "csongor3",
                                    "NEV": "Nagymihály Csongor",
                                    "METTOL": "2016-06-10",
                                    "MEDDIG": "2016-06-17",
                                    "(No column name)": "7"
                                },
                                {
                                    "LOGIN": "csongor3",
                                    "NEV": "Nagymihály Csongor",
                                    "METTOL": "2016-06-11",
                                    "MEDDIG": "2016-06-14",
                                    "(No column name)": "8"
                                },
                                {
                                    "LOGIN": "csongor3",
                                    "NEV": "Nagymihály Csongor",
                                    "METTOL": "2016-07-09",
                                    "MEDDIG": "2016-07-10",
                                    "(No column name)": "7"
                                },
                                {
                                    "LOGIN": "csongor3",
                                    "NEV": "Nagymihály Csongor",
                                    "METTOL": "2016-11-12",
                                    "MEDDIG": "2016-11-17",
                                    "(No column name)": "9"
                                },
                                {
                                    "LOGIN": "csongor3",
                                    "NEV": "Nagymihály Csongor",
                                    "METTOL": "2017-02-13",
                                    "MEDDIG": "2017-02-19",
                                    "(No column name)": "9"
                                },
                                {
                                    "LOGIN": "dani",
                                    "NEV": "Vörös Dániel",
                                    "METTOL": "2016-06-06",
                                    "MEDDIG": "2016-06-10",
                                    "(No column name)": "NULL"
                                },
                                {
                                    "LOGIN": "dani",
                                    "NEV": "Vörös Dániel",
                                    "METTOL": "2016-07-11",
                                    "MEDDIG": "2016-07-12",
                                    "(No column name)": "3"
                                },
                                {
                                    "LOGIN": "dani",
                                    "NEV": "Vörös Dániel",
                                    "METTOL": "2016-08-06",
                                    "MEDDIG": "2016-08-09",
                                    "(No column name)": "6"
                                },
                                {
                                    "LOGIN": "dani",
                                    "NEV": "Vörös Dániel",
                                    "METTOL": "2016-09-19",
                                    "MEDDIG": "2016-09-25",
                                    "(No column name)": "8"
                                },
                                {
                                    "LOGIN": "dani",
                                    "NEV": "Vörös Dániel",
                                    "METTOL": "2016-10-01",
                                    "MEDDIG": "2016-10-02",
                                    "(No column name)": "9"
                                },
                                {
                                    "LOGIN": "dani",
                                    "NEV": "Vörös Dániel",
                                    "METTOL": "2016-11-22",
                                    "MEDDIG": "2016-11-24",
                                    "(No column name)": "7"
                                },
                                {
                                    "LOGIN": "dani",
                                    "NEV": "Vörös Dániel",
                                    "METTOL": "2017-01-17",
                                    "MEDDIG": "2017-01-23",
                                    "(No column name)": "7"
                                },
                                {
                                    "LOGIN": "dani",
                                    "NEV": "Vörös Dániel",
                                    "METTOL": "2017-01-22",
                                    "MEDDIG": "2017-01-29",
                                    "(No column name)": "5"
                                },
                                {
                                    "LOGIN": "dani",
                                    "NEV": "Vörös Dániel",
                                    "METTOL": "2017-02-25",
                                    "MEDDIG": "2017-03-01",
                                    "(No column name)": "5"
                                },
                                {
                                    "LOGIN": "daniel",
                                    "NEV": "Rácz Dániel",
                                    "METTOL": "2016-04-10",
                                    "MEDDIG": "2016-04-11",
                                    "(No column name)": "NULL"
                                },
                                {
                                    "LOGIN": "daniel",
                                    "NEV": "Rácz Dániel",
                                    "METTOL": "2016-04-22",
                                    "MEDDIG": "2016-04-25",
                                    "(No column name)": "4"
                                },
                                {
                                    "LOGIN": "daniel",
                                    "NEV": "Rácz Dániel",
                                    "METTOL": "2016-05-09",
                                    "MEDDIG": "2016-05-13",
                                    "(No column name)": "6"
                                },
                                {
                                    "LOGIN": "daniel",
                                    "NEV": "Rácz Dániel",
                                    "METTOL": "2016-09-08",
                                    "MEDDIG": "2016-09-10",
                                    "(No column name)": "9"
                                },
                                {
                                    "LOGIN": "daniel",
                                    "NEV": "Rácz Dániel",
                                    "METTOL": "2016-11-13",
                                    "MEDDIG": "2016-11-19",
                                    "(No column name)": "9"
                                },
                                {
                                    "LOGIN": "daniel",
                                    "NEV": "Rácz Dániel",
                                    "METTOL": "2016-12-25",
                                    "MEDDIG": "2016-12-26",
                                    "(No column name)": "10"
                                },
                                {
                                    "LOGIN": "daniel",
                                    "NEV": "Rácz Dániel",
                                    "METTOL": "2017-01-09",
                                    "MEDDIG": "2017-01-11",
                                    "(No column name)": "10"
                                },
                                {
                                    "LOGIN": "daniel",
                                    "NEV": "Rácz Dániel",
                                    "METTOL": "2017-02-12",
                                    "MEDDIG": "2017-02-13",
                                    "(No column name)": "7"
                                },
                                {
                                    "LOGIN": "daniel",
                                    "NEV": "Rácz Dániel",
                                    "METTOL": "2017-02-20",
                                    "MEDDIG": "2017-02-23",
                                    "(No column name)": "7"
                                },
                                {
                                    "LOGIN": "daniel1",
                                    "NEV": "Keszler Dániel",
                                    "METTOL": "2016-04-10",
                                    "MEDDIG": "2016-04-15",
                                    "(No column name)": "NULL"
                                },
                                {
                                    "LOGIN": "daniel1",
                                    "NEV": "Keszler Dániel",
                                    "METTOL": "2016-05-10",
                                    "MEDDIG": "2016-05-13",
                                    "(No column name)": "2"
                                },
                                {
                                    "LOGIN": "daniel1",
                                    "NEV": "Keszler Dániel",
                                    "METTOL": "2016-05-26",
                                    "MEDDIG": "2016-05-27",
                                    "(No column name)": "6"
                                },
                                {
                                    "LOGIN": "daniel1",
                                    "NEV": "Keszler Dániel",
                                    "METTOL": "2016-11-09",
                                    "MEDDIG": "2016-11-11",
                                    "(No column name)": "9"
                                },
                                {
                                    "LOGIN": "daniel1",
                                    "NEV": "Keszler Dániel",
                                    "METTOL": "2016-11-23",
                                    "MEDDIG": "2016-11-25",
                                    "(No column name)": "9"
                                },
                                {
                                    "LOGIN": "daniel1",
                                    "NEV": "Keszler Dániel",
                                    "METTOL": "2017-01-05",
                                    "MEDDIG": "2017-01-08",
                                    "(No column name)": "7"
                                },
                                {
                                    "LOGIN": "daniel1",
                                    "NEV": "Keszler Dániel",
                                    "METTOL": "2017-03-01",
                                    "MEDDIG": "2017-03-06",
                                    "(No column name)": "7"
                                },
                                {
                                    "LOGIN": "david",
                                    "NEV": "Ambrus Dávid",
                                    "METTOL": "2016-05-18",
                                    "MEDDIG": "2016-05-25",
                                    "(No column name)": "NULL"
                                },
                                {
                                    "LOGIN": "david",
                                    "NEV": "Ambrus Dávid",
                                    "METTOL": "2016-06-09",
                                    "MEDDIG": "2016-06-10",
                                    "(No column name)": "2"
                                },
                                {
                                    "LOGIN": "david",
                                    "NEV": "Ambrus Dávid",
                                    "METTOL": "2016-06-30",
                                    "MEDDIG": "2016-07-07",
                                    "(No column name)": "4"
                                },
                                {
                                    "LOGIN": "david",
                                    "NEV": "Ambrus Dávid",
                                    "METTOL": "2016-07-18",
                                    "MEDDIG": "2016-07-21",
                                    "(No column name)": "6"
                                },
                                {
                                    "LOGIN": "david",
                                    "NEV": "Ambrus Dávid",
                                    "METTOL": "2016-08-05",
                                    "MEDDIG": "2016-08-12",
                                    "(No column name)": "6"
                                },
                                {
                                    "LOGIN": "david",
                                    "NEV": "Ambrus Dávid",
                                    "METTOL": "2016-08-20",
                                    "MEDDIG": "2016-08-25",
                                    "(No column name)": "5"
                                },
                                {
                                    "LOGIN": "david",
                                    "NEV": "Ambrus Dávid",
                                    "METTOL": "2016-08-22",
                                    "MEDDIG": "2016-08-24",
                                    "(No column name)": "6"
                                },
                                {
                                    "LOGIN": "david",
                                    "NEV": "Ambrus Dávid",
                                    "METTOL": "2016-10-30",
                                    "MEDDIG": "2016-11-04",
                                    "(No column name)": "7"
                                },
                                {
                                    "LOGIN": "david",
                                    "NEV": "Ambrus Dávid",
                                    "METTOL": "2017-01-18",
                                    "MEDDIG": "2017-01-19",
                                    "(No column name)": "8"
                                },
                                {
                                    "LOGIN": "david1",
                                    "NEV": "Sobják Dávid",
                                    "METTOL": "2016-09-20",
                                    "MEDDIG": "2016-09-21",
                                    "(No column name)": "NULL"
                                },
                                {
                                    "LOGIN": "david1",
                                    "NEV": "Sobják Dávid",
                                    "METTOL": "2016-10-01",
                                    "MEDDIG": "2016-10-02",
                                    "(No column name)": "2"
                                },
                                {
                                    "LOGIN": "david1",
                                    "NEV": "Sobják Dávid",
                                    "METTOL": "2016-11-19",
                                    "MEDDIG": "2016-11-22",
                                    "(No column name)": "4"
                                },
                                {
                                    "LOGIN": "david1",
                                    "NEV": "Sobják Dávid",
                                    "METTOL": "2016-12-30",
                                    "MEDDIG": "2017-01-06",
                                    "(No column name)": "6"
                                },
                                {
                                    "LOGIN": "david1",
                                    "NEV": "Sobják Dávid",
                                    "METTOL": "2017-02-17",
                                    "MEDDIG": "2017-02-20",
                                    "(No column name)": "6"
                                },
                                {
                                    "LOGIN": "david1",
                                    "NEV": "Sobják Dávid",
                                    "METTOL": "2017-02-25",
                                    "MEDDIG": "2017-02-27",
                                    "(No column name)": "7"
                                },
                                {
                                    "LOGIN": "david4",
                                    "NEV": "Berta Dávid",
                                    "METTOL": "2017-02-16",
                                    "MEDDIG": "2017-02-19",
                                    "(No column name)": "NULL"
                                },
                                {
                                    "LOGIN": "debora",
                                    "NEV": "Barna Debóra",
                                    "METTOL": "2016-06-22",
                                    "MEDDIG": "2016-06-24",
                                    "(No column name)": "NULL"
                                },
                                {
                                    "LOGIN": "debora",
                                    "NEV": "Barna Debóra",
                                    "METTOL": "2016-10-29",
                                    "MEDDIG": "2016-11-03",
                                    "(No column name)": "5"
                                },
                                {
                                    "LOGIN": "debora",
                                    "NEV": "Barna Debóra",
                                    "METTOL": "2017-01-23",
                                    "MEDDIG": "2017-01-28",
                                    "(No column name)": "7"
                                },
                                {
                                    "LOGIN": "debora",
                                    "NEV": "Barna Debóra",
                                    "METTOL": "2017-02-04",
                                    "MEDDIG": "2017-02-06",
                                    "(No column name)": "10"
                                },
                                {
                                    "LOGIN": "denes",
                                    "NEV": "Tömböly Dénes",
                                    "METTOL": "2016-05-27",
                                    "MEDDIG": "2016-05-31",
                                    "(No column name)": "NULL"
                                },
                                {
                                    "LOGIN": "denes",
                                    "NEV": "Tömböly Dénes",
                                    "METTOL": "2016-07-19",
                                    "MEDDIG": "2016-07-23",
                                    "(No column name)": "3"
                                },
                                {
                                    "LOGIN": "denes",
                                    "NEV": "Tömböly Dénes",
                                    "METTOL": "2016-08-01",
                                    "MEDDIG": "2016-08-08",
                                    "(No column name)": "5"
                                },
                                {
                                    "LOGIN": "denes",
                                    "NEV": "Tömböly Dénes",
                                    "METTOL": "2016-08-16",
                                    "MEDDIG": "2016-08-23",
                                    "(No column name)": "8"
                                },
                                {
                                    "LOGIN": "denes",
                                    "NEV": "Tömböly Dénes",
                                    "METTOL": "2016-08-20",
                                    "MEDDIG": "2016-08-27",
                                    "(No column name)": "7"
                                },
                                {
                                    "LOGIN": "denes",
                                    "NEV": "Tömböly Dénes",
                                    "METTOL": "2016-11-06",
                                    "MEDDIG": "2016-11-10",
                                    "(No column name)": "8"
                                },
                                {
                                    "LOGIN": "dora3",
                                    "NEV": "Sarodi Dóra",
                                    "METTOL": "2016-08-16",
                                    "MEDDIG": "2016-08-19",
                                    "(No column name)": "NULL"
                                },
                                {
                                    "LOGIN": "dora3",
                                    "NEV": "Sarodi Dóra",
                                    "METTOL": "2016-08-25",
                                    "MEDDIG": "2016-08-29",
                                    "(No column name)": "4"
                                },
                                {
                                    "LOGIN": "dora3",
                                    "NEV": "Sarodi Dóra",
                                    "METTOL": "2016-10-09",
                                    "MEDDIG": "2016-10-12",
                                    "(No column name)": "7"
                                },
                                {
                                    "LOGIN": "dora3",
                                    "NEV": "Sarodi Dóra",
                                    "METTOL": "2016-10-29",
                                    "MEDDIG": "2016-11-02",
                                    "(No column name)": "10"
                                },
                                {
                                    "LOGIN": "dora3",
                                    "NEV": "Sarodi Dóra",
                                    "METTOL": "2016-11-22",
                                    "MEDDIG": "2016-11-29",
                                    "(No column name)": "9"
                                },
                                {
                                    "LOGIN": "edit",
                                    "NEV": "Bittmann Edit",
                                    "METTOL": "2016-07-14",
                                    "MEDDIG": "2016-07-17",
                                    "(No column name)": "NULL"
                                },
                                {
                                    "LOGIN": "edit",
                                    "NEV": "Bittmann Edit",
                                    "METTOL": "2016-08-03",
                                    "MEDDIG": "2016-08-09",
                                    "(No column name)": "3"
                                },
                                {
                                    "LOGIN": "edit",
                                    "NEV": "Bittmann Edit",
                                    "METTOL": "2016-08-12",
                                    "MEDDIG": "2016-08-14",
                                    "(No column name)": "7"
                                },
                                {
                                    "LOGIN": "edit",
                                    "NEV": "Bittmann Edit",
                                    "METTOL": "2016-09-17",
                                    "MEDDIG": "2016-09-24",
                                    "(No column name)": "9"
                                },
                                {
                                    "LOGIN": "edit",
                                    "NEV": "Bittmann Edit",
                                    "METTOL": "2016-09-18",
                                    "MEDDIG": "2016-09-21",
                                    "(No column name)": "8"
                                },
                                {
                                    "LOGIN": "edit",
                                    "NEV": "Bittmann Edit",
                                    "METTOL": "2017-01-15",
                                    "MEDDIG": "2017-01-18",
                                    "(No column name)": "7"
                                },
                                {
                                    "LOGIN": "edit",
                                    "NEV": "Bittmann Edit",
                                    "METTOL": "2017-02-08",
                                    "MEDDIG": "2017-02-14",
                                    "(No column name)": "9"
                                },
                                {
                                    "LOGIN": "emese",
                                    "NEV": "Kuruc Emese",
                                    "METTOL": "2016-07-22",
                                    "MEDDIG": "2016-07-24",
                                    "(No column name)": "NULL"
                                },
                                {
                                    "LOGIN": "emese",
                                    "NEV": "Kuruc Emese",
                                    "METTOL": "2016-08-09",
                                    "MEDDIG": "2016-08-12",
                                    "(No column name)": "2"
                                },
                                {
                                    "LOGIN": "emese",
                                    "NEV": "Kuruc Emese",
                                    "METTOL": "2016-09-27",
                                    "MEDDIG": "2016-09-28",
                                    "(No column name)": "4"
                                },
                                {
                                    "LOGIN": "emese",
                                    "NEV": "Kuruc Emese",
                                    "METTOL": "2016-11-05",
                                    "MEDDIG": "2016-11-09",
                                    "(No column name)": "7"
                                },
                                {
                                    "LOGIN": "emese",
                                    "NEV": "Kuruc Emese",
                                    "METTOL": "2016-11-23",
                                    "MEDDIG": "2016-11-27",
                                    "(No column name)": "6"
                                },
                                {
                                    "LOGIN": "emese",
                                    "NEV": "Kuruc Emese",
                                    "METTOL": "2016-12-07",
                                    "MEDDIG": "2016-12-08",
                                    "(No column name)": "8"
                                },
                                {
                                    "LOGIN": "emese",
                                    "NEV": "Kuruc Emese",
                                    "METTOL": "2017-01-30",
                                    "MEDDIG": "2017-01-31",
                                    "(No column name)": "8"
                                },
                                {
                                    "LOGIN": "eszter",
                                    "NEV": "Molnár Eszter",
                                    "METTOL": "2016-08-12",
                                    "MEDDIG": "2016-08-18",
                                    "(No column name)": "NULL"
                                },
                                {
                                    "LOGIN": "eszter",
                                    "NEV": "Molnár Eszter",
                                    "METTOL": "2016-10-04",
                                    "MEDDIG": "2016-10-10",
                                    "(No column name)": "3"
                                },
                                {
                                    "LOGIN": "eszter",
                                    "NEV": "Molnár Eszter",
                                    "METTOL": "2016-10-26",
                                    "MEDDIG": "2016-11-01",
                                    "(No column name)": "6"
                                },
                                {
                                    "LOGIN": "eszter",
                                    "NEV": "Molnár Eszter",
                                    "METTOL": "2016-12-23",
                                    "MEDDIG": "2016-12-28",
                                    "(No column name)": "9"
                                },
                                {
                                    "LOGIN": "eszter2",
                                    "NEV": "Balogh Eszter",
                                    "METTOL": "2016-06-30",
                                    "MEDDIG": "2016-07-07",
                                    "(No column name)": "NULL"
                                },
                                {
                                    "LOGIN": "eszter2",
                                    "NEV": "Balogh Eszter",
                                    "METTOL": "2016-07-08",
                                    "MEDDIG": "2016-07-09",
                                    "(No column name)": "3"
                                },
                                {
                                    "LOGIN": "eszter2",
                                    "NEV": "Balogh Eszter",
                                    "METTOL": "2016-10-01",
                                    "MEDDIG": "2016-10-05",
                                    "(No column name)": "4"
                                },
                                {
                                    "LOGIN": "eszter2",
                                    "NEV": "Balogh Eszter",
                                    "METTOL": "2016-10-01",
                                    "MEDDIG": "2016-10-06",
                                    "(No column name)": "7"
                                },
                                {
                                    "LOGIN": "eszter2",
                                    "NEV": "Balogh Eszter",
                                    "METTOL": "2016-10-20",
                                    "MEDDIG": "2016-10-25",
                                    "(No column name)": "5"
                                },
                                {
                                    "LOGIN": "eszter2",
                                    "NEV": "Balogh Eszter",
                                    "METTOL": "2016-10-23",
                                    "MEDDIG": "2016-10-30",
                                    "(No column name)": "5"
                                },
                                {
                                    "LOGIN": "eszter2",
                                    "NEV": "Balogh Eszter",
                                    "METTOL": "2016-11-05",
                                    "MEDDIG": "2016-11-12",
                                    "(No column name)": "3"
                                },
                                {
                                    "LOGIN": "eszter2",
                                    "NEV": "Balogh Eszter",
                                    "METTOL": "2016-12-02",
                                    "MEDDIG": "2016-12-07",
                                    "(No column name)": "6"
                                },
                                {
                                    "LOGIN": "eszter2",
                                    "NEV": "Balogh Eszter",
                                    "METTOL": "2016-12-05",
                                    "MEDDIG": "2016-12-08",
                                    "(No column name)": "6"
                                },
                                {
                                    "LOGIN": "eszter2",
                                    "NEV": "Balogh Eszter",
                                    "METTOL": "2016-12-29",
                                    "MEDDIG": "2017-02-04",
                                    "(No column name)": "7"
                                },
                                {
                                    "LOGIN": "eszter4",
                                    "NEV": "Fülöp Eszter",
                                    "METTOL": "2017-01-05",
                                    "MEDDIG": "2017-01-10",
                                    "(No column name)": "NULL"
                                },
                                {
                                    "LOGIN": "eszter4",
                                    "NEV": "Fülöp Eszter",
                                    "METTOL": "2017-01-26",
                                    "MEDDIG": "2017-02-02",
                                    "(No column name)": "2"
                                },
                                {
                                    "LOGIN": "eszter4",
                                    "NEV": "Fülöp Eszter",
                                    "METTOL": "2017-02-26",
                                    "MEDDIG": "2017-02-27",
                                    "(No column name)": "4"
                                },
                                {
                                    "LOGIN": "ESZTERE",
                                    "NEV": "Érsek Eszter",
                                    "METTOL": "2016-05-30",
                                    "MEDDIG": "2016-06-05",
                                    "(No column name)": "NULL"
                                },
                                {
                                    "LOGIN": "ESZTERE",
                                    "NEV": "Érsek Eszter",
                                    "METTOL": "2016-07-19",
                                    "MEDDIG": "2016-07-21",
                                    "(No column name)": "2"
                                },
                                {
                                    "LOGIN": "ESZTERE",
                                    "NEV": "Érsek Eszter",
                                    "METTOL": "2016-11-01",
                                    "MEDDIG": "2016-11-08",
                                    "(No column name)": "4"
                                },
                                {
                                    "LOGIN": "ESZTERE",
                                    "NEV": "Érsek Eszter",
                                    "METTOL": "2017-02-10",
                                    "MEDDIG": "2017-02-14",
                                    "(No column name)": "6"
                                },
                                {
                                    "LOGIN": "eva",
                                    "NEV": "Enyedi Éva",
                                    "METTOL": "2016-10-06",
                                    "MEDDIG": "2016-10-09",
                                    "(No column name)": "NULL"
                                },
                                {
                                    "LOGIN": "eva",
                                    "NEV": "Enyedi Éva",
                                    "METTOL": "2017-01-14",
                                    "MEDDIG": "2017-01-16",
                                    "(No column name)": "3"
                                },
                                {
                                    "LOGIN": "eva2",
                                    "NEV": "Perlinger Éva",
                                    "METTOL": "2016-09-02",
                                    "MEDDIG": "2016-09-03",
                                    "(No column name)": "NULL"
                                },
                                {
                                    "LOGIN": "eva2",
                                    "NEV": "Perlinger Éva",
                                    "METTOL": "2016-11-06",
                                    "MEDDIG": "2016-11-13",
                                    "(No column name)": "1"
                                },
                                {
                                    "LOGIN": "eva2",
                                    "NEV": "Perlinger Éva",
                                    "METTOL": "2016-12-06",
                                    "MEDDIG": "2016-12-11",
                                    "(No column name)": "3"
                                },
                                {
                                    "LOGIN": "eva2",
                                    "NEV": "Perlinger Éva",
                                    "METTOL": "2017-01-06",
                                    "MEDDIG": "2017-01-09",
                                    "(No column name)": "5"
                                },
                                {
                                    "LOGIN": "EVAV",
                                    "NEV": "Viktor Éva",
                                    "METTOL": "2016-05-01",
                                    "MEDDIG": "2016-05-05",
                                    "(No column name)": "NULL"
                                },
                                {
                                    "LOGIN": "EVAV",
                                    "NEV": "Viktor Éva",
                                    "METTOL": "2016-08-31",
                                    "MEDDIG": "2016-09-04",
                                    "(No column name)": "3"
                                },
                                {
                                    "LOGIN": "EVAV",
                                    "NEV": "Viktor Éva",
                                    "METTOL": "2016-10-15",
                                    "MEDDIG": "2016-10-21",
                                    "(No column name)": "5"
                                },
                                {
                                    "LOGIN": "EVAV",
                                    "NEV": "Viktor Éva",
                                    "METTOL": "2016-10-16",
                                    "MEDDIG": "2016-10-23",
                                    "(No column name)": "8"
                                },
                                {
                                    "LOGIN": "EVAV",
                                    "NEV": "Viktor Éva",
                                    "METTOL": "2017-02-04",
                                    "MEDDIG": "2017-02-11",
                                    "(No column name)": "7"
                                },
                                {
                                    "LOGIN": "ferenc1",
                                    "NEV": "Orosz Ferenc",
                                    "METTOL": "2016-05-08",
                                    "MEDDIG": "2016-05-11",
                                    "(No column name)": "NULL"
                                },
                                {
                                    "LOGIN": "ferenc1",
                                    "NEV": "Orosz Ferenc",
                                    "METTOL": "2016-06-16",
                                    "MEDDIG": "2016-06-22",
                                    "(No column name)": "2"
                                },
                                {
                                    "LOGIN": "ferenc1",
                                    "NEV": "Orosz Ferenc",
                                    "METTOL": "2016-10-08",
                                    "MEDDIG": "2016-10-09",
                                    "(No column name)": "4"
                                },
                                {
                                    "LOGIN": "ferenc1",
                                    "NEV": "Orosz Ferenc",
                                    "METTOL": "2016-11-07",
                                    "MEDDIG": "2016-11-08",
                                    "(No column name)": "6"
                                },
                                {
                                    "LOGIN": "fruzsina4",
                                    "NEV": "Frank Fruzsina",
                                    "METTOL": "2016-06-02",
                                    "MEDDIG": "2016-06-04",
                                    "(No column name)": "NULL"
                                },
                                {
                                    "LOGIN": "fruzsina4",
                                    "NEV": "Frank Fruzsina",
                                    "METTOL": "2016-07-01",
                                    "MEDDIG": "2016-07-04",
                                    "(No column name)": "2"
                                },
                                {
                                    "LOGIN": "fruzsina4",
                                    "NEV": "Frank Fruzsina",
                                    "METTOL": "2016-07-13",
                                    "MEDDIG": "2016-07-19",
                                    "(No column name)": "5"
                                },
                                {
                                    "LOGIN": "fruzsina4",
                                    "NEV": "Frank Fruzsina",
                                    "METTOL": "2016-08-27",
                                    "MEDDIG": "2016-08-30",
                                    "(No column name)": "8"
                                },
                                {
                                    "LOGIN": "fruzsina4",
                                    "NEV": "Frank Fruzsina",
                                    "METTOL": "2016-09-29",
                                    "MEDDIG": "2016-10-01",
                                    "(No column name)": "10"
                                },
                                {
                                    "LOGIN": "fruzsina4",
                                    "NEV": "Frank Fruzsina",
                                    "METTOL": "2016-11-22",
                                    "MEDDIG": "2016-11-24",
                                    "(No column name)": "10"
                                },
                                {
                                    "LOGIN": "fruzsina4",
                                    "NEV": "Frank Fruzsina",
                                    "METTOL": "2016-12-16",
                                    "MEDDIG": "2016-12-21",
                                    "(No column name)": "9"
                                },
                                {
                                    "LOGIN": "fruzsina4",
                                    "NEV": "Frank Fruzsina",
                                    "METTOL": "2017-01-22",
                                    "MEDDIG": "2017-01-25",
                                    "(No column name)": "6"
                                },
                                {
                                    "LOGIN": "gabor1",
                                    "NEV": "Köves Gábor",
                                    "METTOL": "2016-06-20",
                                    "MEDDIG": "2016-06-21",
                                    "(No column name)": "NULL"
                                },
                                {
                                    "LOGIN": "gabor1",
                                    "NEV": "Köves Gábor",
                                    "METTOL": "2016-07-12",
                                    "MEDDIG": "2016-07-15",
                                    "(No column name)": "4"
                                },
                                {
                                    "LOGIN": "gabor1",
                                    "NEV": "Köves Gábor",
                                    "METTOL": "2016-07-28",
                                    "MEDDIG": "2016-07-30",
                                    "(No column name)": "5"
                                },
                                {
                                    "LOGIN": "gabor1",
                                    "NEV": "Köves Gábor",
                                    "METTOL": "2016-09-02",
                                    "MEDDIG": "2016-09-03",
                                    "(No column name)": "7"
                                },
                                {
                                    "LOGIN": "gabor1",
                                    "NEV": "Köves Gábor",
                                    "METTOL": "2016-10-20",
                                    "MEDDIG": "2016-10-24",
                                    "(No column name)": "6"
                                },
                                {
                                    "LOGIN": "gabor1",
                                    "NEV": "Köves Gábor",
                                    "METTOL": "2016-11-19",
                                    "MEDDIG": "2016-11-22",
                                    "(No column name)": "6"
                                },
                                {
                                    "LOGIN": "gabor4",
                                    "NEV": "Telek Gábor",
                                    "METTOL": "2016-04-26",
                                    "MEDDIG": "2016-04-29",
                                    "(No column name)": "NULL"
                                },
                                {
                                    "LOGIN": "gabor4",
                                    "NEV": "Telek Gábor",
                                    "METTOL": "2016-05-30",
                                    "MEDDIG": "2016-06-05",
                                    "(No column name)": "3"
                                },
                                {
                                    "LOGIN": "gabor4",
                                    "NEV": "Telek Gábor",
                                    "METTOL": "2016-08-31",
                                    "MEDDIG": "2016-09-06",
                                    "(No column name)": "4"
                                },
                                {
                                    "LOGIN": "gabor4",
                                    "NEV": "Telek Gábor",
                                    "METTOL": "2016-11-07",
                                    "MEDDIG": "2016-11-13",
                                    "(No column name)": "8"
                                },
                                {
                                    "LOGIN": "gabriella1",
                                    "NEV": "Nagy Gabriella",
                                    "METTOL": "2016-04-21",
                                    "MEDDIG": "2016-04-24",
                                    "(No column name)": "NULL"
                                },
                                {
                                    "LOGIN": "gabriella1",
                                    "NEV": "Nagy Gabriella",
                                    "METTOL": "2016-07-10",
                                    "MEDDIG": "2016-07-11",
                                    "(No column name)": "3"
                                },
                                {
                                    "LOGIN": "gabriella1",
                                    "NEV": "Nagy Gabriella",
                                    "METTOL": "2016-07-24",
                                    "MEDDIG": "2016-07-31",
                                    "(No column name)": "6"
                                },
                                {
                                    "LOGIN": "gabriella1",
                                    "NEV": "Nagy Gabriella",
                                    "METTOL": "2017-02-04",
                                    "MEDDIG": "2017-02-11",
                                    "(No column name)": "8"
                                },
                                {
                                    "LOGIN": "gabriella1",
                                    "NEV": "Nagy Gabriella",
                                    "METTOL": "2017-02-12",
                                    "MEDDIG": "2017-02-13",
                                    "(No column name)": "8"
                                },
                                {
                                    "LOGIN": "gabriella1",
                                    "NEV": "Nagy Gabriella",
                                    "METTOL": "2017-02-21",
                                    "MEDDIG": "2017-02-27",
                                    "(No column name)": "7"
                                },
                                {
                                    "LOGIN": "gabriella10",
                                    "NEV": "Vida Gabriella",
                                    "METTOL": "2016-10-01",
                                    "MEDDIG": "2016-10-06",
                                    "(No column name)": "NULL"
                                },
                                {
                                    "LOGIN": "georgij",
                                    "NEV": "Nyíri Georgij",
                                    "METTOL": "2016-06-16",
                                    "MEDDIG": "2016-06-20",
                                    "(No column name)": "NULL"
                                },
                                {
                                    "LOGIN": "georgij",
                                    "NEV": "Nyíri Georgij",
                                    "METTOL": "2016-08-16",
                                    "MEDDIG": "2016-08-22",
                                    "(No column name)": "3"
                                },
                                {
                                    "LOGIN": "georgij",
                                    "NEV": "Nyíri Georgij",
                                    "METTOL": "2016-08-28",
                                    "MEDDIG": "2016-09-04",
                                    "(No column name)": "7"
                                },
                                {
                                    "LOGIN": "georgij",
                                    "NEV": "Nyíri Georgij",
                                    "METTOL": "2016-09-18",
                                    "MEDDIG": "2016-09-24",
                                    "(No column name)": "9"
                                },
                                {
                                    "LOGIN": "gusztav",
                                    "NEV": "Bárci Gusztáv",
                                    "METTOL": "2016-05-06",
                                    "MEDDIG": "2016-05-13",
                                    "(No column name)": "NULL"
                                },
                                {
                                    "LOGIN": "gusztav",
                                    "NEV": "Bárci Gusztáv",
                                    "METTOL": "2016-08-05",
                                    "MEDDIG": "2016-08-11",
                                    "(No column name)": "2"
                                },
                                {
                                    "LOGIN": "gusztav",
                                    "NEV": "Bárci Gusztáv",
                                    "METTOL": "2016-10-01",
                                    "MEDDIG": "2016-10-03",
                                    "(No column name)": "5"
                                },
                                {
                                    "LOGIN": "gusztav",
                                    "NEV": "Bárci Gusztáv",
                                    "METTOL": "2017-02-03",
                                    "MEDDIG": "2017-02-09",
                                    "(No column name)": "8"
                                },
                                {
                                    "LOGIN": "gusztav",
                                    "NEV": "Bárci Gusztáv",
                                    "METTOL": "2017-02-23",
                                    "MEDDIG": "2017-03-01",
                                    "(No column name)": "8"
                                },
                                {
                                    "LOGIN": "GYONGYIK",
                                    "NEV": "Kornseé Gyöngyi",
                                    "METTOL": "2016-06-02",
                                    "MEDDIG": "2016-06-05",
                                    "(No column name)": "NULL"
                                },
                                {
                                    "LOGIN": "GYONGYIK",
                                    "NEV": "Kornseé Gyöngyi",
                                    "METTOL": "2016-06-10",
                                    "MEDDIG": "2016-06-17",
                                    "(No column name)": "3"
                                },
                                {
                                    "LOGIN": "GYONGYIK",
                                    "NEV": "Kornseé Gyöngyi",
                                    "METTOL": "2016-07-01",
                                    "MEDDIG": "2016-07-05",
                                    "(No column name)": "4"
                                },
                                {
                                    "LOGIN": "GYONGYIK",
                                    "NEV": "Kornseé Gyöngyi",
                                    "METTOL": "2016-08-17",
                                    "MEDDIG": "2016-08-21",
                                    "(No column name)": "6"
                                },
                                {
                                    "LOGIN": "GYONGYIK",
                                    "NEV": "Kornseé Gyöngyi",
                                    "METTOL": "2016-11-08",
                                    "MEDDIG": "2016-11-13",
                                    "(No column name)": "6"
                                },
                                {
                                    "LOGIN": "GYONGYIK",
                                    "NEV": "Kornseé Gyöngyi",
                                    "METTOL": "2016-12-01",
                                    "MEDDIG": "2016-12-08",
                                    "(No column name)": "7"
                                },
                                {
                                    "LOGIN": "GYONGYIK",
                                    "NEV": "Kornseé Gyöngyi",
                                    "METTOL": "2017-01-22",
                                    "MEDDIG": "2017-01-29",
                                    "(No column name)": "7"
                                },
                                {
                                    "LOGIN": "GYORGYO",
                                    "NEV": "Oroszi György",
                                    "METTOL": "2016-05-27",
                                    "MEDDIG": "2016-05-28",
                                    "(No column name)": "NULL"
                                },
                                {
                                    "LOGIN": "GYORGYO",
                                    "NEV": "Oroszi György",
                                    "METTOL": "2016-06-01",
                                    "MEDDIG": "2016-06-07",
                                    "(No column name)": "3"
                                },
                                {
                                    "LOGIN": "GYORGYO",
                                    "NEV": "Oroszi György",
                                    "METTOL": "2016-06-10",
                                    "MEDDIG": "2016-06-15",
                                    "(No column name)": "5"
                                },
                                {
                                    "LOGIN": "GYORGYO",
                                    "NEV": "Oroszi György",
                                    "METTOL": "2016-07-18",
                                    "MEDDIG": "2016-07-25",
                                    "(No column name)": "7"
                                },
                                {
                                    "LOGIN": "GYORGYO",
                                    "NEV": "Oroszi György",
                                    "METTOL": "2016-07-28",
                                    "MEDDIG": "2016-08-03",
                                    "(No column name)": "6"
                                },
                                {
                                    "LOGIN": "GYORGYO",
                                    "NEV": "Oroszi György",
                                    "METTOL": "2016-10-28",
                                    "MEDDIG": "2016-10-31",
                                    "(No column name)": "7"
                                },
                                {
                                    "LOGIN": "GYORGYO",
                                    "NEV": "Oroszi György",
                                    "METTOL": "2017-02-13",
                                    "MEDDIG": "2017-02-15",
                                    "(No column name)": "6"
                                },
                                {
                                    "LOGIN": "GYORGYO",
                                    "NEV": "Oroszi György",
                                    "METTOL": "2017-02-24",
                                    "MEDDIG": "2017-02-25",
                                    "(No column name)": "6"
                                },
                                {
                                    "LOGIN": "henrik3",
                                    "NEV": "Nádudvari Henrik",
                                    "METTOL": "2016-08-24",
                                    "MEDDIG": "2016-08-28",
                                    "(No column name)": "NULL"
                                },
                                {
                                    "LOGIN": "henrik3",
                                    "NEV": "Nádudvari Henrik",
                                    "METTOL": "2016-12-29",
                                    "MEDDIG": "2017-01-03",
                                    "(No column name)": "1"
                                },
                                {
                                    "LOGIN": "henrik3",
                                    "NEV": "Nádudvari Henrik",
                                    "METTOL": "2017-01-27",
                                    "MEDDIG": "2017-01-28",
                                    "(No column name)": "4"
                                },
                                {
                                    "LOGIN": "IBOLYAA",
                                    "NEV": "Andor Ibolya",
                                    "METTOL": "2016-08-29",
                                    "MEDDIG": "2016-08-31",
                                    "(No column name)": "NULL"
                                },
                                {
                                    "LOGIN": "IBOLYAA",
                                    "NEV": "Andor Ibolya",
                                    "METTOL": "2016-10-23",
                                    "MEDDIG": "2016-10-28",
                                    "(No column name)": "5"
                                },
                                {
                                    "LOGIN": "IBOLYAA",
                                    "NEV": "Andor Ibolya",
                                    "METTOL": "2017-01-17",
                                    "MEDDIG": "2017-01-23",
                                    "(No column name)": "7"
                                },
                                {
                                    "LOGIN": "ilona3",
                                    "NEV": "Bosnyák Ilona",
                                    "METTOL": "2016-07-31",
                                    "MEDDIG": "2016-08-06",
                                    "(No column name)": "NULL"
                                },
                                {
                                    "LOGIN": "ilona3",
                                    "NEV": "Bosnyák Ilona",
                                    "METTOL": "2016-08-04",
                                    "MEDDIG": "2016-08-08",
                                    "(No column name)": "2"
                                },
                                {
                                    "LOGIN": "ilona3",
                                    "NEV": "Bosnyák Ilona",
                                    "METTOL": "2016-11-04",
                                    "MEDDIG": "2016-11-06",
                                    "(No column name)": "5"
                                },
                                {
                                    "LOGIN": "ilona3",
                                    "NEV": "Bosnyák Ilona",
                                    "METTOL": "2016-12-25",
                                    "MEDDIG": "2016-12-31",
                                    "(No column name)": "9"
                                },
                                {
                                    "LOGIN": "imre",
                                    "NEV": "Búza Imre",
                                    "METTOL": "2016-09-17",
                                    "MEDDIG": "2016-09-19",
                                    "(No column name)": "NULL"
                                },
                                {
                                    "LOGIN": "imre",
                                    "NEV": "Búza Imre",
                                    "METTOL": "2016-10-28",
                                    "MEDDIG": "2016-10-29",
                                    "(No column name)": "3"
                                },
                                {
                                    "LOGIN": "imre1",
                                    "NEV": "Papp Imre",
                                    "METTOL": "2016-06-23",
                                    "MEDDIG": "2016-06-26",
                                    "(No column name)": "NULL"
                                },
                                {
                                    "LOGIN": "imre1",
                                    "NEV": "Papp Imre",
                                    "METTOL": "2016-06-27",
                                    "MEDDIG": "2016-06-28",
                                    "(No column name)": "4"
                                },
                                {
                                    "LOGIN": "imre1",
                                    "NEV": "Papp Imre",
                                    "METTOL": "2016-08-21",
                                    "MEDDIG": "2016-08-27",
                                    "(No column name)": "6"
                                },
                                {
                                    "LOGIN": "imre1",
                                    "NEV": "Papp Imre",
                                    "METTOL": "2016-08-23",
                                    "MEDDIG": "2016-08-25",
                                    "(No column name)": "8"
                                },
                                {
                                    "LOGIN": "imre1",
                                    "NEV": "Papp Imre",
                                    "METTOL": "2016-08-29",
                                    "MEDDIG": "2016-08-31",
                                    "(No column name)": "7"
                                },
                                {
                                    "LOGIN": "imre1",
                                    "NEV": "Papp Imre",
                                    "METTOL": "2017-02-01",
                                    "MEDDIG": "2017-02-04",
                                    "(No column name)": "7"
                                },
                                {
                                    "LOGIN": "imre1",
                                    "NEV": "Papp Imre",
                                    "METTOL": "2017-02-05",
                                    "MEDDIG": "2017-02-07",
                                    "(No column name)": "7"
                                },
                                {
                                    "LOGIN": "istvan",
                                    "NEV": "Soós István",
                                    "METTOL": "2016-10-07",
                                    "MEDDIG": "2016-10-10",
                                    "(No column name)": "NULL"
                                },
                                {
                                    "LOGIN": "istvan",
                                    "NEV": "Soós István",
                                    "METTOL": "2016-11-22",
                                    "MEDDIG": "2016-11-24",
                                    "(No column name)": "2"
                                },
                                {
                                    "LOGIN": "istvan",
                                    "NEV": "Soós István",
                                    "METTOL": "2017-01-02",
                                    "MEDDIG": "2017-01-05",
                                    "(No column name)": "5"
                                },
                                {
                                    "LOGIN": "istvan1",
                                    "NEV": "Vizi István",
                                    "METTOL": "2016-04-16",
                                    "MEDDIG": "2016-04-22",
                                    "(No column name)": "NULL"
                                },
                                {
                                    "LOGIN": "istvan1",
                                    "NEV": "Vizi István",
                                    "METTOL": "2016-04-24",
                                    "MEDDIG": "2016-04-28",
                                    "(No column name)": "3"
                                },
                                {
                                    "LOGIN": "istvan1",
                                    "NEV": "Vizi István",
                                    "METTOL": "2016-07-19",
                                    "MEDDIG": "2016-07-24",
                                    "(No column name)": "6"
                                },
                                {
                                    "LOGIN": "istvan1",
                                    "NEV": "Vizi István",
                                    "METTOL": "2017-02-07",
                                    "MEDDIG": "2017-02-10",
                                    "(No column name)": "7"
                                },
                                {
                                    "LOGIN": "ISTVANV",
                                    "NEV": "Varga István",
                                    "METTOL": "2016-07-01",
                                    "MEDDIG": "2016-07-04",
                                    "(No column name)": "NULL"
                                },
                                {
                                    "LOGIN": "ISTVANV",
                                    "NEV": "Varga István",
                                    "METTOL": "2016-09-29",
                                    "MEDDIG": "2016-10-01",
                                    "(No column name)": "4"
                                },
                                {
                                    "LOGIN": "janos3",
                                    "NEV": "Harangozó János",
                                    "METTOL": "2016-06-04",
                                    "MEDDIG": "2016-06-06",
                                    "(No column name)": "NULL"
                                },
                                {
                                    "LOGIN": "janos3",
                                    "NEV": "Harangozó János",
                                    "METTOL": "2016-08-24",
                                    "MEDDIG": "2016-08-25",
                                    "(No column name)": "1"
                                },
                                {
                                    "LOGIN": "janos3",
                                    "NEV": "Harangozó János",
                                    "METTOL": "2016-10-03",
                                    "MEDDIG": "2016-10-08",
                                    "(No column name)": "4"
                                },
                                {
                                    "LOGIN": "janos3",
                                    "NEV": "Harangozó János",
                                    "METTOL": "2016-10-22",
                                    "MEDDIG": "2016-10-23",
                                    "(No column name)": "7"
                                },
                                {
                                    "LOGIN": "janos3",
                                    "NEV": "Harangozó János",
                                    "METTOL": "2017-02-12",
                                    "MEDDIG": "2017-02-14",
                                    "(No column name)": "7"
                                },
                                {
                                    "LOGIN": "JANOSG",
                                    "NEV": "Giliga János",
                                    "METTOL": "2016-05-09",
                                    "MEDDIG": "2016-05-15",
                                    "(No column name)": "NULL"
                                },
                                {
                                    "LOGIN": "JANOSG",
                                    "NEV": "Giliga János",
                                    "METTOL": "2016-08-16",
                                    "MEDDIG": "2016-08-23",
                                    "(No column name)": "1"
                                },
                                {
                                    "LOGIN": "JANOSG",
                                    "NEV": "Giliga János",
                                    "METTOL": "2016-08-30",
                                    "MEDDIG": "2016-09-03",
                                    "(No column name)": "4"
                                },
                                {
                                    "LOGIN": "JANOSG",
                                    "NEV": "Giliga János",
                                    "METTOL": "2016-11-07",
                                    "MEDDIG": "2016-11-14",
                                    "(No column name)": "7"
                                },
                                {
                                    "LOGIN": "JANOSG",
                                    "NEV": "Giliga János",
                                    "METTOL": "2016-12-28",
                                    "MEDDIG": "2016-12-30",
                                    "(No column name)": "9"
                                },
                                {
                                    "LOGIN": "JANOSG",
                                    "NEV": "Giliga János",
                                    "METTOL": "2017-01-10",
                                    "MEDDIG": "2017-01-15",
                                    "(No column name)": "8"
                                },
                                {
                                    "LOGIN": "JANOSG",
                                    "NEV": "Giliga János",
                                    "METTOL": "2017-01-31",
                                    "MEDDIG": "2017-02-05",
                                    "(No column name)": "7"
                                },
                                {
                                    "LOGIN": "JANOSP",
                                    "NEV": "Pálinkás János",
                                    "METTOL": "2016-07-04",
                                    "MEDDIG": "2016-07-11",
                                    "(No column name)": "NULL"
                                },
                                {
                                    "LOGIN": "JANOSP",
                                    "NEV": "Pálinkás János",
                                    "METTOL": "2016-11-23",
                                    "MEDDIG": "2016-11-28",
                                    "(No column name)": "3"
                                },
                                {
                                    "LOGIN": "JANOSP",
                                    "NEV": "Pálinkás János",
                                    "METTOL": "2016-11-25",
                                    "MEDDIG": "2016-11-27",
                                    "(No column name)": "5"
                                },
                                {
                                    "LOGIN": "JANOSP",
                                    "NEV": "Pálinkás János",
                                    "METTOL": "2016-12-18",
                                    "MEDDIG": "2016-12-21",
                                    "(No column name)": "7"
                                },
                                {
                                    "LOGIN": "jozsef",
                                    "NEV": "Gergely József",
                                    "METTOL": "2016-09-13",
                                    "MEDDIG": "2016-09-19",
                                    "(No column name)": "NULL"
                                },
                                {
                                    "LOGIN": "jozsef",
                                    "NEV": "Gergely József",
                                    "METTOL": "2016-10-08",
                                    "MEDDIG": "2016-10-10",
                                    "(No column name)": "2"
                                },
                                {
                                    "LOGIN": "jozsef",
                                    "NEV": "Gergely József",
                                    "METTOL": "2016-12-06",
                                    "MEDDIG": "2016-12-07",
                                    "(No column name)": "4"
                                },
                                {
                                    "LOGIN": "jozsef2",
                                    "NEV": "Vajda József",
                                    "METTOL": "2016-07-06",
                                    "MEDDIG": "2016-07-11",
                                    "(No column name)": "NULL"
                                },
                                {
                                    "LOGIN": "jozsef2",
                                    "NEV": "Vajda József",
                                    "METTOL": "2016-07-16",
                                    "MEDDIG": "2016-07-20",
                                    "(No column name)": "2"
                                },
                                {
                                    "LOGIN": "jozsef2",
                                    "NEV": "Vajda József",
                                    "METTOL": "2016-09-09",
                                    "MEDDIG": "2016-09-15",
                                    "(No column name)": "5"
                                },
                                {
                                    "LOGIN": "jozsef2",
                                    "NEV": "Vajda József",
                                    "METTOL": "2016-11-23",
                                    "MEDDIG": "2016-11-29",
                                    "(No column name)": "7"
                                },
                                {
                                    "LOGIN": "jozsef2",
                                    "NEV": "Vajda József",
                                    "METTOL": "2016-11-25",
                                    "MEDDIG": "2016-11-29",
                                    "(No column name)": "8"
                                },
                                {
                                    "LOGIN": "JOZSEFG",
                                    "NEV": "Gyuris József",
                                    "METTOL": "2016-05-02",
                                    "MEDDIG": "2016-05-06",
                                    "(No column name)": "NULL"
                                },
                                {
                                    "LOGIN": "JOZSEFG",
                                    "NEV": "Gyuris József",
                                    "METTOL": "2016-05-23",
                                    "MEDDIG": "2016-05-25",
                                    "(No column name)": "2"
                                },
                                {
                                    "LOGIN": "JOZSEFG",
                                    "NEV": "Gyuris József",
                                    "METTOL": "2016-06-04",
                                    "MEDDIG": "2016-06-09",
                                    "(No column name)": "3"
                                },
                                {
                                    "LOGIN": "JOZSEFG",
                                    "NEV": "Gyuris József",
                                    "METTOL": "2016-08-24",
                                    "MEDDIG": "2016-08-27",
                                    "(No column name)": "7"
                                },
                                {
                                    "LOGIN": "JOZSEFG",
                                    "NEV": "Gyuris József",
                                    "METTOL": "2017-01-09",
                                    "MEDDIG": "2017-01-13",
                                    "(No column name)": "8"
                                },
                                {
                                    "LOGIN": "JOZSEFG",
                                    "NEV": "Gyuris József",
                                    "METTOL": "2017-01-22",
                                    "MEDDIG": "2017-01-26",
                                    "(No column name)": "9"
                                },
                                {
                                    "LOGIN": "JOZSEFG",
                                    "NEV": "Gyuris József",
                                    "METTOL": "2017-02-24",
                                    "MEDDIG": "2017-03-03",
                                    "(No column name)": "6"
                                },
                                {
                                    "LOGIN": "JUDITH",
                                    "NEV": "Hídasi Judit",
                                    "METTOL": "2016-06-06",
                                    "MEDDIG": "2016-06-10",
                                    "(No column name)": "NULL"
                                },
                                {
                                    "LOGIN": "JUDITH",
                                    "NEV": "Hídasi Judit",
                                    "METTOL": "2016-07-28",
                                    "MEDDIG": "2016-07-30",
                                    "(No column name)": "2"
                                },
                                {
                                    "LOGIN": "JUDITH",
                                    "NEV": "Hídasi Judit",
                                    "METTOL": "2016-12-19",
                                    "MEDDIG": "2016-12-26",
                                    "(No column name)": "4"
                                },
                                {
                                    "LOGIN": "julia",
                                    "NEV": "Tóth Júlia",
                                    "METTOL": "2016-04-21",
                                    "MEDDIG": "2016-04-26",
                                    "(No column name)": "NULL"
                                },
                                {
                                    "LOGIN": "julia",
                                    "NEV": "Tóth Júlia",
                                    "METTOL": "2016-05-12",
                                    "MEDDIG": "2016-05-17",
                                    "(No column name)": "2"
                                },
                                {
                                    "LOGIN": "julia",
                                    "NEV": "Tóth Júlia",
                                    "METTOL": "2016-06-07",
                                    "MEDDIG": "2016-06-08",
                                    "(No column name)": "3"
                                },
                                {
                                    "LOGIN": "julia",
                                    "NEV": "Tóth Júlia",
                                    "METTOL": "2016-07-20",
                                    "MEDDIG": "2016-07-22",
                                    "(No column name)": "8"
                                },
                                {
                                    "LOGIN": "julia",
                                    "NEV": "Tóth Júlia",
                                    "METTOL": "2017-02-27",
                                    "MEDDIG": "2017-03-06",
                                    "(No column name)": "8"
                                },
                                {
                                    "LOGIN": "julia4",
                                    "NEV": "Nagy Júlia",
                                    "METTOL": "2016-11-07",
                                    "MEDDIG": "2016-11-12",
                                    "(No column name)": "NULL"
                                },
                                {
                                    "LOGIN": "julia4",
                                    "NEV": "Nagy Júlia",
                                    "METTOL": "2017-02-04",
                                    "MEDDIG": "2017-02-11",
                                    "(No column name)": "1"
                                },
                                {
                                    "LOGIN": "julianna4",
                                    "NEV": "Szabó Julianna",
                                    "METTOL": "2016-07-20",
                                    "MEDDIG": "2016-07-26",
                                    "(No column name)": "NULL"
                                },
                                {
                                    "LOGIN": "julianna4",
                                    "NEV": "Szabó Julianna",
                                    "METTOL": "2016-10-29",
                                    "MEDDIG": "2016-10-31",
                                    "(No column name)": "2"
                                },
                                {
                                    "LOGIN": "julianna4",
                                    "NEV": "Szabó Julianna",
                                    "METTOL": "2016-11-03",
                                    "MEDDIG": "2016-11-04",
                                    "(No column name)": "5"
                                },
                                {
                                    "LOGIN": "julianna4",
                                    "NEV": "Szabó Julianna",
                                    "METTOL": "2016-11-27",
                                    "MEDDIG": "2016-12-04",
                                    "(No column name)": "7"
                                },
                                {
                                    "LOGIN": "kata",
                                    "NEV": "Gondos Katalin",
                                    "METTOL": "2016-04-10",
                                    "MEDDIG": "2016-04-11",
                                    "(No column name)": "NULL"
                                },
                                {
                                    "LOGIN": "kata",
                                    "NEV": "Gondos Katalin",
                                    "METTOL": "2016-04-25",
                                    "MEDDIG": "2016-05-01",
                                    "(No column name)": "2"
                                },
                                {
                                    "LOGIN": "kata",
                                    "NEV": "Gondos Katalin",
                                    "METTOL": "2016-05-31",
                                    "MEDDIG": "2016-06-01",
                                    "(No column name)": "3"
                                },
                                {
                                    "LOGIN": "kata",
                                    "NEV": "Gondos Katalin",
                                    "METTOL": "2016-06-07",
                                    "MEDDIG": "2016-06-12",
                                    "(No column name)": "6"
                                },
                                {
                                    "LOGIN": "kata",
                                    "NEV": "Gondos Katalin",
                                    "METTOL": "2016-07-01",
                                    "MEDDIG": "2016-07-07",
                                    "(No column name)": "6"
                                },
                                {
                                    "LOGIN": "kata",
                                    "NEV": "Gondos Katalin",
                                    "METTOL": "2016-07-03",
                                    "MEDDIG": "2016-07-06",
                                    "(No column name)": "7"
                                },
                                {
                                    "LOGIN": "kata",
                                    "NEV": "Gondos Katalin",
                                    "METTOL": "2016-07-07",
                                    "MEDDIG": "2016-07-09",
                                    "(No column name)": "5"
                                },
                                {
                                    "LOGIN": "kata",
                                    "NEV": "Gondos Katalin",
                                    "METTOL": "2016-08-24",
                                    "MEDDIG": "2016-08-27",
                                    "(No column name)": "6"
                                },
                                {
                                    "LOGIN": "kata",
                                    "NEV": "Gondos Katalin",
                                    "METTOL": "2016-09-19",
                                    "MEDDIG": "2016-09-20",
                                    "(No column name)": "7"
                                },
                                {
                                    "LOGIN": "kata",
                                    "NEV": "Gondos Katalin",
                                    "METTOL": "2017-01-15",
                                    "MEDDIG": "2017-01-21",
                                    "(No column name)": "9"
                                },
                                {
                                    "LOGIN": "katalin",
                                    "NEV": "Horváth Katalin",
                                    "METTOL": "2016-04-10",
                                    "MEDDIG": "2016-04-17",
                                    "(No column name)": "NULL"
                                },
                                {
                                    "LOGIN": "katalin",
                                    "NEV": "Horváth Katalin",
                                    "METTOL": "2016-05-21",
                                    "MEDDIG": "2016-05-26",
                                    "(No column name)": "2"
                                },
                                {
                                    "LOGIN": "katalin",
                                    "NEV": "Horváth Katalin",
                                    "METTOL": "2016-07-06",
                                    "MEDDIG": "2016-07-11",
                                    "(No column name)": "3"
                                },
                                {
                                    "LOGIN": "katalin",
                                    "NEV": "Horváth Katalin",
                                    "METTOL": "2016-07-28",
                                    "MEDDIG": "2016-07-29",
                                    "(No column name)": "4"
                                },
                                {
                                    "LOGIN": "katalin",
                                    "NEV": "Horváth Katalin",
                                    "METTOL": "2016-10-26",
                                    "MEDDIG": "2016-10-30",
                                    "(No column name)": "3"
                                },
                                {
                                    "LOGIN": "katalin",
                                    "NEV": "Horváth Katalin",
                                    "METTOL": "2016-12-13",
                                    "MEDDIG": "2016-12-19",
                                    "(No column name)": "4"
                                },
                                {
                                    "LOGIN": "katalin",
                                    "NEV": "Horváth Katalin",
                                    "METTOL": "2016-12-17",
                                    "MEDDIG": "2016-12-24",
                                    "(No column name)": "5"
                                },
                                {
                                    "LOGIN": "katalin",
                                    "NEV": "Horváth Katalin",
                                    "METTOL": "2016-12-24",
                                    "MEDDIG": "2016-12-27",
                                    "(No column name)": "5"
                                },
                                {
                                    "LOGIN": "katalin",
                                    "NEV": "Horváth Katalin",
                                    "METTOL": "2017-02-24",
                                    "MEDDIG": "2017-02-27",
                                    "(No column name)": "5"
                                },
                                {
                                    "LOGIN": "katalin4",
                                    "NEV": "Kertész Katalin",
                                    "METTOL": "2016-07-01",
                                    "MEDDIG": "2016-07-07",
                                    "(No column name)": "NULL"
                                },
                                {
                                    "LOGIN": "katalin4",
                                    "NEV": "Kertész Katalin",
                                    "METTOL": "2016-07-03",
                                    "MEDDIG": "2016-07-04",
                                    "(No column name)": "1"
                                },
                                {
                                    "LOGIN": "katalin4",
                                    "NEV": "Kertész Katalin",
                                    "METTOL": "2016-11-27",
                                    "MEDDIG": "2016-12-04",
                                    "(No column name)": "5"
                                },
                                {
                                    "LOGIN": "katalin4",
                                    "NEV": "Kertész Katalin",
                                    "METTOL": "2016-12-04",
                                    "MEDDIG": "2016-12-09",
                                    "(No column name)": "8"
                                },
                                {
                                    "LOGIN": "katalin4",
                                    "NEV": "Kertész Katalin",
                                    "METTOL": "2017-01-18",
                                    "MEDDIG": "2017-01-20",
                                    "(No column name)": "10"
                                },
                                {
                                    "LOGIN": "katalin4",
                                    "NEV": "Kertész Katalin",
                                    "METTOL": "2017-01-24",
                                    "MEDDIG": "2017-01-31",
                                    "(No column name)": "8"
                                },
                                {
                                    "LOGIN": "kati",
                                    "NEV": "Zatykó Katalin",
                                    "METTOL": "2016-06-06",
                                    "MEDDIG": "2016-06-10",
                                    "(No column name)": "NULL"
                                },
                                {
                                    "LOGIN": "kati",
                                    "NEV": "Zatykó Katalin",
                                    "METTOL": "2016-06-06",
                                    "MEDDIG": "2016-06-11",
                                    "(No column name)": "2"
                                },
                                {
                                    "LOGIN": "kati",
                                    "NEV": "Zatykó Katalin",
                                    "METTOL": "2016-07-13",
                                    "MEDDIG": "2016-07-20",
                                    "(No column name)": "5"
                                },
                                {
                                    "LOGIN": "kati",
                                    "NEV": "Zatykó Katalin",
                                    "METTOL": "2016-07-27",
                                    "MEDDIG": "2016-08-03",
                                    "(No column name)": "7"
                                },
                                {
                                    "LOGIN": "kati",
                                    "NEV": "Zatykó Katalin",
                                    "METTOL": "2016-08-03",
                                    "MEDDIG": "2016-08-07",
                                    "(No column name)": "7"
                                },
                                {
                                    "LOGIN": "kati",
                                    "NEV": "Zatykó Katalin",
                                    "METTOL": "2016-10-26",
                                    "MEDDIG": "2016-10-28",
                                    "(No column name)": "6"
                                },
                                {
                                    "LOGIN": "kati",
                                    "NEV": "Zatykó Katalin",
                                    "METTOL": "2016-10-30",
                                    "MEDDIG": "2016-11-01",
                                    "(No column name)": "6"
                                },
                                {
                                    "LOGIN": "katka",
                                    "NEV": "Kovács Katalin",
                                    "METTOL": "2016-04-10",
                                    "MEDDIG": "2016-04-12",
                                    "(No column name)": "NULL"
                                },
                                {
                                    "LOGIN": "katka",
                                    "NEV": "Kovács Katalin",
                                    "METTOL": "2016-05-09",
                                    "MEDDIG": "2016-05-15",
                                    "(No column name)": "2"
                                },
                                {
                                    "LOGIN": "katka",
                                    "NEV": "Kovács Katalin",
                                    "METTOL": "2016-06-13",
                                    "MEDDIG": "2016-06-18",
                                    "(No column name)": "5"
                                },
                                {
                                    "LOGIN": "katka",
                                    "NEV": "Kovács Katalin",
                                    "METTOL": "2016-06-13",
                                    "MEDDIG": "2016-06-19",
                                    "(No column name)": "6"
                                },
                                {
                                    "LOGIN": "katka",
                                    "NEV": "Kovács Katalin",
                                    "METTOL": "2016-08-24",
                                    "MEDDIG": "2016-08-26",
                                    "(No column name)": "8"
                                },
                                {
                                    "LOGIN": "katka",
                                    "NEV": "Kovács Katalin",
                                    "METTOL": "2016-09-05",
                                    "MEDDIG": "2016-09-10",
                                    "(No column name)": "7"
                                },
                                {
                                    "LOGIN": "katka",
                                    "NEV": "Kovács Katalin",
                                    "METTOL": "2016-11-05",
                                    "MEDDIG": "2016-11-08",
                                    "(No column name)": "10"
                                },
                                {
                                    "LOGIN": "katka",
                                    "NEV": "Kovács Katalin",
                                    "METTOL": "2017-01-02",
                                    "MEDDIG": "2017-01-05",
                                    "(No column name)": "9"
                                },
                                {
                                    "LOGIN": "katka",
                                    "NEV": "Kovács Katalin",
                                    "METTOL": "2017-01-19",
                                    "MEDDIG": "2017-01-20",
                                    "(No column name)": "10"
                                },
                                {
                                    "LOGIN": "klaudia2",
                                    "NEV": "Bakó Klaudia",
                                    "METTOL": "2016-06-06",
                                    "MEDDIG": "2016-06-08",
                                    "(No column name)": "NULL"
                                },
                                {
                                    "LOGIN": "klaudia2",
                                    "NEV": "Bakó Klaudia",
                                    "METTOL": "2016-10-01",
                                    "MEDDIG": "2016-10-02",
                                    "(No column name)": "4"
                                },
                                {
                                    "LOGIN": "klaudia2",
                                    "NEV": "Bakó Klaudia",
                                    "METTOL": "2016-10-02",
                                    "MEDDIG": "2016-10-05",
                                    "(No column name)": "6"
                                },
                                {
                                    "LOGIN": "kornel4",
                                    "NEV": "Lukács Kornél",
                                    "METTOL": "2016-05-08",
                                    "MEDDIG": "2016-05-14",
                                    "(No column name)": "NULL"
                                },
                                {
                                    "LOGIN": "kornel4",
                                    "NEV": "Lukács Kornél",
                                    "METTOL": "2016-06-02",
                                    "MEDDIG": "2016-06-09",
                                    "(No column name)": "3"
                                },
                                {
                                    "LOGIN": "kornel4",
                                    "NEV": "Lukács Kornél",
                                    "METTOL": "2016-09-23",
                                    "MEDDIG": "2016-09-24",
                                    "(No column name)": "6"
                                },
                                {
                                    "LOGIN": "kristof4",
                                    "NEV": "Poprádi Kristóf",
                                    "METTOL": "2016-04-08",
                                    "MEDDIG": "2016-04-14",
                                    "(No column name)": "NULL"
                                },
                                {
                                    "LOGIN": "kristof4",
                                    "NEV": "Poprádi Kristóf",
                                    "METTOL": "2016-09-30",
                                    "MEDDIG": "2016-10-04",
                                    "(No column name)": "2"
                                },
                                {
                                    "LOGIN": "kriszti",
                                    "NEV": "Horváth Krisztina",
                                    "METTOL": "2016-05-19",
                                    "MEDDIG": "2016-05-26",
                                    "(No column name)": "NULL"
                                },
                                {
                                    "LOGIN": "kriszti",
                                    "NEV": "Horváth Krisztina",
                                    "METTOL": "2016-08-24",
                                    "MEDDIG": "2016-08-25",
                                    "(No column name)": "2"
                                },
                                {
                                    "LOGIN": "kriszti",
                                    "NEV": "Horváth Krisztina",
                                    "METTOL": "2016-09-30",
                                    "MEDDIG": "2016-10-05",
                                    "(No column name)": "5"
                                },
                                {
                                    "LOGIN": "kriszti",
                                    "NEV": "Horváth Krisztina",
                                    "METTOL": "2016-10-01",
                                    "MEDDIG": "2016-10-02",
                                    "(No column name)": "8"
                                },
                                {
                                    "LOGIN": "kriszti",
                                    "NEV": "Horváth Krisztina",
                                    "METTOL": "2017-02-04",
                                    "MEDDIG": "2017-02-11",
                                    "(No column name)": "9"
                                },
                                {
                                    "LOGIN": "kriszti",
                                    "NEV": "Horváth Krisztina",
                                    "METTOL": "2017-03-03",
                                    "MEDDIG": "2017-03-04",
                                    "(No column name)": "9"
                                },
                                {
                                    "LOGIN": "krisztian4",
                                    "NEV": "Czérna Krisztián",
                                    "METTOL": "2016-06-03",
                                    "MEDDIG": "2016-06-04",
                                    "(No column name)": "NULL"
                                },
                                {
                                    "LOGIN": "krisztian4",
                                    "NEV": "Czérna Krisztián",
                                    "METTOL": "2016-06-07",
                                    "MEDDIG": "2016-06-09",
                                    "(No column name)": "2"
                                },
                                {
                                    "LOGIN": "krisztian4",
                                    "NEV": "Czérna Krisztián",
                                    "METTOL": "2016-07-28",
                                    "MEDDIG": "2016-08-01",
                                    "(No column name)": "4"
                                },
                                {
                                    "LOGIN": "krisztian4",
                                    "NEV": "Czérna Krisztián",
                                    "METTOL": "2016-08-01",
                                    "MEDDIG": "2016-08-04",
                                    "(No column name)": "6"
                                },
                                {
                                    "LOGIN": "krisztian4",
                                    "NEV": "Czérna Krisztián",
                                    "METTOL": "2016-08-16",
                                    "MEDDIG": "2016-08-19",
                                    "(No column name)": "7"
                                },
                                {
                                    "LOGIN": "krisztian4",
                                    "NEV": "Czérna Krisztián",
                                    "METTOL": "2016-08-29",
                                    "MEDDIG": "2016-09-03",
                                    "(No column name)": "6"
                                },
                                {
                                    "LOGIN": "krisztian4",
                                    "NEV": "Czérna Krisztián",
                                    "METTOL": "2016-10-17",
                                    "MEDDIG": "2016-10-22",
                                    "(No column name)": "5"
                                },
                                {
                                    "LOGIN": "krisztian4",
                                    "NEV": "Czérna Krisztián",
                                    "METTOL": "2016-11-02",
                                    "MEDDIG": "2016-11-03",
                                    "(No column name)": "5"
                                },
                                {
                                    "LOGIN": "krisztian4",
                                    "NEV": "Czérna Krisztián",
                                    "METTOL": "2016-12-11",
                                    "MEDDIG": "2016-12-18",
                                    "(No column name)": "6"
                                },
                                {
                                    "LOGIN": "krisztian4",
                                    "NEV": "Czérna Krisztián",
                                    "METTOL": "2017-01-06",
                                    "MEDDIG": "2017-01-09",
                                    "(No column name)": "7"
                                },
                                {
                                    "LOGIN": "krisztian4",
                                    "NEV": "Czérna Krisztián",
                                    "METTOL": "2017-01-16",
                                    "MEDDIG": "2017-01-23",
                                    "(No column name)": "5"
                                },
                                {
                                    "LOGIN": "krisztian4",
                                    "NEV": "Czérna Krisztián",
                                    "METTOL": "2017-02-23",
                                    "MEDDIG": "2017-03-02",
                                    "(No column name)": "6"
                                },
                                {
                                    "LOGIN": "KRISZTIANM",
                                    "NEV": "Mogyródi Krisztián",
                                    "METTOL": "2016-04-09",
                                    "MEDDIG": "2016-04-15",
                                    "(No column name)": "NULL"
                                },
                                {
                                    "LOGIN": "KRISZTIANM",
                                    "NEV": "Mogyródi Krisztián",
                                    "METTOL": "2016-06-04",
                                    "MEDDIG": "2016-06-08",
                                    "(No column name)": "2"
                                },
                                {
                                    "LOGIN": "KRISZTIANM",
                                    "NEV": "Mogyródi Krisztián",
                                    "METTOL": "2016-07-09",
                                    "MEDDIG": "2016-07-14",
                                    "(No column name)": "4"
                                },
                                {
                                    "LOGIN": "KRISZTIANM",
                                    "NEV": "Mogyródi Krisztián",
                                    "METTOL": "2016-08-02",
                                    "MEDDIG": "2016-08-08",
                                    "(No column name)": "7"
                                },
                                {
                                    "LOGIN": "KRISZTIANM",
                                    "NEV": "Mogyródi Krisztián",
                                    "METTOL": "2016-12-25",
                                    "MEDDIG": "2016-12-31",
                                    "(No column name)": "9"
                                },
                                {
                                    "LOGIN": "KRISZTIANM",
                                    "NEV": "Mogyródi Krisztián",
                                    "METTOL": "2017-01-16",
                                    "MEDDIG": "2017-01-23",
                                    "(No column name)": "9"
                                },
                                {
                                    "LOGIN": "krisztina",
                                    "NEV": "Szedlár Krisztina",
                                    "METTOL": "2016-05-21",
                                    "MEDDIG": "2016-05-27",
                                    "(No column name)": "NULL"
                                },
                                {
                                    "LOGIN": "krisztina",
                                    "NEV": "Szedlár Krisztina",
                                    "METTOL": "2016-07-05",
                                    "MEDDIG": "2016-07-12",
                                    "(No column name)": "2"
                                },
                                {
                                    "LOGIN": "krisztina",
                                    "NEV": "Szedlár Krisztina",
                                    "METTOL": "2016-09-13",
                                    "MEDDIG": "2016-09-16",
                                    "(No column name)": "5"
                                },
                                {
                                    "LOGIN": "krisztina",
                                    "NEV": "Szedlár Krisztina",
                                    "METTOL": "2016-09-19",
                                    "MEDDIG": "2016-09-26",
                                    "(No column name)": "6"
                                },
                                {
                                    "LOGIN": "krisztina",
                                    "NEV": "Szedlár Krisztina",
                                    "METTOL": "2016-11-08",
                                    "MEDDIG": "2016-11-12",
                                    "(No column name)": "6"
                                },
                                {
                                    "LOGIN": "krisztina",
                                    "NEV": "Szedlár Krisztina",
                                    "METTOL": "2016-11-22",
                                    "MEDDIG": "2016-11-25",
                                    "(No column name)": "5"
                                },
                                {
                                    "LOGIN": "krisztina",
                                    "NEV": "Szedlár Krisztina",
                                    "METTOL": "2017-02-05",
                                    "MEDDIG": "2017-02-07",
                                    "(No column name)": "5"
                                },
                                {
                                    "LOGIN": "krisztina",
                                    "NEV": "Szedlár Krisztina",
                                    "METTOL": "2017-02-16",
                                    "MEDDIG": "2017-02-20",
                                    "(No column name)": "5"
                                },
                                {
                                    "LOGIN": "krisztina1",
                                    "NEV": "Bori Krisztina",
                                    "METTOL": "2016-04-28",
                                    "MEDDIG": "2016-04-30",
                                    "(No column name)": "NULL"
                                },
                                {
                                    "LOGIN": "krisztina1",
                                    "NEV": "Bori Krisztina",
                                    "METTOL": "2016-05-16",
                                    "MEDDIG": "2016-05-20",
                                    "(No column name)": "2"
                                },
                                {
                                    "LOGIN": "krisztina1",
                                    "NEV": "Bori Krisztina",
                                    "METTOL": "2016-06-16",
                                    "MEDDIG": "2016-06-22",
                                    "(No column name)": "3"
                                },
                                {
                                    "LOGIN": "krisztina1",
                                    "NEV": "Bori Krisztina",
                                    "METTOL": "2016-09-15",
                                    "MEDDIG": "2016-09-20",
                                    "(No column name)": "5"
                                },
                                {
                                    "LOGIN": "krisztina1",
                                    "NEV": "Bori Krisztina",
                                    "METTOL": "2016-10-29",
                                    "MEDDIG": "2016-10-30",
                                    "(No column name)": "6"
                                },
                                {
                                    "LOGIN": "krisztina1",
                                    "NEV": "Bori Krisztina",
                                    "METTOL": "2017-01-21",
                                    "MEDDIG": "2017-01-24",
                                    "(No column name)": "9"
                                },
                                {
                                    "LOGIN": "KRISZTINAG",
                                    "NEV": "Gyárfás Krisztina",
                                    "METTOL": "2016-04-23",
                                    "MEDDIG": "2016-04-24",
                                    "(No column name)": "NULL"
                                },
                                {
                                    "LOGIN": "KRISZTINAG",
                                    "NEV": "Gyárfás Krisztina",
                                    "METTOL": "2016-05-24",
                                    "MEDDIG": "2016-05-31",
                                    "(No column name)": "2"
                                },
                                {
                                    "LOGIN": "KRISZTINAG",
                                    "NEV": "Gyárfás Krisztina",
                                    "METTOL": "2016-06-08",
                                    "MEDDIG": "2016-06-12",
                                    "(No column name)": "3"
                                },
                                {
                                    "LOGIN": "KRISZTINAG",
                                    "NEV": "Gyárfás Krisztina",
                                    "METTOL": "2016-08-08",
                                    "MEDDIG": "2016-08-12",
                                    "(No column name)": "4"
                                },
                                {
                                    "LOGIN": "KRISZTINAG",
                                    "NEV": "Gyárfás Krisztina",
                                    "METTOL": "2017-01-25",
                                    "MEDDIG": "2017-01-30",
                                    "(No column name)": "5"
                                },
                                {
                                    "LOGIN": "lajos",
                                    "NEV": "Kiss Lajos",
                                    "METTOL": "2016-07-18",
                                    "MEDDIG": "2016-07-21",
                                    "(No column name)": "NULL"
                                },
                                {
                                    "LOGIN": "lajos",
                                    "NEV": "Kiss Lajos",
                                    "METTOL": "2016-12-25",
                                    "MEDDIG": "2016-12-28",
                                    "(No column name)": "2"
                                },
                                {
                                    "LOGIN": "lajos",
                                    "NEV": "Kiss Lajos",
                                    "METTOL": "2017-02-12",
                                    "MEDDIG": "2017-02-13",
                                    "(No column name)": "6"
                                },
                                {
                                    "LOGIN": "lala",
                                    "NEV": "Nagymihály Lajos",
                                    "METTOL": "2016-06-16",
                                    "MEDDIG": "2016-06-22",
                                    "(No column name)": "NULL"
                                },
                                {
                                    "LOGIN": "lala",
                                    "NEV": "Nagymihály Lajos",
                                    "METTOL": "2016-07-20",
                                    "MEDDIG": "2016-07-21",
                                    "(No column name)": "2"
                                },
                                {
                                    "LOGIN": "lala",
                                    "NEV": "Nagymihály Lajos",
                                    "METTOL": "2016-07-26",
                                    "MEDDIG": "2016-07-27",
                                    "(No column name)": "5"
                                },
                                {
                                    "LOGIN": "lala",
                                    "NEV": "Nagymihály Lajos",
                                    "METTOL": "2016-10-30",
                                    "MEDDIG": "2016-10-31",
                                    "(No column name)": "8"
                                },
                                {
                                    "LOGIN": "lala",
                                    "NEV": "Nagymihály Lajos",
                                    "METTOL": "2017-01-08",
                                    "MEDDIG": "2017-01-10",
                                    "(No column name)": "9"
                                },
                                {
                                    "LOGIN": "lala",
                                    "NEV": "Nagymihály Lajos",
                                    "METTOL": "2017-01-17",
                                    "MEDDIG": "2017-01-19",
                                    "(No column name)": "9"
                                },
                                {
                                    "LOGIN": "laszlo1",
                                    "NEV": "Farkas László",
                                    "METTOL": "2016-09-23",
                                    "MEDDIG": "2016-09-30",
                                    "(No column name)": "NULL"
                                },
                                {
                                    "LOGIN": "laszlo2",
                                    "NEV": "Móra László",
                                    "METTOL": "2016-04-06",
                                    "MEDDIG": "2016-04-10",
                                    "(No column name)": "NULL"
                                },
                                {
                                    "LOGIN": "laszlo2",
                                    "NEV": "Móra László",
                                    "METTOL": "2016-04-27",
                                    "MEDDIG": "2016-04-29",
                                    "(No column name)": "2"
                                },
                                {
                                    "LOGIN": "laszlo2",
                                    "NEV": "Móra László",
                                    "METTOL": "2016-08-14",
                                    "MEDDIG": "2016-08-15",
                                    "(No column name)": "4"
                                },
                                {
                                    "LOGIN": "laszlo2",
                                    "NEV": "Móra László",
                                    "METTOL": "2016-09-05",
                                    "MEDDIG": "2016-09-10",
                                    "(No column name)": "7"
                                },
                                {
                                    "LOGIN": "laszlo2",
                                    "NEV": "Móra László",
                                    "METTOL": "2016-11-25",
                                    "MEDDIG": "2016-11-26",
                                    "(No column name)": "8"
                                },
                                {
                                    "LOGIN": "LASZLOA",
                                    "NEV": "Antal László",
                                    "METTOL": "2016-06-03",
                                    "MEDDIG": "2016-06-09",
                                    "(No column name)": "NULL"
                                },
                                {
                                    "LOGIN": "LASZLOA",
                                    "NEV": "Antal László",
                                    "METTOL": "2016-06-07",
                                    "MEDDIG": "2016-06-11",
                                    "(No column name)": "2"
                                },
                                {
                                    "LOGIN": "LASZLOA",
                                    "NEV": "Antal László",
                                    "METTOL": "2016-06-10",
                                    "MEDDIG": "2016-06-13",
                                    "(No column name)": "3"
                                },
                                {
                                    "LOGIN": "LASZLOA",
                                    "NEV": "Antal László",
                                    "METTOL": "2017-02-08",
                                    "MEDDIG": "2017-02-14",
                                    "(No column name)": "6"
                                },
                                {
                                    "LOGIN": "LASZLON",
                                    "NEV": "Nagy László",
                                    "METTOL": "2016-06-03",
                                    "MEDDIG": "2016-06-06",
                                    "(No column name)": "NULL"
                                },
                                {
                                    "LOGIN": "LASZLON",
                                    "NEV": "Nagy László",
                                    "METTOL": "2016-06-08",
                                    "MEDDIG": "2016-06-09",
                                    "(No column name)": "1"
                                },
                                {
                                    "LOGIN": "LASZLON",
                                    "NEV": "Nagy László",
                                    "METTOL": "2016-10-01",
                                    "MEDDIG": "2016-10-04",
                                    "(No column name)": "3"
                                },
                                {
                                    "LOGIN": "LASZLON",
                                    "NEV": "Nagy László",
                                    "METTOL": "2016-10-09",
                                    "MEDDIG": "2016-10-14",
                                    "(No column name)": "6"
                                },
                                {
                                    "LOGIN": "LASZLON",
                                    "NEV": "Nagy László",
                                    "METTOL": "2016-11-29",
                                    "MEDDIG": "2016-12-04",
                                    "(No column name)": "6"
                                },
                                {
                                    "LOGIN": "LASZLON",
                                    "NEV": "Nagy László",
                                    "METTOL": "2017-02-18",
                                    "MEDDIG": "2017-02-25",
                                    "(No column name)": "5"
                                },
                                {
                                    "LOGIN": "maria1",
                                    "NEV": "Baráth Mária",
                                    "METTOL": "2016-05-13",
                                    "MEDDIG": "2016-05-18",
                                    "(No column name)": "NULL"
                                },
                                {
                                    "LOGIN": "maria1",
                                    "NEV": "Baráth Mária",
                                    "METTOL": "2016-05-18",
                                    "MEDDIG": "2016-05-19",
                                    "(No column name)": "2"
                                },
                                {
                                    "LOGIN": "maria1",
                                    "NEV": "Baráth Mária",
                                    "METTOL": "2016-05-28",
                                    "MEDDIG": "2016-06-03",
                                    "(No column name)": "3"
                                },
                                {
                                    "LOGIN": "maria1",
                                    "NEV": "Baráth Mária",
                                    "METTOL": "2016-06-23",
                                    "MEDDIG": "2016-06-27",
                                    "(No column name)": "5"
                                },
                                {
                                    "LOGIN": "maria1",
                                    "NEV": "Baráth Mária",
                                    "METTOL": "2016-08-11",
                                    "MEDDIG": "2016-08-14",
                                    "(No column name)": "4"
                                },
                                {
                                    "LOGIN": "maria1",
                                    "NEV": "Baráth Mária",
                                    "METTOL": "2016-09-02",
                                    "MEDDIG": "2016-09-05",
                                    "(No column name)": "6"
                                },
                                {
                                    "LOGIN": "maria1",
                                    "NEV": "Baráth Mária",
                                    "METTOL": "2016-11-08",
                                    "MEDDIG": "2016-11-12",
                                    "(No column name)": "5"
                                },
                                {
                                    "LOGIN": "maria1",
                                    "NEV": "Baráth Mária",
                                    "METTOL": "2017-02-24",
                                    "MEDDIG": "2017-03-02",
                                    "(No column name)": "7"
                                },
                                {
                                    "LOGIN": "mark",
                                    "NEV": "Kispál Márk",
                                    "METTOL": "2016-04-19",
                                    "MEDDIG": "2016-04-26",
                                    "(No column name)": "NULL"
                                },
                                {
                                    "LOGIN": "mark",
                                    "NEV": "Kispál Márk",
                                    "METTOL": "2016-06-13",
                                    "MEDDIG": "2016-06-18",
                                    "(No column name)": "4"
                                },
                                {
                                    "LOGIN": "mark",
                                    "NEV": "Kispál Márk",
                                    "METTOL": "2016-08-09",
                                    "MEDDIG": "2016-08-16",
                                    "(No column name)": "7"
                                },
                                {
                                    "LOGIN": "mark",
                                    "NEV": "Kispál Márk",
                                    "METTOL": "2016-10-20",
                                    "MEDDIG": "2016-10-27",
                                    "(No column name)": "10"
                                },
                                {
                                    "LOGIN": "mark",
                                    "NEV": "Kispál Márk",
                                    "METTOL": "2016-11-19",
                                    "MEDDIG": "2016-11-22",
                                    "(No column name)": "7"
                                },
                                {
                                    "LOGIN": "MARKH",
                                    "NEV": "Horváth Márk",
                                    "METTOL": "2016-09-14",
                                    "MEDDIG": "2016-09-17",
                                    "(No column name)": "NULL"
                                },
                                {
                                    "LOGIN": "MARKH",
                                    "NEV": "Horváth Márk",
                                    "METTOL": "2016-09-23",
                                    "MEDDIG": "2016-09-30",
                                    "(No column name)": "3"
                                },
                                {
                                    "LOGIN": "MARKH",
                                    "NEV": "Horváth Márk",
                                    "METTOL": "2016-09-26",
                                    "MEDDIG": "2016-10-01",
                                    "(No column name)": "5"
                                },
                                {
                                    "LOGIN": "MARKH",
                                    "NEV": "Horváth Márk",
                                    "METTOL": "2017-01-22",
                                    "MEDDIG": "2017-01-29",
                                    "(No column name)": "9"
                                },
                                {
                                    "LOGIN": "marton",
                                    "NEV": "Kalacsi Márton",
                                    "METTOL": "2016-04-27",
                                    "MEDDIG": "2016-05-04",
                                    "(No column name)": "NULL"
                                },
                                {
                                    "LOGIN": "marton",
                                    "NEV": "Kalacsi Márton",
                                    "METTOL": "2016-05-05",
                                    "MEDDIG": "2016-05-10",
                                    "(No column name)": "3"
                                },
                                {
                                    "LOGIN": "marton",
                                    "NEV": "Kalacsi Márton",
                                    "METTOL": "2016-06-06",
                                    "MEDDIG": "2016-06-08",
                                    "(No column name)": "4"
                                },
                                {
                                    "LOGIN": "marton",
                                    "NEV": "Kalacsi Márton",
                                    "METTOL": "2016-06-22",
                                    "MEDDIG": "2016-06-29",
                                    "(No column name)": "7"
                                },
                                {
                                    "LOGIN": "marton",
                                    "NEV": "Kalacsi Márton",
                                    "METTOL": "2016-08-12",
                                    "MEDDIG": "2016-08-17",
                                    "(No column name)": "6"
                                },
                                {
                                    "LOGIN": "marton",
                                    "NEV": "Kalacsi Márton",
                                    "METTOL": "2016-09-10",
                                    "MEDDIG": "2016-09-12",
                                    "(No column name)": "7"
                                },
                                {
                                    "LOGIN": "marton",
                                    "NEV": "Kalacsi Márton",
                                    "METTOL": "2017-03-02",
                                    "MEDDIG": "2017-03-03",
                                    "(No column name)": "6"
                                },
                                {
                                    "LOGIN": "MATEK",
                                    "NEV": "Koza Máté",
                                    "METTOL": "2016-08-17",
                                    "MEDDIG": "2016-08-21",
                                    "(No column name)": "NULL"
                                },
                                {
                                    "LOGIN": "MATEK",
                                    "NEV": "Koza Máté",
                                    "METTOL": "2016-10-01",
                                    "MEDDIG": "2016-10-04",
                                    "(No column name)": "4"
                                },
                                {
                                    "LOGIN": "MATEK",
                                    "NEV": "Koza Máté",
                                    "METTOL": "2017-01-16",
                                    "MEDDIG": "2017-01-22",
                                    "(No column name)": "6"
                                },
                                {
                                    "LOGIN": "matyas2",
                                    "NEV": "Botka Mátyás",
                                    "METTOL": "2016-07-13",
                                    "MEDDIG": "2016-07-16",
                                    "(No column name)": "NULL"
                                },
                                {
                                    "LOGIN": "matyas2",
                                    "NEV": "Botka Mátyás",
                                    "METTOL": "2016-12-09",
                                    "MEDDIG": "2016-12-13",
                                    "(No column name)": "2"
                                },
                                {
                                    "LOGIN": "MATYASS",
                                    "NEV": "Szilágyi Mátyás",
                                    "METTOL": "2016-05-10",
                                    "MEDDIG": "2016-05-16",
                                    "(No column name)": "NULL"
                                },
                                {
                                    "LOGIN": "MATYASS",
                                    "NEV": "Szilágyi Mátyás",
                                    "METTOL": "2016-06-02",
                                    "MEDDIG": "2016-06-08",
                                    "(No column name)": "2"
                                },
                                {
                                    "LOGIN": "MATYASS",
                                    "NEV": "Szilágyi Mátyás",
                                    "METTOL": "2016-07-23",
                                    "MEDDIG": "2016-07-25",
                                    "(No column name)": "3"
                                },
                                {
                                    "LOGIN": "MATYASS",
                                    "NEV": "Szilágyi Mátyás",
                                    "METTOL": "2016-10-09",
                                    "MEDDIG": "2016-10-15",
                                    "(No column name)": "6"
                                },
                                {
                                    "LOGIN": "MATYASS",
                                    "NEV": "Szilágyi Mátyás",
                                    "METTOL": "2016-10-24",
                                    "MEDDIG": "2016-10-31",
                                    "(No column name)": "7"
                                },
                                {
                                    "LOGIN": "MATYASS",
                                    "NEV": "Szilágyi Mátyás",
                                    "METTOL": "2016-10-30",
                                    "MEDDIG": "2016-11-04",
                                    "(No column name)": "7"
                                },
                                {
                                    "LOGIN": "MATYASS",
                                    "NEV": "Szilágyi Mátyás",
                                    "METTOL": "2016-12-20",
                                    "MEDDIG": "2016-12-25",
                                    "(No column name)": "7"
                                },
                                {
                                    "LOGIN": "MATYASS",
                                    "NEV": "Szilágyi Mátyás",
                                    "METTOL": "2017-01-09",
                                    "MEDDIG": "2017-01-13",
                                    "(No column name)": "6"
                                },
                                {
                                    "LOGIN": "MIHALYJ",
                                    "NEV": "Juhász Mihály",
                                    "METTOL": "2016-05-30",
                                    "MEDDIG": "2016-06-01",
                                    "(No column name)": "NULL"
                                },
                                {
                                    "LOGIN": "MIHALYJ",
                                    "NEV": "Juhász Mihály",
                                    "METTOL": "2016-06-27",
                                    "MEDDIG": "2016-07-01",
                                    "(No column name)": "2"
                                },
                                {
                                    "LOGIN": "MIHALYJ",
                                    "NEV": "Juhász Mihály",
                                    "METTOL": "2016-08-29",
                                    "MEDDIG": "2016-09-03",
                                    "(No column name)": "3"
                                },
                                {
                                    "LOGIN": "MIHALYJ",
                                    "NEV": "Juhász Mihály",
                                    "METTOL": "2016-11-01",
                                    "MEDDIG": "2016-11-04",
                                    "(No column name)": "4"
                                },
                                {
                                    "LOGIN": "MIHALYJ",
                                    "NEV": "Juhász Mihály",
                                    "METTOL": "2017-02-06",
                                    "MEDDIG": "2017-02-12",
                                    "(No column name)": "5"
                                },
                                {
                                    "LOGIN": "miklos2",
                                    "NEV": "Gondos Miklós",
                                    "METTOL": "2016-04-19",
                                    "MEDDIG": "2016-04-21",
                                    "(No column name)": "NULL"
                                },
                                {
                                    "LOGIN": "miklos2",
                                    "NEV": "Gondos Miklós",
                                    "METTOL": "2016-10-08",
                                    "MEDDIG": "2016-10-09",
                                    "(No column name)": "3"
                                },
                                {
                                    "LOGIN": "miklos2",
                                    "NEV": "Gondos Miklós",
                                    "METTOL": "2016-11-16",
                                    "MEDDIG": "2016-11-18",
                                    "(No column name)": "4"
                                },
                                {
                                    "LOGIN": "MIKLOSB",
                                    "NEV": "Balla Miklós",
                                    "METTOL": "2016-06-26",
                                    "MEDDIG": "2016-06-30",
                                    "(No column name)": "NULL"
                                },
                                {
                                    "LOGIN": "MIKLOSB",
                                    "NEV": "Balla Miklós",
                                    "METTOL": "2016-07-18",
                                    "MEDDIG": "2016-07-21",
                                    "(No column name)": "2"
                                },
                                {
                                    "LOGIN": "MIKLOSB",
                                    "NEV": "Balla Miklós",
                                    "METTOL": "2016-12-05",
                                    "MEDDIG": "2016-12-10",
                                    "(No column name)": "4"
                                },
                                {
                                    "LOGIN": "MONIKAM",
                                    "NEV": "Mohos Mónika",
                                    "METTOL": "2016-04-29",
                                    "MEDDIG": "2016-05-01",
                                    "(No column name)": "NULL"
                                },
                                {
                                    "LOGIN": "MONIKAM",
                                    "NEV": "Mohos Mónika",
                                    "METTOL": "2016-07-23",
                                    "MEDDIG": "2016-07-30",
                                    "(No column name)": "2"
                                },
                                {
                                    "LOGIN": "MONIKAM",
                                    "NEV": "Mohos Mónika",
                                    "METTOL": "2016-11-09",
                                    "MEDDIG": "2016-11-16",
                                    "(No column name)": "3"
                                },
                                {
                                    "LOGIN": "MONIKAM",
                                    "NEV": "Mohos Mónika",
                                    "METTOL": "2017-01-17",
                                    "MEDDIG": "2017-01-24",
                                    "(No column name)": "5"
                                },
                                {
                                    "LOGIN": "MONIKAM",
                                    "NEV": "Mohos Mónika",
                                    "METTOL": "2017-02-06",
                                    "MEDDIG": "2017-02-09",
                                    "(No column name)": "4"
                                },
                                {
                                    "LOGIN": "MONIKAM",
                                    "NEV": "Mohos Mónika",
                                    "METTOL": "2017-02-23",
                                    "MEDDIG": "2017-02-26",
                                    "(No column name)": "5"
                                },
                                {
                                    "LOGIN": "NANDORF",
                                    "NEV": "Fő Nándor",
                                    "METTOL": "2016-04-06",
                                    "MEDDIG": "2016-04-10",
                                    "(No column name)": "NULL"
                                },
                                {
                                    "LOGIN": "NANDORF",
                                    "NEV": "Fő Nándor",
                                    "METTOL": "2016-11-03",
                                    "MEDDIG": "2016-11-04",
                                    "(No column name)": "3"
                                },
                                {
                                    "LOGIN": "NANDORF",
                                    "NEV": "Fő Nándor",
                                    "METTOL": "2017-02-05",
                                    "MEDDIG": "2017-02-08",
                                    "(No column name)": "6"
                                },
                                {
                                    "LOGIN": "nikolett3",
                                    "NEV": "Horváth Nikolett",
                                    "METTOL": "2016-05-24",
                                    "MEDDIG": "2016-05-29",
                                    "(No column name)": "NULL"
                                },
                                {
                                    "LOGIN": "nikolett3",
                                    "NEV": "Horváth Nikolett",
                                    "METTOL": "2016-06-03",
                                    "MEDDIG": "2016-06-09",
                                    "(No column name)": "2"
                                },
                                {
                                    "LOGIN": "nikolett3",
                                    "NEV": "Horváth Nikolett",
                                    "METTOL": "2016-06-22",
                                    "MEDDIG": "2016-06-24",
                                    "(No column name)": "3"
                                },
                                {
                                    "LOGIN": "nikolett3",
                                    "NEV": "Horváth Nikolett",
                                    "METTOL": "2016-10-22",
                                    "MEDDIG": "2016-10-29",
                                    "(No column name)": "4"
                                },
                                {
                                    "LOGIN": "nikoletta4",
                                    "NEV": "Kő Nikoletta",
                                    "METTOL": "2016-04-08",
                                    "MEDDIG": "2016-04-10",
                                    "(No column name)": "NULL"
                                },
                                {
                                    "LOGIN": "nikoletta4",
                                    "NEV": "Kő Nikoletta",
                                    "METTOL": "2016-05-09",
                                    "MEDDIG": "2016-05-15",
                                    "(No column name)": "2"
                                },
                                {
                                    "LOGIN": "nikoletta4",
                                    "NEV": "Kő Nikoletta",
                                    "METTOL": "2016-05-30",
                                    "MEDDIG": "2016-06-03",
                                    "(No column name)": "4"
                                },
                                {
                                    "LOGIN": "nikoletta4",
                                    "NEV": "Kő Nikoletta",
                                    "METTOL": "2016-06-29",
                                    "MEDDIG": "2016-07-06",
                                    "(No column name)": "7"
                                },
                                {
                                    "LOGIN": "nikoletta4",
                                    "NEV": "Kő Nikoletta",
                                    "METTOL": "2016-08-13",
                                    "MEDDIG": "2016-08-17",
                                    "(No column name)": "7"
                                },
                                {
                                    "LOGIN": "nikoletta4",
                                    "NEV": "Kő Nikoletta",
                                    "METTOL": "2016-12-08",
                                    "MEDDIG": "2016-12-10",
                                    "(No column name)": "8"
                                },
                                {
                                    "LOGIN": "nikoletta4",
                                    "NEV": "Kő Nikoletta",
                                    "METTOL": "2017-02-01",
                                    "MEDDIG": "2017-02-04",
                                    "(No column name)": "10"
                                },
                                {
                                    "LOGIN": "NIKOLETTAT",
                                    "NEV": "Tatár Nikoletta",
                                    "METTOL": "2016-05-22",
                                    "MEDDIG": "2016-05-23",
                                    "(No column name)": "NULL"
                                },
                                {
                                    "LOGIN": "NIKOLETTAT",
                                    "NEV": "Tatár Nikoletta",
                                    "METTOL": "2016-06-07",
                                    "MEDDIG": "2016-06-09",
                                    "(No column name)": "4"
                                },
                                {
                                    "LOGIN": "NIKOLETTAT",
                                    "NEV": "Tatár Nikoletta",
                                    "METTOL": "2016-07-27",
                                    "MEDDIG": "2016-07-29",
                                    "(No column name)": "6"
                                },
                                {
                                    "LOGIN": "NIKOLETTAT",
                                    "NEV": "Tatár Nikoletta",
                                    "METTOL": "2016-09-21",
                                    "MEDDIG": "2016-09-26",
                                    "(No column name)": "10"
                                },
                                {
                                    "LOGIN": "norbert",
                                    "NEV": "Szűcs Norbert",
                                    "METTOL": "2016-07-08",
                                    "MEDDIG": "2016-07-13",
                                    "(No column name)": "NULL"
                                },
                                {
                                    "LOGIN": "norbert",
                                    "NEV": "Szűcs Norbert",
                                    "METTOL": "2016-11-16",
                                    "MEDDIG": "2016-11-23",
                                    "(No column name)": "1"
                                },
                                {
                                    "LOGIN": "norbert",
                                    "NEV": "Szűcs Norbert",
                                    "METTOL": "2016-12-15",
                                    "MEDDIG": "2016-12-18",
                                    "(No column name)": "4"
                                },
                                {
                                    "LOGIN": "norbert",
                                    "NEV": "Szűcs Norbert",
                                    "METTOL": "2017-02-13",
                                    "MEDDIG": "2017-02-15",
                                    "(No column name)": "6"
                                },
                                {
                                    "LOGIN": "norbert",
                                    "NEV": "Szűcs Norbert",
                                    "METTOL": "2017-02-26",
                                    "MEDDIG": "2017-03-01",
                                    "(No column name)": "8"
                                },
                                {
                                    "LOGIN": "norbert2",
                                    "NEV": "Hegedűs Norbert",
                                    "METTOL": "2016-04-19",
                                    "MEDDIG": "2016-04-26",
                                    "(No column name)": "NULL"
                                },
                                {
                                    "LOGIN": "norbert2",
                                    "NEV": "Hegedűs Norbert",
                                    "METTOL": "2016-05-09",
                                    "MEDDIG": "2016-05-10",
                                    "(No column name)": "1"
                                },
                                {
                                    "LOGIN": "norbert2",
                                    "NEV": "Hegedűs Norbert",
                                    "METTOL": "2016-07-13",
                                    "MEDDIG": "2016-07-15",
                                    "(No column name)": "3"
                                },
                                {
                                    "LOGIN": "norbert2",
                                    "NEV": "Hegedűs Norbert",
                                    "METTOL": "2016-07-27",
                                    "MEDDIG": "2016-08-02",
                                    "(No column name)": "6"
                                },
                                {
                                    "LOGIN": "norbert2",
                                    "NEV": "Hegedűs Norbert",
                                    "METTOL": "2016-08-16",
                                    "MEDDIG": "2016-08-19",
                                    "(No column name)": "7"
                                },
                                {
                                    "LOGIN": "norbert2",
                                    "NEV": "Hegedűs Norbert",
                                    "METTOL": "2016-10-31",
                                    "MEDDIG": "2016-11-07",
                                    "(No column name)": "6"
                                },
                                {
                                    "LOGIN": "norbert2",
                                    "NEV": "Hegedűs Norbert",
                                    "METTOL": "2017-01-29",
                                    "MEDDIG": "2017-02-05",
                                    "(No column name)": "5"
                                },
                                {
                                    "LOGIN": "norbert4",
                                    "NEV": "Mile Norbert",
                                    "METTOL": "2016-04-10",
                                    "MEDDIG": "2016-04-13",
                                    "(No column name)": "NULL"
                                },
                                {
                                    "LOGIN": "norbert4",
                                    "NEV": "Mile Norbert",
                                    "METTOL": "2016-05-29",
                                    "MEDDIG": "2016-06-03",
                                    "(No column name)": "2"
                                },
                                {
                                    "LOGIN": "norbert4",
                                    "NEV": "Mile Norbert",
                                    "METTOL": "2016-06-16",
                                    "MEDDIG": "2016-06-17",
                                    "(No column name)": "5"
                                },
                                {
                                    "LOGIN": "norbert4",
                                    "NEV": "Mile Norbert",
                                    "METTOL": "2016-06-16",
                                    "MEDDIG": "2016-06-21",
                                    "(No column name)": "9"
                                },
                                {
                                    "LOGIN": "norbert4",
                                    "NEV": "Mile Norbert",
                                    "METTOL": "2016-10-05",
                                    "MEDDIG": "2016-10-10",
                                    "(No column name)": "10"
                                },
                                {
                                    "LOGIN": "norbert4",
                                    "NEV": "Mile Norbert",
                                    "METTOL": "2016-10-28",
                                    "MEDDIG": "2016-10-31",
                                    "(No column name)": "10"
                                },
                                {
                                    "LOGIN": "norbert4",
                                    "NEV": "Mile Norbert",
                                    "METTOL": "2016-11-30",
                                    "MEDDIG": "2016-12-06",
                                    "(No column name)": "9"
                                },
                                {
                                    "LOGIN": "norbert4",
                                    "NEV": "Mile Norbert",
                                    "METTOL": "2017-02-16",
                                    "MEDDIG": "2017-02-17",
                                    "(No column name)": "9"
                                },
                                {
                                    "LOGIN": "norbert4",
                                    "NEV": "Mile Norbert",
                                    "METTOL": "2017-03-03",
                                    "MEDDIG": "2017-03-07",
                                    "(No column name)": "7"
                                },
                                {
                                    "LOGIN": "norbert5",
                                    "NEV": "Béres Norbert",
                                    "METTOL": "2016-06-24",
                                    "MEDDIG": "2016-06-28",
                                    "(No column name)": "NULL"
                                },
                                {
                                    "LOGIN": "norbert5",
                                    "NEV": "Béres Norbert",
                                    "METTOL": "2016-08-10",
                                    "MEDDIG": "2016-08-11",
                                    "(No column name)": "2"
                                },
                                {
                                    "LOGIN": "norbert5",
                                    "NEV": "Béres Norbert",
                                    "METTOL": "2016-11-05",
                                    "MEDDIG": "2016-11-07",
                                    "(No column name)": "4"
                                },
                                {
                                    "LOGIN": "pal",
                                    "NEV": "Barabás Pál",
                                    "METTOL": "2016-08-14",
                                    "MEDDIG": "2016-08-18",
                                    "(No column name)": "NULL"
                                },
                                {
                                    "LOGIN": "pal",
                                    "NEV": "Barabás Pál",
                                    "METTOL": "2016-09-16",
                                    "MEDDIG": "2016-09-19",
                                    "(No column name)": "3"
                                },
                                {
                                    "LOGIN": "pal",
                                    "NEV": "Barabás Pál",
                                    "METTOL": "2016-12-17",
                                    "MEDDIG": "2016-12-23",
                                    "(No column name)": "5"
                                },
                                {
                                    "LOGIN": "pal",
                                    "NEV": "Barabás Pál",
                                    "METTOL": "2017-02-13",
                                    "MEDDIG": "2017-02-19",
                                    "(No column name)": "8"
                                },
                                {
                                    "LOGIN": "pal",
                                    "NEV": "Barabás Pál",
                                    "METTOL": "2017-02-20",
                                    "MEDDIG": "2017-02-22",
                                    "(No column name)": "8"
                                },
                                {
                                    "LOGIN": "peter1",
                                    "NEV": "Kozma Péter",
                                    "METTOL": "2016-07-14",
                                    "MEDDIG": "2016-07-18",
                                    "(No column name)": "NULL"
                                },
                                {
                                    "LOGIN": "peter1",
                                    "NEV": "Kozma Péter",
                                    "METTOL": "2016-10-26",
                                    "MEDDIG": "2016-11-01",
                                    "(No column name)": "3"
                                },
                                {
                                    "LOGIN": "peter1",
                                    "NEV": "Kozma Péter",
                                    "METTOL": "2017-02-23",
                                    "MEDDIG": "2017-02-26",
                                    "(No column name)": "6"
                                },
                                {
                                    "LOGIN": "peter1",
                                    "NEV": "Kozma Péter",
                                    "METTOL": "2017-02-28",
                                    "MEDDIG": "2017-03-05",
                                    "(No column name)": "9"
                                },
                                {
                                    "LOGIN": "peter2",
                                    "NEV": "Bozsó Péter",
                                    "METTOL": "2016-07-03",
                                    "MEDDIG": "2016-07-08",
                                    "(No column name)": "NULL"
                                },
                                {
                                    "LOGIN": "peter2",
                                    "NEV": "Bozsó Péter",
                                    "METTOL": "2016-10-10",
                                    "MEDDIG": "2016-10-16",
                                    "(No column name)": "2"
                                },
                                {
                                    "LOGIN": "peter2",
                                    "NEV": "Bozsó Péter",
                                    "METTOL": "2016-11-01",
                                    "MEDDIG": "2016-11-02",
                                    "(No column name)": "4"
                                },
                                {
                                    "LOGIN": "peter2",
                                    "NEV": "Bozsó Péter",
                                    "METTOL": "2016-11-15",
                                    "MEDDIG": "2016-11-21",
                                    "(No column name)": "6"
                                },
                                {
                                    "LOGIN": "peter3",
                                    "NEV": "Szalai Péter",
                                    "METTOL": "2016-06-30",
                                    "MEDDIG": "2016-07-05",
                                    "(No column name)": "NULL"
                                },
                                {
                                    "LOGIN": "peter3",
                                    "NEV": "Szalai Péter",
                                    "METTOL": "2016-07-27",
                                    "MEDDIG": "2016-07-31",
                                    "(No column name)": "3"
                                },
                                {
                                    "LOGIN": "peter3",
                                    "NEV": "Szalai Péter",
                                    "METTOL": "2016-10-30",
                                    "MEDDIG": "2016-11-06",
                                    "(No column name)": "7"
                                },
                                {
                                    "LOGIN": "peter3",
                                    "NEV": "Szalai Péter",
                                    "METTOL": "2016-12-25",
                                    "MEDDIG": "2016-12-28",
                                    "(No column name)": "9"
                                },
                                {
                                    "LOGIN": "peter3",
                                    "NEV": "Szalai Péter",
                                    "METTOL": "2017-01-12",
                                    "MEDDIG": "2017-01-17",
                                    "(No column name)": "7"
                                },
                                {
                                    "LOGIN": "peter3",
                                    "NEV": "Szalai Péter",
                                    "METTOL": "2017-02-21",
                                    "MEDDIG": "2017-02-24",
                                    "(No column name)": "4"
                                },
                                {
                                    "LOGIN": "peter4",
                                    "NEV": "Bíró Péter",
                                    "METTOL": "2016-04-12",
                                    "MEDDIG": "2016-04-15",
                                    "(No column name)": "NULL"
                                },
                                {
                                    "LOGIN": "peter4",
                                    "NEV": "Bíró Péter",
                                    "METTOL": "2016-08-06",
                                    "MEDDIG": "2016-08-13",
                                    "(No column name)": "3"
                                },
                                {
                                    "LOGIN": "peter4",
                                    "NEV": "Bíró Péter",
                                    "METTOL": "2016-08-24",
                                    "MEDDIG": "2016-08-25",
                                    "(No column name)": "5"
                                },
                                {
                                    "LOGIN": "peter4",
                                    "NEV": "Bíró Péter",
                                    "METTOL": "2016-09-11",
                                    "MEDDIG": "2016-09-17",
                                    "(No column name)": "8"
                                },
                                {
                                    "LOGIN": "peter4",
                                    "NEV": "Bíró Péter",
                                    "METTOL": "2016-09-25",
                                    "MEDDIG": "2016-09-26",
                                    "(No column name)": "9"
                                },
                                {
                                    "LOGIN": "peter4",
                                    "NEV": "Bíró Péter",
                                    "METTOL": "2016-09-30",
                                    "MEDDIG": "2016-10-06",
                                    "(No column name)": "10"
                                },
                                {
                                    "LOGIN": "peter4",
                                    "NEV": "Bíró Péter",
                                    "METTOL": "2016-10-09",
                                    "MEDDIG": "2016-10-16",
                                    "(No column name)": "10"
                                },
                                {
                                    "LOGIN": "peter4",
                                    "NEV": "Bíró Péter",
                                    "METTOL": "2016-10-24",
                                    "MEDDIG": "2016-10-25",
                                    "(No column name)": "9"
                                },
                                {
                                    "LOGIN": "peter4",
                                    "NEV": "Bíró Péter",
                                    "METTOL": "2016-10-30",
                                    "MEDDIG": "2016-11-01",
                                    "(No column name)": "8"
                                },
                                {
                                    "LOGIN": "peter4",
                                    "NEV": "Bíró Péter",
                                    "METTOL": "2016-11-10",
                                    "MEDDIG": "2016-11-17",
                                    "(No column name)": "8"
                                },
                                {
                                    "LOGIN": "peter4",
                                    "NEV": "Bíró Péter",
                                    "METTOL": "2016-11-25",
                                    "MEDDIG": "2016-11-30",
                                    "(No column name)": "8"
                                },
                                {
                                    "LOGIN": "peter4",
                                    "NEV": "Bíró Péter",
                                    "METTOL": "2017-02-05",
                                    "MEDDIG": "2017-02-09",
                                    "(No column name)": "9"
                                },
                                {
                                    "LOGIN": "PETERB",
                                    "NEV": "Berendi Péter",
                                    "METTOL": "2016-04-06",
                                    "MEDDIG": "2016-04-10",
                                    "(No column name)": "NULL"
                                },
                                {
                                    "LOGIN": "PETERB",
                                    "NEV": "Berendi Péter",
                                    "METTOL": "2016-07-20",
                                    "MEDDIG": "2016-07-24",
                                    "(No column name)": "1"
                                },
                                {
                                    "LOGIN": "PETERB",
                                    "NEV": "Berendi Péter",
                                    "METTOL": "2016-08-16",
                                    "MEDDIG": "2016-08-23",
                                    "(No column name)": "3"
                                },
                                {
                                    "LOGIN": "PETERB",
                                    "NEV": "Berendi Péter",
                                    "METTOL": "2016-10-19",
                                    "MEDDIG": "2016-10-20",
                                    "(No column name)": "4"
                                },
                                {
                                    "LOGIN": "PETERB",
                                    "NEV": "Berendi Péter",
                                    "METTOL": "2016-11-17",
                                    "MEDDIG": "2016-11-20",
                                    "(No column name)": "7"
                                },
                                {
                                    "LOGIN": "polla",
                                    "NEV": "Palágyi Polla",
                                    "METTOL": "2016-04-17",
                                    "MEDDIG": "2016-04-22",
                                    "(No column name)": "NULL"
                                },
                                {
                                    "LOGIN": "polla",
                                    "NEV": "Palágyi Polla",
                                    "METTOL": "2016-05-28",
                                    "MEDDIG": "2016-06-04",
                                    "(No column name)": "3"
                                },
                                {
                                    "LOGIN": "polla",
                                    "NEV": "Palágyi Polla",
                                    "METTOL": "2016-08-14",
                                    "MEDDIG": "2016-08-17",
                                    "(No column name)": "5"
                                },
                                {
                                    "LOGIN": "polla",
                                    "NEV": "Palágyi Polla",
                                    "METTOL": "2016-08-16",
                                    "MEDDIG": "2016-08-19",
                                    "(No column name)": "7"
                                },
                                {
                                    "LOGIN": "polla",
                                    "NEV": "Palágyi Polla",
                                    "METTOL": "2017-01-29",
                                    "MEDDIG": "2017-02-01",
                                    "(No column name)": "8"
                                },
                                {
                                    "LOGIN": "polla",
                                    "NEV": "Palágyi Polla",
                                    "METTOL": "2017-02-11",
                                    "MEDDIG": "2017-02-16",
                                    "(No column name)": "8"
                                },
                                {
                                    "LOGIN": "rajmond4",
                                    "NEV": "Rácz Rajmond",
                                    "METTOL": "2016-09-05",
                                    "MEDDIG": "2016-09-07",
                                    "(No column name)": "NULL"
                                },
                                {
                                    "LOGIN": "rajmond4",
                                    "NEV": "Rácz Rajmond",
                                    "METTOL": "2016-10-03",
                                    "MEDDIG": "2016-10-04",
                                    "(No column name)": "3"
                                },
                                {
                                    "LOGIN": "rajmond4",
                                    "NEV": "Rácz Rajmond",
                                    "METTOL": "2016-11-08",
                                    "MEDDIG": "2016-11-09",
                                    "(No column name)": "6"
                                },
                                {
                                    "LOGIN": "rajmond4",
                                    "NEV": "Rácz Rajmond",
                                    "METTOL": "2016-11-16",
                                    "MEDDIG": "2016-11-20",
                                    "(No column name)": "10"
                                },
                                {
                                    "LOGIN": "reka4",
                                    "NEV": "Szikszai Réka",
                                    "METTOL": "2016-07-27",
                                    "MEDDIG": "2016-07-31",
                                    "(No column name)": "NULL"
                                },
                                {
                                    "LOGIN": "reka4",
                                    "NEV": "Szikszai Réka",
                                    "METTOL": "2016-08-02",
                                    "MEDDIG": "2016-08-04",
                                    "(No column name)": "2"
                                },
                                {
                                    "LOGIN": "reka4",
                                    "NEV": "Szikszai Réka",
                                    "METTOL": "2016-09-05",
                                    "MEDDIG": "2016-09-07",
                                    "(No column name)": "6"
                                },
                                {
                                    "LOGIN": "reka4",
                                    "NEV": "Szikszai Réka",
                                    "METTOL": "2016-09-30",
                                    "MEDDIG": "2016-10-06",
                                    "(No column name)": "9"
                                },
                                {
                                    "LOGIN": "reka4",
                                    "NEV": "Szikszai Réka",
                                    "METTOL": "2017-02-26",
                                    "MEDDIG": "2017-03-04",
                                    "(No column name)": "9"
                                },
                                {
                                    "LOGIN": "RENATAK",
                                    "NEV": "Kardos Renáta",
                                    "METTOL": "2016-10-27",
                                    "MEDDIG": "2016-10-29",
                                    "(No column name)": "NULL"
                                },
                                {
                                    "LOGIN": "RENATAK",
                                    "NEV": "Kardos Renáta",
                                    "METTOL": "2016-10-30",
                                    "MEDDIG": "2016-10-31",
                                    "(No column name)": "4"
                                },
                                {
                                    "LOGIN": "RENATAK",
                                    "NEV": "Kardos Renáta",
                                    "METTOL": "2016-11-23",
                                    "MEDDIG": "2016-11-26",
                                    "(No column name)": "5"
                                },
                                {
                                    "LOGIN": "RENATAK",
                                    "NEV": "Kardos Renáta",
                                    "METTOL": "2017-01-23",
                                    "MEDDIG": "2017-01-24",
                                    "(No column name)": "6"
                                },
                                {
                                    "LOGIN": "RENATAK",
                                    "NEV": "Kardos Renáta",
                                    "METTOL": "2017-02-16",
                                    "MEDDIG": "2017-02-23",
                                    "(No column name)": "5"
                                },
                                {
                                    "LOGIN": "RENATAK",
                                    "NEV": "Kardos Renáta",
                                    "METTOL": "2017-03-01",
                                    "MEDDIG": "2017-03-06",
                                    "(No column name)": "5"
                                },
                                {
                                    "LOGIN": "RENATAS",
                                    "NEV": "Szirmai Renáta",
                                    "METTOL": "2016-05-04",
                                    "MEDDIG": "2016-05-11",
                                    "(No column name)": "NULL"
                                },
                                {
                                    "LOGIN": "RENATAS",
                                    "NEV": "Szirmai Renáta",
                                    "METTOL": "2016-05-11",
                                    "MEDDIG": "2016-05-16",
                                    "(No column name)": "2"
                                },
                                {
                                    "LOGIN": "RENATAS",
                                    "NEV": "Szirmai Renáta",
                                    "METTOL": "2016-06-24",
                                    "MEDDIG": "2016-06-30",
                                    "(No column name)": "4"
                                },
                                {
                                    "LOGIN": "RENATAS",
                                    "NEV": "Szirmai Renáta",
                                    "METTOL": "2017-02-13",
                                    "MEDDIG": "2017-02-17",
                                    "(No column name)": "9"
                                },
                                {
                                    "LOGIN": "RENATAS",
                                    "NEV": "Szirmai Renáta",
                                    "METTOL": "2017-02-14",
                                    "MEDDIG": "2017-02-17",
                                    "(No column name)": "8"
                                },
                                {
                                    "LOGIN": "robert2",
                                    "NEV": "Patay Róbert",
                                    "METTOL": "2016-05-15",
                                    "MEDDIG": "2016-05-18",
                                    "(No column name)": "NULL"
                                },
                                {
                                    "LOGIN": "robert2",
                                    "NEV": "Patay Róbert",
                                    "METTOL": "2016-08-20",
                                    "MEDDIG": "2016-08-27",
                                    "(No column name)": "2"
                                },
                                {
                                    "LOGIN": "robert2",
                                    "NEV": "Patay Róbert",
                                    "METTOL": "2016-10-23",
                                    "MEDDIG": "2016-10-28",
                                    "(No column name)": "4"
                                },
                                {
                                    "LOGIN": "robert2",
                                    "NEV": "Patay Róbert",
                                    "METTOL": "2016-12-17",
                                    "MEDDIG": "2016-12-22",
                                    "(No column name)": "7"
                                },
                                {
                                    "LOGIN": "ROBERTI",
                                    "NEV": "Iván Róbert",
                                    "METTOL": "2016-07-12",
                                    "MEDDIG": "2016-07-19",
                                    "(No column name)": "NULL"
                                },
                                {
                                    "LOGIN": "ROBERTI",
                                    "NEV": "Iván Róbert",
                                    "METTOL": "2016-08-16",
                                    "MEDDIG": "2016-08-21",
                                    "(No column name)": "4"
                                },
                                {
                                    "LOGIN": "ROBERTI",
                                    "NEV": "Iván Róbert",
                                    "METTOL": "2016-08-23",
                                    "MEDDIG": "2016-08-25",
                                    "(No column name)": "6"
                                },
                                {
                                    "LOGIN": "ROBERTI",
                                    "NEV": "Iván Róbert",
                                    "METTOL": "2016-10-08",
                                    "MEDDIG": "2016-10-12",
                                    "(No column name)": "8"
                                },
                                {
                                    "LOGIN": "ROBERTI",
                                    "NEV": "Iván Róbert",
                                    "METTOL": "2016-10-09",
                                    "MEDDIG": "2016-10-10",
                                    "(No column name)": "7"
                                },
                                {
                                    "LOGIN": "ROBERTI",
                                    "NEV": "Iván Róbert",
                                    "METTOL": "2016-10-23",
                                    "MEDDIG": "2016-10-29",
                                    "(No column name)": "7"
                                },
                                {
                                    "LOGIN": "ROBERTI",
                                    "NEV": "Iván Róbert",
                                    "METTOL": "2016-10-26",
                                    "MEDDIG": "2016-11-01",
                                    "(No column name)": "6"
                                },
                                {
                                    "LOGIN": "ROBERTI",
                                    "NEV": "Iván Róbert",
                                    "METTOL": "2017-02-17",
                                    "MEDDIG": "2017-02-20",
                                    "(No column name)": "5"
                                },
                                {
                                    "LOGIN": "ROBERTP",
                                    "NEV": "Pásztor Róbert",
                                    "METTOL": "2016-07-30",
                                    "MEDDIG": "2016-08-05",
                                    "(No column name)": "NULL"
                                },
                                {
                                    "LOGIN": "ROBERTP",
                                    "NEV": "Pásztor Róbert",
                                    "METTOL": "2016-09-08",
                                    "MEDDIG": "2016-09-11",
                                    "(No column name)": "2"
                                },
                                {
                                    "LOGIN": "roland",
                                    "NEV": "Tóth Roland",
                                    "METTOL": "2016-06-09",
                                    "MEDDIG": "2016-06-13",
                                    "(No column name)": "NULL"
                                },
                                {
                                    "LOGIN": "roland",
                                    "NEV": "Tóth Roland",
                                    "METTOL": "2016-06-22",
                                    "MEDDIG": "2016-06-23",
                                    "(No column name)": "3"
                                },
                                {
                                    "LOGIN": "roland",
                                    "NEV": "Tóth Roland",
                                    "METTOL": "2016-09-04",
                                    "MEDDIG": "2016-09-05",
                                    "(No column name)": "6"
                                },
                                {
                                    "LOGIN": "roland",
                                    "NEV": "Tóth Roland",
                                    "METTOL": "2016-11-19",
                                    "MEDDIG": "2016-11-24",
                                    "(No column name)": "8"
                                },
                                {
                                    "LOGIN": "roland1",
                                    "NEV": "Ferencz Roland",
                                    "METTOL": "2016-11-05",
                                    "MEDDIG": "2016-11-07",
                                    "(No column name)": "NULL"
                                },
                                {
                                    "LOGIN": "roland1",
                                    "NEV": "Ferencz Roland",
                                    "METTOL": "2016-12-22",
                                    "MEDDIG": "2016-12-29",
                                    "(No column name)": "3"
                                },
                                {
                                    "LOGIN": "roland1",
                                    "NEV": "Ferencz Roland",
                                    "METTOL": "2017-01-04",
                                    "MEDDIG": "2017-01-08",
                                    "(No column name)": "4"
                                },
                                {
                                    "LOGIN": "roland1",
                                    "NEV": "Ferencz Roland",
                                    "METTOL": "2017-01-16",
                                    "MEDDIG": "2017-01-22",
                                    "(No column name)": "7"
                                },
                                {
                                    "LOGIN": "roza2",
                                    "NEV": "Bucskó Róza",
                                    "METTOL": "2016-09-10",
                                    "MEDDIG": "2016-09-13",
                                    "(No column name)": "NULL"
                                },
                                {
                                    "LOGIN": "roza2",
                                    "NEV": "Bucskó Róza",
                                    "METTOL": "2017-01-11",
                                    "MEDDIG": "2017-01-17",
                                    "(No column name)": "2"
                                },
                                {
                                    "LOGIN": "roza2",
                                    "NEV": "Bucskó Róza",
                                    "METTOL": "2017-02-18",
                                    "MEDDIG": "2017-02-21",
                                    "(No column name)": "5"
                                },
                                {
                                    "LOGIN": "sandor",
                                    "NEV": "Karasz Sándor",
                                    "METTOL": "2016-07-04",
                                    "MEDDIG": "2016-07-06",
                                    "(No column name)": "NULL"
                                },
                                {
                                    "LOGIN": "sandor",
                                    "NEV": "Karasz Sándor",
                                    "METTOL": "2016-07-18",
                                    "MEDDIG": "2016-07-24",
                                    "(No column name)": "2"
                                },
                                {
                                    "LOGIN": "sandor",
                                    "NEV": "Karasz Sándor",
                                    "METTOL": "2016-08-20",
                                    "MEDDIG": "2016-08-25",
                                    "(No column name)": "4"
                                },
                                {
                                    "LOGIN": "sandor",
                                    "NEV": "Karasz Sándor",
                                    "METTOL": "2016-09-19",
                                    "MEDDIG": "2016-09-26",
                                    "(No column name)": "6"
                                },
                                {
                                    "LOGIN": "sandor3",
                                    "NEV": "Farkas Sándor",
                                    "METTOL": "2016-05-12",
                                    "MEDDIG": "2016-05-15",
                                    "(No column name)": "NULL"
                                },
                                {
                                    "LOGIN": "sandor3",
                                    "NEV": "Farkas Sándor",
                                    "METTOL": "2016-05-25",
                                    "MEDDIG": "2016-05-30",
                                    "(No column name)": "2"
                                },
                                {
                                    "LOGIN": "sandor3",
                                    "NEV": "Farkas Sándor",
                                    "METTOL": "2016-10-09",
                                    "MEDDIG": "2016-10-14",
                                    "(No column name)": "3"
                                },
                                {
                                    "LOGIN": "sandor3",
                                    "NEV": "Farkas Sándor",
                                    "METTOL": "2016-10-23",
                                    "MEDDIG": "2016-10-29",
                                    "(No column name)": "5"
                                },
                                {
                                    "LOGIN": "sandor3",
                                    "NEV": "Farkas Sándor",
                                    "METTOL": "2016-11-10",
                                    "MEDDIG": "2016-11-11",
                                    "(No column name)": "6"
                                },
                                {
                                    "LOGIN": "sandor4",
                                    "NEV": "Nagy Sándor",
                                    "METTOL": "2016-10-15",
                                    "MEDDIG": "2016-10-18",
                                    "(No column name)": "NULL"
                                },
                                {
                                    "LOGIN": "sandor4",
                                    "NEV": "Nagy Sándor",
                                    "METTOL": "2016-11-29",
                                    "MEDDIG": "2016-12-03",
                                    "(No column name)": "1"
                                },
                                {
                                    "LOGIN": "sandor4",
                                    "NEV": "Nagy Sándor",
                                    "METTOL": "2016-12-03",
                                    "MEDDIG": "2016-12-09",
                                    "(No column name)": "3"
                                },
                                {
                                    "LOGIN": "sandor4",
                                    "NEV": "Nagy Sándor",
                                    "METTOL": "2017-01-22",
                                    "MEDDIG": "2017-01-26",
                                    "(No column name)": "4"
                                },
                                {
                                    "LOGIN": "sara",
                                    "NEV": "Farkas Sára",
                                    "METTOL": "2016-05-28",
                                    "MEDDIG": "2016-05-30",
                                    "(No column name)": "NULL"
                                },
                                {
                                    "LOGIN": "sara",
                                    "NEV": "Farkas Sára",
                                    "METTOL": "2016-05-30",
                                    "MEDDIG": "2016-05-31",
                                    "(No column name)": "2"
                                },
                                {
                                    "LOGIN": "sara",
                                    "NEV": "Farkas Sára",
                                    "METTOL": "2016-06-06",
                                    "MEDDIG": "2016-06-08",
                                    "(No column name)": "4"
                                },
                                {
                                    "LOGIN": "sara",
                                    "NEV": "Farkas Sára",
                                    "METTOL": "2016-07-15",
                                    "MEDDIG": "2016-07-17",
                                    "(No column name)": "6"
                                },
                                {
                                    "LOGIN": "sara",
                                    "NEV": "Farkas Sára",
                                    "METTOL": "2016-07-24",
                                    "MEDDIG": "2016-07-27",
                                    "(No column name)": "7"
                                },
                                {
                                    "LOGIN": "sara",
                                    "NEV": "Farkas Sára",
                                    "METTOL": "2016-10-06",
                                    "MEDDIG": "2016-10-12",
                                    "(No column name)": "8"
                                },
                                {
                                    "LOGIN": "sara",
                                    "NEV": "Farkas Sára",
                                    "METTOL": "2016-10-11",
                                    "MEDDIG": "2016-10-14",
                                    "(No column name)": "9"
                                },
                                {
                                    "LOGIN": "sara",
                                    "NEV": "Farkas Sára",
                                    "METTOL": "2016-10-28",
                                    "MEDDIG": "2016-11-03",
                                    "(No column name)": "9"
                                },
                                {
                                    "LOGIN": "sara",
                                    "NEV": "Farkas Sára",
                                    "METTOL": "2016-11-18",
                                    "MEDDIG": "2016-11-21",
                                    "(No column name)": "8"
                                },
                                {
                                    "LOGIN": "sara",
                                    "NEV": "Farkas Sára",
                                    "METTOL": "2016-11-23",
                                    "MEDDIG": "2016-11-30",
                                    "(No column name)": "8"
                                },
                                {
                                    "LOGIN": "sara",
                                    "NEV": "Farkas Sára",
                                    "METTOL": "2016-12-06",
                                    "MEDDIG": "2016-12-10",
                                    "(No column name)": "9"
                                },
                                {
                                    "LOGIN": "sara",
                                    "NEV": "Farkas Sára",
                                    "METTOL": "2016-12-25",
                                    "MEDDIG": "2016-12-30",
                                    "(No column name)": "8"
                                },
                                {
                                    "LOGIN": "SEBASTIANF",
                                    "NEV": "Foltényi Sebastián",
                                    "METTOL": "2016-04-06",
                                    "MEDDIG": "2016-04-12",
                                    "(No column name)": "NULL"
                                },
                                {
                                    "LOGIN": "SEBASTIANF",
                                    "NEV": "Foltényi Sebastián",
                                    "METTOL": "2016-07-17",
                                    "MEDDIG": "2016-07-21",
                                    "(No column name)": "2"
                                },
                                {
                                    "LOGIN": "SEBASTIANF",
                                    "NEV": "Foltényi Sebastián",
                                    "METTOL": "2016-07-30",
                                    "MEDDIG": "2016-08-06",
                                    "(No column name)": "4"
                                },
                                {
                                    "LOGIN": "SEBASTIANF",
                                    "NEV": "Foltényi Sebastián",
                                    "METTOL": "2016-09-14",
                                    "MEDDIG": "2016-09-15",
                                    "(No column name)": "8"
                                },
                                {
                                    "LOGIN": "SEBASTIANF",
                                    "NEV": "Foltényi Sebastián",
                                    "METTOL": "2016-09-17",
                                    "MEDDIG": "2016-09-20",
                                    "(No column name)": "9"
                                },
                                {
                                    "LOGIN": "sebestyen",
                                    "NEV": "Rab Sebestyén",
                                    "METTOL": "2016-04-07",
                                    "MEDDIG": "2016-04-12",
                                    "(No column name)": "NULL"
                                },
                                {
                                    "LOGIN": "sebestyen",
                                    "NEV": "Rab Sebestyén",
                                    "METTOL": "2016-04-26",
                                    "MEDDIG": "2016-05-02",
                                    "(No column name)": "4"
                                },
                                {
                                    "LOGIN": "sebestyen",
                                    "NEV": "Rab Sebestyén",
                                    "METTOL": "2016-06-09",
                                    "MEDDIG": "2016-06-14",
                                    "(No column name)": "8"
                                },
                                {
                                    "LOGIN": "sebestyen",
                                    "NEV": "Rab Sebestyén",
                                    "METTOL": "2016-10-26",
                                    "MEDDIG": "2016-11-01",
                                    "(No column name)": "12"
                                },
                                {
                                    "LOGIN": "szabolcs",
                                    "NEV": "Bodor Szabolcs",
                                    "METTOL": "2016-12-05",
                                    "MEDDIG": "2016-12-07",
                                    "(No column name)": "NULL"
                                },
                                {
                                    "LOGIN": "SZABOLCSM",
                                    "NEV": "Miklós Szabolcs",
                                    "METTOL": "2016-06-18",
                                    "MEDDIG": "2016-06-21",
                                    "(No column name)": "NULL"
                                },
                                {
                                    "LOGIN": "SZABOLCSM",
                                    "NEV": "Miklós Szabolcs",
                                    "METTOL": "2016-07-28",
                                    "MEDDIG": "2016-08-03",
                                    "(No column name)": "3"
                                },
                                {
                                    "LOGIN": "SZABOLCSM",
                                    "NEV": "Miklós Szabolcs",
                                    "METTOL": "2016-10-17",
                                    "MEDDIG": "2016-10-19",
                                    "(No column name)": "5"
                                },
                                {
                                    "LOGIN": "SZABOLCSM",
                                    "NEV": "Miklós Szabolcs",
                                    "METTOL": "2016-10-28",
                                    "MEDDIG": "2016-11-03",
                                    "(No column name)": "7"
                                },
                                {
                                    "LOGIN": "SZABOLCSM",
                                    "NEV": "Miklós Szabolcs",
                                    "METTOL": "2016-11-12",
                                    "MEDDIG": "2016-11-13",
                                    "(No column name)": "7"
                                },
                                {
                                    "LOGIN": "SZABOLCSM",
                                    "NEV": "Miklós Szabolcs",
                                    "METTOL": "2017-01-07",
                                    "MEDDIG": "2017-01-08",
                                    "(No column name)": "7"
                                },
                                {
                                    "LOGIN": "SZABOLCSM",
                                    "NEV": "Miklós Szabolcs",
                                    "METTOL": "2017-02-04",
                                    "MEDDIG": "2017-02-05",
                                    "(No column name)": "7"
                                },
                                {
                                    "LOGIN": "SZILARDS",
                                    "NEV": "Szalai Szilárd",
                                    "METTOL": "2016-04-23",
                                    "MEDDIG": "2016-04-30",
                                    "(No column name)": "NULL"
                                },
                                {
                                    "LOGIN": "SZILARDS",
                                    "NEV": "Szalai Szilárd",
                                    "METTOL": "2016-07-27",
                                    "MEDDIG": "2016-08-03",
                                    "(No column name)": "3"
                                },
                                {
                                    "LOGIN": "SZILARDS",
                                    "NEV": "Szalai Szilárd",
                                    "METTOL": "2016-08-28",
                                    "MEDDIG": "2016-08-29",
                                    "(No column name)": "8"
                                },
                                {
                                    "LOGIN": "SZILARDS",
                                    "NEV": "Szalai Szilárd",
                                    "METTOL": "2016-09-20",
                                    "MEDDIG": "2016-09-24",
                                    "(No column name)": "12"
                                },
                                {
                                    "LOGIN": "SZILARDS",
                                    "NEV": "Szalai Szilárd",
                                    "METTOL": "2016-10-01",
                                    "MEDDIG": "2016-10-08",
                                    "(No column name)": "12"
                                },
                                {
                                    "LOGIN": "SZILARDS",
                                    "NEV": "Szalai Szilárd",
                                    "METTOL": "2017-01-16",
                                    "MEDDIG": "2017-01-19",
                                    "(No column name)": "10"
                                },
                                {
                                    "LOGIN": "SZILARDS",
                                    "NEV": "Szalai Szilárd",
                                    "METTOL": "2017-02-08",
                                    "MEDDIG": "2017-02-15",
                                    "(No column name)": "9"
                                },
                                {
                                    "LOGIN": "szilvia1",
                                    "NEV": "Tari Szilvia",
                                    "METTOL": "2016-05-14",
                                    "MEDDIG": "2016-05-21",
                                    "(No column name)": "NULL"
                                },
                                {
                                    "LOGIN": "szilvia1",
                                    "NEV": "Tari Szilvia",
                                    "METTOL": "2016-05-28",
                                    "MEDDIG": "2016-06-03",
                                    "(No column name)": "2"
                                },
                                {
                                    "LOGIN": "szilvia1",
                                    "NEV": "Tari Szilvia",
                                    "METTOL": "2016-07-25",
                                    "MEDDIG": "2016-07-28",
                                    "(No column name)": "4"
                                },
                                {
                                    "LOGIN": "szilvia1",
                                    "NEV": "Tari Szilvia",
                                    "METTOL": "2016-10-09",
                                    "MEDDIG": "2016-10-10",
                                    "(No column name)": "6"
                                },
                                {
                                    "LOGIN": "szilvia1",
                                    "NEV": "Tari Szilvia",
                                    "METTOL": "2016-10-25",
                                    "MEDDIG": "2016-10-31",
                                    "(No column name)": "7"
                                },
                                {
                                    "LOGIN": "szilvia1",
                                    "NEV": "Tari Szilvia",
                                    "METTOL": "2016-10-27",
                                    "MEDDIG": "2016-10-28",
                                    "(No column name)": "8"
                                },
                                {
                                    "LOGIN": "szilvia1",
                                    "NEV": "Tari Szilvia",
                                    "METTOL": "2016-12-25",
                                    "MEDDIG": "2016-12-29",
                                    "(No column name)": "8"
                                },
                                {
                                    "LOGIN": "szilvia1",
                                    "NEV": "Tari Szilvia",
                                    "METTOL": "2016-12-27",
                                    "MEDDIG": "2017-01-02",
                                    "(No column name)": "10"
                                },
                                {
                                    "LOGIN": "szilvia1",
                                    "NEV": "Tari Szilvia",
                                    "METTOL": "2017-01-28",
                                    "MEDDIG": "2017-02-03",
                                    "(No column name)": "9"
                                },
                                {
                                    "LOGIN": "tamara2",
                                    "NEV": "Miklós Tamara",
                                    "METTOL": "2016-08-12",
                                    "MEDDIG": "2016-08-15",
                                    "(No column name)": "NULL"
                                },
                                {
                                    "LOGIN": "tamara2",
                                    "NEV": "Miklós Tamara",
                                    "METTOL": "2016-11-15",
                                    "MEDDIG": "2016-11-18",
                                    "(No column name)": "3"
                                },
                                {
                                    "LOGIN": "tamas",
                                    "NEV": "Antal Tamás",
                                    "METTOL": "2016-05-17",
                                    "MEDDIG": "2016-05-22",
                                    "(No column name)": "NULL"
                                },
                                {
                                    "LOGIN": "tamas",
                                    "NEV": "Antal Tamás",
                                    "METTOL": "2016-06-14",
                                    "MEDDIG": "2016-06-21",
                                    "(No column name)": "2"
                                },
                                {
                                    "LOGIN": "tamas",
                                    "NEV": "Antal Tamás",
                                    "METTOL": "2016-08-24",
                                    "MEDDIG": "2016-08-27",
                                    "(No column name)": "4"
                                },
                                {
                                    "LOGIN": "tamas",
                                    "NEV": "Antal Tamás",
                                    "METTOL": "2017-02-14",
                                    "MEDDIG": "2017-02-19",
                                    "(No column name)": "7"
                                },
                                {
                                    "LOGIN": "TAMASF",
                                    "NEV": "Fényes Tamás",
                                    "METTOL": "2016-05-03",
                                    "MEDDIG": "2016-05-04",
                                    "(No column name)": "NULL"
                                },
                                {
                                    "LOGIN": "TAMASF",
                                    "NEV": "Fényes Tamás",
                                    "METTOL": "2016-06-10",
                                    "MEDDIG": "2016-06-13",
                                    "(No column name)": "2"
                                },
                                {
                                    "LOGIN": "TAMASF",
                                    "NEV": "Fényes Tamás",
                                    "METTOL": "2016-06-28",
                                    "MEDDIG": "2016-07-05",
                                    "(No column name)": "5"
                                },
                                {
                                    "LOGIN": "TAMASF",
                                    "NEV": "Fényes Tamás",
                                    "METTOL": "2016-07-04",
                                    "MEDDIG": "2016-07-10",
                                    "(No column name)": "8"
                                },
                                {
                                    "LOGIN": "TAMASF",
                                    "NEV": "Fényes Tamás",
                                    "METTOL": "2016-09-12",
                                    "MEDDIG": "2016-09-18",
                                    "(No column name)": "8"
                                },
                                {
                                    "LOGIN": "TAMASF",
                                    "NEV": "Fényes Tamás",
                                    "METTOL": "2016-12-02",
                                    "MEDDIG": "2016-12-04",
                                    "(No column name)": "8"
                                },
                                {
                                    "LOGIN": "TAMASF",
                                    "NEV": "Fényes Tamás",
                                    "METTOL": "2016-12-10",
                                    "MEDDIG": "2016-12-14",
                                    "(No column name)": "6"
                                },
                                {
                                    "LOGIN": "TAMASF",
                                    "NEV": "Fényes Tamás",
                                    "METTOL": "2017-02-12",
                                    "MEDDIG": "2017-02-17",
                                    "(No column name)": "7"
                                },
                                {
                                    "LOGIN": "TAMASF",
                                    "NEV": "Fényes Tamás",
                                    "METTOL": "2017-02-16",
                                    "MEDDIG": "2017-02-19",
                                    "(No column name)": "6"
                                },
                                {
                                    "LOGIN": "tibor",
                                    "NEV": "Gombos Tibor",
                                    "METTOL": "2016-10-09",
                                    "MEDDIG": "2016-10-13",
                                    "(No column name)": "NULL"
                                },
                                {
                                    "LOGIN": "tibor",
                                    "NEV": "Gombos Tibor",
                                    "METTOL": "2016-11-05",
                                    "MEDDIG": "2016-11-09",
                                    "(No column name)": "2"
                                },
                                {
                                    "LOGIN": "tibor2",
                                    "NEV": "Dániel Tibor",
                                    "METTOL": "2016-10-20",
                                    "MEDDIG": "2016-10-25",
                                    "(No column name)": "NULL"
                                },
                                {
                                    "LOGIN": "tihamer",
                                    "NEV": "Kazy Tihamér",
                                    "METTOL": "2016-05-30",
                                    "MEDDIG": "2016-06-05",
                                    "(No column name)": "NULL"
                                },
                                {
                                    "LOGIN": "tihamer",
                                    "NEV": "Kazy Tihamér",
                                    "METTOL": "2016-06-03",
                                    "MEDDIG": "2016-06-08",
                                    "(No column name)": "1"
                                },
                                {
                                    "LOGIN": "tihamer",
                                    "NEV": "Kazy Tihamér",
                                    "METTOL": "2016-07-20",
                                    "MEDDIG": "2016-07-24",
                                    "(No column name)": "6"
                                },
                                {
                                    "LOGIN": "tihamer",
                                    "NEV": "Kazy Tihamér",
                                    "METTOL": "2016-08-18",
                                    "MEDDIG": "2016-08-22",
                                    "(No column name)": "9"
                                },
                                {
                                    "LOGIN": "tihamer",
                                    "NEV": "Kazy Tihamér",
                                    "METTOL": "2016-10-19",
                                    "MEDDIG": "2016-10-23",
                                    "(No column name)": "11"
                                },
                                {
                                    "LOGIN": "tihamer",
                                    "NEV": "Kazy Tihamér",
                                    "METTOL": "2016-12-25",
                                    "MEDDIG": "2016-12-26",
                                    "(No column name)": "8"
                                },
                                {
                                    "LOGIN": "timea",
                                    "NEV": "Papós Tímea",
                                    "METTOL": "2016-12-26",
                                    "MEDDIG": "2016-12-27",
                                    "(No column name)": "NULL"
                                },
                                {
                                    "LOGIN": "timea2",
                                    "NEV": "Dusha Tímea",
                                    "METTOL": "2016-06-06",
                                    "MEDDIG": "2016-06-07",
                                    "(No column name)": "NULL"
                                },
                                {
                                    "LOGIN": "timea2",
                                    "NEV": "Dusha Tímea",
                                    "METTOL": "2016-08-07",
                                    "MEDDIG": "2016-08-10",
                                    "(No column name)": "2"
                                },
                                {
                                    "LOGIN": "timea2",
                                    "NEV": "Dusha Tímea",
                                    "METTOL": "2016-10-26",
                                    "MEDDIG": "2016-10-29",
                                    "(No column name)": "5"
                                },
                                {
                                    "LOGIN": "timea2",
                                    "NEV": "Dusha Tímea",
                                    "METTOL": "2016-11-27",
                                    "MEDDIG": "2016-12-01",
                                    "(No column name)": "8"
                                },
                                {
                                    "LOGIN": "timea2",
                                    "NEV": "Dusha Tímea",
                                    "METTOL": "2016-12-14",
                                    "MEDDIG": "2016-12-16",
                                    "(No column name)": "10"
                                },
                                {
                                    "LOGIN": "tunde",
                                    "NEV": "Turcsik Tünde",
                                    "METTOL": "2016-06-03",
                                    "MEDDIG": "2016-06-07",
                                    "(No column name)": "NULL"
                                },
                                {
                                    "LOGIN": "tunde",
                                    "NEV": "Turcsik Tünde",
                                    "METTOL": "2016-06-06",
                                    "MEDDIG": "2016-06-12",
                                    "(No column name)": "3"
                                },
                                {
                                    "LOGIN": "tunde",
                                    "NEV": "Turcsik Tünde",
                                    "METTOL": "2016-07-14",
                                    "MEDDIG": "2016-07-21",
                                    "(No column name)": "6"
                                },
                                {
                                    "LOGIN": "tunde",
                                    "NEV": "Turcsik Tünde",
                                    "METTOL": "2016-09-05",
                                    "MEDDIG": "2016-09-12",
                                    "(No column name)": "7"
                                },
                                {
                                    "LOGIN": "tunde",
                                    "NEV": "Turcsik Tünde",
                                    "METTOL": "2016-10-24",
                                    "MEDDIG": "2016-10-30",
                                    "(No column name)": "6"
                                },
                                {
                                    "LOGIN": "tunde",
                                    "NEV": "Turcsik Tünde",
                                    "METTOL": "2016-11-19",
                                    "MEDDIG": "2016-11-20",
                                    "(No column name)": "6"
                                },
                                {
                                    "LOGIN": "tunde",
                                    "NEV": "Turcsik Tünde",
                                    "METTOL": "2016-12-15",
                                    "MEDDIG": "2016-12-20",
                                    "(No column name)": "8"
                                },
                                {
                                    "LOGIN": "tunde",
                                    "NEV": "Turcsik Tünde",
                                    "METTOL": "2017-01-03",
                                    "MEDDIG": "2017-01-06",
                                    "(No column name)": "9"
                                },
                                {
                                    "LOGIN": "valentin",
                                    "NEV": "Feró Valentin",
                                    "METTOL": "2016-05-24",
                                    "MEDDIG": "2016-05-30",
                                    "(No column name)": "NULL"
                                },
                                {
                                    "LOGIN": "valentin",
                                    "NEV": "Feró Valentin",
                                    "METTOL": "2016-07-24",
                                    "MEDDIG": "2016-07-29",
                                    "(No column name)": "4"
                                },
                                {
                                    "LOGIN": "valentin",
                                    "NEV": "Feró Valentin",
                                    "METTOL": "2016-10-26",
                                    "MEDDIG": "2016-10-30",
                                    "(No column name)": "5"
                                },
                                {
                                    "LOGIN": "valentin",
                                    "NEV": "Feró Valentin",
                                    "METTOL": "2016-11-11",
                                    "MEDDIG": "2016-11-17",
                                    "(No column name)": "8"
                                },
                                {
                                    "LOGIN": "valentin",
                                    "NEV": "Feró Valentin",
                                    "METTOL": "2016-12-01",
                                    "MEDDIG": "2016-12-05",
                                    "(No column name)": "7"
                                },
                                {
                                    "LOGIN": "veronika4",
                                    "NEV": "Tankó Veronika",
                                    "METTOL": "2016-05-30",
                                    "MEDDIG": "2016-06-04",
                                    "(No column name)": "NULL"
                                },
                                {
                                    "LOGIN": "veronika4",
                                    "NEV": "Tankó Veronika",
                                    "METTOL": "2016-07-20",
                                    "MEDDIG": "2016-07-26",
                                    "(No column name)": "2"
                                },
                                {
                                    "LOGIN": "veronika4",
                                    "NEV": "Tankó Veronika",
                                    "METTOL": "2016-08-16",
                                    "MEDDIG": "2016-08-21",
                                    "(No column name)": "5"
                                },
                                {
                                    "LOGIN": "veronika4",
                                    "NEV": "Tankó Veronika",
                                    "METTOL": "2016-09-26",
                                    "MEDDIG": "2016-10-03",
                                    "(No column name)": "6"
                                },
                                {
                                    "LOGIN": "veronika4",
                                    "NEV": "Tankó Veronika",
                                    "METTOL": "2017-01-19",
                                    "MEDDIG": "2017-01-24",
                                    "(No column name)": "6"
                                },
                                {
                                    "LOGIN": "veronika4",
                                    "NEV": "Tankó Veronika",
                                    "METTOL": "2017-02-03",
                                    "MEDDIG": "2017-02-05",
                                    "(No column name)": "6"
                                },
                                {
                                    "LOGIN": "VIKTORIAU",
                                    "NEV": "Urbán Viktoria",
                                    "METTOL": "2016-04-30",
                                    "MEDDIG": "2016-05-03",
                                    "(No column name)": "NULL"
                                },
                                {
                                    "LOGIN": "VIKTORIAU",
                                    "NEV": "Urbán Viktoria",
                                    "METTOL": "2016-08-03",
                                    "MEDDIG": "2016-08-04",
                                    "(No column name)": "1"
                                },
                                {
                                    "LOGIN": "VIKTORIAU",
                                    "NEV": "Urbán Viktoria",
                                    "METTOL": "2016-10-14",
                                    "MEDDIG": "2016-10-15",
                                    "(No column name)": "3"
                                },
                                {
                                    "LOGIN": "VIKTORIAU",
                                    "NEV": "Urbán Viktoria",
                                    "METTOL": "2016-10-26",
                                    "MEDDIG": "2016-11-02",
                                    "(No column name)": "6"
                                },
                                {
                                    "LOGIN": "VIKTORK",
                                    "NEV": "Keresztúri Viktor",
                                    "METTOL": "2016-05-30",
                                    "MEDDIG": "2016-06-01",
                                    "(No column name)": "NULL"
                                },
                                {
                                    "LOGIN": "VIKTORK",
                                    "NEV": "Keresztúri Viktor",
                                    "METTOL": "2016-06-06",
                                    "MEDDIG": "2016-06-07",
                                    "(No column name)": "2"
                                },
                                {
                                    "LOGIN": "vivien3",
                                    "NEV": "Boros Vivien",
                                    "METTOL": "2016-05-02",
                                    "MEDDIG": "2016-05-05",
                                    "(No column name)": "NULL"
                                },
                                {
                                    "LOGIN": "vivien3",
                                    "NEV": "Boros Vivien",
                                    "METTOL": "2016-08-13",
                                    "MEDDIG": "2016-08-18",
                                    "(No column name)": "3"
                                },
                                {
                                    "LOGIN": "vivien3",
                                    "NEV": "Boros Vivien",
                                    "METTOL": "2016-09-01",
                                    "MEDDIG": "2016-09-05",
                                    "(No column name)": "5"
                                },
                                {
                                    "LOGIN": "vivien3",
                                    "NEV": "Boros Vivien",
                                    "METTOL": "2016-10-01",
                                    "MEDDIG": "2016-10-04",
                                    "(No column name)": "7"
                                },
                                {
                                    "LOGIN": "vivien3",
                                    "NEV": "Boros Vivien",
                                    "METTOL": "2016-11-17",
                                    "MEDDIG": "2016-11-20",
                                    "(No column name)": "5"
                                },
                                {
                                    "LOGIN": "vivien3",
                                    "NEV": "Boros Vivien",
                                    "METTOL": "2016-12-17",
                                    "MEDDIG": "2016-12-21",
                                    "(No column name)": "5"
                                },
                                {
                                    "LOGIN": "vivien3",
                                    "NEV": "Boros Vivien",
                                    "METTOL": "2016-12-24",
                                    "MEDDIG": "2016-12-26",
                                    "(No column name)": "5"
                                },
                                {
                                    "LOGIN": "zoltan",
                                    "NEV": "Fodor Zoltán",
                                    "METTOL": "2016-08-24",
                                    "MEDDIG": "2016-08-31",
                                    "(No column name)": "NULL"
                                },
                                {
                                    "LOGIN": "zoltan",
                                    "NEV": "Fodor Zoltán",
                                    "METTOL": "2016-09-05",
                                    "MEDDIG": "2016-09-09",
                                    "(No column name)": "2"
                                },
                                {
                                    "LOGIN": "zoltan4",
                                    "NEV": "Barna Zoltán",
                                    "METTOL": "2016-05-12",
                                    "MEDDIG": "2016-05-16",
                                    "(No column name)": "NULL"
                                },
                                {
                                    "LOGIN": "zoltan4",
                                    "NEV": "Barna Zoltán",
                                    "METTOL": "2016-05-13",
                                    "MEDDIG": "2016-05-16",
                                    "(No column name)": "3"
                                },
                                {
                                    "LOGIN": "zoltan4",
                                    "NEV": "Barna Zoltán",
                                    "METTOL": "2016-06-03",
                                    "MEDDIG": "2016-06-06",
                                    "(No column name)": "6"
                                },
                                {
                                    "LOGIN": "zoltan4",
                                    "NEV": "Barna Zoltán",
                                    "METTOL": "2016-08-15",
                                    "MEDDIG": "2016-08-21",
                                    "(No column name)": "7"
                                },
                                {
                                    "LOGIN": "zoltan4",
                                    "NEV": "Barna Zoltán",
                                    "METTOL": "2016-08-16",
                                    "MEDDIG": "2016-08-23",
                                    "(No column name)": "5"
                                },
                                {
                                    "LOGIN": "zoltan4",
                                    "NEV": "Barna Zoltán",
                                    "METTOL": "2016-09-30",
                                    "MEDDIG": "2016-10-07",
                                    "(No column name)": "4"
                                },
                                {
                                    "LOGIN": "zoltan4",
                                    "NEV": "Barna Zoltán",
                                    "METTOL": "2016-10-21",
                                    "MEDDIG": "2016-10-24",
                                    "(No column name)": "6"
                                },
                                {
                                    "LOGIN": "zoltan4",
                                    "NEV": "Barna Zoltán",
                                    "METTOL": "2016-10-26",
                                    "MEDDIG": "2016-10-30",
                                    "(No column name)": "10"
                                },
                                {
                                    "LOGIN": "zoltan4",
                                    "NEV": "Barna Zoltán",
                                    "METTOL": "2016-10-30",
                                    "MEDDIG": "2016-11-06",
                                    "(No column name)": "10"
                                },
                                {
                                    "LOGIN": "zoltan4",
                                    "NEV": "Barna Zoltán",
                                    "METTOL": "2016-11-19",
                                    "MEDDIG": "2016-11-21",
                                    "(No column name)": "8"
                                },
                                {
                                    "LOGIN": "zoltan4",
                                    "NEV": "Barna Zoltán",
                                    "METTOL": "2016-12-29",
                                    "MEDDIG": "2017-01-04",
                                    "(No column name)": "5"
                                },
                                {
                                    "LOGIN": "zoltan4",
                                    "NEV": "Barna Zoltán",
                                    "METTOL": "2017-01-01",
                                    "MEDDIG": "2017-01-02",
                                    "(No column name)": "4"
                                },
                                {
                                    "LOGIN": "ZOLTANP",
                                    "NEV": "Pintér Zoltán",
                                    "METTOL": "2016-06-05",
                                    "MEDDIG": "2016-06-08",
                                    "(No column name)": "NULL"
                                },
                                {
                                    "LOGIN": "ZOLTANP",
                                    "NEV": "Pintér Zoltán",
                                    "METTOL": "2016-06-06",
                                    "MEDDIG": "2016-06-08",
                                    "(No column name)": "2"
                                },
                                {
                                    "LOGIN": "ZOLTANP",
                                    "NEV": "Pintér Zoltán",
                                    "METTOL": "2016-07-20",
                                    "MEDDIG": "2016-07-25",
                                    "(No column name)": "4"
                                },
                                {
                                    "LOGIN": "ZOLTANP",
                                    "NEV": "Pintér Zoltán",
                                    "METTOL": "2016-10-19",
                                    "MEDDIG": "2016-10-25",
                                    "(No column name)": "7"
                                },
                                {
                                    "LOGIN": "ZOLTANP",
                                    "NEV": "Pintér Zoltán",
                                    "METTOL": "2016-12-07",
                                    "MEDDIG": "2016-12-10",
                                    "(No column name)": "7"
                                },
                                {
                                    "LOGIN": "ZOLTANP",
                                    "NEV": "Pintér Zoltán",
                                    "METTOL": "2016-12-25",
                                    "MEDDIG": "2016-12-29",
                                    "(No column name)": "8"
                                },
                                {
                                    "LOGIN": "ZOLTANT",
                                    "NEV": "Tóth Zoltán",
                                    "METTOL": "2016-05-01",
                                    "MEDDIG": "2016-05-04",
                                    "(No column name)": "NULL"
                                },
                                {
                                    "LOGIN": "ZOLTANT",
                                    "NEV": "Tóth Zoltán",
                                    "METTOL": "2016-07-14",
                                    "MEDDIG": "2016-07-15",
                                    "(No column name)": "3"
                                },
                                {
                                    "LOGIN": "ZOLTANT",
                                    "NEV": "Tóth Zoltán",
                                    "METTOL": "2017-01-16",
                                    "MEDDIG": "2017-01-20",
                                    "(No column name)": "6"
                                },
                                {
                                    "LOGIN": "zsofi1",
                                    "NEV": "Molnár Zsófi",
                                    "METTOL": "2016-06-16",
                                    "MEDDIG": "2016-06-17",
                                    "(No column name)": "NULL"
                                },
                                {
                                    "LOGIN": "zsofi1",
                                    "NEV": "Molnár Zsófi",
                                    "METTOL": "2017-02-18",
                                    "MEDDIG": "2017-02-19",
                                    "(No column name)": "2"
                                },
                                {
                                    "LOGIN": "zsolt1",
                                    "NEV": "Pulai Zsolt",
                                    "METTOL": "2016-04-14",
                                    "MEDDIG": "2016-04-17",
                                    "(No column name)": "NULL"
                                },
                                {
                                    "LOGIN": "zsolt1",
                                    "NEV": "Pulai Zsolt",
                                    "METTOL": "2016-06-06",
                                    "MEDDIG": "2016-06-08",
                                    "(No column name)": "2"
                                },
                                {
                                    "LOGIN": "zsolt1",
                                    "NEV": "Pulai Zsolt",
                                    "METTOL": "2016-06-07",
                                    "MEDDIG": "2016-06-10",
                                    "(No column name)": "4"
                                },
                                {
                                    "LOGIN": "zsolt1",
                                    "NEV": "Pulai Zsolt",
                                    "METTOL": "2016-07-31",
                                    "MEDDIG": "2016-08-02",
                                    "(No column name)": "8"
                                },
                                {
                                    "LOGIN": "ZSOLTJ",
                                    "NEV": "Józsa Zsolt",
                                    "METTOL": "2016-04-24",
                                    "MEDDIG": "2016-04-26",
                                    "(No column name)": "NULL"
                                },
                                {
                                    "LOGIN": "ZSOLTJ",
                                    "NEV": "Józsa Zsolt",
                                    "METTOL": "2016-05-09",
                                    "MEDDIG": "2016-05-11",
                                    "(No column name)": "4"
                                },
                                {
                                    "LOGIN": "ZSOLTJ",
                                    "NEV": "Józsa Zsolt",
                                    "METTOL": "2016-05-28",
                                    "MEDDIG": "2016-06-03",
                                    "(No column name)": "6"
                                },
                                {
                                    "LOGIN": "ZSOLTJ",
                                    "NEV": "Józsa Zsolt",
                                    "METTOL": "2016-06-17",
                                    "MEDDIG": "2016-06-19",
                                    "(No column name)": "7"
                                },
                                {
                                    "LOGIN": "ZSOLTJ",
                                    "NEV": "Józsa Zsolt",
                                    "METTOL": "2016-07-18",
                                    "MEDDIG": "2016-07-19",
                                    "(No column name)": "5"
                                },
                                {
                                    "LOGIN": "ZSOLTJ",
                                    "NEV": "Józsa Zsolt",
                                    "METTOL": "2016-10-01",
                                    "MEDDIG": "2016-10-06",
                                    "(No column name)": "5"
                                },
                                {
                                    "LOGIN": "zsuzsa",
                                    "NEV": "Pusztai Zsuzsanna",
                                    "METTOL": "2016-07-24",
                                    "MEDDIG": "2016-07-25",
                                    "(No column name)": "NULL"
                                },
                                {
                                    "LOGIN": "zsuzsa",
                                    "NEV": "Pusztai Zsuzsanna",
                                    "METTOL": "2016-08-28",
                                    "MEDDIG": "2016-08-30",
                                    "(No column name)": "3"
                                },
                                {
                                    "LOGIN": "zsuzsa",
                                    "NEV": "Pusztai Zsuzsanna",
                                    "METTOL": "2016-11-28",
                                    "MEDDIG": "2016-12-04",
                                    "(No column name)": "5"
                                },
                                {
                                    "LOGIN": "zsuzsa3",
                                    "NEV": "Varsányi Zsuzsa",
                                    "METTOL": "2016-07-30",
                                    "MEDDIG": "2016-08-02",
                                    "(No column name)": "NULL"
                                },
                                {
                                    "LOGIN": "zsuzsa3",
                                    "NEV": "Varsányi Zsuzsa",
                                    "METTOL": "2016-09-09",
                                    "MEDDIG": "2016-09-10",
                                    "(No column name)": "2"
                                },
                                {
                                    "LOGIN": "zsuzsa3",
                                    "NEV": "Varsányi Zsuzsa",
                                    "METTOL": "2016-09-28",
                                    "MEDDIG": "2016-10-03",
                                    "(No column name)": "4"
                                },
                                {
                                    "LOGIN": "zsuzsa3",
                                    "NEV": "Varsányi Zsuzsa",
                                    "METTOL": "2016-10-27",
                                    "MEDDIG": "2016-11-03",
                                    "(No column name)": "6"
                                },
                                {
                                    "LOGIN": "zsuzsanna",
                                    "NEV": "Barta Zsuzsanna",
                                    "METTOL": "2016-05-17",
                                    "MEDDIG": "2016-05-23",
                                    "(No column name)": "NULL"
                                },
                                {
                                    "LOGIN": "zsuzsanna",
                                    "NEV": "Barta Zsuzsanna",
                                    "METTOL": "2016-07-12",
                                    "MEDDIG": "2016-07-15",
                                    "(No column name)": "2"
                                },
                                {
                                    "LOGIN": "zsuzsanna",
                                    "NEV": "Barta Zsuzsanna",
                                    "METTOL": "2017-01-09",
                                    "MEDDIG": "2017-01-16",
                                    "(No column name)": "4"
                                },
                                {
                                    "LOGIN": "zsuzsanna",
                                    "NEV": "Barta Zsuzsanna",
                                    "METTOL": "2017-01-16",
                                    "MEDDIG": "2017-01-22",
                                    "(No column name)": "5"
                                },
                                {
                                    "LOGIN": "ZSUZSAV",
                                    "NEV": "Vajda Zsuzsa",
                                    "METTOL": "2016-04-14",
                                    "MEDDIG": "2016-04-16",
                                    "(No column name)": "NULL"
                                },
                                {
                                    "LOGIN": "ZSUZSAV",
                                    "NEV": "Vajda Zsuzsa",
                                    "METTOL": "2016-05-28",
                                    "MEDDIG": "2016-06-01",
                                    "(No column name)": "2"
                                },
                                {
                                    "LOGIN": "ZSUZSAV",
                                    "NEV": "Vajda Zsuzsa",
                                    "METTOL": "2016-06-15",
                                    "MEDDIG": "2016-06-21",
                                    "(No column name)": "6"
                                },
                                {
                                    "LOGIN": "ZSUZSAV",
                                    "NEV": "Vajda Zsuzsa",
                                    "METTOL": "2016-09-18",
                                    "MEDDIG": "2016-09-20",
                                    "(No column name)": "9"
                                },
                                {
                                    "LOGIN": "ZSUZSAV",
                                    "NEV": "Vajda Zsuzsa",
                                    "METTOL": "2016-10-26",
                                    "MEDDIG": "2016-10-28",
                                    "(No column name)": "9"
                                },
                                {
                                    "LOGIN": "ZSUZSAV",
                                    "NEV": "Vajda Zsuzsa",
                                    "METTOL": "2016-11-21",
                                    "MEDDIG": "2016-11-24",
                                    "(No column name)": "6"
                                }
                            ]
                        },
                        "text/html": [
                            "<table>",
                            "<tr><th>LOGIN</th><th>NEV</th><th>METTOL</th><th>MEDDIG</th><th>(No column name)</th><th>(No column name)</th></tr>",
                            "<tr><td>adam1</td><td>Kiss Ádám</td><td>2016-05-28</td><td>2016-06-03</td><td>3</td><td>NULL</td></tr>",
                            "<tr><td>adam1</td><td>Kiss Ádám</td><td>2016-08-20</td><td>2016-08-24</td><td>1</td><td>3</td></tr>",
                            "<tr><td>adam1</td><td>Kiss Ádám</td><td>2016-10-19</td><td>2016-10-24</td><td>2</td><td>4</td></tr>",
                            "<tr><td>adam3</td><td>Barkóci Ádám</td><td>2016-09-12</td><td>2016-09-16</td><td>2</td><td>NULL</td></tr>",
                            "<tr><td>adam3</td><td>Barkóci Ádám</td><td>2017-02-06</td><td>2017-02-10</td><td>1</td><td>2</td></tr>",
                            "<tr><td>adam4</td><td>Bieniek Ádám</td><td>2016-08-28</td><td>2016-08-30</td><td>3</td><td>NULL</td></tr>",
                            "<tr><td>adam4</td><td>Bieniek Ádám</td><td>2016-10-27</td><td>2016-11-02</td><td>3</td><td>3</td></tr>",
                            "<tr><td>adam4</td><td>Bieniek Ádám</td><td>2016-11-15</td><td>2016-11-18</td><td>2</td><td>6</td></tr>",
                            "<tr><td>adam4</td><td>Bieniek Ádám</td><td>2016-12-06</td><td>2016-12-09</td><td>3</td><td>8</td></tr>",
                            "<tr><td>adam4</td><td>Bieniek Ádám</td><td>2017-01-12</td><td>2017-01-19</td><td>2</td><td>8</td></tr>",
                            "<tr><td>adam4</td><td>Bieniek Ádám</td><td>2017-02-23</td><td>2017-02-27</td><td>3</td><td>7</td></tr>",
                            "<tr><td>agnes</td><td>Lengyel Ágnes</td><td>2016-05-09</td><td>2016-05-11</td><td>3</td><td>NULL</td></tr>",
                            "<tr><td>agnes</td><td>Lengyel Ágnes</td><td>2016-05-25</td><td>2016-05-30</td><td>1</td><td>3</td></tr>",
                            "<tr><td>agnes</td><td>Lengyel Ágnes</td><td>2016-07-13</td><td>2016-07-19</td><td>3</td><td>4</td></tr>",
                            "<tr><td>agnes</td><td>Lengyel Ágnes</td><td>2016-07-30</td><td>2016-08-06</td><td>3</td><td>7</td></tr>",
                            "<tr><td>agnes</td><td>Lengyel Ágnes</td><td>2016-11-07</td><td>2016-11-13</td><td>2</td><td>7</td></tr>",
                            "<tr><td>agnes3</td><td>Hartyánszky Ágnes</td><td>2016-08-04</td><td>2016-08-10</td><td>1</td><td>NULL</td></tr>",
                            "<tr><td>agnes3</td><td>Hartyánszky Ágnes</td><td>2016-10-22</td><td>2016-10-23</td><td>3</td><td>1</td></tr>",
                            "<tr><td>agnes3</td><td>Hartyánszky Ágnes</td><td>2017-02-16</td><td>2017-02-21</td><td>3</td><td>4</td></tr>",
                            "<tr><td>AGNESH</td><td>Horváth Ágnes</td><td>2016-04-10</td><td>2016-04-12</td><td>2</td><td>NULL</td></tr>",
                            "<tr><td>AGNESH</td><td>Horváth Ágnes</td><td>2016-04-27</td><td>2016-04-28</td><td>4</td><td>2</td></tr>",
                            "<tr><td>AGNESH</td><td>Horváth Ágnes</td><td>2016-06-23</td><td>2016-06-26</td><td>1</td><td>6</td></tr>",
                            "<tr><td>AGNESH</td><td>Horváth Ágnes</td><td>2016-10-30</td><td>2016-11-04</td><td>1</td><td>7</td></tr>",
                            "<tr><td>AGNESH</td><td>Horváth Ágnes</td><td>2017-01-03</td><td>2017-01-10</td><td>2</td><td>6</td></tr>",
                            "<tr><td>AGNESH</td><td>Horváth Ágnes</td><td>2017-01-16</td><td>2017-01-23</td><td>3</td><td>4</td></tr>",
                            "<tr><td>AGNESK</td><td>Kovács Ágnes</td><td>2016-07-29</td><td>2016-08-01</td><td>3</td><td>NULL</td></tr>",
                            "<tr><td>AGNESK</td><td>Kovács Ágnes</td><td>2016-10-17</td><td>2016-10-19</td><td>2</td><td>3</td></tr>",
                            "<tr><td>AGNESK</td><td>Kovács Ágnes</td><td>2016-12-17</td><td>2016-12-18</td><td>2</td><td>5</td></tr>",
                            "<tr><td>akos</td><td>Bíró Ákos</td><td>2016-05-18</td><td>2016-05-19</td><td>2</td><td>NULL</td></tr>",
                            "<tr><td>akos</td><td>Bíró Ákos</td><td>2016-07-14</td><td>2016-07-19</td><td>2</td><td>2</td></tr>",
                            "<tr><td>akos</td><td>Bíró Ákos</td><td>2016-07-16</td><td>2016-07-18</td><td>2</td><td>4</td></tr>",
                            "<tr><td>akos</td><td>Bíró Ákos</td><td>2016-07-22</td><td>2016-07-26</td><td>1</td><td>6</td></tr>",
                            "<tr><td>akos</td><td>Bíró Ákos</td><td>2016-09-06</td><td>2016-09-12</td><td>1</td><td>5</td></tr>",
                            "<tr><td>akos</td><td>Bíró Ákos</td><td>2016-10-05</td><td>2016-10-09</td><td>2</td><td>4</td></tr>",
                            "<tr><td>akos</td><td>Bíró Ákos</td><td>2016-10-18</td><td>2016-10-23</td><td>2</td><td>4</td></tr>",
                            "<tr><td>akos</td><td>Bíró Ákos</td><td>2016-11-21</td><td>2016-11-27</td><td>2</td><td>5</td></tr>",
                            "<tr><td>akos</td><td>Bíró Ákos</td><td>2016-12-15</td><td>2016-12-21</td><td>2</td><td>6</td></tr>",
                            "<tr><td>akos</td><td>Bíró Ákos</td><td>2016-12-29</td><td>2016-12-30</td><td>3</td><td>6</td></tr>",
                            "<tr><td>aladar</td><td>Dunai Aladár</td><td>2016-05-17</td><td>2016-05-24</td><td>1</td><td>NULL</td></tr>",
                            "<tr><td>aladar</td><td>Dunai Aladár</td><td>2016-09-24</td><td>2016-09-28</td><td>1</td><td>1</td></tr>",
                            "<tr><td>aladar</td><td>Dunai Aladár</td><td>2016-11-22</td><td>2016-11-23</td><td>2</td><td>2</td></tr>",
                            "<tr><td>alexandra</td><td>Bagóczki Alexandra</td><td>2016-05-21</td><td>2016-05-27</td><td>3</td><td>NULL</td></tr>",
                            "<tr><td>alexandra</td><td>Bagóczki Alexandra</td><td>2016-06-08</td><td>2016-06-11</td><td>3</td><td>3</td></tr>",
                            "<tr><td>alexandra</td><td>Bagóczki Alexandra</td><td>2016-07-27</td><td>2016-07-30</td><td>2</td><td>6</td></tr>",
                            "<tr><td>alexandra</td><td>Bagóczki Alexandra</td><td>2016-10-21</td><td>2016-10-25</td><td>2</td><td>8</td></tr>",
                            "<tr><td>alexandra</td><td>Bagóczki Alexandra</td><td>2016-11-29</td><td>2016-12-05</td><td>2</td><td>7</td></tr>",
                            "<tr><td>alexandra</td><td>Bagóczki Alexandra</td><td>2017-01-13</td><td>2017-01-14</td><td>1</td><td>6</td></tr>",
                            "<tr><td>alexandra</td><td>Bagóczki Alexandra</td><td>2017-01-19</td><td>2017-01-26</td><td>2</td><td>5</td></tr>",
                            "<tr><td>andi</td><td>Maródi Andrea</td><td>2016-05-08</td><td>2016-05-14</td><td>4</td><td>NULL</td></tr>",
                            "<tr><td>andi</td><td>Maródi Andrea</td><td>2016-06-13</td><td>2016-06-14</td><td>1</td><td>4</td></tr>",
                            "<tr><td>andi</td><td>Maródi Andrea</td><td>2016-09-13</td><td>2016-09-16</td><td>2</td><td>5</td></tr>",
                            "<tr><td>andi</td><td>Maródi Andrea</td><td>2016-11-16</td><td>2016-11-17</td><td>3</td><td>7</td></tr>",
                            "<tr><td>andi</td><td>Maródi Andrea</td><td>2017-01-13</td><td>2017-01-17</td><td>3</td><td>6</td></tr>",
                            "<tr><td>andras2</td><td>Tóth András</td><td>2016-05-30</td><td>2016-06-04</td><td>1</td><td>NULL</td></tr>",
                            "<tr><td>andras2</td><td>Tóth András</td><td>2016-07-20</td><td>2016-07-22</td><td>2</td><td>1</td></tr>",
                            "<tr><td>andras2</td><td>Tóth András</td><td>2016-09-30</td><td>2016-10-03</td><td>2</td><td>3</td></tr>",
                            "<tr><td>andras2</td><td>Tóth András</td><td>2016-10-07</td><td>2016-10-10</td><td>3</td><td>5</td></tr>",
                            "<tr><td>andras2</td><td>Tóth András</td><td>2017-02-08</td><td>2017-02-10</td><td>4</td><td>7</td></tr>",
                            "<tr><td>andras21</td><td>Molnár András</td><td>2016-06-21</td><td>2016-06-26</td><td>2</td><td>NULL</td></tr>",
                            "<tr><td>andras21</td><td>Molnár András</td><td>2016-07-04</td><td>2016-07-05</td><td>3</td><td>2</td></tr>",
                            "<tr><td>andras21</td><td>Molnár András</td><td>2016-07-20</td><td>2016-07-22</td><td>1</td><td>5</td></tr>",
                            "<tr><td>andras21</td><td>Molnár András</td><td>2016-10-01</td><td>2016-10-06</td><td>3</td><td>6</td></tr>",
                            "<tr><td>andras21</td><td>Molnár András</td><td>2016-10-04</td><td>2016-10-11</td><td>3</td><td>7</td></tr>",
                            "<tr><td>andras21</td><td>Molnár András</td><td>2016-11-23</td><td>2016-11-24</td><td>4</td><td>7</td></tr>",
                            "<tr><td>andras21</td><td>Molnár András</td><td>2017-01-28</td><td>2017-02-01</td><td>2</td><td>10</td></tr>",
                            "<tr><td>andras3</td><td>Vígh András</td><td>2016-05-01</td><td>2016-05-06</td><td>2</td><td>NULL</td></tr>",
                            "<tr><td>andras3</td><td>Vígh András</td><td>2016-05-30</td><td>2016-06-03</td><td>1</td><td>2</td></tr>",
                            "<tr><td>andras3</td><td>Vígh András</td><td>2016-06-10</td><td>2016-06-11</td><td>1</td><td>3</td></tr>",
                            "<tr><td>andras3</td><td>Vígh András</td><td>2016-07-15</td><td>2016-07-19</td><td>3</td><td>4</td></tr>",
                            "<tr><td>andras3</td><td>Vígh András</td><td>2016-07-21</td><td>2016-07-23</td><td>2</td><td>5</td></tr>",
                            "<tr><td>andras3</td><td>Vígh András</td><td>2016-08-29</td><td>2016-09-02</td><td>3</td><td>6</td></tr>",
                            "<tr><td>andras3</td><td>Vígh András</td><td>2016-11-28</td><td>2016-12-02</td><td>2</td><td>8</td></tr>",
                            "<tr><td>andras3</td><td>Vígh András</td><td>2017-02-02</td><td>2017-02-08</td><td>2</td><td>7</td></tr>",
                            "<tr><td>andras4</td><td>Back András</td><td>2016-09-17</td><td>2016-09-20</td><td>2</td><td>NULL</td></tr>",
                            "<tr><td>andras4</td><td>Back András</td><td>2016-11-25</td><td>2016-11-28</td><td>2</td><td>2</td></tr>",
                            "<tr><td>andras4</td><td>Back András</td><td>2017-01-09</td><td>2017-01-10</td><td>2</td><td>4</td></tr>",
                            "<tr><td>andras41</td><td>Komjáti András</td><td>2016-05-14</td><td>2016-05-16</td><td>2</td><td>NULL</td></tr>",
                            "<tr><td>andras41</td><td>Komjáti András</td><td>2016-05-21</td><td>2016-05-23</td><td>4</td><td>2</td></tr>",
                            "<tr><td>andras41</td><td>Komjáti András</td><td>2016-06-07</td><td>2016-06-11</td><td>3</td><td>6</td></tr>",
                            "<tr><td>andras41</td><td>Komjáti András</td><td>2016-06-23</td><td>2016-06-29</td><td>2</td><td>9</td></tr>",
                            "<tr><td>andras41</td><td>Komjáti András</td><td>2016-07-28</td><td>2016-08-03</td><td>3</td><td>9</td></tr>",
                            "<tr><td>andras41</td><td>Komjáti András</td><td>2016-08-17</td><td>2016-08-21</td><td>3</td><td>8</td></tr>",
                            "<tr><td>andras41</td><td>Komjáti András</td><td>2016-08-19</td><td>2016-08-23</td><td>1</td><td>8</td></tr>",
                            "<tr><td>andras41</td><td>Komjáti András</td><td>2016-09-22</td><td>2016-09-29</td><td>1</td><td>7</td></tr>",
                            "<tr><td>andras41</td><td>Komjáti András</td><td>2016-09-30</td><td>2016-10-05</td><td>2</td><td>5</td></tr>",
                            "<tr><td>andras41</td><td>Komjáti András</td><td>2016-10-09</td><td>2016-10-13</td><td>2</td><td>4</td></tr>",
                            "<tr><td>andras41</td><td>Komjáti András</td><td>2016-10-15</td><td>2016-10-18</td><td>3</td><td>5</td></tr>",
                            "<tr><td>andras41</td><td>Komjáti András</td><td>2016-11-20</td><td>2016-11-24</td><td>3</td><td>7</td></tr>",
                            "<tr><td>andras41</td><td>Komjáti András</td><td>2016-11-23</td><td>2016-11-24</td><td>1</td><td>8</td></tr>",
                            "<tr><td>ANDRASE</td><td>Erdei András</td><td>2016-04-24</td><td>2016-05-01</td><td>1</td><td>NULL</td></tr>",
                            "<tr><td>ANDRASE</td><td>Erdei András</td><td>2016-07-06</td><td>2016-07-07</td><td>2</td><td>1</td></tr>",
                            "<tr><td>ANDRASE</td><td>Erdei András</td><td>2016-08-16</td><td>2016-08-20</td><td>2</td><td>3</td></tr>",
                            "<tr><td>ANDRASE</td><td>Erdei András</td><td>2016-11-19</td><td>2016-11-20</td><td>4</td><td>5</td></tr>",
                            "<tr><td>ANDRASE</td><td>Erdei András</td><td>2016-11-29</td><td>2016-12-06</td><td>3</td><td>8</td></tr>",
                            "<tr><td>ANDRASN</td><td>Nagy András</td><td>2016-11-25</td><td>2016-12-01</td><td>2</td><td>NULL</td></tr>",
                            "<tr><td>andrea</td><td>Kiss Andrea</td><td>2016-07-27</td><td>2016-07-28</td><td>2</td><td>NULL</td></tr>",
                            "<tr><td>andrea</td><td>Kiss Andrea</td><td>2016-08-01</td><td>2016-08-02</td><td>2</td><td>2</td></tr>",
                            "<tr><td>andrea</td><td>Kiss Andrea</td><td>2016-08-23</td><td>2016-08-26</td><td>3</td><td>4</td></tr>",
                            "<tr><td>andrea</td><td>Kiss Andrea</td><td>2016-08-26</td><td>2016-08-30</td><td>2</td><td>7</td></tr>",
                            "<tr><td>andrea</td><td>Kiss Andrea</td><td>2016-10-21</td><td>2016-10-27</td><td>4</td><td>7</td></tr>",
                            "<tr><td>andrea</td><td>Kiss Andrea</td><td>2017-02-09</td><td>2017-02-14</td><td>2</td><td>9</td></tr>",
                            "<tr><td>andrea3</td><td>Szomor Andrea</td><td>2016-11-19</td><td>2016-11-21</td><td>3</td><td>NULL</td></tr>",
                            "<tr><td>andrea4</td><td>Neizer Andrea</td><td>2016-05-27</td><td>2016-05-29</td><td>1</td><td>NULL</td></tr>",
                            "<tr><td>andrea4</td><td>Neizer Andrea</td><td>2016-09-13</td><td>2016-09-17</td><td>2</td><td>1</td></tr>",
                            "<tr><td>andrea4</td><td>Neizer Andrea</td><td>2016-10-30</td><td>2016-11-06</td><td>3</td><td>3</td></tr>",
                            "<tr><td>andrea4</td><td>Neizer Andrea</td><td>2017-01-22</td><td>2017-01-29</td><td>2</td><td>6</td></tr>",
                            "<tr><td>ANDREAT</td><td>Tornyos Andrea</td><td>2016-07-27</td><td>2016-08-01</td><td>2</td><td>NULL</td></tr>",
                            "<tr><td>ANDREAT</td><td>Tornyos Andrea</td><td>2016-09-15</td><td>2016-09-16</td><td>2</td><td>2</td></tr>",
                            "<tr><td>ANDREAT</td><td>Tornyos Andrea</td><td>2016-10-08</td><td>2016-10-12</td><td>3</td><td>4</td></tr>",
                            "<tr><td>anett3</td><td>Pivarcsi Anett</td><td>2016-04-10</td><td>2016-04-17</td><td>1</td><td>NULL</td></tr>",
                            "<tr><td>anett3</td><td>Pivarcsi Anett</td><td>2016-04-13</td><td>2016-04-19</td><td>3</td><td>1</td></tr>",
                            "<tr><td>anett3</td><td>Pivarcsi Anett</td><td>2016-04-15</td><td>2016-04-19</td><td>3</td><td>4</td></tr>",
                            "<tr><td>anett3</td><td>Pivarcsi Anett</td><td>2016-04-28</td><td>2016-05-02</td><td>3</td><td>7</td></tr>",
                            "<tr><td>anett3</td><td>Pivarcsi Anett</td><td>2016-08-15</td><td>2016-08-16</td><td>2</td><td>9</td></tr>",
                            "<tr><td>anett3</td><td>Pivarcsi Anett</td><td>2016-08-17</td><td>2016-08-23</td><td>3</td><td>8</td></tr>",
                            "<tr><td>anett3</td><td>Pivarcsi Anett</td><td>2016-10-12</td><td>2016-10-19</td><td>3</td><td>8</td></tr>",
                            "<tr><td>anett3</td><td>Pivarcsi Anett</td><td>2016-10-16</td><td>2016-10-21</td><td>1</td><td>8</td></tr>",
                            "<tr><td>aniko</td><td>Tóth Anikó</td><td>2016-06-25</td><td>2016-06-30</td><td>3</td><td>NULL</td></tr>",
                            "<tr><td>aniko</td><td>Tóth Anikó</td><td>2017-02-12</td><td>2017-02-14</td><td>3</td><td>3</td></tr>",
                            "<tr><td>aniko</td><td>Tóth Anikó</td><td>2017-02-23</td><td>2017-02-24</td><td>2</td><td>6</td></tr>",
                            "<tr><td>aniko4</td><td>Böröcz Anikó</td><td>2016-07-02</td><td>2016-07-09</td><td>1</td><td>NULL</td></tr>",
                            "<tr><td>aniko4</td><td>Böröcz Anikó</td><td>2016-07-22</td><td>2016-07-25</td><td>3</td><td>1</td></tr>",
                            "<tr><td>aniko4</td><td>Böröcz Anikó</td><td>2016-09-05</td><td>2016-09-07</td><td>4</td><td>4</td></tr>",
                            "<tr><td>aniko4</td><td>Böröcz Anikó</td><td>2016-10-16</td><td>2016-10-18</td><td>3</td><td>8</td></tr>",
                            "<tr><td>ANIKOS</td><td>Simon Anikó</td><td>2016-04-19</td><td>2016-04-24</td><td>2</td><td>NULL</td></tr>",
                            "<tr><td>ANIKOS</td><td>Simon Anikó</td><td>2016-05-24</td><td>2016-05-25</td><td>3</td><td>2</td></tr>",
                            "<tr><td>ANIKOS</td><td>Simon Anikó</td><td>2016-06-16</td><td>2016-06-23</td><td>1</td><td>5</td></tr>",
                            "<tr><td>ANIKOS</td><td>Simon Anikó</td><td>2016-06-27</td><td>2016-06-30</td><td>2</td><td>6</td></tr>",
                            "<tr><td>ANIKOS</td><td>Simon Anikó</td><td>2016-07-17</td><td>2016-07-22</td><td>3</td><td>6</td></tr>",
                            "<tr><td>ANIKOS</td><td>Simon Anikó</td><td>2016-08-26</td><td>2016-09-02</td><td>2</td><td>6</td></tr>",
                            "<tr><td>ANIKOS</td><td>Simon Anikó</td><td>2016-10-08</td><td>2016-10-14</td><td>2</td><td>7</td></tr>",
                            "<tr><td>ANIKOS</td><td>Simon Anikó</td><td>2016-10-29</td><td>2016-11-05</td><td>3</td><td>7</td></tr>",
                            "<tr><td>ANIKOS</td><td>Simon Anikó</td><td>2016-11-10</td><td>2016-11-15</td><td>2</td><td>7</td></tr>",
                            "<tr><td>anita</td><td>Hamvay-Kovács Anita</td><td>2016-09-28</td><td>2016-10-02</td><td>4</td><td>NULL</td></tr>",
                            "<tr><td>anita</td><td>Hamvay-Kovács Anita</td><td>2016-10-01</td><td>2016-10-04</td><td>2</td><td>4</td></tr>",
                            "<tr><td>anita</td><td>Hamvay-Kovács Anita</td><td>2017-02-19</td><td>2017-02-22</td><td>2</td><td>6</td></tr>",
                            "<tr><td>anita</td><td>Hamvay-Kovács Anita</td><td>2017-02-20</td><td>2017-02-25</td><td>2</td><td>8</td></tr>",
                            "<tr><td>annamaria1</td><td>Szűcs Annamária</td><td>2016-06-06</td><td>2016-06-07</td><td>3</td><td>NULL</td></tr>",
                            "<tr><td>annamaria1</td><td>Szűcs Annamária</td><td>2017-01-30</td><td>2017-01-31</td><td>4</td><td>3</td></tr>",
                            "<tr><td>ANNAMARIAR</td><td>Regős Annamária</td><td>2016-06-08</td><td>2016-06-11</td><td>2</td><td>NULL</td></tr>",
                            "<tr><td>ANNAMARIAR</td><td>Regős Annamária</td><td>2016-07-18</td><td>2016-07-21</td><td>1</td><td>2</td></tr>",
                            "<tr><td>ANNAMARIAR</td><td>Regős Annamária</td><td>2016-09-23</td><td>2016-09-27</td><td>2</td><td>3</td></tr>",
                            "<tr><td>ANNAMARIAR</td><td>Regős Annamária</td><td>2016-11-11</td><td>2016-11-12</td><td>3</td><td>5</td></tr>",
                            "<tr><td>ANNAMARIAR</td><td>Regős Annamária</td><td>2017-01-10</td><td>2017-01-13</td><td>2</td><td>6</td></tr>",
                            "<tr><td>ANNAMARIAR</td><td>Regős Annamária</td><td>2017-02-16</td><td>2017-02-18</td><td>2</td><td>7</td></tr>",
                            "<tr><td>aron2</td><td>Jakab Áron</td><td>2016-04-11</td><td>2016-04-12</td><td>3</td><td>NULL</td></tr>",
                            "<tr><td>aron2</td><td>Jakab Áron</td><td>2016-07-04</td><td>2016-07-06</td><td>3</td><td>3</td></tr>",
                            "<tr><td>aron2</td><td>Jakab Áron</td><td>2016-10-23</td><td>2016-10-27</td><td>2</td><td>6</td></tr>",
                            "<tr><td>aron2</td><td>Jakab Áron</td><td>2016-11-05</td><td>2016-11-09</td><td>2</td><td>8</td></tr>",
                            "<tr><td>aron2</td><td>Jakab Áron</td><td>2017-01-17</td><td>2017-01-18</td><td>3</td><td>7</td></tr>",
                            "<tr><td>aron2</td><td>Jakab Áron</td><td>2017-02-26</td><td>2017-02-27</td><td>3</td><td>7</td></tr>",
                            "<tr><td>ARONK</td><td>Kelemen Áron</td><td>2016-04-06</td><td>2016-04-08</td><td>2</td><td>NULL</td></tr>",
                            "<tr><td>ARONK</td><td>Kelemen Áron</td><td>2016-05-14</td><td>2016-05-20</td><td>4</td><td>2</td></tr>",
                            "<tr><td>ARONK</td><td>Kelemen Áron</td><td>2016-06-04</td><td>2016-06-09</td><td>2</td><td>6</td></tr>",
                            "<tr><td>ARONK</td><td>Kelemen Áron</td><td>2016-06-07</td><td>2016-06-13</td><td>3</td><td>8</td></tr>",
                            "<tr><td>ARONK</td><td>Kelemen Áron</td><td>2016-07-03</td><td>2016-07-07</td><td>2</td><td>9</td></tr>",
                            "<tr><td>ARONK</td><td>Kelemen Áron</td><td>2016-08-05</td><td>2016-08-08</td><td>4</td><td>7</td></tr>",
                            "<tr><td>ARONK</td><td>Kelemen Áron</td><td>2016-09-08</td><td>2016-09-15</td><td>2</td><td>9</td></tr>",
                            "<tr><td>ARONK</td><td>Kelemen Áron</td><td>2016-11-03</td><td>2016-11-10</td><td>2</td><td>8</td></tr>",
                            "<tr><td>ARONK</td><td>Kelemen Áron</td><td>2016-11-05</td><td>2016-11-07</td><td>2</td><td>8</td></tr>",
                            "<tr><td>ARONK</td><td>Kelemen Áron</td><td>2016-12-07</td><td>2016-12-12</td><td>3</td><td>6</td></tr>",
                            "<tr><td>ARONK</td><td>Kelemen Áron</td><td>2017-01-01</td><td>2017-01-03</td><td>2</td><td>7</td></tr>",
                            "<tr><td>ARONK</td><td>Kelemen Áron</td><td>2017-01-30</td><td>2017-02-03</td><td>2</td><td>7</td></tr>",
                            "<tr><td>ARONK</td><td>Kelemen Áron</td><td>2017-02-21</td><td>2017-02-23</td><td>2</td><td>7</td></tr>",
                            "<tr><td>arpad2</td><td>Ötvös Árpád</td><td>2016-06-05</td><td>2016-06-07</td><td>2</td><td>NULL</td></tr>",
                            "<tr><td>arpad2</td><td>Ötvös Árpád</td><td>2016-08-23</td><td>2016-08-25</td><td>2</td><td>2</td></tr>",
                            "<tr><td>arpad2</td><td>Ötvös Árpád</td><td>2016-09-28</td><td>2016-09-30</td><td>2</td><td>4</td></tr>",
                            "<tr><td>arpad2</td><td>Ötvös Árpád</td><td>2016-10-13</td><td>2016-10-19</td><td>3</td><td>6</td></tr>",
                            "<tr><td>arpad2</td><td>Ötvös Árpád</td><td>2016-11-06</td><td>2016-11-10</td><td>2</td><td>7</td></tr>",
                            "<tr><td>arpad2</td><td>Ötvös Árpád</td><td>2016-12-24</td><td>2016-12-27</td><td>3</td><td>7</td></tr>",
                            "<tr><td>arpad2</td><td>Ötvös Árpád</td><td>2017-02-18</td><td>2017-02-19</td><td>4</td><td>8</td></tr>",
                            "<tr><td>ARPADH</td><td>Horváth Árpád</td><td>2016-06-06</td><td>2016-06-07</td><td>3</td><td>NULL</td></tr>",
                            "<tr><td>ARPADH</td><td>Horváth Árpád</td><td>2016-07-14</td><td>2016-07-18</td><td>2</td><td>3</td></tr>",
                            "<tr><td>ARPADH</td><td>Horváth Árpád</td><td>2016-09-16</td><td>2016-09-23</td><td>1</td><td>5</td></tr>",
                            "<tr><td>ARPADH</td><td>Horváth Árpád</td><td>2016-09-18</td><td>2016-09-25</td><td>1</td><td>6</td></tr>",
                            "<tr><td>ARPADH</td><td>Horváth Árpád</td><td>2016-12-04</td><td>2016-12-10</td><td>1</td><td>4</td></tr>",
                            "<tr><td>ARPADH</td><td>Horváth Árpád</td><td>2016-12-18</td><td>2016-12-19</td><td>3</td><td>3</td></tr>",
                            "<tr><td>ARPADH</td><td>Horváth Árpád</td><td>2017-02-16</td><td>2017-02-18</td><td>2</td><td>5</td></tr>",
                            "<tr><td>ARPADM</td><td>Móricz Árpád</td><td>2016-05-29</td><td>2016-06-01</td><td>2</td><td>NULL</td></tr>",
                            "<tr><td>ARPADM</td><td>Móricz Árpád</td><td>2016-08-12</td><td>2016-08-16</td><td>2</td><td>2</td></tr>",
                            "<tr><td>ARPADM</td><td>Móricz Árpád</td><td>2016-11-09</td><td>2016-11-11</td><td>2</td><td>4</td></tr>",
                            "<tr><td>ARPADM</td><td>Móricz Árpád</td><td>2016-12-14</td><td>2016-12-17</td><td>3</td><td>6</td></tr>",
                            "<tr><td>ARPADM</td><td>Móricz Árpád</td><td>2017-01-05</td><td>2017-01-10</td><td>1</td><td>7</td></tr>",
                            "<tr><td>ARPADM</td><td>Móricz Árpád</td><td>2017-02-12</td><td>2017-02-14</td><td>3</td><td>6</td></tr>",
                            "<tr><td>attila</td><td>Csóti Attila</td><td>2016-09-30</td><td>2016-10-07</td><td>3</td><td>NULL</td></tr>",
                            "<tr><td>attila</td><td>Csóti Attila</td><td>2016-10-15</td><td>2016-10-19</td><td>1</td><td>3</td></tr>",
                            "<tr><td>attila</td><td>Csóti Attila</td><td>2016-12-22</td><td>2016-12-26</td><td>2</td><td>4</td></tr>",
                            "<tr><td>attila1</td><td>Gulyás Attila</td><td>2016-05-20</td><td>2016-05-26</td><td>1</td><td>NULL</td></tr>",
                            "<tr><td>attila1</td><td>Gulyás Attila</td><td>2016-10-09</td><td>2016-10-12</td><td>2</td><td>1</td></tr>",
                            "<tr><td>attila1</td><td>Gulyás Attila</td><td>2016-10-15</td><td>2016-10-16</td><td>3</td><td>3</td></tr>",
                            "<tr><td>attila1</td><td>Gulyás Attila</td><td>2016-10-30</td><td>2016-11-05</td><td>2</td><td>6</td></tr>",
                            "<tr><td>attila1</td><td>Gulyás Attila</td><td>2016-11-10</td><td>2016-11-14</td><td>2</td><td>7</td></tr>",
                            "<tr><td>attila1</td><td>Gulyás Attila</td><td>2017-01-23</td><td>2017-01-30</td><td>4</td><td>7</td></tr>",
                            "<tr><td>attila4</td><td>Baróti Attila</td><td>2016-08-18</td><td>2016-08-23</td><td>4</td><td>NULL</td></tr>",
                            "<tr><td>attila4</td><td>Baróti Attila</td><td>2016-12-31</td><td>2017-01-01</td><td>2</td><td>4</td></tr>",
                            "<tr><td>attila4</td><td>Baróti Attila</td><td>2017-02-15</td><td>2017-02-22</td><td>2</td><td>6</td></tr>",
                            "<tr><td>ATTILAO</td><td>Opra Attila</td><td>2016-05-21</td><td>2016-05-26</td><td>3</td><td>NULL</td></tr>",
                            "<tr><td>ATTILAO</td><td>Opra Attila</td><td>2016-06-04</td><td>2016-06-11</td><td>3</td><td>3</td></tr>",
                            "<tr><td>ATTILAO</td><td>Opra Attila</td><td>2016-10-30</td><td>2016-11-03</td><td>2</td><td>6</td></tr>",
                            "<tr><td>ATTILAO</td><td>Opra Attila</td><td>2017-02-22</td><td>2017-02-25</td><td>3</td><td>8</td></tr>",
                            "<tr><td>balazs1</td><td>Bozsik Balázs</td><td>2016-05-07</td><td>2016-05-14</td><td>2</td><td>NULL</td></tr>",
                            "<tr><td>balazs1</td><td>Bozsik Balázs</td><td>2016-07-22</td><td>2016-07-26</td><td>4</td><td>2</td></tr>",
                            "<tr><td>balazs1</td><td>Bozsik Balázs</td><td>2016-12-26</td><td>2016-12-28</td><td>3</td><td>6</td></tr>",
                            "<tr><td>balazs1</td><td>Bozsik Balázs</td><td>2017-01-01</td><td>2017-01-05</td><td>2</td><td>9</td></tr>",
                            "<tr><td>balazs1</td><td>Bozsik Balázs</td><td>2017-02-10</td><td>2017-02-14</td><td>3</td><td>9</td></tr>",
                            "<tr><td>balazs1</td><td>Bozsik Balázs</td><td>2017-02-12</td><td>2017-02-14</td><td>2</td><td>8</td></tr>",
                            "<tr><td>balazs2</td><td>Szűcs Balázs</td><td>2016-04-16</td><td>2016-04-19</td><td>2</td><td>NULL</td></tr>",
                            "<tr><td>balazs2</td><td>Szűcs Balázs</td><td>2016-05-22</td><td>2016-05-29</td><td>3</td><td>2</td></tr>",
                            "<tr><td>balazs2</td><td>Szűcs Balázs</td><td>2016-05-28</td><td>2016-06-01</td><td>3</td><td>5</td></tr>",
                            "<tr><td>balazs2</td><td>Szűcs Balázs</td><td>2016-07-08</td><td>2016-07-12</td><td>3</td><td>8</td></tr>",
                            "<tr><td>balazs2</td><td>Szűcs Balázs</td><td>2016-07-10</td><td>2016-07-17</td><td>3</td><td>9</td></tr>",
                            "<tr><td>balazs2</td><td>Szűcs Balázs</td><td>2016-07-20</td><td>2016-07-25</td><td>2</td><td>9</td></tr>",
                            "<tr><td>balazs2</td><td>Szűcs Balázs</td><td>2016-08-21</td><td>2016-08-22</td><td>3</td><td>8</td></tr>",
                            "<tr><td>balazs2</td><td>Szűcs Balázs</td><td>2016-09-12</td><td>2016-09-14</td><td>3</td><td>8</td></tr>",
                            "<tr><td>balazs2</td><td>Szűcs Balázs</td><td>2016-11-03</td><td>2016-11-05</td><td>3</td><td>8</td></tr>",
                            "<tr><td>balazs2</td><td>Szűcs Balázs</td><td>2017-02-27</td><td>2017-03-06</td><td>1</td><td>9</td></tr>",
                            "<tr><td>balazs3</td><td>Bakódy Balázs</td><td>2016-07-17</td><td>2016-07-21</td><td>2</td><td>NULL</td></tr>",
                            "<tr><td>balazs3</td><td>Bakódy Balázs</td><td>2016-07-27</td><td>2016-07-31</td><td>4</td><td>2</td></tr>",
                            "<tr><td>balazs3</td><td>Bakódy Balázs</td><td>2016-08-24</td><td>2016-08-28</td><td>3</td><td>6</td></tr>",
                            "<tr><td>balazs3</td><td>Bakódy Balázs</td><td>2016-09-15</td><td>2016-09-16</td><td>3</td><td>9</td></tr>",
                            "<tr><td>balazs3</td><td>Bakódy Balázs</td><td>2016-12-05</td><td>2016-12-11</td><td>3</td><td>10</td></tr>",
                            "<tr><td>balazs3</td><td>Bakódy Balázs</td><td>2017-01-20</td><td>2017-01-22</td><td>2</td><td>9</td></tr>",
                            "<tr><td>balint</td><td>Horváth Bálint</td><td>2016-04-22</td><td>2016-04-29</td><td>2</td><td>NULL</td></tr>",
                            "<tr><td>balint</td><td>Horváth Bálint</td><td>2016-10-09</td><td>2016-10-11</td><td>2</td><td>2</td></tr>",
                            "<tr><td>balint</td><td>Horváth Bálint</td><td>2016-11-24</td><td>2016-11-29</td><td>3</td><td>4</td></tr>",
                            "<tr><td>balint1</td><td>Molnár Bálint</td><td>2016-06-07</td><td>2016-06-11</td><td>3</td><td>NULL</td></tr>",
                            "<tr><td>balint1</td><td>Molnár Bálint</td><td>2016-06-07</td><td>2016-06-12</td><td>3</td><td>3</td></tr>",
                            "<tr><td>balint1</td><td>Molnár Bálint</td><td>2016-06-10</td><td>2016-06-12</td><td>1</td><td>6</td></tr>",
                            "<tr><td>balint1</td><td>Molnár Bálint</td><td>2016-07-26</td><td>2016-07-28</td><td>2</td><td>7</td></tr>",
                            "<tr><td>balint1</td><td>Molnár Bálint</td><td>2016-08-03</td><td>2016-08-08</td><td>2</td><td>6</td></tr>",
                            "<tr><td>balint1</td><td>Molnár Bálint</td><td>2016-09-16</td><td>2016-09-21</td><td>1</td><td>5</td></tr>",
                            "<tr><td>balint1</td><td>Molnár Bálint</td><td>2016-11-07</td><td>2016-11-10</td><td>2</td><td>5</td></tr>",
                            "<tr><td>balint1</td><td>Molnár Bálint</td><td>2016-12-17</td><td>2016-12-22</td><td>3</td><td>5</td></tr>",
                            "<tr><td>balint1</td><td>Molnár Bálint</td><td>2016-12-29</td><td>2016-12-31</td><td>3</td><td>6</td></tr>",
                            "<tr><td>balint1</td><td>Molnár Bálint</td><td>2017-01-03</td><td>2017-01-08</td><td>2</td><td>8</td></tr>",
                            "<tr><td>balint2</td><td>Vukasinovity Bálint</td><td>2016-07-21</td><td>2016-07-26</td><td>1</td><td>NULL</td></tr>",
                            "<tr><td>balint2</td><td>Vukasinovity Bálint</td><td>2016-12-04</td><td>2016-12-06</td><td>3</td><td>1</td></tr>",
                            "<tr><td>balu</td><td>Endresz Bálint</td><td>2016-08-06</td><td>2016-08-10</td><td>2</td><td>NULL</td></tr>",
                            "<tr><td>balu</td><td>Endresz Bálint</td><td>2016-12-22</td><td>2016-12-23</td><td>2</td><td>2</td></tr>",
                            "<tr><td>beata4</td><td>Bagi Beáta</td><td>2016-04-20</td><td>2016-04-21</td><td>2</td><td>NULL</td></tr>",
                            "<tr><td>beata4</td><td>Bagi Beáta</td><td>2016-06-03</td><td>2016-06-04</td><td>2</td><td>2</td></tr>",
                            "<tr><td>beata4</td><td>Bagi Beáta</td><td>2016-07-03</td><td>2016-07-06</td><td>1</td><td>4</td></tr>",
                            "<tr><td>beata4</td><td>Bagi Beáta</td><td>2016-08-25</td><td>2016-08-27</td><td>3</td><td>5</td></tr>",
                            "<tr><td>beata4</td><td>Bagi Beáta</td><td>2016-10-01</td><td>2016-10-05</td><td>1</td><td>6</td></tr>",
                            "<tr><td>beata4</td><td>Bagi Beáta</td><td>2016-10-03</td><td>2016-10-06</td><td>3</td><td>5</td></tr>",
                            "<tr><td>BEATRIXK</td><td>Kerényi Beatrix</td><td>2016-06-10</td><td>2016-06-11</td><td>2</td><td>NULL</td></tr>",
                            "<tr><td>BEATRIXK</td><td>Kerényi Beatrix</td><td>2016-06-10</td><td>2016-06-14</td><td>2</td><td>2</td></tr>",
                            "<tr><td>BEATRIXK</td><td>Kerényi Beatrix</td><td>2016-06-19</td><td>2016-06-21</td><td>3</td><td>4</td></tr>",
                            "<tr><td>BEATRIXK</td><td>Kerényi Beatrix</td><td>2016-08-12</td><td>2016-08-18</td><td>4</td><td>7</td></tr>",
                            "<tr><td>BEATRIXK</td><td>Kerényi Beatrix</td><td>2016-10-23</td><td>2016-10-28</td><td>2</td><td>9</td></tr>",
                            "<tr><td>BEATRIXK</td><td>Kerényi Beatrix</td><td>2016-11-14</td><td>2016-11-19</td><td>2</td><td>9</td></tr>",
                            "<tr><td>BEATRIXK</td><td>Kerényi Beatrix</td><td>2016-12-12</td><td>2016-12-14</td><td>3</td><td>8</td></tr>",
                            "<tr><td>BEATRIXK</td><td>Kerényi Beatrix</td><td>2016-12-17</td><td>2016-12-22</td><td>4</td><td>7</td></tr>",
                            "<tr><td>BEATRIXK</td><td>Kerényi Beatrix</td><td>2017-02-08</td><td>2017-02-09</td><td>3</td><td>9</td></tr>",
                            "<tr><td>BEATRIXS</td><td>Szekendi Beatrix</td><td>2016-04-18</td><td>2016-04-24</td><td>1</td><td>NULL</td></tr>",
                            "<tr><td>BEATRIXS</td><td>Szekendi Beatrix</td><td>2016-06-11</td><td>2016-06-14</td><td>3</td><td>1</td></tr>",
                            "<tr><td>BEATRIXS</td><td>Szekendi Beatrix</td><td>2016-10-01</td><td>2016-10-03</td><td>3</td><td>4</td></tr>",
                            "<tr><td>BEATRIXS</td><td>Szekendi Beatrix</td><td>2016-10-01</td><td>2016-10-05</td><td>3</td><td>7</td></tr>",
                            "<tr><td>BEATRIXS</td><td>Szekendi Beatrix</td><td>2016-12-21</td><td>2016-12-27</td><td>2</td><td>9</td></tr>",
                            "<tr><td>BEATRIXS</td><td>Szekendi Beatrix</td><td>2017-02-03</td><td>2017-02-04</td><td>2</td><td>8</td></tr>",
                            "<tr><td>BELAF</td><td>Farkas Béla</td><td>2016-07-27</td><td>2016-07-30</td><td>3</td><td>NULL</td></tr>",
                            "<tr><td>BELAF</td><td>Farkas Béla</td><td>2016-07-29</td><td>2016-07-31</td><td>2</td><td>3</td></tr>",
                            "<tr><td>BELAF</td><td>Farkas Béla</td><td>2016-08-29</td><td>2016-08-31</td><td>2</td><td>5</td></tr>",
                            "<tr><td>BELAF</td><td>Farkas Béla</td><td>2016-11-03</td><td>2016-11-09</td><td>4</td><td>7</td></tr>",
                            "<tr><td>BELAF</td><td>Farkas Béla</td><td>2016-12-02</td><td>2016-12-04</td><td>3</td><td>8</td></tr>",
                            "<tr><td>BELAF</td><td>Farkas Béla</td><td>2016-12-06</td><td>2016-12-09</td><td>1</td><td>9</td></tr>",
                            "<tr><td>bence</td><td>Győrffy Bence</td><td>2016-05-08</td><td>2016-05-11</td><td>2</td><td>NULL</td></tr>",
                            "<tr><td>bence</td><td>Győrffy Bence</td><td>2016-05-29</td><td>2016-06-03</td><td>1</td><td>2</td></tr>",
                            "<tr><td>bence</td><td>Győrffy Bence</td><td>2016-07-24</td><td>2016-07-30</td><td>2</td><td>3</td></tr>",
                            "<tr><td>bence</td><td>Győrffy Bence</td><td>2016-07-25</td><td>2016-08-01</td><td>3</td><td>5</td></tr>",
                            "<tr><td>bence</td><td>Győrffy Bence</td><td>2016-09-03</td><td>2016-09-06</td><td>3</td><td>6</td></tr>",
                            "<tr><td>bence</td><td>Győrffy Bence</td><td>2016-10-30</td><td>2016-11-02</td><td>4</td><td>8</td></tr>",
                            "<tr><td>bence</td><td>Győrffy Bence</td><td>2016-12-17</td><td>2016-12-18</td><td>2</td><td>10</td></tr>",
                            "<tr><td>bence</td><td>Győrffy Bence</td><td>2016-12-26</td><td>2016-12-27</td><td>2</td><td>9</td></tr>",
                            "<tr><td>bence</td><td>Győrffy Bence</td><td>2017-02-05</td><td>2017-02-09</td><td>3</td><td>8</td></tr>",
                            "<tr><td>BENCEB</td><td>Bajusz Bence</td><td>2016-05-14</td><td>2016-05-17</td><td>3</td><td>NULL</td></tr>",
                            "<tr><td>BENCEB</td><td>Bajusz Bence</td><td>2016-06-03</td><td>2016-06-09</td><td>2</td><td>3</td></tr>",
                            "<tr><td>BENCEB</td><td>Bajusz Bence</td><td>2016-08-01</td><td>2016-08-02</td><td>2</td><td>5</td></tr>",
                            "<tr><td>BENCEB</td><td>Bajusz Bence</td><td>2016-10-22</td><td>2016-10-29</td><td>3</td><td>7</td></tr>",
                            "<tr><td>BENCEB</td><td>Bajusz Bence</td><td>2016-11-28</td><td>2016-12-02</td><td>2</td><td>7</td></tr>",
                            "<tr><td>BENCEB</td><td>Bajusz Bence</td><td>2017-02-12</td><td>2017-02-19</td><td>3</td><td>7</td></tr>",
                            "<tr><td>bernadett1</td><td>Simon Bernadett</td><td>2016-06-12</td><td>2016-06-17</td><td>3</td><td>NULL</td></tr>",
                            "<tr><td>bernadett1</td><td>Simon Bernadett</td><td>2016-10-08</td><td>2016-10-09</td><td>4</td><td>3</td></tr>",
                            "<tr><td>bernadett1</td><td>Simon Bernadett</td><td>2016-10-15</td><td>2016-10-22</td><td>3</td><td>7</td></tr>",
                            "<tr><td>bernadett1</td><td>Simon Bernadett</td><td>2016-10-26</td><td>2016-11-02</td><td>3</td><td>10</td></tr>",
                            "<tr><td>bernadett1</td><td>Simon Bernadett</td><td>2016-10-28</td><td>2016-11-01</td><td>3</td><td>10</td></tr>",
                            "<tr><td>bernadett1</td><td>Simon Bernadett</td><td>2017-02-14</td><td>2017-02-15</td><td>3</td><td>9</td></tr>",
                            "<tr><td>bernadett1</td><td>Simon Bernadett</td><td>2017-02-24</td><td>2017-03-03</td><td>1</td><td>9</td></tr>",
                            "<tr><td>bernadett2</td><td>Kovács Bernadett</td><td>2016-05-01</td><td>2016-05-03</td><td>2</td><td>NULL</td></tr>",
                            "<tr><td>bernadett2</td><td>Kovács Bernadett</td><td>2016-06-17</td><td>2016-06-23</td><td>3</td><td>2</td></tr>",
                            "<tr><td>bernadett2</td><td>Kovács Bernadett</td><td>2016-08-23</td><td>2016-08-29</td><td>2</td><td>5</td></tr>",
                            "<tr><td>bernadett2</td><td>Kovács Bernadett</td><td>2016-08-25</td><td>2016-08-27</td><td>3</td><td>7</td></tr>",
                            "<tr><td>bernadett2</td><td>Kovács Bernadett</td><td>2016-09-07</td><td>2016-09-13</td><td>3</td><td>8</td></tr>",
                            "<tr><td>bernadett2</td><td>Kovács Bernadett</td><td>2016-10-30</td><td>2016-11-06</td><td>3</td><td>8</td></tr>",
                            "<tr><td>bernadett2</td><td>Kovács Bernadett</td><td>2016-12-17</td><td>2016-12-20</td><td>1</td><td>9</td></tr>",
                            "<tr><td>bernadett2</td><td>Kovács Bernadett</td><td>2017-01-24</td><td>2017-01-30</td><td>3</td><td>7</td></tr>",
                            "<tr><td>BERNADETTO</td><td>Orbán Bernadett</td><td>2016-04-10</td><td>2016-04-17</td><td>2</td><td>NULL</td></tr>",
                            "<tr><td>BERNADETTO</td><td>Orbán Bernadett</td><td>2016-04-17</td><td>2016-04-19</td><td>2</td><td>2</td></tr>",
                            "<tr><td>BERNADETTO</td><td>Orbán Bernadett</td><td>2016-06-07</td><td>2016-06-13</td><td>3</td><td>4</td></tr>",
                            "<tr><td>BERNADETTO</td><td>Orbán Bernadett</td><td>2016-06-10</td><td>2016-06-16</td><td>4</td><td>7</td></tr>",
                            "<tr><td>BERNADETTO</td><td>Orbán Bernadett</td><td>2016-10-04</td><td>2016-10-05</td><td>2</td><td>9</td></tr>",
                            "<tr><td>BERNADETTO</td><td>Orbán Bernadett</td><td>2017-01-01</td><td>2017-01-02</td><td>3</td><td>9</td></tr>",
                            "<tr><td>BERNADETTO</td><td>Orbán Bernadett</td><td>2017-01-28</td><td>2017-02-03</td><td>2</td><td>9</td></tr>",
                            "<tr><td>bertalan</td><td>Csiger Bertalan</td><td>2016-05-18</td><td>2016-05-23</td><td>2</td><td>NULL</td></tr>",
                            "<tr><td>bertalan</td><td>Csiger Bertalan</td><td>2016-06-20</td><td>2016-06-21</td><td>1</td><td>2</td></tr>",
                            "<tr><td>bertalan</td><td>Csiger Bertalan</td><td>2016-11-03</td><td>2016-11-10</td><td>2</td><td>3</td></tr>",
                            "<tr><td>bertalan</td><td>Csiger Bertalan</td><td>2016-11-26</td><td>2016-11-29</td><td>3</td><td>5</td></tr>",
                            "<tr><td>bertalan</td><td>Csiger Bertalan</td><td>2017-02-16</td><td>2017-02-22</td><td>2</td><td>6</td></tr>",
                            "<tr><td>bertalan</td><td>Csiger Bertalan</td><td>2017-02-20</td><td>2017-02-24</td><td>4</td><td>7</td></tr>",
                            "<tr><td>brigitta</td><td>Székely Brigitta</td><td>2016-05-30</td><td>2016-06-06</td><td>3</td><td>NULL</td></tr>",
                            "<tr><td>brigitta</td><td>Székely Brigitta</td><td>2016-08-28</td><td>2016-09-01</td><td>3</td><td>3</td></tr>",
                            "<tr><td>brigitta</td><td>Székely Brigitta</td><td>2016-10-21</td><td>2016-10-28</td><td>3</td><td>6</td></tr>",
                            "<tr><td>brigitta</td><td>Székely Brigitta</td><td>2016-12-17</td><td>2016-12-22</td><td>2</td><td>9</td></tr>",
                            "<tr><td>brigitta</td><td>Székely Brigitta</td><td>2017-01-23</td><td>2017-01-25</td><td>1</td><td>8</td></tr>",
                            "<tr><td>brigitta3</td><td>Pataki Brigitta</td><td>2016-06-01</td><td>2016-06-05</td><td>2</td><td>NULL</td></tr>",
                            "<tr><td>brigitta3</td><td>Pataki Brigitta</td><td>2016-06-13</td><td>2016-06-17</td><td>3</td><td>2</td></tr>",
                            "<tr><td>brigitta3</td><td>Pataki Brigitta</td><td>2016-10-10</td><td>2016-10-14</td><td>2</td><td>5</td></tr>",
                            "<tr><td>brigitta3</td><td>Pataki Brigitta</td><td>2016-11-03</td><td>2016-11-09</td><td>3</td><td>7</td></tr>",
                            "<tr><td>brigitta3</td><td>Pataki Brigitta</td><td>2017-02-09</td><td>2017-02-16</td><td>2</td><td>8</td></tr>",
                            "<tr><td>csongor3</td><td>Nagymihály Csongor</td><td>2016-05-01</td><td>2016-05-04</td><td>2</td><td>NULL</td></tr>",
                            "<tr><td>csongor3</td><td>Nagymihály Csongor</td><td>2016-05-08</td><td>2016-05-15</td><td>3</td><td>2</td></tr>",
                            "<tr><td>csongor3</td><td>Nagymihály Csongor</td><td>2016-06-04</td><td>2016-06-05</td><td>2</td><td>5</td></tr>",
                            "<tr><td>csongor3</td><td>Nagymihály Csongor</td><td>2016-06-10</td><td>2016-06-17</td><td>3</td><td>7</td></tr>",
                            "<tr><td>csongor3</td><td>Nagymihály Csongor</td><td>2016-06-11</td><td>2016-06-14</td><td>2</td><td>8</td></tr>",
                            "<tr><td>csongor3</td><td>Nagymihály Csongor</td><td>2016-07-09</td><td>2016-07-10</td><td>4</td><td>7</td></tr>",
                            "<tr><td>csongor3</td><td>Nagymihály Csongor</td><td>2016-11-12</td><td>2016-11-17</td><td>3</td><td>9</td></tr>",
                            "<tr><td>csongor3</td><td>Nagymihály Csongor</td><td>2017-02-13</td><td>2017-02-19</td><td>3</td><td>9</td></tr>",
                            "<tr><td>dani</td><td>Vörös Dániel</td><td>2016-06-06</td><td>2016-06-10</td><td>3</td><td>NULL</td></tr>",
                            "<tr><td>dani</td><td>Vörös Dániel</td><td>2016-07-11</td><td>2016-07-12</td><td>3</td><td>3</td></tr>",
                            "<tr><td>dani</td><td>Vörös Dániel</td><td>2016-08-06</td><td>2016-08-09</td><td>2</td><td>6</td></tr>",
                            "<tr><td>dani</td><td>Vörös Dániel</td><td>2016-09-19</td><td>2016-09-25</td><td>4</td><td>8</td></tr>",
                            "<tr><td>dani</td><td>Vörös Dániel</td><td>2016-10-01</td><td>2016-10-02</td><td>1</td><td>9</td></tr>",
                            "<tr><td>dani</td><td>Vörös Dániel</td><td>2016-11-22</td><td>2016-11-24</td><td>2</td><td>7</td></tr>",
                            "<tr><td>dani</td><td>Vörös Dániel</td><td>2017-01-17</td><td>2017-01-23</td><td>2</td><td>7</td></tr>",
                            "<tr><td>dani</td><td>Vörös Dániel</td><td>2017-01-22</td><td>2017-01-29</td><td>1</td><td>5</td></tr>",
                            "<tr><td>dani</td><td>Vörös Dániel</td><td>2017-02-25</td><td>2017-03-01</td><td>3</td><td>5</td></tr>",
                            "<tr><td>daniel</td><td>Rácz Dániel</td><td>2016-04-10</td><td>2016-04-11</td><td>4</td><td>NULL</td></tr>",
                            "<tr><td>daniel</td><td>Rácz Dániel</td><td>2016-04-22</td><td>2016-04-25</td><td>2</td><td>4</td></tr>",
                            "<tr><td>daniel</td><td>Rácz Dániel</td><td>2016-05-09</td><td>2016-05-13</td><td>3</td><td>6</td></tr>",
                            "<tr><td>daniel</td><td>Rácz Dániel</td><td>2016-09-08</td><td>2016-09-10</td><td>4</td><td>9</td></tr>",
                            "<tr><td>daniel</td><td>Rácz Dániel</td><td>2016-11-13</td><td>2016-11-19</td><td>3</td><td>9</td></tr>",
                            "<tr><td>daniel</td><td>Rácz Dániel</td><td>2016-12-25</td><td>2016-12-26</td><td>3</td><td>10</td></tr>",
                            "<tr><td>daniel</td><td>Rácz Dániel</td><td>2017-01-09</td><td>2017-01-11</td><td>1</td><td>10</td></tr>",
                            "<tr><td>daniel</td><td>Rácz Dániel</td><td>2017-02-12</td><td>2017-02-13</td><td>3</td><td>7</td></tr>",
                            "<tr><td>daniel</td><td>Rácz Dániel</td><td>2017-02-20</td><td>2017-02-23</td><td>3</td><td>7</td></tr>",
                            "<tr><td>daniel1</td><td>Keszler Dániel</td><td>2016-04-10</td><td>2016-04-15</td><td>2</td><td>NULL</td></tr>",
                            "<tr><td>daniel1</td><td>Keszler Dániel</td><td>2016-05-10</td><td>2016-05-13</td><td>4</td><td>2</td></tr>",
                            "<tr><td>daniel1</td><td>Keszler Dániel</td><td>2016-05-26</td><td>2016-05-27</td><td>3</td><td>6</td></tr>",
                            "<tr><td>daniel1</td><td>Keszler Dániel</td><td>2016-11-09</td><td>2016-11-11</td><td>2</td><td>9</td></tr>",
                            "<tr><td>daniel1</td><td>Keszler Dániel</td><td>2016-11-23</td><td>2016-11-25</td><td>2</td><td>9</td></tr>",
                            "<tr><td>daniel1</td><td>Keszler Dániel</td><td>2017-01-05</td><td>2017-01-08</td><td>3</td><td>7</td></tr>",
                            "<tr><td>daniel1</td><td>Keszler Dániel</td><td>2017-03-01</td><td>2017-03-06</td><td>4</td><td>7</td></tr>",
                            "<tr><td>david</td><td>Ambrus Dávid</td><td>2016-05-18</td><td>2016-05-25</td><td>2</td><td>NULL</td></tr>",
                            "<tr><td>david</td><td>Ambrus Dávid</td><td>2016-06-09</td><td>2016-06-10</td><td>2</td><td>2</td></tr>",
                            "<tr><td>david</td><td>Ambrus Dávid</td><td>2016-06-30</td><td>2016-07-07</td><td>2</td><td>4</td></tr>",
                            "<tr><td>david</td><td>Ambrus Dávid</td><td>2016-07-18</td><td>2016-07-21</td><td>2</td><td>6</td></tr>",
                            "<tr><td>david</td><td>Ambrus Dávid</td><td>2016-08-05</td><td>2016-08-12</td><td>1</td><td>6</td></tr>",
                            "<tr><td>david</td><td>Ambrus Dávid</td><td>2016-08-20</td><td>2016-08-25</td><td>3</td><td>5</td></tr>",
                            "<tr><td>david</td><td>Ambrus Dávid</td><td>2016-08-22</td><td>2016-08-24</td><td>3</td><td>6</td></tr>",
                            "<tr><td>david</td><td>Ambrus Dávid</td><td>2016-10-30</td><td>2016-11-04</td><td>2</td><td>7</td></tr>",
                            "<tr><td>david</td><td>Ambrus Dávid</td><td>2017-01-18</td><td>2017-01-19</td><td>2</td><td>8</td></tr>",
                            "<tr><td>david1</td><td>Sobják Dávid</td><td>2016-09-20</td><td>2016-09-21</td><td>2</td><td>NULL</td></tr>",
                            "<tr><td>david1</td><td>Sobják Dávid</td><td>2016-10-01</td><td>2016-10-02</td><td>2</td><td>2</td></tr>",
                            "<tr><td>david1</td><td>Sobják Dávid</td><td>2016-11-19</td><td>2016-11-22</td><td>2</td><td>4</td></tr>",
                            "<tr><td>david1</td><td>Sobják Dávid</td><td>2016-12-30</td><td>2017-01-06</td><td>2</td><td>6</td></tr>",
                            "<tr><td>david1</td><td>Sobják Dávid</td><td>2017-02-17</td><td>2017-02-20</td><td>3</td><td>6</td></tr>",
                            "<tr><td>david1</td><td>Sobják Dávid</td><td>2017-02-25</td><td>2017-02-27</td><td>4</td><td>7</td></tr>",
                            "<tr><td>david4</td><td>Berta Dávid</td><td>2017-02-16</td><td>2017-02-19</td><td>3</td><td>NULL</td></tr>",
                            "<tr><td>debora</td><td>Barna Debóra</td><td>2016-06-22</td><td>2016-06-24</td><td>5</td><td>NULL</td></tr>",
                            "<tr><td>debora</td><td>Barna Debóra</td><td>2016-10-29</td><td>2016-11-03</td><td>2</td><td>5</td></tr>",
                            "<tr><td>debora</td><td>Barna Debóra</td><td>2017-01-23</td><td>2017-01-28</td><td>3</td><td>7</td></tr>",
                            "<tr><td>debora</td><td>Barna Debóra</td><td>2017-02-04</td><td>2017-02-06</td><td>3</td><td>10</td></tr>",
                            "<tr><td>denes</td><td>Tömböly Dénes</td><td>2016-05-27</td><td>2016-05-31</td><td>3</td><td>NULL</td></tr>",
                            "<tr><td>denes</td><td>Tömböly Dénes</td><td>2016-07-19</td><td>2016-07-23</td><td>2</td><td>3</td></tr>",
                            "<tr><td>denes</td><td>Tömböly Dénes</td><td>2016-08-01</td><td>2016-08-08</td><td>3</td><td>5</td></tr>",
                            "<tr><td>denes</td><td>Tömböly Dénes</td><td>2016-08-16</td><td>2016-08-23</td><td>2</td><td>8</td></tr>",
                            "<tr><td>denes</td><td>Tömböly Dénes</td><td>2016-08-20</td><td>2016-08-27</td><td>3</td><td>7</td></tr>",
                            "<tr><td>denes</td><td>Tömböly Dénes</td><td>2016-11-06</td><td>2016-11-10</td><td>2</td><td>8</td></tr>",
                            "<tr><td>dora3</td><td>Sarodi Dóra</td><td>2016-08-16</td><td>2016-08-19</td><td>4</td><td>NULL</td></tr>",
                            "<tr><td>dora3</td><td>Sarodi Dóra</td><td>2016-08-25</td><td>2016-08-29</td><td>3</td><td>4</td></tr>",
                            "<tr><td>dora3</td><td>Sarodi Dóra</td><td>2016-10-09</td><td>2016-10-12</td><td>3</td><td>7</td></tr>",
                            "<tr><td>dora3</td><td>Sarodi Dóra</td><td>2016-10-29</td><td>2016-11-02</td><td>3</td><td>10</td></tr>",
                            "<tr><td>dora3</td><td>Sarodi Dóra</td><td>2016-11-22</td><td>2016-11-29</td><td>3</td><td>9</td></tr>",
                            "<tr><td>edit</td><td>Bittmann Edit</td><td>2016-07-14</td><td>2016-07-17</td><td>3</td><td>NULL</td></tr>",
                            "<tr><td>edit</td><td>Bittmann Edit</td><td>2016-08-03</td><td>2016-08-09</td><td>4</td><td>3</td></tr>",
                            "<tr><td>edit</td><td>Bittmann Edit</td><td>2016-08-12</td><td>2016-08-14</td><td>2</td><td>7</td></tr>",
                            "<tr><td>edit</td><td>Bittmann Edit</td><td>2016-09-17</td><td>2016-09-24</td><td>2</td><td>9</td></tr>",
                            "<tr><td>edit</td><td>Bittmann Edit</td><td>2016-09-18</td><td>2016-09-21</td><td>3</td><td>8</td></tr>",
                            "<tr><td>edit</td><td>Bittmann Edit</td><td>2017-01-15</td><td>2017-01-18</td><td>4</td><td>7</td></tr>",
                            "<tr><td>edit</td><td>Bittmann Edit</td><td>2017-02-08</td><td>2017-02-14</td><td>3</td><td>9</td></tr>",
                            "<tr><td>emese</td><td>Kuruc Emese</td><td>2016-07-22</td><td>2016-07-24</td><td>2</td><td>NULL</td></tr>",
                            "<tr><td>emese</td><td>Kuruc Emese</td><td>2016-08-09</td><td>2016-08-12</td><td>2</td><td>2</td></tr>",
                            "<tr><td>emese</td><td>Kuruc Emese</td><td>2016-09-27</td><td>2016-09-28</td><td>3</td><td>4</td></tr>",
                            "<tr><td>emese</td><td>Kuruc Emese</td><td>2016-11-05</td><td>2016-11-09</td><td>1</td><td>7</td></tr>",
                            "<tr><td>emese</td><td>Kuruc Emese</td><td>2016-11-23</td><td>2016-11-27</td><td>4</td><td>6</td></tr>",
                            "<tr><td>emese</td><td>Kuruc Emese</td><td>2016-12-07</td><td>2016-12-08</td><td>3</td><td>8</td></tr>",
                            "<tr><td>emese</td><td>Kuruc Emese</td><td>2017-01-30</td><td>2017-01-31</td><td>2</td><td>8</td></tr>",
                            "<tr><td>eszter</td><td>Molnár Eszter</td><td>2016-08-12</td><td>2016-08-18</td><td>3</td><td>NULL</td></tr>",
                            "<tr><td>eszter</td><td>Molnár Eszter</td><td>2016-10-04</td><td>2016-10-10</td><td>3</td><td>3</td></tr>",
                            "<tr><td>eszter</td><td>Molnár Eszter</td><td>2016-10-26</td><td>2016-11-01</td><td>3</td><td>6</td></tr>",
                            "<tr><td>eszter</td><td>Molnár Eszter</td><td>2016-12-23</td><td>2016-12-28</td><td>2</td><td>9</td></tr>",
                            "<tr><td>eszter2</td><td>Balogh Eszter</td><td>2016-06-30</td><td>2016-07-07</td><td>3</td><td>NULL</td></tr>",
                            "<tr><td>eszter2</td><td>Balogh Eszter</td><td>2016-07-08</td><td>2016-07-09</td><td>1</td><td>3</td></tr>",
                            "<tr><td>eszter2</td><td>Balogh Eszter</td><td>2016-10-01</td><td>2016-10-05</td><td>3</td><td>4</td></tr>",
                            "<tr><td>eszter2</td><td>Balogh Eszter</td><td>2016-10-01</td><td>2016-10-06</td><td>1</td><td>7</td></tr>",
                            "<tr><td>eszter2</td><td>Balogh Eszter</td><td>2016-10-20</td><td>2016-10-25</td><td>1</td><td>5</td></tr>",
                            "<tr><td>eszter2</td><td>Balogh Eszter</td><td>2016-10-23</td><td>2016-10-30</td><td>1</td><td>5</td></tr>",
                            "<tr><td>eszter2</td><td>Balogh Eszter</td><td>2016-11-05</td><td>2016-11-12</td><td>4</td><td>3</td></tr>",
                            "<tr><td>eszter2</td><td>Balogh Eszter</td><td>2016-12-02</td><td>2016-12-07</td><td>1</td><td>6</td></tr>",
                            "<tr><td>eszter2</td><td>Balogh Eszter</td><td>2016-12-05</td><td>2016-12-08</td><td>2</td><td>6</td></tr>",
                            "<tr><td>eszter2</td><td>Balogh Eszter</td><td>2016-12-29</td><td>2017-02-04</td><td>1</td><td>7</td></tr>",
                            "<tr><td>eszter4</td><td>Fülöp Eszter</td><td>2017-01-05</td><td>2017-01-10</td><td>2</td><td>NULL</td></tr>",
                            "<tr><td>eszter4</td><td>Fülöp Eszter</td><td>2017-01-26</td><td>2017-02-02</td><td>2</td><td>2</td></tr>",
                            "<tr><td>eszter4</td><td>Fülöp Eszter</td><td>2017-02-26</td><td>2017-02-27</td><td>3</td><td>4</td></tr>",
                            "<tr><td>ESZTERE</td><td>Érsek Eszter</td><td>2016-05-30</td><td>2016-06-05</td><td>2</td><td>NULL</td></tr>",
                            "<tr><td>ESZTERE</td><td>Érsek Eszter</td><td>2016-07-19</td><td>2016-07-21</td><td>2</td><td>2</td></tr>",
                            "<tr><td>ESZTERE</td><td>Érsek Eszter</td><td>2016-11-01</td><td>2016-11-08</td><td>2</td><td>4</td></tr>",
                            "<tr><td>ESZTERE</td><td>Érsek Eszter</td><td>2017-02-10</td><td>2017-02-14</td><td>2</td><td>6</td></tr>",
                            "<tr><td>eva</td><td>Enyedi Éva</td><td>2016-10-06</td><td>2016-10-09</td><td>3</td><td>NULL</td></tr>",
                            "<tr><td>eva</td><td>Enyedi Éva</td><td>2017-01-14</td><td>2017-01-16</td><td>2</td><td>3</td></tr>",
                            "<tr><td>eva2</td><td>Perlinger Éva</td><td>2016-09-02</td><td>2016-09-03</td><td>1</td><td>NULL</td></tr>",
                            "<tr><td>eva2</td><td>Perlinger Éva</td><td>2016-11-06</td><td>2016-11-13</td><td>2</td><td>1</td></tr>",
                            "<tr><td>eva2</td><td>Perlinger Éva</td><td>2016-12-06</td><td>2016-12-11</td><td>2</td><td>3</td></tr>",
                            "<tr><td>eva2</td><td>Perlinger Éva</td><td>2017-01-06</td><td>2017-01-09</td><td>4</td><td>5</td></tr>",
                            "<tr><td>EVAV</td><td>Viktor Éva</td><td>2016-05-01</td><td>2016-05-05</td><td>3</td><td>NULL</td></tr>",
                            "<tr><td>EVAV</td><td>Viktor Éva</td><td>2016-08-31</td><td>2016-09-04</td><td>2</td><td>3</td></tr>",
                            "<tr><td>EVAV</td><td>Viktor Éva</td><td>2016-10-15</td><td>2016-10-21</td><td>3</td><td>5</td></tr>",
                            "<tr><td>EVAV</td><td>Viktor Éva</td><td>2016-10-16</td><td>2016-10-23</td><td>2</td><td>8</td></tr>",
                            "<tr><td>EVAV</td><td>Viktor Éva</td><td>2017-02-04</td><td>2017-02-11</td><td>5</td><td>7</td></tr>",
                            "<tr><td>ferenc1</td><td>Orosz Ferenc</td><td>2016-05-08</td><td>2016-05-11</td><td>2</td><td>NULL</td></tr>",
                            "<tr><td>ferenc1</td><td>Orosz Ferenc</td><td>2016-06-16</td><td>2016-06-22</td><td>2</td><td>2</td></tr>",
                            "<tr><td>ferenc1</td><td>Orosz Ferenc</td><td>2016-10-08</td><td>2016-10-09</td><td>2</td><td>4</td></tr>",
                            "<tr><td>ferenc1</td><td>Orosz Ferenc</td><td>2016-11-07</td><td>2016-11-08</td><td>3</td><td>6</td></tr>",
                            "<tr><td>fruzsina4</td><td>Frank Fruzsina</td><td>2016-06-02</td><td>2016-06-04</td><td>2</td><td>NULL</td></tr>",
                            "<tr><td>fruzsina4</td><td>Frank Fruzsina</td><td>2016-07-01</td><td>2016-07-04</td><td>3</td><td>2</td></tr>",
                            "<tr><td>fruzsina4</td><td>Frank Fruzsina</td><td>2016-07-13</td><td>2016-07-19</td><td>3</td><td>5</td></tr>",
                            "<tr><td>fruzsina4</td><td>Frank Fruzsina</td><td>2016-08-27</td><td>2016-08-30</td><td>4</td><td>8</td></tr>",
                            "<tr><td>fruzsina4</td><td>Frank Fruzsina</td><td>2016-09-29</td><td>2016-10-01</td><td>3</td><td>10</td></tr>",
                            "<tr><td>fruzsina4</td><td>Frank Fruzsina</td><td>2016-11-22</td><td>2016-11-24</td><td>2</td><td>10</td></tr>",
                            "<tr><td>fruzsina4</td><td>Frank Fruzsina</td><td>2016-12-16</td><td>2016-12-21</td><td>1</td><td>9</td></tr>",
                            "<tr><td>fruzsina4</td><td>Frank Fruzsina</td><td>2017-01-22</td><td>2017-01-25</td><td>4</td><td>6</td></tr>",
                            "<tr><td>gabor1</td><td>Köves Gábor</td><td>2016-06-20</td><td>2016-06-21</td><td>4</td><td>NULL</td></tr>",
                            "<tr><td>gabor1</td><td>Köves Gábor</td><td>2016-07-12</td><td>2016-07-15</td><td>1</td><td>4</td></tr>",
                            "<tr><td>gabor1</td><td>Köves Gábor</td><td>2016-07-28</td><td>2016-07-30</td><td>2</td><td>5</td></tr>",
                            "<tr><td>gabor1</td><td>Köves Gábor</td><td>2016-09-02</td><td>2016-09-03</td><td>3</td><td>7</td></tr>",
                            "<tr><td>gabor1</td><td>Köves Gábor</td><td>2016-10-20</td><td>2016-10-24</td><td>1</td><td>6</td></tr>",
                            "<tr><td>gabor1</td><td>Köves Gábor</td><td>2016-11-19</td><td>2016-11-22</td><td>2</td><td>6</td></tr>",
                            "<tr><td>gabor4</td><td>Telek Gábor</td><td>2016-04-26</td><td>2016-04-29</td><td>3</td><td>NULL</td></tr>",
                            "<tr><td>gabor4</td><td>Telek Gábor</td><td>2016-05-30</td><td>2016-06-05</td><td>1</td><td>3</td></tr>",
                            "<tr><td>gabor4</td><td>Telek Gábor</td><td>2016-08-31</td><td>2016-09-06</td><td>4</td><td>4</td></tr>",
                            "<tr><td>gabor4</td><td>Telek Gábor</td><td>2016-11-07</td><td>2016-11-13</td><td>4</td><td>8</td></tr>",
                            "<tr><td>gabriella1</td><td>Nagy Gabriella</td><td>2016-04-21</td><td>2016-04-24</td><td>3</td><td>NULL</td></tr>",
                            "<tr><td>gabriella1</td><td>Nagy Gabriella</td><td>2016-07-10</td><td>2016-07-11</td><td>3</td><td>3</td></tr>",
                            "<tr><td>gabriella1</td><td>Nagy Gabriella</td><td>2016-07-24</td><td>2016-07-31</td><td>2</td><td>6</td></tr>",
                            "<tr><td>gabriella1</td><td>Nagy Gabriella</td><td>2017-02-04</td><td>2017-02-11</td><td>3</td><td>8</td></tr>",
                            "<tr><td>gabriella1</td><td>Nagy Gabriella</td><td>2017-02-12</td><td>2017-02-13</td><td>2</td><td>8</td></tr>",
                            "<tr><td>gabriella1</td><td>Nagy Gabriella</td><td>2017-02-21</td><td>2017-02-27</td><td>3</td><td>7</td></tr>",
                            "<tr><td>gabriella10</td><td>Vida Gabriella</td><td>2016-10-01</td><td>2016-10-06</td><td>3</td><td>NULL</td></tr>",
                            "<tr><td>georgij</td><td>Nyíri Georgij</td><td>2016-06-16</td><td>2016-06-20</td><td>3</td><td>NULL</td></tr>",
                            "<tr><td>georgij</td><td>Nyíri Georgij</td><td>2016-08-16</td><td>2016-08-22</td><td>4</td><td>3</td></tr>",
                            "<tr><td>georgij</td><td>Nyíri Georgij</td><td>2016-08-28</td><td>2016-09-04</td><td>2</td><td>7</td></tr>",
                            "<tr><td>georgij</td><td>Nyíri Georgij</td><td>2016-09-18</td><td>2016-09-24</td><td>3</td><td>9</td></tr>",
                            "<tr><td>gusztav</td><td>Bárci Gusztáv</td><td>2016-05-06</td><td>2016-05-13</td><td>2</td><td>NULL</td></tr>",
                            "<tr><td>gusztav</td><td>Bárci Gusztáv</td><td>2016-08-05</td><td>2016-08-11</td><td>3</td><td>2</td></tr>",
                            "<tr><td>gusztav</td><td>Bárci Gusztáv</td><td>2016-10-01</td><td>2016-10-03</td><td>3</td><td>5</td></tr>",
                            "<tr><td>gusztav</td><td>Bárci Gusztáv</td><td>2017-02-03</td><td>2017-02-09</td><td>2</td><td>8</td></tr>",
                            "<tr><td>gusztav</td><td>Bárci Gusztáv</td><td>2017-02-23</td><td>2017-03-01</td><td>4</td><td>8</td></tr>",
                            "<tr><td>GYONGYIK</td><td>Kornseé Gyöngyi</td><td>2016-06-02</td><td>2016-06-05</td><td>3</td><td>NULL</td></tr>",
                            "<tr><td>GYONGYIK</td><td>Kornseé Gyöngyi</td><td>2016-06-10</td><td>2016-06-17</td><td>1</td><td>3</td></tr>",
                            "<tr><td>GYONGYIK</td><td>Kornseé Gyöngyi</td><td>2016-07-01</td><td>2016-07-05</td><td>2</td><td>4</td></tr>",
                            "<tr><td>GYONGYIK</td><td>Kornseé Gyöngyi</td><td>2016-08-17</td><td>2016-08-21</td><td>3</td><td>6</td></tr>",
                            "<tr><td>GYONGYIK</td><td>Kornseé Gyöngyi</td><td>2016-11-08</td><td>2016-11-13</td><td>2</td><td>6</td></tr>",
                            "<tr><td>GYONGYIK</td><td>Kornseé Gyöngyi</td><td>2016-12-01</td><td>2016-12-08</td><td>2</td><td>7</td></tr>",
                            "<tr><td>GYONGYIK</td><td>Kornseé Gyöngyi</td><td>2017-01-22</td><td>2017-01-29</td><td>3</td><td>7</td></tr>",
                            "<tr><td>GYORGYO</td><td>Oroszi György</td><td>2016-05-27</td><td>2016-05-28</td><td>3</td><td>NULL</td></tr>",
                            "<tr><td>GYORGYO</td><td>Oroszi György</td><td>2016-06-01</td><td>2016-06-07</td><td>2</td><td>3</td></tr>",
                            "<tr><td>GYORGYO</td><td>Oroszi György</td><td>2016-06-10</td><td>2016-06-15</td><td>2</td><td>5</td></tr>",
                            "<tr><td>GYORGYO</td><td>Oroszi György</td><td>2016-07-18</td><td>2016-07-25</td><td>2</td><td>7</td></tr>",
                            "<tr><td>GYORGYO</td><td>Oroszi György</td><td>2016-07-28</td><td>2016-08-03</td><td>3</td><td>6</td></tr>",
                            "<tr><td>GYORGYO</td><td>Oroszi György</td><td>2016-10-28</td><td>2016-10-31</td><td>1</td><td>7</td></tr>",
                            "<tr><td>GYORGYO</td><td>Oroszi György</td><td>2017-02-13</td><td>2017-02-15</td><td>2</td><td>6</td></tr>",
                            "<tr><td>GYORGYO</td><td>Oroszi György</td><td>2017-02-24</td><td>2017-02-25</td><td>3</td><td>6</td></tr>",
                            "<tr><td>henrik3</td><td>Nádudvari Henrik</td><td>2016-08-24</td><td>2016-08-28</td><td>1</td><td>NULL</td></tr>",
                            "<tr><td>henrik3</td><td>Nádudvari Henrik</td><td>2016-12-29</td><td>2017-01-03</td><td>3</td><td>1</td></tr>",
                            "<tr><td>henrik3</td><td>Nádudvari Henrik</td><td>2017-01-27</td><td>2017-01-28</td><td>3</td><td>4</td></tr>",
                            "<tr><td>IBOLYAA</td><td>Andor Ibolya</td><td>2016-08-29</td><td>2016-08-31</td><td>5</td><td>NULL</td></tr>",
                            "<tr><td>IBOLYAA</td><td>Andor Ibolya</td><td>2016-10-23</td><td>2016-10-28</td><td>2</td><td>5</td></tr>",
                            "<tr><td>IBOLYAA</td><td>Andor Ibolya</td><td>2017-01-17</td><td>2017-01-23</td><td>3</td><td>7</td></tr>",
                            "<tr><td>ilona3</td><td>Bosnyák Ilona</td><td>2016-07-31</td><td>2016-08-06</td><td>2</td><td>NULL</td></tr>",
                            "<tr><td>ilona3</td><td>Bosnyák Ilona</td><td>2016-08-04</td><td>2016-08-08</td><td>3</td><td>2</td></tr>",
                            "<tr><td>ilona3</td><td>Bosnyák Ilona</td><td>2016-11-04</td><td>2016-11-06</td><td>4</td><td>5</td></tr>",
                            "<tr><td>ilona3</td><td>Bosnyák Ilona</td><td>2016-12-25</td><td>2016-12-31</td><td>3</td><td>9</td></tr>",
                            "<tr><td>imre</td><td>Búza Imre</td><td>2016-09-17</td><td>2016-09-19</td><td>3</td><td>NULL</td></tr>",
                            "<tr><td>imre</td><td>Búza Imre</td><td>2016-10-28</td><td>2016-10-29</td><td>4</td><td>3</td></tr>",
                            "<tr><td>imre1</td><td>Papp Imre</td><td>2016-06-23</td><td>2016-06-26</td><td>4</td><td>NULL</td></tr>",
                            "<tr><td>imre1</td><td>Papp Imre</td><td>2016-06-27</td><td>2016-06-28</td><td>2</td><td>4</td></tr>",
                            "<tr><td>imre1</td><td>Papp Imre</td><td>2016-08-21</td><td>2016-08-27</td><td>2</td><td>6</td></tr>",
                            "<tr><td>imre1</td><td>Papp Imre</td><td>2016-08-23</td><td>2016-08-25</td><td>3</td><td>8</td></tr>",
                            "<tr><td>imre1</td><td>Papp Imre</td><td>2016-08-29</td><td>2016-08-31</td><td>2</td><td>7</td></tr>",
                            "<tr><td>imre1</td><td>Papp Imre</td><td>2017-02-01</td><td>2017-02-04</td><td>2</td><td>7</td></tr>",
                            "<tr><td>imre1</td><td>Papp Imre</td><td>2017-02-05</td><td>2017-02-07</td><td>4</td><td>7</td></tr>",
                            "<tr><td>istvan</td><td>Soós István</td><td>2016-10-07</td><td>2016-10-10</td><td>2</td><td>NULL</td></tr>",
                            "<tr><td>istvan</td><td>Soós István</td><td>2016-11-22</td><td>2016-11-24</td><td>3</td><td>2</td></tr>",
                            "<tr><td>istvan</td><td>Soós István</td><td>2017-01-02</td><td>2017-01-05</td><td>2</td><td>5</td></tr>",
                            "<tr><td>istvan1</td><td>Vizi István</td><td>2016-04-16</td><td>2016-04-22</td><td>3</td><td>NULL</td></tr>",
                            "<tr><td>istvan1</td><td>Vizi István</td><td>2016-04-24</td><td>2016-04-28</td><td>3</td><td>3</td></tr>",
                            "<tr><td>istvan1</td><td>Vizi István</td><td>2016-07-19</td><td>2016-07-24</td><td>1</td><td>6</td></tr>",
                            "<tr><td>istvan1</td><td>Vizi István</td><td>2017-02-07</td><td>2017-02-10</td><td>3</td><td>7</td></tr>",
                            "<tr><td>ISTVANV</td><td>Varga István</td><td>2016-07-01</td><td>2016-07-04</td><td>4</td><td>NULL</td></tr>",
                            "<tr><td>ISTVANV</td><td>Varga István</td><td>2016-09-29</td><td>2016-10-01</td><td>3</td><td>4</td></tr>",
                            "<tr><td>janos3</td><td>Harangozó János</td><td>2016-06-04</td><td>2016-06-06</td><td>1</td><td>NULL</td></tr>",
                            "<tr><td>janos3</td><td>Harangozó János</td><td>2016-08-24</td><td>2016-08-25</td><td>3</td><td>1</td></tr>",
                            "<tr><td>janos3</td><td>Harangozó János</td><td>2016-10-03</td><td>2016-10-08</td><td>3</td><td>4</td></tr>",
                            "<tr><td>janos3</td><td>Harangozó János</td><td>2016-10-22</td><td>2016-10-23</td><td>1</td><td>7</td></tr>",
                            "<tr><td>janos3</td><td>Harangozó János</td><td>2017-02-12</td><td>2017-02-14</td><td>3</td><td>7</td></tr>",
                            "<tr><td>JANOSG</td><td>Giliga János</td><td>2016-05-09</td><td>2016-05-15</td><td>1</td><td>NULL</td></tr>",
                            "<tr><td>JANOSG</td><td>Giliga János</td><td>2016-08-16</td><td>2016-08-23</td><td>3</td><td>1</td></tr>",
                            "<tr><td>JANOSG</td><td>Giliga János</td><td>2016-08-30</td><td>2016-09-03</td><td>3</td><td>4</td></tr>",
                            "<tr><td>JANOSG</td><td>Giliga János</td><td>2016-11-07</td><td>2016-11-14</td><td>3</td><td>7</td></tr>",
                            "<tr><td>JANOSG</td><td>Giliga János</td><td>2016-12-28</td><td>2016-12-30</td><td>2</td><td>9</td></tr>",
                            "<tr><td>JANOSG</td><td>Giliga János</td><td>2017-01-10</td><td>2017-01-15</td><td>2</td><td>8</td></tr>",
                            "<tr><td>JANOSG</td><td>Giliga János</td><td>2017-01-31</td><td>2017-02-05</td><td>2</td><td>7</td></tr>",
                            "<tr><td>JANOSP</td><td>Pálinkás János</td><td>2016-07-04</td><td>2016-07-11</td><td>3</td><td>NULL</td></tr>",
                            "<tr><td>JANOSP</td><td>Pálinkás János</td><td>2016-11-23</td><td>2016-11-28</td><td>2</td><td>3</td></tr>",
                            "<tr><td>JANOSP</td><td>Pálinkás János</td><td>2016-11-25</td><td>2016-11-27</td><td>2</td><td>5</td></tr>",
                            "<tr><td>JANOSP</td><td>Pálinkás János</td><td>2016-12-18</td><td>2016-12-21</td><td>2</td><td>7</td></tr>",
                            "<tr><td>jozsef</td><td>Gergely József</td><td>2016-09-13</td><td>2016-09-19</td><td>2</td><td>NULL</td></tr>",
                            "<tr><td>jozsef</td><td>Gergely József</td><td>2016-10-08</td><td>2016-10-10</td><td>2</td><td>2</td></tr>",
                            "<tr><td>jozsef</td><td>Gergely József</td><td>2016-12-06</td><td>2016-12-07</td><td>2</td><td>4</td></tr>",
                            "<tr><td>jozsef2</td><td>Vajda József</td><td>2016-07-06</td><td>2016-07-11</td><td>2</td><td>NULL</td></tr>",
                            "<tr><td>jozsef2</td><td>Vajda József</td><td>2016-07-16</td><td>2016-07-20</td><td>3</td><td>2</td></tr>",
                            "<tr><td>jozsef2</td><td>Vajda József</td><td>2016-09-09</td><td>2016-09-15</td><td>2</td><td>5</td></tr>",
                            "<tr><td>jozsef2</td><td>Vajda József</td><td>2016-11-23</td><td>2016-11-29</td><td>3</td><td>7</td></tr>",
                            "<tr><td>jozsef2</td><td>Vajda József</td><td>2016-11-25</td><td>2016-11-29</td><td>3</td><td>8</td></tr>",
                            "<tr><td>JOZSEFG</td><td>Gyuris József</td><td>2016-05-02</td><td>2016-05-06</td><td>2</td><td>NULL</td></tr>",
                            "<tr><td>JOZSEFG</td><td>Gyuris József</td><td>2016-05-23</td><td>2016-05-25</td><td>1</td><td>2</td></tr>",
                            "<tr><td>JOZSEFG</td><td>Gyuris József</td><td>2016-06-04</td><td>2016-06-09</td><td>4</td><td>3</td></tr>",
                            "<tr><td>JOZSEFG</td><td>Gyuris József</td><td>2016-08-24</td><td>2016-08-27</td><td>3</td><td>7</td></tr>",
                            "<tr><td>JOZSEFG</td><td>Gyuris József</td><td>2017-01-09</td><td>2017-01-13</td><td>2</td><td>8</td></tr>",
                            "<tr><td>JOZSEFG</td><td>Gyuris József</td><td>2017-01-22</td><td>2017-01-26</td><td>1</td><td>9</td></tr>",
                            "<tr><td>JOZSEFG</td><td>Gyuris József</td><td>2017-02-24</td><td>2017-03-03</td><td>3</td><td>6</td></tr>",
                            "<tr><td>JUDITH</td><td>Hídasi Judit</td><td>2016-06-06</td><td>2016-06-10</td><td>2</td><td>NULL</td></tr>",
                            "<tr><td>JUDITH</td><td>Hídasi Judit</td><td>2016-07-28</td><td>2016-07-30</td><td>2</td><td>2</td></tr>",
                            "<tr><td>JUDITH</td><td>Hídasi Judit</td><td>2016-12-19</td><td>2016-12-26</td><td>1</td><td>4</td></tr>",
                            "<tr><td>julia</td><td>Tóth Júlia</td><td>2016-04-21</td><td>2016-04-26</td><td>2</td><td>NULL</td></tr>",
                            "<tr><td>julia</td><td>Tóth Júlia</td><td>2016-05-12</td><td>2016-05-17</td><td>1</td><td>2</td></tr>",
                            "<tr><td>julia</td><td>Tóth Júlia</td><td>2016-06-07</td><td>2016-06-08</td><td>5</td><td>3</td></tr>",
                            "<tr><td>julia</td><td>Tóth Júlia</td><td>2016-07-20</td><td>2016-07-22</td><td>2</td><td>8</td></tr>",
                            "<tr><td>julia</td><td>Tóth Júlia</td><td>2017-02-27</td><td>2017-03-06</td><td>3</td><td>8</td></tr>",
                            "<tr><td>julia4</td><td>Nagy Júlia</td><td>2016-11-07</td><td>2016-11-12</td><td>1</td><td>NULL</td></tr>",
                            "<tr><td>julia4</td><td>Nagy Júlia</td><td>2017-02-04</td><td>2017-02-11</td><td>4</td><td>1</td></tr>",
                            "<tr><td>julianna4</td><td>Szabó Julianna</td><td>2016-07-20</td><td>2016-07-26</td><td>2</td><td>NULL</td></tr>",
                            "<tr><td>julianna4</td><td>Szabó Julianna</td><td>2016-10-29</td><td>2016-10-31</td><td>3</td><td>2</td></tr>",
                            "<tr><td>julianna4</td><td>Szabó Julianna</td><td>2016-11-03</td><td>2016-11-04</td><td>2</td><td>5</td></tr>",
                            "<tr><td>julianna4</td><td>Szabó Julianna</td><td>2016-11-27</td><td>2016-12-04</td><td>3</td><td>7</td></tr>",
                            "<tr><td>kata</td><td>Gondos Katalin</td><td>2016-04-10</td><td>2016-04-11</td><td>2</td><td>NULL</td></tr>",
                            "<tr><td>kata</td><td>Gondos Katalin</td><td>2016-04-25</td><td>2016-05-01</td><td>1</td><td>2</td></tr>",
                            "<tr><td>kata</td><td>Gondos Katalin</td><td>2016-05-31</td><td>2016-06-01</td><td>3</td><td>3</td></tr>",
                            "<tr><td>kata</td><td>Gondos Katalin</td><td>2016-06-07</td><td>2016-06-12</td><td>2</td><td>6</td></tr>",
                            "<tr><td>kata</td><td>Gondos Katalin</td><td>2016-07-01</td><td>2016-07-07</td><td>2</td><td>6</td></tr>",
                            "<tr><td>kata</td><td>Gondos Katalin</td><td>2016-07-03</td><td>2016-07-06</td><td>1</td><td>7</td></tr>",
                            "<tr><td>kata</td><td>Gondos Katalin</td><td>2016-07-07</td><td>2016-07-09</td><td>3</td><td>5</td></tr>",
                            "<tr><td>kata</td><td>Gondos Katalin</td><td>2016-08-24</td><td>2016-08-27</td><td>3</td><td>6</td></tr>",
                            "<tr><td>kata</td><td>Gondos Katalin</td><td>2016-09-19</td><td>2016-09-20</td><td>3</td><td>7</td></tr>",
                            "<tr><td>kata</td><td>Gondos Katalin</td><td>2017-01-15</td><td>2017-01-21</td><td>3</td><td>9</td></tr>",
                            "<tr><td>katalin</td><td>Horváth Katalin</td><td>2016-04-10</td><td>2016-04-17</td><td>2</td><td>NULL</td></tr>",
                            "<tr><td>katalin</td><td>Horváth Katalin</td><td>2016-05-21</td><td>2016-05-26</td><td>1</td><td>2</td></tr>",
                            "<tr><td>katalin</td><td>Horváth Katalin</td><td>2016-07-06</td><td>2016-07-11</td><td>1</td><td>3</td></tr>",
                            "<tr><td>katalin</td><td>Horváth Katalin</td><td>2016-07-28</td><td>2016-07-29</td><td>1</td><td>4</td></tr>",
                            "<tr><td>katalin</td><td>Horváth Katalin</td><td>2016-10-26</td><td>2016-10-30</td><td>2</td><td>3</td></tr>",
                            "<tr><td>katalin</td><td>Horváth Katalin</td><td>2016-12-13</td><td>2016-12-19</td><td>2</td><td>4</td></tr>",
                            "<tr><td>katalin</td><td>Horváth Katalin</td><td>2016-12-17</td><td>2016-12-24</td><td>1</td><td>5</td></tr>",
                            "<tr><td>katalin</td><td>Horváth Katalin</td><td>2016-12-24</td><td>2016-12-27</td><td>2</td><td>5</td></tr>",
                            "<tr><td>katalin</td><td>Horváth Katalin</td><td>2017-02-24</td><td>2017-02-27</td><td>3</td><td>5</td></tr>",
                            "<tr><td>katalin4</td><td>Kertész Katalin</td><td>2016-07-01</td><td>2016-07-07</td><td>1</td><td>NULL</td></tr>",
                            "<tr><td>katalin4</td><td>Kertész Katalin</td><td>2016-07-03</td><td>2016-07-04</td><td>4</td><td>1</td></tr>",
                            "<tr><td>katalin4</td><td>Kertész Katalin</td><td>2016-11-27</td><td>2016-12-04</td><td>3</td><td>5</td></tr>",
                            "<tr><td>katalin4</td><td>Kertész Katalin</td><td>2016-12-04</td><td>2016-12-09</td><td>3</td><td>8</td></tr>",
                            "<tr><td>katalin4</td><td>Kertész Katalin</td><td>2017-01-18</td><td>2017-01-20</td><td>2</td><td>10</td></tr>",
                            "<tr><td>katalin4</td><td>Kertész Katalin</td><td>2017-01-24</td><td>2017-01-31</td><td>2</td><td>8</td></tr>",
                            "<tr><td>kati</td><td>Zatykó Katalin</td><td>2016-06-06</td><td>2016-06-10</td><td>2</td><td>NULL</td></tr>",
                            "<tr><td>kati</td><td>Zatykó Katalin</td><td>2016-06-06</td><td>2016-06-11</td><td>3</td><td>2</td></tr>",
                            "<tr><td>kati</td><td>Zatykó Katalin</td><td>2016-07-13</td><td>2016-07-20</td><td>2</td><td>5</td></tr>",
                            "<tr><td>kati</td><td>Zatykó Katalin</td><td>2016-07-27</td><td>2016-08-03</td><td>2</td><td>7</td></tr>",
                            "<tr><td>kati</td><td>Zatykó Katalin</td><td>2016-08-03</td><td>2016-08-07</td><td>2</td><td>7</td></tr>",
                            "<tr><td>kati</td><td>Zatykó Katalin</td><td>2016-10-26</td><td>2016-10-28</td><td>2</td><td>6</td></tr>",
                            "<tr><td>kati</td><td>Zatykó Katalin</td><td>2016-10-30</td><td>2016-11-01</td><td>3</td><td>6</td></tr>",
                            "<tr><td>katka</td><td>Kovács Katalin</td><td>2016-04-10</td><td>2016-04-12</td><td>2</td><td>NULL</td></tr>",
                            "<tr><td>katka</td><td>Kovács Katalin</td><td>2016-05-09</td><td>2016-05-15</td><td>3</td><td>2</td></tr>",
                            "<tr><td>katka</td><td>Kovács Katalin</td><td>2016-06-13</td><td>2016-06-18</td><td>1</td><td>5</td></tr>",
                            "<tr><td>katka</td><td>Kovács Katalin</td><td>2016-06-13</td><td>2016-06-19</td><td>4</td><td>6</td></tr>",
                            "<tr><td>katka</td><td>Kovács Katalin</td><td>2016-08-24</td><td>2016-08-26</td><td>2</td><td>8</td></tr>",
                            "<tr><td>katka</td><td>Kovács Katalin</td><td>2016-09-05</td><td>2016-09-10</td><td>4</td><td>7</td></tr>",
                            "<tr><td>katka</td><td>Kovács Katalin</td><td>2016-11-05</td><td>2016-11-08</td><td>3</td><td>10</td></tr>",
                            "<tr><td>katka</td><td>Kovács Katalin</td><td>2017-01-02</td><td>2017-01-05</td><td>3</td><td>9</td></tr>",
                            "<tr><td>katka</td><td>Kovács Katalin</td><td>2017-01-19</td><td>2017-01-20</td><td>3</td><td>10</td></tr>",
                            "<tr><td>klaudia2</td><td>Bakó Klaudia</td><td>2016-06-06</td><td>2016-06-08</td><td>4</td><td>NULL</td></tr>",
                            "<tr><td>klaudia2</td><td>Bakó Klaudia</td><td>2016-10-01</td><td>2016-10-02</td><td>2</td><td>4</td></tr>",
                            "<tr><td>klaudia2</td><td>Bakó Klaudia</td><td>2016-10-02</td><td>2016-10-05</td><td>2</td><td>6</td></tr>",
                            "<tr><td>kornel4</td><td>Lukács Kornél</td><td>2016-05-08</td><td>2016-05-14</td><td>3</td><td>NULL</td></tr>",
                            "<tr><td>kornel4</td><td>Lukács Kornél</td><td>2016-06-02</td><td>2016-06-09</td><td>3</td><td>3</td></tr>",
                            "<tr><td>kornel4</td><td>Lukács Kornél</td><td>2016-09-23</td><td>2016-09-24</td><td>3</td><td>6</td></tr>",
                            "<tr><td>kristof4</td><td>Poprádi Kristóf</td><td>2016-04-08</td><td>2016-04-14</td><td>2</td><td>NULL</td></tr>",
                            "<tr><td>kristof4</td><td>Poprádi Kristóf</td><td>2016-09-30</td><td>2016-10-04</td><td>2</td><td>2</td></tr>",
                            "<tr><td>kriszti</td><td>Horváth Krisztina</td><td>2016-05-19</td><td>2016-05-26</td><td>2</td><td>NULL</td></tr>",
                            "<tr><td>kriszti</td><td>Horváth Krisztina</td><td>2016-08-24</td><td>2016-08-25</td><td>3</td><td>2</td></tr>",
                            "<tr><td>kriszti</td><td>Horváth Krisztina</td><td>2016-09-30</td><td>2016-10-05</td><td>3</td><td>5</td></tr>",
                            "<tr><td>kriszti</td><td>Horváth Krisztina</td><td>2016-10-01</td><td>2016-10-02</td><td>3</td><td>8</td></tr>",
                            "<tr><td>kriszti</td><td>Horváth Krisztina</td><td>2017-02-04</td><td>2017-02-11</td><td>3</td><td>9</td></tr>",
                            "<tr><td>kriszti</td><td>Horváth Krisztina</td><td>2017-03-03</td><td>2017-03-04</td><td>3</td><td>9</td></tr>",
                            "<tr><td>krisztian4</td><td>Czérna Krisztián</td><td>2016-06-03</td><td>2016-06-04</td><td>2</td><td>NULL</td></tr>",
                            "<tr><td>krisztian4</td><td>Czérna Krisztián</td><td>2016-06-07</td><td>2016-06-09</td><td>2</td><td>2</td></tr>",
                            "<tr><td>krisztian4</td><td>Czérna Krisztián</td><td>2016-07-28</td><td>2016-08-01</td><td>2</td><td>4</td></tr>",
                            "<tr><td>krisztian4</td><td>Czérna Krisztián</td><td>2016-08-01</td><td>2016-08-04</td><td>3</td><td>6</td></tr>",
                            "<tr><td>krisztian4</td><td>Czérna Krisztián</td><td>2016-08-16</td><td>2016-08-19</td><td>1</td><td>7</td></tr>",
                            "<tr><td>krisztian4</td><td>Czérna Krisztián</td><td>2016-08-29</td><td>2016-09-03</td><td>1</td><td>6</td></tr>",
                            "<tr><td>krisztian4</td><td>Czérna Krisztián</td><td>2016-10-17</td><td>2016-10-22</td><td>3</td><td>5</td></tr>",
                            "<tr><td>krisztian4</td><td>Czérna Krisztián</td><td>2016-11-02</td><td>2016-11-03</td><td>2</td><td>5</td></tr>",
                            "<tr><td>krisztian4</td><td>Czérna Krisztián</td><td>2016-12-11</td><td>2016-12-18</td><td>2</td><td>6</td></tr>",
                            "<tr><td>krisztian4</td><td>Czérna Krisztián</td><td>2017-01-06</td><td>2017-01-09</td><td>1</td><td>7</td></tr>",
                            "<tr><td>krisztian4</td><td>Czérna Krisztián</td><td>2017-01-16</td><td>2017-01-23</td><td>3</td><td>5</td></tr>",
                            "<tr><td>krisztian4</td><td>Czérna Krisztián</td><td>2017-02-23</td><td>2017-03-02</td><td>2</td><td>6</td></tr>",
                            "<tr><td>KRISZTIANM</td><td>Mogyródi Krisztián</td><td>2016-04-09</td><td>2016-04-15</td><td>2</td><td>NULL</td></tr>",
                            "<tr><td>KRISZTIANM</td><td>Mogyródi Krisztián</td><td>2016-06-04</td><td>2016-06-08</td><td>2</td><td>2</td></tr>",
                            "<tr><td>KRISZTIANM</td><td>Mogyródi Krisztián</td><td>2016-07-09</td><td>2016-07-14</td><td>3</td><td>4</td></tr>",
                            "<tr><td>KRISZTIANM</td><td>Mogyródi Krisztián</td><td>2016-08-02</td><td>2016-08-08</td><td>4</td><td>7</td></tr>",
                            "<tr><td>KRISZTIANM</td><td>Mogyródi Krisztián</td><td>2016-12-25</td><td>2016-12-31</td><td>2</td><td>9</td></tr>",
                            "<tr><td>KRISZTIANM</td><td>Mogyródi Krisztián</td><td>2017-01-16</td><td>2017-01-23</td><td>1</td><td>9</td></tr>",
                            "<tr><td>krisztina</td><td>Szedlár Krisztina</td><td>2016-05-21</td><td>2016-05-27</td><td>2</td><td>NULL</td></tr>",
                            "<tr><td>krisztina</td><td>Szedlár Krisztina</td><td>2016-07-05</td><td>2016-07-12</td><td>3</td><td>2</td></tr>",
                            "<tr><td>krisztina</td><td>Szedlár Krisztina</td><td>2016-09-13</td><td>2016-09-16</td><td>1</td><td>5</td></tr>",
                            "<tr><td>krisztina</td><td>Szedlár Krisztina</td><td>2016-09-19</td><td>2016-09-26</td><td>2</td><td>6</td></tr>",
                            "<tr><td>krisztina</td><td>Szedlár Krisztina</td><td>2016-11-08</td><td>2016-11-12</td><td>2</td><td>6</td></tr>",
                            "<tr><td>krisztina</td><td>Szedlár Krisztina</td><td>2016-11-22</td><td>2016-11-25</td><td>1</td><td>5</td></tr>",
                            "<tr><td>krisztina</td><td>Szedlár Krisztina</td><td>2017-02-05</td><td>2017-02-07</td><td>2</td><td>5</td></tr>",
                            "<tr><td>krisztina</td><td>Szedlár Krisztina</td><td>2017-02-16</td><td>2017-02-20</td><td>4</td><td>5</td></tr>",
                            "<tr><td>krisztina1</td><td>Bori Krisztina</td><td>2016-04-28</td><td>2016-04-30</td><td>2</td><td>NULL</td></tr>",
                            "<tr><td>krisztina1</td><td>Bori Krisztina</td><td>2016-05-16</td><td>2016-05-20</td><td>1</td><td>2</td></tr>",
                            "<tr><td>krisztina1</td><td>Bori Krisztina</td><td>2016-06-16</td><td>2016-06-22</td><td>2</td><td>3</td></tr>",
                            "<tr><td>krisztina1</td><td>Bori Krisztina</td><td>2016-09-15</td><td>2016-09-20</td><td>3</td><td>5</td></tr>",
                            "<tr><td>krisztina1</td><td>Bori Krisztina</td><td>2016-10-29</td><td>2016-10-30</td><td>4</td><td>6</td></tr>",
                            "<tr><td>krisztina1</td><td>Bori Krisztina</td><td>2017-01-21</td><td>2017-01-24</td><td>2</td><td>9</td></tr>",
                            "<tr><td>KRISZTINAG</td><td>Gyárfás Krisztina</td><td>2016-04-23</td><td>2016-04-24</td><td>2</td><td>NULL</td></tr>",
                            "<tr><td>KRISZTINAG</td><td>Gyárfás Krisztina</td><td>2016-05-24</td><td>2016-05-31</td><td>1</td><td>2</td></tr>",
                            "<tr><td>KRISZTINAG</td><td>Gyárfás Krisztina</td><td>2016-06-08</td><td>2016-06-12</td><td>1</td><td>3</td></tr>",
                            "<tr><td>KRISZTINAG</td><td>Gyárfás Krisztina</td><td>2016-08-08</td><td>2016-08-12</td><td>3</td><td>4</td></tr>",
                            "<tr><td>KRISZTINAG</td><td>Gyárfás Krisztina</td><td>2017-01-25</td><td>2017-01-30</td><td>2</td><td>5</td></tr>",
                            "<tr><td>lajos</td><td>Kiss Lajos</td><td>2016-07-18</td><td>2016-07-21</td><td>2</td><td>NULL</td></tr>",
                            "<tr><td>lajos</td><td>Kiss Lajos</td><td>2016-12-25</td><td>2016-12-28</td><td>4</td><td>2</td></tr>",
                            "<tr><td>lajos</td><td>Kiss Lajos</td><td>2017-02-12</td><td>2017-02-13</td><td>1</td><td>6</td></tr>",
                            "<tr><td>lala</td><td>Nagymihály Lajos</td><td>2016-06-16</td><td>2016-06-22</td><td>2</td><td>NULL</td></tr>",
                            "<tr><td>lala</td><td>Nagymihály Lajos</td><td>2016-07-20</td><td>2016-07-21</td><td>3</td><td>2</td></tr>",
                            "<tr><td>lala</td><td>Nagymihály Lajos</td><td>2016-07-26</td><td>2016-07-27</td><td>3</td><td>5</td></tr>",
                            "<tr><td>lala</td><td>Nagymihály Lajos</td><td>2016-10-30</td><td>2016-10-31</td><td>3</td><td>8</td></tr>",
                            "<tr><td>lala</td><td>Nagymihály Lajos</td><td>2017-01-08</td><td>2017-01-10</td><td>3</td><td>9</td></tr>",
                            "<tr><td>lala</td><td>Nagymihály Lajos</td><td>2017-01-17</td><td>2017-01-19</td><td>2</td><td>9</td></tr>",
                            "<tr><td>laszlo1</td><td>Farkas László</td><td>2016-09-23</td><td>2016-09-30</td><td>3</td><td>NULL</td></tr>",
                            "<tr><td>laszlo2</td><td>Móra László</td><td>2016-04-06</td><td>2016-04-10</td><td>2</td><td>NULL</td></tr>",
                            "<tr><td>laszlo2</td><td>Móra László</td><td>2016-04-27</td><td>2016-04-29</td><td>2</td><td>2</td></tr>",
                            "<tr><td>laszlo2</td><td>Móra László</td><td>2016-08-14</td><td>2016-08-15</td><td>3</td><td>4</td></tr>",
                            "<tr><td>laszlo2</td><td>Móra László</td><td>2016-09-05</td><td>2016-09-10</td><td>3</td><td>7</td></tr>",
                            "<tr><td>laszlo2</td><td>Móra László</td><td>2016-11-25</td><td>2016-11-26</td><td>3</td><td>8</td></tr>",
                            "<tr><td>LASZLOA</td><td>Antal László</td><td>2016-06-03</td><td>2016-06-09</td><td>2</td><td>NULL</td></tr>",
                            "<tr><td>LASZLOA</td><td>Antal László</td><td>2016-06-07</td><td>2016-06-11</td><td>1</td><td>2</td></tr>",
                            "<tr><td>LASZLOA</td><td>Antal László</td><td>2016-06-10</td><td>2016-06-13</td><td>3</td><td>3</td></tr>",
                            "<tr><td>LASZLOA</td><td>Antal László</td><td>2017-02-08</td><td>2017-02-14</td><td>2</td><td>6</td></tr>",
                            "<tr><td>LASZLON</td><td>Nagy László</td><td>2016-06-03</td><td>2016-06-06</td><td>1</td><td>NULL</td></tr>",
                            "<tr><td>LASZLON</td><td>Nagy László</td><td>2016-06-08</td><td>2016-06-09</td><td>2</td><td>1</td></tr>",
                            "<tr><td>LASZLON</td><td>Nagy László</td><td>2016-10-01</td><td>2016-10-04</td><td>3</td><td>3</td></tr>",
                            "<tr><td>LASZLON</td><td>Nagy László</td><td>2016-10-09</td><td>2016-10-14</td><td>1</td><td>6</td></tr>",
                            "<tr><td>LASZLON</td><td>Nagy László</td><td>2016-11-29</td><td>2016-12-04</td><td>1</td><td>6</td></tr>",
                            "<tr><td>LASZLON</td><td>Nagy László</td><td>2017-02-18</td><td>2017-02-25</td><td>3</td><td>5</td></tr>",
                            "<tr><td>maria1</td><td>Baráth Mária</td><td>2016-05-13</td><td>2016-05-18</td><td>2</td><td>NULL</td></tr>",
                            "<tr><td>maria1</td><td>Baráth Mária</td><td>2016-05-18</td><td>2016-05-19</td><td>1</td><td>2</td></tr>",
                            "<tr><td>maria1</td><td>Baráth Mária</td><td>2016-05-28</td><td>2016-06-03</td><td>2</td><td>3</td></tr>",
                            "<tr><td>maria1</td><td>Baráth Mária</td><td>2016-06-23</td><td>2016-06-27</td><td>1</td><td>5</td></tr>",
                            "<tr><td>maria1</td><td>Baráth Mária</td><td>2016-08-11</td><td>2016-08-14</td><td>3</td><td>4</td></tr>",
                            "<tr><td>maria1</td><td>Baráth Mária</td><td>2016-09-02</td><td>2016-09-05</td><td>1</td><td>6</td></tr>",
                            "<tr><td>maria1</td><td>Baráth Mária</td><td>2016-11-08</td><td>2016-11-12</td><td>3</td><td>5</td></tr>",
                            "<tr><td>maria1</td><td>Baráth Mária</td><td>2017-02-24</td><td>2017-03-02</td><td>2</td><td>7</td></tr>",
                            "<tr><td>mark</td><td>Kispál Márk</td><td>2016-04-19</td><td>2016-04-26</td><td>4</td><td>NULL</td></tr>",
                            "<tr><td>mark</td><td>Kispál Márk</td><td>2016-06-13</td><td>2016-06-18</td><td>3</td><td>4</td></tr>",
                            "<tr><td>mark</td><td>Kispál Márk</td><td>2016-08-09</td><td>2016-08-16</td><td>3</td><td>7</td></tr>",
                            "<tr><td>mark</td><td>Kispál Márk</td><td>2016-10-20</td><td>2016-10-27</td><td>1</td><td>10</td></tr>",
                            "<tr><td>mark</td><td>Kispál Márk</td><td>2016-11-19</td><td>2016-11-22</td><td>2</td><td>7</td></tr>",
                            "<tr><td>MARKH</td><td>Horváth Márk</td><td>2016-09-14</td><td>2016-09-17</td><td>3</td><td>NULL</td></tr>",
                            "<tr><td>MARKH</td><td>Horváth Márk</td><td>2016-09-23</td><td>2016-09-30</td><td>2</td><td>3</td></tr>",
                            "<tr><td>MARKH</td><td>Horváth Márk</td><td>2016-09-26</td><td>2016-10-01</td><td>4</td><td>5</td></tr>",
                            "<tr><td>MARKH</td><td>Horváth Márk</td><td>2017-01-22</td><td>2017-01-29</td><td>4</td><td>9</td></tr>",
                            "<tr><td>marton</td><td>Kalacsi Márton</td><td>2016-04-27</td><td>2016-05-04</td><td>3</td><td>NULL</td></tr>",
                            "<tr><td>marton</td><td>Kalacsi Márton</td><td>2016-05-05</td><td>2016-05-10</td><td>1</td><td>3</td></tr>",
                            "<tr><td>marton</td><td>Kalacsi Márton</td><td>2016-06-06</td><td>2016-06-08</td><td>3</td><td>4</td></tr>",
                            "<tr><td>marton</td><td>Kalacsi Márton</td><td>2016-06-22</td><td>2016-06-29</td><td>2</td><td>7</td></tr>",
                            "<tr><td>marton</td><td>Kalacsi Márton</td><td>2016-08-12</td><td>2016-08-17</td><td>2</td><td>6</td></tr>",
                            "<tr><td>marton</td><td>Kalacsi Márton</td><td>2016-09-10</td><td>2016-09-12</td><td>2</td><td>7</td></tr>",
                            "<tr><td>marton</td><td>Kalacsi Márton</td><td>2017-03-02</td><td>2017-03-03</td><td>2</td><td>6</td></tr>",
                            "<tr><td>MATEK</td><td>Koza Máté</td><td>2016-08-17</td><td>2016-08-21</td><td>4</td><td>NULL</td></tr>",
                            "<tr><td>MATEK</td><td>Koza Máté</td><td>2016-10-01</td><td>2016-10-04</td><td>2</td><td>4</td></tr>",
                            "<tr><td>MATEK</td><td>Koza Máté</td><td>2017-01-16</td><td>2017-01-22</td><td>2</td><td>6</td></tr>",
                            "<tr><td>matyas2</td><td>Botka Mátyás</td><td>2016-07-13</td><td>2016-07-16</td><td>2</td><td>NULL</td></tr>",
                            "<tr><td>matyas2</td><td>Botka Mátyás</td><td>2016-12-09</td><td>2016-12-13</td><td>3</td><td>2</td></tr>",
                            "<tr><td>MATYASS</td><td>Szilágyi Mátyás</td><td>2016-05-10</td><td>2016-05-16</td><td>2</td><td>NULL</td></tr>",
                            "<tr><td>MATYASS</td><td>Szilágyi Mátyás</td><td>2016-06-02</td><td>2016-06-08</td><td>1</td><td>2</td></tr>",
                            "<tr><td>MATYASS</td><td>Szilágyi Mátyás</td><td>2016-07-23</td><td>2016-07-25</td><td>3</td><td>3</td></tr>",
                            "<tr><td>MATYASS</td><td>Szilágyi Mátyás</td><td>2016-10-09</td><td>2016-10-15</td><td>3</td><td>6</td></tr>",
                            "<tr><td>MATYASS</td><td>Szilágyi Mátyás</td><td>2016-10-24</td><td>2016-10-31</td><td>1</td><td>7</td></tr>",
                            "<tr><td>MATYASS</td><td>Szilágyi Mátyás</td><td>2016-10-30</td><td>2016-11-04</td><td>3</td><td>7</td></tr>",
                            "<tr><td>MATYASS</td><td>Szilágyi Mátyás</td><td>2016-12-20</td><td>2016-12-25</td><td>2</td><td>7</td></tr>",
                            "<tr><td>MATYASS</td><td>Szilágyi Mátyás</td><td>2017-01-09</td><td>2017-01-13</td><td>2</td><td>6</td></tr>",
                            "<tr><td>MIHALYJ</td><td>Juhász Mihály</td><td>2016-05-30</td><td>2016-06-01</td><td>2</td><td>NULL</td></tr>",
                            "<tr><td>MIHALYJ</td><td>Juhász Mihály</td><td>2016-06-27</td><td>2016-07-01</td><td>1</td><td>2</td></tr>",
                            "<tr><td>MIHALYJ</td><td>Juhász Mihály</td><td>2016-08-29</td><td>2016-09-03</td><td>1</td><td>3</td></tr>",
                            "<tr><td>MIHALYJ</td><td>Juhász Mihály</td><td>2016-11-01</td><td>2016-11-04</td><td>3</td><td>4</td></tr>",
                            "<tr><td>MIHALYJ</td><td>Juhász Mihály</td><td>2017-02-06</td><td>2017-02-12</td><td>4</td><td>5</td></tr>",
                            "<tr><td>miklos2</td><td>Gondos Miklós</td><td>2016-04-19</td><td>2016-04-21</td><td>3</td><td>NULL</td></tr>",
                            "<tr><td>miklos2</td><td>Gondos Miklós</td><td>2016-10-08</td><td>2016-10-09</td><td>1</td><td>3</td></tr>",
                            "<tr><td>miklos2</td><td>Gondos Miklós</td><td>2016-11-16</td><td>2016-11-18</td><td>3</td><td>4</td></tr>",
                            "<tr><td>MIKLOSB</td><td>Balla Miklós</td><td>2016-06-26</td><td>2016-06-30</td><td>2</td><td>NULL</td></tr>",
                            "<tr><td>MIKLOSB</td><td>Balla Miklós</td><td>2016-07-18</td><td>2016-07-21</td><td>2</td><td>2</td></tr>",
                            "<tr><td>MIKLOSB</td><td>Balla Miklós</td><td>2016-12-05</td><td>2016-12-10</td><td>2</td><td>4</td></tr>",
                            "<tr><td>MONIKAM</td><td>Mohos Mónika</td><td>2016-04-29</td><td>2016-05-01</td><td>2</td><td>NULL</td></tr>",
                            "<tr><td>MONIKAM</td><td>Mohos Mónika</td><td>2016-07-23</td><td>2016-07-30</td><td>1</td><td>2</td></tr>",
                            "<tr><td>MONIKAM</td><td>Mohos Mónika</td><td>2016-11-09</td><td>2016-11-16</td><td>2</td><td>3</td></tr>",
                            "<tr><td>MONIKAM</td><td>Mohos Mónika</td><td>2017-01-17</td><td>2017-01-24</td><td>1</td><td>5</td></tr>",
                            "<tr><td>MONIKAM</td><td>Mohos Mónika</td><td>2017-02-06</td><td>2017-02-09</td><td>2</td><td>4</td></tr>",
                            "<tr><td>MONIKAM</td><td>Mohos Mónika</td><td>2017-02-23</td><td>2017-02-26</td><td>2</td><td>5</td></tr>",
                            "<tr><td>NANDORF</td><td>Fő Nándor</td><td>2016-04-06</td><td>2016-04-10</td><td>3</td><td>NULL</td></tr>",
                            "<tr><td>NANDORF</td><td>Fő Nándor</td><td>2016-11-03</td><td>2016-11-04</td><td>3</td><td>3</td></tr>",
                            "<tr><td>NANDORF</td><td>Fő Nándor</td><td>2017-02-05</td><td>2017-02-08</td><td>3</td><td>6</td></tr>",
                            "<tr><td>nikolett3</td><td>Horváth Nikolett</td><td>2016-05-24</td><td>2016-05-29</td><td>2</td><td>NULL</td></tr>",
                            "<tr><td>nikolett3</td><td>Horváth Nikolett</td><td>2016-06-03</td><td>2016-06-09</td><td>1</td><td>2</td></tr>",
                            "<tr><td>nikolett3</td><td>Horváth Nikolett</td><td>2016-06-22</td><td>2016-06-24</td><td>1</td><td>3</td></tr>",
                            "<tr><td>nikolett3</td><td>Horváth Nikolett</td><td>2016-10-22</td><td>2016-10-29</td><td>3</td><td>4</td></tr>",
                            "<tr><td>nikoletta4</td><td>Kő Nikoletta</td><td>2016-04-08</td><td>2016-04-10</td><td>2</td><td>NULL</td></tr>",
                            "<tr><td>nikoletta4</td><td>Kő Nikoletta</td><td>2016-05-09</td><td>2016-05-15</td><td>2</td><td>2</td></tr>",
                            "<tr><td>nikoletta4</td><td>Kő Nikoletta</td><td>2016-05-30</td><td>2016-06-03</td><td>3</td><td>4</td></tr>",
                            "<tr><td>nikoletta4</td><td>Kő Nikoletta</td><td>2016-06-29</td><td>2016-07-06</td><td>2</td><td>7</td></tr>",
                            "<tr><td>nikoletta4</td><td>Kő Nikoletta</td><td>2016-08-13</td><td>2016-08-17</td><td>3</td><td>7</td></tr>",
                            "<tr><td>nikoletta4</td><td>Kő Nikoletta</td><td>2016-12-08</td><td>2016-12-10</td><td>5</td><td>8</td></tr>",
                            "<tr><td>nikoletta4</td><td>Kő Nikoletta</td><td>2017-02-01</td><td>2017-02-04</td><td>2</td><td>10</td></tr>",
                            "<tr><td>NIKOLETTAT</td><td>Tatár Nikoletta</td><td>2016-05-22</td><td>2016-05-23</td><td>4</td><td>NULL</td></tr>",
                            "<tr><td>NIKOLETTAT</td><td>Tatár Nikoletta</td><td>2016-06-07</td><td>2016-06-09</td><td>2</td><td>4</td></tr>",
                            "<tr><td>NIKOLETTAT</td><td>Tatár Nikoletta</td><td>2016-07-27</td><td>2016-07-29</td><td>4</td><td>6</td></tr>",
                            "<tr><td>NIKOLETTAT</td><td>Tatár Nikoletta</td><td>2016-09-21</td><td>2016-09-26</td><td>2</td><td>10</td></tr>",
                            "<tr><td>norbert</td><td>Szűcs Norbert</td><td>2016-07-08</td><td>2016-07-13</td><td>1</td><td>NULL</td></tr>",
                            "<tr><td>norbert</td><td>Szűcs Norbert</td><td>2016-11-16</td><td>2016-11-23</td><td>3</td><td>1</td></tr>",
                            "<tr><td>norbert</td><td>Szűcs Norbert</td><td>2016-12-15</td><td>2016-12-18</td><td>2</td><td>4</td></tr>",
                            "<tr><td>norbert</td><td>Szűcs Norbert</td><td>2017-02-13</td><td>2017-02-15</td><td>3</td><td>6</td></tr>",
                            "<tr><td>norbert</td><td>Szűcs Norbert</td><td>2017-02-26</td><td>2017-03-01</td><td>1</td><td>8</td></tr>",
                            "<tr><td>norbert2</td><td>Hegedűs Norbert</td><td>2016-04-19</td><td>2016-04-26</td><td>1</td><td>NULL</td></tr>",
                            "<tr><td>norbert2</td><td>Hegedűs Norbert</td><td>2016-05-09</td><td>2016-05-10</td><td>2</td><td>1</td></tr>",
                            "<tr><td>norbert2</td><td>Hegedűs Norbert</td><td>2016-07-13</td><td>2016-07-15</td><td>3</td><td>3</td></tr>",
                            "<tr><td>norbert2</td><td>Hegedűs Norbert</td><td>2016-07-27</td><td>2016-08-02</td><td>2</td><td>6</td></tr>",
                            "<tr><td>norbert2</td><td>Hegedűs Norbert</td><td>2016-08-16</td><td>2016-08-19</td><td>1</td><td>7</td></tr>",
                            "<tr><td>norbert2</td><td>Hegedűs Norbert</td><td>2016-10-31</td><td>2016-11-07</td><td>2</td><td>6</td></tr>",
                            "<tr><td>norbert2</td><td>Hegedűs Norbert</td><td>2017-01-29</td><td>2017-02-05</td><td>3</td><td>5</td></tr>",
                            "<tr><td>norbert4</td><td>Mile Norbert</td><td>2016-04-10</td><td>2016-04-13</td><td>2</td><td>NULL</td></tr>",
                            "<tr><td>norbert4</td><td>Mile Norbert</td><td>2016-05-29</td><td>2016-06-03</td><td>3</td><td>2</td></tr>",
                            "<tr><td>norbert4</td><td>Mile Norbert</td><td>2016-06-16</td><td>2016-06-17</td><td>4</td><td>5</td></tr>",
                            "<tr><td>norbert4</td><td>Mile Norbert</td><td>2016-06-16</td><td>2016-06-21</td><td>3</td><td>9</td></tr>",
                            "<tr><td>norbert4</td><td>Mile Norbert</td><td>2016-10-05</td><td>2016-10-10</td><td>3</td><td>10</td></tr>",
                            "<tr><td>norbert4</td><td>Mile Norbert</td><td>2016-10-28</td><td>2016-10-31</td><td>3</td><td>10</td></tr>",
                            "<tr><td>norbert4</td><td>Mile Norbert</td><td>2016-11-30</td><td>2016-12-06</td><td>3</td><td>9</td></tr>",
                            "<tr><td>norbert4</td><td>Mile Norbert</td><td>2017-02-16</td><td>2017-02-17</td><td>1</td><td>9</td></tr>",
                            "<tr><td>norbert4</td><td>Mile Norbert</td><td>2017-03-03</td><td>2017-03-07</td><td>2</td><td>7</td></tr>",
                            "<tr><td>norbert5</td><td>Béres Norbert</td><td>2016-06-24</td><td>2016-06-28</td><td>2</td><td>NULL</td></tr>",
                            "<tr><td>norbert5</td><td>Béres Norbert</td><td>2016-08-10</td><td>2016-08-11</td><td>2</td><td>2</td></tr>",
                            "<tr><td>norbert5</td><td>Béres Norbert</td><td>2016-11-05</td><td>2016-11-07</td><td>1</td><td>4</td></tr>",
                            "<tr><td>pal</td><td>Barabás Pál</td><td>2016-08-14</td><td>2016-08-18</td><td>3</td><td>NULL</td></tr>",
                            "<tr><td>pal</td><td>Barabás Pál</td><td>2016-09-16</td><td>2016-09-19</td><td>2</td><td>3</td></tr>",
                            "<tr><td>pal</td><td>Barabás Pál</td><td>2016-12-17</td><td>2016-12-23</td><td>3</td><td>5</td></tr>",
                            "<tr><td>pal</td><td>Barabás Pál</td><td>2017-02-13</td><td>2017-02-19</td><td>3</td><td>8</td></tr>",
                            "<tr><td>pal</td><td>Barabás Pál</td><td>2017-02-20</td><td>2017-02-22</td><td>3</td><td>8</td></tr>",
                            "<tr><td>peter1</td><td>Kozma Péter</td><td>2016-07-14</td><td>2016-07-18</td><td>3</td><td>NULL</td></tr>",
                            "<tr><td>peter1</td><td>Kozma Péter</td><td>2016-10-26</td><td>2016-11-01</td><td>3</td><td>3</td></tr>",
                            "<tr><td>peter1</td><td>Kozma Péter</td><td>2017-02-23</td><td>2017-02-26</td><td>3</td><td>6</td></tr>",
                            "<tr><td>peter1</td><td>Kozma Péter</td><td>2017-02-28</td><td>2017-03-05</td><td>3</td><td>9</td></tr>",
                            "<tr><td>peter2</td><td>Bozsó Péter</td><td>2016-07-03</td><td>2016-07-08</td><td>2</td><td>NULL</td></tr>",
                            "<tr><td>peter2</td><td>Bozsó Péter</td><td>2016-10-10</td><td>2016-10-16</td><td>2</td><td>2</td></tr>",
                            "<tr><td>peter2</td><td>Bozsó Péter</td><td>2016-11-01</td><td>2016-11-02</td><td>2</td><td>4</td></tr>",
                            "<tr><td>peter2</td><td>Bozsó Péter</td><td>2016-11-15</td><td>2016-11-21</td><td>3</td><td>6</td></tr>",
                            "<tr><td>peter3</td><td>Szalai Péter</td><td>2016-06-30</td><td>2016-07-05</td><td>3</td><td>NULL</td></tr>",
                            "<tr><td>peter3</td><td>Szalai Péter</td><td>2016-07-27</td><td>2016-07-31</td><td>4</td><td>3</td></tr>",
                            "<tr><td>peter3</td><td>Szalai Péter</td><td>2016-10-30</td><td>2016-11-06</td><td>2</td><td>7</td></tr>",
                            "<tr><td>peter3</td><td>Szalai Péter</td><td>2016-12-25</td><td>2016-12-28</td><td>1</td><td>9</td></tr>",
                            "<tr><td>peter3</td><td>Szalai Péter</td><td>2017-01-12</td><td>2017-01-17</td><td>1</td><td>7</td></tr>",
                            "<tr><td>peter3</td><td>Szalai Péter</td><td>2017-02-21</td><td>2017-02-24</td><td>2</td><td>4</td></tr>",
                            "<tr><td>peter4</td><td>Bíró Péter</td><td>2016-04-12</td><td>2016-04-15</td><td>3</td><td>NULL</td></tr>",
                            "<tr><td>peter4</td><td>Bíró Péter</td><td>2016-08-06</td><td>2016-08-13</td><td>2</td><td>3</td></tr>",
                            "<tr><td>peter4</td><td>Bíró Péter</td><td>2016-08-24</td><td>2016-08-25</td><td>3</td><td>5</td></tr>",
                            "<tr><td>peter4</td><td>Bíró Péter</td><td>2016-09-11</td><td>2016-09-17</td><td>4</td><td>8</td></tr>",
                            "<tr><td>peter4</td><td>Bíró Péter</td><td>2016-09-25</td><td>2016-09-26</td><td>3</td><td>9</td></tr>",
                            "<tr><td>peter4</td><td>Bíró Péter</td><td>2016-09-30</td><td>2016-10-06</td><td>3</td><td>10</td></tr>",
                            "<tr><td>peter4</td><td>Bíró Péter</td><td>2016-10-09</td><td>2016-10-16</td><td>3</td><td>10</td></tr>",
                            "<tr><td>peter4</td><td>Bíró Péter</td><td>2016-10-24</td><td>2016-10-25</td><td>2</td><td>9</td></tr>",
                            "<tr><td>peter4</td><td>Bíró Péter</td><td>2016-10-30</td><td>2016-11-01</td><td>3</td><td>8</td></tr>",
                            "<tr><td>peter4</td><td>Bíró Péter</td><td>2016-11-10</td><td>2016-11-17</td><td>3</td><td>8</td></tr>",
                            "<tr><td>peter4</td><td>Bíró Péter</td><td>2016-11-25</td><td>2016-11-30</td><td>3</td><td>8</td></tr>",
                            "<tr><td>peter4</td><td>Bíró Péter</td><td>2017-02-05</td><td>2017-02-09</td><td>3</td><td>9</td></tr>",
                            "<tr><td>PETERB</td><td>Berendi Péter</td><td>2016-04-06</td><td>2016-04-10</td><td>1</td><td>NULL</td></tr>",
                            "<tr><td>PETERB</td><td>Berendi Péter</td><td>2016-07-20</td><td>2016-07-24</td><td>2</td><td>1</td></tr>",
                            "<tr><td>PETERB</td><td>Berendi Péter</td><td>2016-08-16</td><td>2016-08-23</td><td>1</td><td>3</td></tr>",
                            "<tr><td>PETERB</td><td>Berendi Péter</td><td>2016-10-19</td><td>2016-10-20</td><td>4</td><td>4</td></tr>",
                            "<tr><td>PETERB</td><td>Berendi Péter</td><td>2016-11-17</td><td>2016-11-20</td><td>2</td><td>7</td></tr>",
                            "<tr><td>polla</td><td>Palágyi Polla</td><td>2016-04-17</td><td>2016-04-22</td><td>3</td><td>NULL</td></tr>",
                            "<tr><td>polla</td><td>Palágyi Polla</td><td>2016-05-28</td><td>2016-06-04</td><td>2</td><td>3</td></tr>",
                            "<tr><td>polla</td><td>Palágyi Polla</td><td>2016-08-14</td><td>2016-08-17</td><td>2</td><td>5</td></tr>",
                            "<tr><td>polla</td><td>Palágyi Polla</td><td>2016-08-16</td><td>2016-08-19</td><td>4</td><td>7</td></tr>",
                            "<tr><td>polla</td><td>Palágyi Polla</td><td>2017-01-29</td><td>2017-02-01</td><td>2</td><td>8</td></tr>",
                            "<tr><td>polla</td><td>Palágyi Polla</td><td>2017-02-11</td><td>2017-02-16</td><td>2</td><td>8</td></tr>",
                            "<tr><td>rajmond4</td><td>Rácz Rajmond</td><td>2016-09-05</td><td>2016-09-07</td><td>3</td><td>NULL</td></tr>",
                            "<tr><td>rajmond4</td><td>Rácz Rajmond</td><td>2016-10-03</td><td>2016-10-04</td><td>3</td><td>3</td></tr>",
                            "<tr><td>rajmond4</td><td>Rácz Rajmond</td><td>2016-11-08</td><td>2016-11-09</td><td>4</td><td>6</td></tr>",
                            "<tr><td>rajmond4</td><td>Rácz Rajmond</td><td>2016-11-16</td><td>2016-11-20</td><td>2</td><td>10</td></tr>",
                            "<tr><td>reka4</td><td>Szikszai Réka</td><td>2016-07-27</td><td>2016-07-31</td><td>2</td><td>NULL</td></tr>",
                            "<tr><td>reka4</td><td>Szikszai Réka</td><td>2016-08-02</td><td>2016-08-04</td><td>4</td><td>2</td></tr>",
                            "<tr><td>reka4</td><td>Szikszai Réka</td><td>2016-09-05</td><td>2016-09-07</td><td>3</td><td>6</td></tr>",
                            "<tr><td>reka4</td><td>Szikszai Réka</td><td>2016-09-30</td><td>2016-10-06</td><td>2</td><td>9</td></tr>",
                            "<tr><td>reka4</td><td>Szikszai Réka</td><td>2017-02-26</td><td>2017-03-04</td><td>2</td><td>9</td></tr>",
                            "<tr><td>RENATAK</td><td>Kardos Renáta</td><td>2016-10-27</td><td>2016-10-29</td><td>4</td><td>NULL</td></tr>",
                            "<tr><td>RENATAK</td><td>Kardos Renáta</td><td>2016-10-30</td><td>2016-10-31</td><td>1</td><td>4</td></tr>",
                            "<tr><td>RENATAK</td><td>Kardos Renáta</td><td>2016-11-23</td><td>2016-11-26</td><td>1</td><td>5</td></tr>",
                            "<tr><td>RENATAK</td><td>Kardos Renáta</td><td>2017-01-23</td><td>2017-01-24</td><td>3</td><td>6</td></tr>",
                            "<tr><td>RENATAK</td><td>Kardos Renáta</td><td>2017-02-16</td><td>2017-02-23</td><td>1</td><td>5</td></tr>",
                            "<tr><td>RENATAK</td><td>Kardos Renáta</td><td>2017-03-01</td><td>2017-03-06</td><td>1</td><td>5</td></tr>",
                            "<tr><td>RENATAS</td><td>Szirmai Renáta</td><td>2016-05-04</td><td>2016-05-11</td><td>2</td><td>NULL</td></tr>",
                            "<tr><td>RENATAS</td><td>Szirmai Renáta</td><td>2016-05-11</td><td>2016-05-16</td><td>2</td><td>2</td></tr>",
                            "<tr><td>RENATAS</td><td>Szirmai Renáta</td><td>2016-06-24</td><td>2016-06-30</td><td>5</td><td>4</td></tr>",
                            "<tr><td>RENATAS</td><td>Szirmai Renáta</td><td>2017-02-13</td><td>2017-02-17</td><td>1</td><td>9</td></tr>",
                            "<tr><td>RENATAS</td><td>Szirmai Renáta</td><td>2017-02-14</td><td>2017-02-17</td><td>2</td><td>8</td></tr>",
                            "<tr><td>robert2</td><td>Patay Róbert</td><td>2016-05-15</td><td>2016-05-18</td><td>2</td><td>NULL</td></tr>",
                            "<tr><td>robert2</td><td>Patay Róbert</td><td>2016-08-20</td><td>2016-08-27</td><td>2</td><td>2</td></tr>",
                            "<tr><td>robert2</td><td>Patay Róbert</td><td>2016-10-23</td><td>2016-10-28</td><td>3</td><td>4</td></tr>",
                            "<tr><td>robert2</td><td>Patay Róbert</td><td>2016-12-17</td><td>2016-12-22</td><td>1</td><td>7</td></tr>",
                            "<tr><td>ROBERTI</td><td>Iván Róbert</td><td>2016-07-12</td><td>2016-07-19</td><td>4</td><td>NULL</td></tr>",
                            "<tr><td>ROBERTI</td><td>Iván Róbert</td><td>2016-08-16</td><td>2016-08-21</td><td>2</td><td>4</td></tr>",
                            "<tr><td>ROBERTI</td><td>Iván Róbert</td><td>2016-08-23</td><td>2016-08-25</td><td>2</td><td>6</td></tr>",
                            "<tr><td>ROBERTI</td><td>Iván Róbert</td><td>2016-10-08</td><td>2016-10-12</td><td>3</td><td>8</td></tr>",
                            "<tr><td>ROBERTI</td><td>Iván Róbert</td><td>2016-10-09</td><td>2016-10-10</td><td>2</td><td>7</td></tr>",
                            "<tr><td>ROBERTI</td><td>Iván Róbert</td><td>2016-10-23</td><td>2016-10-29</td><td>1</td><td>7</td></tr>",
                            "<tr><td>ROBERTI</td><td>Iván Róbert</td><td>2016-10-26</td><td>2016-11-01</td><td>2</td><td>6</td></tr>",
                            "<tr><td>ROBERTI</td><td>Iván Róbert</td><td>2017-02-17</td><td>2017-02-20</td><td>2</td><td>5</td></tr>",
                            "<tr><td>ROBERTP</td><td>Pásztor Róbert</td><td>2016-07-30</td><td>2016-08-05</td><td>2</td><td>NULL</td></tr>",
                            "<tr><td>ROBERTP</td><td>Pásztor Róbert</td><td>2016-09-08</td><td>2016-09-11</td><td>4</td><td>2</td></tr>",
                            "<tr><td>roland</td><td>Tóth Roland</td><td>2016-06-09</td><td>2016-06-13</td><td>3</td><td>NULL</td></tr>",
                            "<tr><td>roland</td><td>Tóth Roland</td><td>2016-06-22</td><td>2016-06-23</td><td>3</td><td>3</td></tr>",
                            "<tr><td>roland</td><td>Tóth Roland</td><td>2016-09-04</td><td>2016-09-05</td><td>2</td><td>6</td></tr>",
                            "<tr><td>roland</td><td>Tóth Roland</td><td>2016-11-19</td><td>2016-11-24</td><td>2</td><td>8</td></tr>",
                            "<tr><td>roland1</td><td>Ferencz Roland</td><td>2016-11-05</td><td>2016-11-07</td><td>3</td><td>NULL</td></tr>",
                            "<tr><td>roland1</td><td>Ferencz Roland</td><td>2016-12-22</td><td>2016-12-29</td><td>1</td><td>3</td></tr>",
                            "<tr><td>roland1</td><td>Ferencz Roland</td><td>2017-01-04</td><td>2017-01-08</td><td>3</td><td>4</td></tr>",
                            "<tr><td>roland1</td><td>Ferencz Roland</td><td>2017-01-16</td><td>2017-01-22</td><td>2</td><td>7</td></tr>",
                            "<tr><td>roza2</td><td>Bucskó Róza</td><td>2016-09-10</td><td>2016-09-13</td><td>2</td><td>NULL</td></tr>",
                            "<tr><td>roza2</td><td>Bucskó Róza</td><td>2017-01-11</td><td>2017-01-17</td><td>3</td><td>2</td></tr>",
                            "<tr><td>roza2</td><td>Bucskó Róza</td><td>2017-02-18</td><td>2017-02-21</td><td>3</td><td>5</td></tr>",
                            "<tr><td>sandor</td><td>Karasz Sándor</td><td>2016-07-04</td><td>2016-07-06</td><td>2</td><td>NULL</td></tr>",
                            "<tr><td>sandor</td><td>Karasz Sándor</td><td>2016-07-18</td><td>2016-07-24</td><td>2</td><td>2</td></tr>",
                            "<tr><td>sandor</td><td>Karasz Sándor</td><td>2016-08-20</td><td>2016-08-25</td><td>2</td><td>4</td></tr>",
                            "<tr><td>sandor</td><td>Karasz Sándor</td><td>2016-09-19</td><td>2016-09-26</td><td>4</td><td>6</td></tr>",
                            "<tr><td>sandor3</td><td>Farkas Sándor</td><td>2016-05-12</td><td>2016-05-15</td><td>2</td><td>NULL</td></tr>",
                            "<tr><td>sandor3</td><td>Farkas Sándor</td><td>2016-05-25</td><td>2016-05-30</td><td>1</td><td>2</td></tr>",
                            "<tr><td>sandor3</td><td>Farkas Sándor</td><td>2016-10-09</td><td>2016-10-14</td><td>2</td><td>3</td></tr>",
                            "<tr><td>sandor3</td><td>Farkas Sándor</td><td>2016-10-23</td><td>2016-10-29</td><td>3</td><td>5</td></tr>",
                            "<tr><td>sandor3</td><td>Farkas Sándor</td><td>2016-11-10</td><td>2016-11-11</td><td>2</td><td>6</td></tr>",
                            "<tr><td>sandor4</td><td>Nagy Sándor</td><td>2016-10-15</td><td>2016-10-18</td><td>1</td><td>NULL</td></tr>",
                            "<tr><td>sandor4</td><td>Nagy Sándor</td><td>2016-11-29</td><td>2016-12-03</td><td>2</td><td>1</td></tr>",
                            "<tr><td>sandor4</td><td>Nagy Sándor</td><td>2016-12-03</td><td>2016-12-09</td><td>1</td><td>3</td></tr>",
                            "<tr><td>sandor4</td><td>Nagy Sándor</td><td>2017-01-22</td><td>2017-01-26</td><td>2</td><td>4</td></tr>",
                            "<tr><td>sara</td><td>Farkas Sára</td><td>2016-05-28</td><td>2016-05-30</td><td>2</td><td>NULL</td></tr>",
                            "<tr><td>sara</td><td>Farkas Sára</td><td>2016-05-30</td><td>2016-05-31</td><td>2</td><td>2</td></tr>",
                            "<tr><td>sara</td><td>Farkas Sára</td><td>2016-06-06</td><td>2016-06-08</td><td>2</td><td>4</td></tr>",
                            "<tr><td>sara</td><td>Farkas Sára</td><td>2016-07-15</td><td>2016-07-17</td><td>3</td><td>6</td></tr>",
                            "<tr><td>sara</td><td>Farkas Sára</td><td>2016-07-24</td><td>2016-07-27</td><td>3</td><td>7</td></tr>",
                            "<tr><td>sara</td><td>Farkas Sára</td><td>2016-10-06</td><td>2016-10-12</td><td>3</td><td>8</td></tr>",
                            "<tr><td>sara</td><td>Farkas Sára</td><td>2016-10-11</td><td>2016-10-14</td><td>3</td><td>9</td></tr>",
                            "<tr><td>sara</td><td>Farkas Sára</td><td>2016-10-28</td><td>2016-11-03</td><td>2</td><td>9</td></tr>",
                            "<tr><td>sara</td><td>Farkas Sára</td><td>2016-11-18</td><td>2016-11-21</td><td>3</td><td>8</td></tr>",
                            "<tr><td>sara</td><td>Farkas Sára</td><td>2016-11-23</td><td>2016-11-30</td><td>4</td><td>8</td></tr>",
                            "<tr><td>sara</td><td>Farkas Sára</td><td>2016-12-06</td><td>2016-12-10</td><td>1</td><td>9</td></tr>",
                            "<tr><td>sara</td><td>Farkas Sára</td><td>2016-12-25</td><td>2016-12-30</td><td>2</td><td>8</td></tr>",
                            "<tr><td>SEBASTIANF</td><td>Foltényi Sebastián</td><td>2016-04-06</td><td>2016-04-12</td><td>2</td><td>NULL</td></tr>",
                            "<tr><td>SEBASTIANF</td><td>Foltényi Sebastián</td><td>2016-07-17</td><td>2016-07-21</td><td>2</td><td>2</td></tr>",
                            "<tr><td>SEBASTIANF</td><td>Foltényi Sebastián</td><td>2016-07-30</td><td>2016-08-06</td><td>4</td><td>4</td></tr>",
                            "<tr><td>SEBASTIANF</td><td>Foltényi Sebastián</td><td>2016-09-14</td><td>2016-09-15</td><td>3</td><td>8</td></tr>",
                            "<tr><td>SEBASTIANF</td><td>Foltényi Sebastián</td><td>2016-09-17</td><td>2016-09-20</td><td>3</td><td>9</td></tr>",
                            "<tr><td>sebestyen</td><td>Rab Sebestyén</td><td>2016-04-07</td><td>2016-04-12</td><td>4</td><td>NULL</td></tr>",
                            "<tr><td>sebestyen</td><td>Rab Sebestyén</td><td>2016-04-26</td><td>2016-05-02</td><td>4</td><td>4</td></tr>",
                            "<tr><td>sebestyen</td><td>Rab Sebestyén</td><td>2016-06-09</td><td>2016-06-14</td><td>4</td><td>8</td></tr>",
                            "<tr><td>sebestyen</td><td>Rab Sebestyén</td><td>2016-10-26</td><td>2016-11-01</td><td>5</td><td>12</td></tr>",
                            "<tr><td>szabolcs</td><td>Bodor Szabolcs</td><td>2016-12-05</td><td>2016-12-07</td><td>2</td><td>NULL</td></tr>",
                            "<tr><td>SZABOLCSM</td><td>Miklós Szabolcs</td><td>2016-06-18</td><td>2016-06-21</td><td>3</td><td>NULL</td></tr>",
                            "<tr><td>SZABOLCSM</td><td>Miklós Szabolcs</td><td>2016-07-28</td><td>2016-08-03</td><td>2</td><td>3</td></tr>",
                            "<tr><td>SZABOLCSM</td><td>Miklós Szabolcs</td><td>2016-10-17</td><td>2016-10-19</td><td>2</td><td>5</td></tr>",
                            "<tr><td>SZABOLCSM</td><td>Miklós Szabolcs</td><td>2016-10-28</td><td>2016-11-03</td><td>3</td><td>7</td></tr>",
                            "<tr><td>SZABOLCSM</td><td>Miklós Szabolcs</td><td>2016-11-12</td><td>2016-11-13</td><td>2</td><td>7</td></tr>",
                            "<tr><td>SZABOLCSM</td><td>Miklós Szabolcs</td><td>2017-01-07</td><td>2017-01-08</td><td>2</td><td>7</td></tr>",
                            "<tr><td>SZABOLCSM</td><td>Miklós Szabolcs</td><td>2017-02-04</td><td>2017-02-05</td><td>3</td><td>7</td></tr>",
                            "<tr><td>SZILARDS</td><td>Szalai Szilárd</td><td>2016-04-23</td><td>2016-04-30</td><td>3</td><td>NULL</td></tr>",
                            "<tr><td>SZILARDS</td><td>Szalai Szilárd</td><td>2016-07-27</td><td>2016-08-03</td><td>5</td><td>3</td></tr>",
                            "<tr><td>SZILARDS</td><td>Szalai Szilárd</td><td>2016-08-28</td><td>2016-08-29</td><td>4</td><td>8</td></tr>",
                            "<tr><td>SZILARDS</td><td>Szalai Szilárd</td><td>2016-09-20</td><td>2016-09-24</td><td>3</td><td>12</td></tr>",
                            "<tr><td>SZILARDS</td><td>Szalai Szilárd</td><td>2016-10-01</td><td>2016-10-08</td><td>3</td><td>12</td></tr>",
                            "<tr><td>SZILARDS</td><td>Szalai Szilárd</td><td>2017-01-16</td><td>2017-01-19</td><td>3</td><td>10</td></tr>",
                            "<tr><td>SZILARDS</td><td>Szalai Szilárd</td><td>2017-02-08</td><td>2017-02-15</td><td>1</td><td>9</td></tr>",
                            "<tr><td>szilvia1</td><td>Tari Szilvia</td><td>2016-05-14</td><td>2016-05-21</td><td>2</td><td>NULL</td></tr>",
                            "<tr><td>szilvia1</td><td>Tari Szilvia</td><td>2016-05-28</td><td>2016-06-03</td><td>2</td><td>2</td></tr>",
                            "<tr><td>szilvia1</td><td>Tari Szilvia</td><td>2016-07-25</td><td>2016-07-28</td><td>2</td><td>4</td></tr>",
                            "<tr><td>szilvia1</td><td>Tari Szilvia</td><td>2016-10-09</td><td>2016-10-10</td><td>3</td><td>6</td></tr>",
                            "<tr><td>szilvia1</td><td>Tari Szilvia</td><td>2016-10-25</td><td>2016-10-31</td><td>3</td><td>7</td></tr>",
                            "<tr><td>szilvia1</td><td>Tari Szilvia</td><td>2016-10-27</td><td>2016-10-28</td><td>2</td><td>8</td></tr>",
                            "<tr><td>szilvia1</td><td>Tari Szilvia</td><td>2016-12-25</td><td>2016-12-29</td><td>5</td><td>8</td></tr>",
                            "<tr><td>szilvia1</td><td>Tari Szilvia</td><td>2016-12-27</td><td>2017-01-02</td><td>2</td><td>10</td></tr>",
                            "<tr><td>szilvia1</td><td>Tari Szilvia</td><td>2017-01-28</td><td>2017-02-03</td><td>2</td><td>9</td></tr>",
                            "<tr><td>tamara2</td><td>Miklós Tamara</td><td>2016-08-12</td><td>2016-08-15</td><td>3</td><td>NULL</td></tr>",
                            "<tr><td>tamara2</td><td>Miklós Tamara</td><td>2016-11-15</td><td>2016-11-18</td><td>2</td><td>3</td></tr>",
                            "<tr><td>tamas</td><td>Antal Tamás</td><td>2016-05-17</td><td>2016-05-22</td><td>2</td><td>NULL</td></tr>",
                            "<tr><td>tamas</td><td>Antal Tamás</td><td>2016-06-14</td><td>2016-06-21</td><td>2</td><td>2</td></tr>",
                            "<tr><td>tamas</td><td>Antal Tamás</td><td>2016-08-24</td><td>2016-08-27</td><td>3</td><td>4</td></tr>",
                            "<tr><td>tamas</td><td>Antal Tamás</td><td>2017-02-14</td><td>2017-02-19</td><td>3</td><td>7</td></tr>",
                            "<tr><td>TAMASF</td><td>Fényes Tamás</td><td>2016-05-03</td><td>2016-05-04</td><td>2</td><td>NULL</td></tr>",
                            "<tr><td>TAMASF</td><td>Fényes Tamás</td><td>2016-06-10</td><td>2016-06-13</td><td>3</td><td>2</td></tr>",
                            "<tr><td>TAMASF</td><td>Fényes Tamás</td><td>2016-06-28</td><td>2016-07-05</td><td>3</td><td>5</td></tr>",
                            "<tr><td>TAMASF</td><td>Fényes Tamás</td><td>2016-07-04</td><td>2016-07-10</td><td>2</td><td>8</td></tr>",
                            "<tr><td>TAMASF</td><td>Fényes Tamás</td><td>2016-09-12</td><td>2016-09-18</td><td>3</td><td>8</td></tr>",
                            "<tr><td>TAMASF</td><td>Fényes Tamás</td><td>2016-12-02</td><td>2016-12-04</td><td>1</td><td>8</td></tr>",
                            "<tr><td>TAMASF</td><td>Fényes Tamás</td><td>2016-12-10</td><td>2016-12-14</td><td>3</td><td>6</td></tr>",
                            "<tr><td>TAMASF</td><td>Fényes Tamás</td><td>2017-02-12</td><td>2017-02-17</td><td>2</td><td>7</td></tr>",
                            "<tr><td>TAMASF</td><td>Fényes Tamás</td><td>2017-02-16</td><td>2017-02-19</td><td>4</td><td>6</td></tr>",
                            "<tr><td>tibor</td><td>Gombos Tibor</td><td>2016-10-09</td><td>2016-10-13</td><td>2</td><td>NULL</td></tr>",
                            "<tr><td>tibor</td><td>Gombos Tibor</td><td>2016-11-05</td><td>2016-11-09</td><td>1</td><td>2</td></tr>",
                            "<tr><td>tibor2</td><td>Dániel Tibor</td><td>2016-10-20</td><td>2016-10-25</td><td>2</td><td>NULL</td></tr>",
                            "<tr><td>tihamer</td><td>Kazy Tihamér</td><td>2016-05-30</td><td>2016-06-05</td><td>1</td><td>NULL</td></tr>",
                            "<tr><td>tihamer</td><td>Kazy Tihamér</td><td>2016-06-03</td><td>2016-06-08</td><td>5</td><td>1</td></tr>",
                            "<tr><td>tihamer</td><td>Kazy Tihamér</td><td>2016-07-20</td><td>2016-07-24</td><td>3</td><td>6</td></tr>",
                            "<tr><td>tihamer</td><td>Kazy Tihamér</td><td>2016-08-18</td><td>2016-08-22</td><td>3</td><td>9</td></tr>",
                            "<tr><td>tihamer</td><td>Kazy Tihamér</td><td>2016-10-19</td><td>2016-10-23</td><td>2</td><td>11</td></tr>",
                            "<tr><td>tihamer</td><td>Kazy Tihamér</td><td>2016-12-25</td><td>2016-12-26</td><td>2</td><td>8</td></tr>",
                            "<tr><td>timea</td><td>Papós Tímea</td><td>2016-12-26</td><td>2016-12-27</td><td>2</td><td>NULL</td></tr>",
                            "<tr><td>timea2</td><td>Dusha Tímea</td><td>2016-06-06</td><td>2016-06-07</td><td>2</td><td>NULL</td></tr>",
                            "<tr><td>timea2</td><td>Dusha Tímea</td><td>2016-08-07</td><td>2016-08-10</td><td>3</td><td>2</td></tr>",
                            "<tr><td>timea2</td><td>Dusha Tímea</td><td>2016-10-26</td><td>2016-10-29</td><td>3</td><td>5</td></tr>",
                            "<tr><td>timea2</td><td>Dusha Tímea</td><td>2016-11-27</td><td>2016-12-01</td><td>4</td><td>8</td></tr>",
                            "<tr><td>timea2</td><td>Dusha Tímea</td><td>2016-12-14</td><td>2016-12-16</td><td>4</td><td>10</td></tr>",
                            "<tr><td>tunde</td><td>Turcsik Tünde</td><td>2016-06-03</td><td>2016-06-07</td><td>3</td><td>NULL</td></tr>",
                            "<tr><td>tunde</td><td>Turcsik Tünde</td><td>2016-06-06</td><td>2016-06-12</td><td>3</td><td>3</td></tr>",
                            "<tr><td>tunde</td><td>Turcsik Tünde</td><td>2016-07-14</td><td>2016-07-21</td><td>1</td><td>6</td></tr>",
                            "<tr><td>tunde</td><td>Turcsik Tünde</td><td>2016-09-05</td><td>2016-09-12</td><td>2</td><td>7</td></tr>",
                            "<tr><td>tunde</td><td>Turcsik Tünde</td><td>2016-10-24</td><td>2016-10-30</td><td>3</td><td>6</td></tr>",
                            "<tr><td>tunde</td><td>Turcsik Tünde</td><td>2016-11-19</td><td>2016-11-20</td><td>3</td><td>6</td></tr>",
                            "<tr><td>tunde</td><td>Turcsik Tünde</td><td>2016-12-15</td><td>2016-12-20</td><td>3</td><td>8</td></tr>",
                            "<tr><td>tunde</td><td>Turcsik Tünde</td><td>2017-01-03</td><td>2017-01-06</td><td>5</td><td>9</td></tr>",
                            "<tr><td>valentin</td><td>Feró Valentin</td><td>2016-05-24</td><td>2016-05-30</td><td>4</td><td>NULL</td></tr>",
                            "<tr><td>valentin</td><td>Feró Valentin</td><td>2016-07-24</td><td>2016-07-29</td><td>1</td><td>4</td></tr>",
                            "<tr><td>valentin</td><td>Feró Valentin</td><td>2016-10-26</td><td>2016-10-30</td><td>3</td><td>5</td></tr>",
                            "<tr><td>valentin</td><td>Feró Valentin</td><td>2016-11-11</td><td>2016-11-17</td><td>3</td><td>8</td></tr>",
                            "<tr><td>valentin</td><td>Feró Valentin</td><td>2016-12-01</td><td>2016-12-05</td><td>3</td><td>7</td></tr>",
                            "<tr><td>veronika4</td><td>Tankó Veronika</td><td>2016-05-30</td><td>2016-06-04</td><td>2</td><td>NULL</td></tr>",
                            "<tr><td>veronika4</td><td>Tankó Veronika</td><td>2016-07-20</td><td>2016-07-26</td><td>3</td><td>2</td></tr>",
                            "<tr><td>veronika4</td><td>Tankó Veronika</td><td>2016-08-16</td><td>2016-08-21</td><td>1</td><td>5</td></tr>",
                            "<tr><td>veronika4</td><td>Tankó Veronika</td><td>2016-09-26</td><td>2016-10-03</td><td>2</td><td>6</td></tr>",
                            "<tr><td>veronika4</td><td>Tankó Veronika</td><td>2017-01-19</td><td>2017-01-24</td><td>3</td><td>6</td></tr>",
                            "<tr><td>veronika4</td><td>Tankó Veronika</td><td>2017-02-03</td><td>2017-02-05</td><td>2</td><td>6</td></tr>",
                            "<tr><td>VIKTORIAU</td><td>Urbán Viktoria</td><td>2016-04-30</td><td>2016-05-03</td><td>1</td><td>NULL</td></tr>",
                            "<tr><td>VIKTORIAU</td><td>Urbán Viktoria</td><td>2016-08-03</td><td>2016-08-04</td><td>2</td><td>1</td></tr>",
                            "<tr><td>VIKTORIAU</td><td>Urbán Viktoria</td><td>2016-10-14</td><td>2016-10-15</td><td>3</td><td>3</td></tr>",
                            "<tr><td>VIKTORIAU</td><td>Urbán Viktoria</td><td>2016-10-26</td><td>2016-11-02</td><td>4</td><td>6</td></tr>",
                            "<tr><td>VIKTORK</td><td>Keresztúri Viktor</td><td>2016-05-30</td><td>2016-06-01</td><td>2</td><td>NULL</td></tr>",
                            "<tr><td>VIKTORK</td><td>Keresztúri Viktor</td><td>2016-06-06</td><td>2016-06-07</td><td>4</td><td>2</td></tr>",
                            "<tr><td>vivien3</td><td>Boros Vivien</td><td>2016-05-02</td><td>2016-05-05</td><td>3</td><td>NULL</td></tr>",
                            "<tr><td>vivien3</td><td>Boros Vivien</td><td>2016-08-13</td><td>2016-08-18</td><td>2</td><td>3</td></tr>",
                            "<tr><td>vivien3</td><td>Boros Vivien</td><td>2016-09-01</td><td>2016-09-05</td><td>2</td><td>5</td></tr>",
                            "<tr><td>vivien3</td><td>Boros Vivien</td><td>2016-10-01</td><td>2016-10-04</td><td>1</td><td>7</td></tr>",
                            "<tr><td>vivien3</td><td>Boros Vivien</td><td>2016-11-17</td><td>2016-11-20</td><td>2</td><td>5</td></tr>",
                            "<tr><td>vivien3</td><td>Boros Vivien</td><td>2016-12-17</td><td>2016-12-21</td><td>2</td><td>5</td></tr>",
                            "<tr><td>vivien3</td><td>Boros Vivien</td><td>2016-12-24</td><td>2016-12-26</td><td>3</td><td>5</td></tr>",
                            "<tr><td>zoltan</td><td>Fodor Zoltán</td><td>2016-08-24</td><td>2016-08-31</td><td>2</td><td>NULL</td></tr>",
                            "<tr><td>zoltan</td><td>Fodor Zoltán</td><td>2016-09-05</td><td>2016-09-09</td><td>3</td><td>2</td></tr>",
                            "<tr><td>zoltan4</td><td>Barna Zoltán</td><td>2016-05-12</td><td>2016-05-16</td><td>3</td><td>NULL</td></tr>",
                            "<tr><td>zoltan4</td><td>Barna Zoltán</td><td>2016-05-13</td><td>2016-05-16</td><td>3</td><td>3</td></tr>",
                            "<tr><td>zoltan4</td><td>Barna Zoltán</td><td>2016-06-03</td><td>2016-06-06</td><td>1</td><td>6</td></tr>",
                            "<tr><td>zoltan4</td><td>Barna Zoltán</td><td>2016-08-15</td><td>2016-08-21</td><td>1</td><td>7</td></tr>",
                            "<tr><td>zoltan4</td><td>Barna Zoltán</td><td>2016-08-16</td><td>2016-08-23</td><td>2</td><td>5</td></tr>",
                            "<tr><td>zoltan4</td><td>Barna Zoltán</td><td>2016-09-30</td><td>2016-10-07</td><td>3</td><td>4</td></tr>",
                            "<tr><td>zoltan4</td><td>Barna Zoltán</td><td>2016-10-21</td><td>2016-10-24</td><td>5</td><td>6</td></tr>",
                            "<tr><td>zoltan4</td><td>Barna Zoltán</td><td>2016-10-26</td><td>2016-10-30</td><td>2</td><td>10</td></tr>",
                            "<tr><td>zoltan4</td><td>Barna Zoltán</td><td>2016-10-30</td><td>2016-11-06</td><td>1</td><td>10</td></tr>",
                            "<tr><td>zoltan4</td><td>Barna Zoltán</td><td>2016-11-19</td><td>2016-11-21</td><td>2</td><td>8</td></tr>",
                            "<tr><td>zoltan4</td><td>Barna Zoltán</td><td>2016-12-29</td><td>2017-01-04</td><td>1</td><td>5</td></tr>",
                            "<tr><td>zoltan4</td><td>Barna Zoltán</td><td>2017-01-01</td><td>2017-01-02</td><td>3</td><td>4</td></tr>",
                            "<tr><td>ZOLTANP</td><td>Pintér Zoltán</td><td>2016-06-05</td><td>2016-06-08</td><td>2</td><td>NULL</td></tr>",
                            "<tr><td>ZOLTANP</td><td>Pintér Zoltán</td><td>2016-06-06</td><td>2016-06-08</td><td>2</td><td>2</td></tr>",
                            "<tr><td>ZOLTANP</td><td>Pintér Zoltán</td><td>2016-07-20</td><td>2016-07-25</td><td>3</td><td>4</td></tr>",
                            "<tr><td>ZOLTANP</td><td>Pintér Zoltán</td><td>2016-10-19</td><td>2016-10-25</td><td>2</td><td>7</td></tr>",
                            "<tr><td>ZOLTANP</td><td>Pintér Zoltán</td><td>2016-12-07</td><td>2016-12-10</td><td>3</td><td>7</td></tr>",
                            "<tr><td>ZOLTANP</td><td>Pintér Zoltán</td><td>2016-12-25</td><td>2016-12-29</td><td>2</td><td>8</td></tr>",
                            "<tr><td>ZOLTANT</td><td>Tóth Zoltán</td><td>2016-05-01</td><td>2016-05-04</td><td>3</td><td>NULL</td></tr>",
                            "<tr><td>ZOLTANT</td><td>Tóth Zoltán</td><td>2016-07-14</td><td>2016-07-15</td><td>3</td><td>3</td></tr>",
                            "<tr><td>ZOLTANT</td><td>Tóth Zoltán</td><td>2017-01-16</td><td>2017-01-20</td><td>2</td><td>6</td></tr>",
                            "<tr><td>zsofi1</td><td>Molnár Zsófi</td><td>2016-06-16</td><td>2016-06-17</td><td>2</td><td>NULL</td></tr>",
                            "<tr><td>zsofi1</td><td>Molnár Zsófi</td><td>2017-02-18</td><td>2017-02-19</td><td>3</td><td>2</td></tr>",
                            "<tr><td>zsolt1</td><td>Pulai Zsolt</td><td>2016-04-14</td><td>2016-04-17</td><td>2</td><td>NULL</td></tr>",
                            "<tr><td>zsolt1</td><td>Pulai Zsolt</td><td>2016-06-06</td><td>2016-06-08</td><td>2</td><td>2</td></tr>",
                            "<tr><td>zsolt1</td><td>Pulai Zsolt</td><td>2016-06-07</td><td>2016-06-10</td><td>4</td><td>4</td></tr>",
                            "<tr><td>zsolt1</td><td>Pulai Zsolt</td><td>2016-07-31</td><td>2016-08-02</td><td>2</td><td>8</td></tr>",
                            "<tr><td>ZSOLTJ</td><td>Józsa Zsolt</td><td>2016-04-24</td><td>2016-04-26</td><td>4</td><td>NULL</td></tr>",
                            "<tr><td>ZSOLTJ</td><td>Józsa Zsolt</td><td>2016-05-09</td><td>2016-05-11</td><td>2</td><td>4</td></tr>",
                            "<tr><td>ZSOLTJ</td><td>Józsa Zsolt</td><td>2016-05-28</td><td>2016-06-03</td><td>1</td><td>6</td></tr>",
                            "<tr><td>ZSOLTJ</td><td>Józsa Zsolt</td><td>2016-06-17</td><td>2016-06-19</td><td>2</td><td>7</td></tr>",
                            "<tr><td>ZSOLTJ</td><td>Józsa Zsolt</td><td>2016-07-18</td><td>2016-07-19</td><td>2</td><td>5</td></tr>",
                            "<tr><td>ZSOLTJ</td><td>Józsa Zsolt</td><td>2016-10-01</td><td>2016-10-06</td><td>2</td><td>5</td></tr>",
                            "<tr><td>zsuzsa</td><td>Pusztai Zsuzsanna</td><td>2016-07-24</td><td>2016-07-25</td><td>3</td><td>NULL</td></tr>",
                            "<tr><td>zsuzsa</td><td>Pusztai Zsuzsanna</td><td>2016-08-28</td><td>2016-08-30</td><td>2</td><td>3</td></tr>",
                            "<tr><td>zsuzsa</td><td>Pusztai Zsuzsanna</td><td>2016-11-28</td><td>2016-12-04</td><td>3</td><td>5</td></tr>",
                            "<tr><td>zsuzsa3</td><td>Varsányi Zsuzsa</td><td>2016-07-30</td><td>2016-08-02</td><td>2</td><td>NULL</td></tr>",
                            "<tr><td>zsuzsa3</td><td>Varsányi Zsuzsa</td><td>2016-09-09</td><td>2016-09-10</td><td>2</td><td>2</td></tr>",
                            "<tr><td>zsuzsa3</td><td>Varsányi Zsuzsa</td><td>2016-09-28</td><td>2016-10-03</td><td>2</td><td>4</td></tr>",
                            "<tr><td>zsuzsa3</td><td>Varsányi Zsuzsa</td><td>2016-10-27</td><td>2016-11-03</td><td>4</td><td>6</td></tr>",
                            "<tr><td>zsuzsanna</td><td>Barta Zsuzsanna</td><td>2016-05-17</td><td>2016-05-23</td><td>2</td><td>NULL</td></tr>",
                            "<tr><td>zsuzsanna</td><td>Barta Zsuzsanna</td><td>2016-07-12</td><td>2016-07-15</td><td>2</td><td>2</td></tr>",
                            "<tr><td>zsuzsanna</td><td>Barta Zsuzsanna</td><td>2017-01-09</td><td>2017-01-16</td><td>1</td><td>4</td></tr>",
                            "<tr><td>zsuzsanna</td><td>Barta Zsuzsanna</td><td>2017-01-16</td><td>2017-01-22</td><td>2</td><td>5</td></tr>",
                            "<tr><td>ZSUZSAV</td><td>Vajda Zsuzsa</td><td>2016-04-14</td><td>2016-04-16</td><td>2</td><td>NULL</td></tr>",
                            "<tr><td>ZSUZSAV</td><td>Vajda Zsuzsa</td><td>2016-05-28</td><td>2016-06-01</td><td>4</td><td>2</td></tr>",
                            "<tr><td>ZSUZSAV</td><td>Vajda Zsuzsa</td><td>2016-06-15</td><td>2016-06-21</td><td>3</td><td>6</td></tr>",
                            "<tr><td>ZSUZSAV</td><td>Vajda Zsuzsa</td><td>2016-09-18</td><td>2016-09-20</td><td>2</td><td>9</td></tr>",
                            "<tr><td>ZSUZSAV</td><td>Vajda Zsuzsa</td><td>2016-10-26</td><td>2016-10-28</td><td>1</td><td>9</td></tr>",
                            "<tr><td>ZSUZSAV</td><td>Vajda Zsuzsa</td><td>2016-11-21</td><td>2016-11-24</td><td>3</td><td>6</td></tr>",
                            "</table>"
                        ]
                    }
                }
            ],
            "execution_count": 6
        }
    ]
}